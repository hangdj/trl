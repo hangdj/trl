{
 "cells": [
  {
   "cell_type": "code",
   "execution_count": 1,
   "metadata": {},
   "outputs": [
    {
     "name": "stdout",
     "output_type": "stream",
     "text": [
      "['S', 'numericContext', 'sQuoteContext', 'sQuoteContext', 'terDigitZero', 'terSQuote', 'fuzzstr', 'wsp', 'booleanAttack', 'opOr', 'fuzzequal', 'sqliAttack', 'cmt', 'numericContext', 'terDigitIncludingZero', 'sqliAttack', 'unionAttack', 'piggyAttack', 'errorAttack', 'errorAttack', 'opAnd', 'errorfunction', 'parOpen', '1', 'opCom', 'concat', '0x7e', '@@version', 'par', 'errorfunction', 'updatexml', 'extractvalue', 'piggyAttack', 'opSem', 'opSel', 'funcSleep', 'unionAttack', 'union', 'cols', 'cols', 'booleanAttack', 'orAttack', 'andAttack', 'orAttack', 'booleanTrueExpr', 'andAttack', 'booleanFalseExpr', 'booleanFalseExpr', 'unaryFalse', 'unaryFalse', 'opNot', 'trueAtom', 'opBinInvert', 'falseAtom', 'falseAtom', 'falseConst', 'falseConst', 'false', 'booleanTrueExpr', 'unaryTrue', 'binaryTrue', 'binaryTrue', 'opEqual', 'terChar', 'opLt', 'opGt', 'opLike', 'opIs', 'true', 'opMinus', 'unaryTrue', 'trueAtom', '{a', '1}=1', '{x', '(select', '1)}=1', '{`if`', 'wsp', 'blank', 'cmt', '--', '%23', 'blank', '+', '%0b', 'par', ')', 'funcSleep', 'sleep', 'terDigitExcludingZero', 'fuzzstr', '<@=1', '<@!=1', '<@=1.', '<@=.1', '<@!=.1', '<@!=1.', 'fuzzequal', '1<@', '@<@', '!@<@', '!@<@.', '1<@.', '@<@.', 'parOpen', '(', 'opSem', ';', 'opSel', 'select', 'opAnd', 'and', '&&', 'opOr', 'or', '||', 'opIs', 'is', 'opLike', 'like', 'opMinus', '-', 'opCom', ',', '%2C', 'opGt', '>', 'opLt', '<', '%3C', 'opEqual', '=', 'opBinInvert', '~', '%7e', 'opNot', '!', 'not', 'terChar', 'a', 'terDigitIncludingZero', 'terDigitExcludingZero', '2', '3', '4', '5', '6', '7', '8', '9', 'terDigitZero', '0', 'terSQuote', \"'\", '%27']\n",
      "156\n"
     ]
    },
    {
     "name": "stderr",
     "output_type": "stream",
     "text": [
      "/home/hdj/anaconda3/envs/waf/lib/python3.7/site-packages/tqdm/std.py:658: FutureWarning: The Panel class is removed from pandas. Accessing it from the top-level namespace will also be removed in the next version\n",
      "  from pandas import Panel\n"
     ]
    }
   ],
   "source": [
    "import torch\n",
    "import wandb\n",
    "import time\n",
    "import os\n",
    "from tqdm import tqdm\n",
    "import random\n",
    "import numpy as np\n",
    "import pandas as pd\n",
    "from transformers import AutoModelWithLMHead, AutoTokenizer\n",
    "tqdm.pandas()\n",
    "import os\n",
    "from transformers import GPT2Tokenizer\n",
    "from transformers import AutoModelForSequenceClassification, AutoTokenizer\n",
    "\n",
    "from trl.gpt2 import GPT2HeadWithValueModel, respond_to_batch # TODO GPT2HeadWithValueM \n",
    "from trl.ppo import PPOTrainer\n",
    "from trl.core import build_bert_batch_from_txt\n",
    "from torch.utils.data import TensorDataset, DataLoader, RandomSampler, SequentialSampler\n",
    "import torch.nn as nn\n",
    "from transformers import AdamW\n",
    "from transformers import get_linear_schedule_with_warmup\n",
    "import time\n",
    "from torch.nn import CrossEntropyLoss\n",
    "import datetime\n",
    "from collections import defaultdict\n",
    "def load_checkpoint(model, checkpoint_PATH):\n",
    "    if os.path.exists(checkpoint_PATH):\n",
    "        model_CKPT = torch.load(checkpoint_PATH)#,map_location=torch.device('cpu')\n",
    "        model.load_state_dict(model_CKPT['state_dict'])\n",
    "        print('loading checkpoint!')\n",
    "#         optimizer.load_state_dict(model_CKPT['optimizer'])\n",
    "    return model\n",
    "def format_time(elapsed):\n",
    "    '''\n",
    "    Takes a time in seconds and returns a string hh:mm:ss\n",
    "    '''\n",
    "    # Round to the nearest second.\n",
    "    elapsed_rounded = int(round((elapsed)))\n",
    "\n",
    "    # Format as hh:mm:ss\n",
    "    return str(datetime.timedelta(seconds=elapsed_rounded))\n",
    "# 判断语法合法性的语法库准备\n",
    "class CFG(object):\n",
    "    def __init__(self):\n",
    "        self.prod = defaultdict(list)  \n",
    "\n",
    "    def add_prod(self, lhs, rhs): #\n",
    "        \"\"\" Add production to the grammar.\n",
    "        \"\"\"\n",
    "        prods = rhs.split('\\\\')\n",
    "        allslices.append(lhs)\n",
    "        for prod in prods:\n",
    "            for sp in prod.split():\n",
    "                if sp not in allslices:\n",
    "                    allslices.append(sp)\n",
    "        for prod in prods:\n",
    "            self.prod[lhs].append(tuple(prod.split()))\n",
    "\n",
    "    def get_sli_number(self,\n",
    "                    choice,\n",
    "                    slistr,  #\n",
    "                    ):\n",
    "        for i in range(len(choice)):\n",
    "            if choice[i]==slistr:\n",
    "                return i\n",
    "        return len(choice) \n",
    "\n",
    "    def get_ch_sli(self,\n",
    "                slinum,\n",
    "                choice,\n",
    "                ):\n",
    "        if slinum>=len(choice):\n",
    "            return 0\n",
    "        else:\n",
    "            return choice[slinum]\n",
    "    def verify_convergent(self,\n",
    "                            symbol,\n",
    "                            choice,\n",
    "                            datafram,\n",
    "                            datanum,\n",
    "                            ):\n",
    "        dev = ''\n",
    "        #print(self.prod[symbol])\n",
    "        div = 1\n",
    "        for veri_prod in self.prod[symbol]:\n",
    "#             print(veri_prod)\n",
    "            for sym in veri_prod:\n",
    "                if sym in self.prod:\n",
    "#                     print(sym)\n",
    "                    if datanum<len(datafram):\n",
    "                        dev = self.get_ch_sli(int(datafram[datanum]),choice)\n",
    "                    else:\n",
    "                        div = 0\n",
    "                        break\n",
    "#                     print(dev,\"!!!!!!!\")\n",
    "                    if dev==sym:\n",
    "#                         print(dev,\"********\")\n",
    "                        #print(datanum)\n",
    "                        datanum = self.verify_convergent(sym,choice=choice,datafram=datafram,datanum=datanum+1)\n",
    "#                         print(datanum)\n",
    "                        div = 1\n",
    "                    else:\n",
    "                        div = 0\n",
    "                else:\n",
    "                    if datanum<len(datafram):\n",
    "                        dev = self.get_ch_sli(int(datafram[datanum]),choice)\n",
    "                    else:\n",
    "                        div = 0\n",
    "                        break\n",
    "#                     print(dev,\"......\")\n",
    "                    if dev==sym:\n",
    "                        datanum = datanum + 1\n",
    "                        div = 1\n",
    "                    else:\n",
    "                        div = 0\n",
    "                #datanum = datanum + 1\n",
    "#             print(datanum,\"%%%%%%%\")\n",
    "            if div == 1:\n",
    "#                 print(\"???????????\")\n",
    "                return datanum\n",
    "        return 0\n",
    "\n",
    "    def verify(self,\n",
    "                choice,\n",
    "                datafram,\n",
    "                ):\n",
    "        verilen = self.verify_convergent('S',choice=choice,datafram=datafram,datanum=1)\n",
    "#         if verilen==0:\n",
    "#             print('verilen :',verilen,' datafram_len ;',len(datafram))\n",
    "#             print(choice,datafram)\n",
    "        if verilen==len(datafram):\n",
    "            return 1\n",
    "        else:\n",
    "            return 0\n",
    "allslices = []\n",
    "cfg = CFG()\n",
    "with open(\"/home/hdj/trl/bnf-sql.txt\",\"r\") as f:\n",
    "    for line in f.readlines():\n",
    "        line = line.strip('\\n')\n",
    "        bnflist = line.split(':=')\n",
    "        cfg.add_prod(bnflist[0],bnflist[1])\n",
    "print(allslices)\n",
    "print(len(allslices))\n",
    "\n",
    "\n",
    "#         print('logits.shape:  ****',logits.shape)\n",
    "#         print('labels.shape: ',label.shape)\n",
    "#         print()\n",
    "#         if(label!=None):\n",
    "#             loss=self.loss_fn(logits,label)\n",
    "#         else:\n",
    "#             loss=None\n",
    "#         return loss,logits\n",
    "        \n",
    "# texts = [q + r for q,r in zip(game_data['query'], game_data['response'])]\n"
   ]
  },
  {
   "cell_type": "markdown",
   "metadata": {},
   "source": [
    "# reawrd_model 定义"
   ]
  },
  {
   "cell_type": "code",
   "execution_count": 2,
   "metadata": {},
   "outputs": [],
   "source": [
    "class ValueHead(torch.nn.Module):\n",
    "    \"\"\"The ValueHead class implements a head for GPT2 that returns a scalar for each output token.\"\"\"\n",
    "    def __init__(self, num_labels):\n",
    "        super().__init__()\n",
    "        self.drop = nn.Dropout(0.1)\n",
    "        self.classifier = nn.Linear(768, num_labels)\n",
    "    def forward(self, hidden_states):\n",
    "        output = hidden_states\n",
    "#         output = self.drop(output)\n",
    "        output = self.classifier(output)\n",
    "        return output\n",
    "\n",
    "# Cell\n",
    "\n",
    "class SentimentModel(torch.nn.Module):\n",
    "    \"\"\"The GPT2HeadWithValueModel class implements a GPT2 language model with a secondary, scalar head.\"\"\"\n",
    "    def __init__(self, model_path,num_labels):\n",
    "        super().__init__()\n",
    "#         config.num_labels = 2\n",
    "        if(os.path.exists(model_path)):\n",
    "            self.model = AutoModelWithLMHead.from_pretrained(model_path)\n",
    "        else:\n",
    "            print(\"error model path not exists\")\n",
    "#         self.lm_head = nn.Linear(config.n_embd, config.vocab_size, bias=False)\n",
    "        self.v_head = ValueHead(num_labels)\n",
    "#         self.loss_fn=CrossEntropyLoss()\n",
    "    def forward(\n",
    "        self,\n",
    "        input_ids=None,\n",
    "        attention_mask=None,\n",
    "        indices=None,\n",
    "#         label=None,\n",
    "    ):\n",
    "\n",
    "        transformer_outputs = self.model.transformer(\n",
    "            input_ids,\n",
    "            attention_mask=attention_mask,\n",
    "        )\n",
    "        indices=indices.repeat(1,768).reshape(indices.shape[0],1,768)\n",
    "#         print('transformer_outputs ',type(transformer_outputs),transformer_outputs[0].shape)\n",
    "#         print('indices ',type(indices),indices.shape)\n",
    "        \n",
    "        hidden_states=torch.gather(transformer_outputs[0],1,indices)\n",
    "#         print('hidden_states ',type(hidden_states),hidden_states.shape)\n",
    "        \n",
    "        logits = torch.squeeze(self.v_head(hidden_states),1) \n",
    "        return logits"
   ]
  },
  {
   "cell_type": "markdown",
   "metadata": {},
   "source": [
    "# 判断合法性代码"
   ]
  },
  {
   "cell_type": "code",
   "execution_count": 3,
   "metadata": {},
   "outputs": [],
   "source": [
    "#TODO 这里增加判断生成的是否符合语法规范\n",
    "def count_is_legal(texts):\n",
    "    islegal_tests=[]\n",
    "    for t in texts:\n",
    "        try:\n",
    "            index=t.index('!')\n",
    "#             print(index)\n",
    "            t=t[:index]\n",
    "        except:\n",
    "    #         print()\n",
    "            pass\n",
    "        list_val=[val for val in t.split()]\n",
    "        tmp=list_val[-1]=='0'\n",
    "        if tmp:\n",
    "            islegal_tests.append(list_val[:-1])\n",
    "        else:\n",
    "            islegal_tests.append(list_val)\n",
    "#     print('islegal_tests :',islegal_tests[:10])\n",
    "    legalCount=0\n",
    "    illegalCount=0\n",
    "#     texts_check=[t.split() for t in texts]\n",
    "    texts_checklist=[]\n",
    "    for list_str in islegal_tests:\n",
    "        flag=True\n",
    "        tmp=[]\n",
    "        for t in list_str :\n",
    "            try:\n",
    "                tmp.append(int(t))\n",
    "            except:\n",
    "                flag=False\n",
    "                break\n",
    "\n",
    "        if flag:\n",
    "            texts_checklist.append(tmp)\n",
    "        else:\n",
    "            illegalCount+=1\n",
    "    \n",
    "    newallsli = []\n",
    "    for slic in allslices:\n",
    "        if slic not in newallsli:\n",
    "            newallsli.append(slic)\n",
    "    # print(newallsli)\n",
    "    # print(len(newallsli))\n",
    "#     check_result=[]\n",
    "#     print('texts_checklist :',texts_checklist[:10])\n",
    "    for schoice in texts_checklist:\n",
    "        #global datafram\n",
    "        datafram = schoice\n",
    "#         print(' '.join([str(t) for t in datafram]))\n",
    "    #     print(len(datafram))\n",
    "    #     for dnum in datafram:\n",
    "    #         print(cfg.get_ch_sli(int(dnum),choice = newallsli))\n",
    "        #veri = cfg.verify_convergent('S',choice = newallsli,datafram=datafram,datanum = 1)\n",
    "        if cfg.verify(choice = newallsli,datafram=datafram)==1:\n",
    "    #         print(\"&@@@\")\n",
    "            legalCount=legalCount+1\n",
    "    #         check_result.append(1)\n",
    "        else:\n",
    "    #         print(\"####\") \n",
    "            illegalCount+=1\n",
    "#             check_result.append(0)\n",
    "    return legalCount,illegalCount"
   ]
  },
  {
   "cell_type": "markdown",
   "metadata": {},
   "source": [
    "# reward model 数据输入准备代码"
   ]
  },
  {
   "cell_type": "code",
   "execution_count": 4,
   "metadata": {},
   "outputs": [],
   "source": [
    "def data_prepare(content, tokenizer, max_len=65):\n",
    "\n",
    "    # Tokenize all of the sentences and map the tokens to thier word IDs.\n",
    "    input_ids = []\n",
    "    attention_masks = []\n",
    "    indices=[]\n",
    "    tokenizer.pad_token = \"!\"\n",
    "    # For every sentence...\n",
    "    for sent in content:\n",
    "        # `encode_plus` will:\n",
    "        #   (1) Tokenize the sentence.\n",
    "        #   (2) Prepend the `[CLS]` token to the start.\n",
    "        #   (3) Append the `[SEP]` token to the end.\n",
    "        #   (4) Map tokens to their IDs.\n",
    "        #   (5) Pad or truncate the sentence to `max_length`\n",
    "        #   (6) Create attention masks for [PAD] tokens.\n",
    "        encoded_dict = tokenizer.encode_plus(\n",
    "            sent,  # Sentence to encode.\n",
    "            add_special_tokens=True,  # Add '[CLS]' and '[SEP]'\n",
    "            max_length=max_len,  # Pad & truncate all sentences.\n",
    "            pad_to_max_length=True,\n",
    "            return_attention_mask=True,  # Construct attn. masks.\n",
    "            return_tensors='pt',  # Return pytorch tensors.\n",
    "        )\n",
    "        \n",
    "        # Add the encoded sentence to the list.\n",
    "        input_ids.append(encoded_dict['input_ids'])\n",
    "        idx = torch.nonzero((encoded_dict['input_ids'] == 657))\n",
    "        if idx.shape[0]==0:\n",
    "            idx=torch.tensor(max_len-1)\n",
    "        else:\n",
    "            idx=idx[0][1]\n",
    "#         if idx==60：\n",
    "#         print(idx)\n",
    "        idx = idx.repeat(1, 1)\n",
    "#         try:\n",
    "#             idx = torch.nonzero((encoded_dict['input_ids'] == 657))[0][1]\n",
    "#             idx = idx.repeat(1, 1)\n",
    "#         except:\n",
    "#             print(content,encoded_dict['input_ids'])\n",
    "#             break\n",
    "        \n",
    "        indices.append(idx)\n",
    "        # And its attention mask (simply differentiates padding from non-padding).\n",
    "        attention_masks.append(encoded_dict['attention_mask'])\n",
    "\n",
    "    # Convert the lists into tensors.\n",
    "    input_ids = torch.cat(input_ids, dim=0)\n",
    "    attention_masks = torch.cat(attention_masks, dim=0)\n",
    "    indices = torch.cat(indices, dim=0)\n",
    "#     print(\"The first sentence untokenized:\\n\", content[0])\n",
    "#     print(\"Index numbers of the first sentence after padding:\\n\", input_ids[0])\n",
    "\n",
    "    return input_ids,  attention_masks,indices"
   ]
  },
  {
   "cell_type": "code",
   "execution_count": 4,
   "metadata": {},
   "outputs": [],
   "source": [
    "# gpt2_model.named_children"
   ]
  },
  {
   "cell_type": "code",
   "execution_count": 5,
   "metadata": {},
   "outputs": [
    {
     "data": {
      "text/html": [
       "\n",
       "                    Logging results to <a href=\"https://wandb.com\" target=\"_blank\">Weights & Biases</a>.<br/>\n",
       "                    Couldn't load entity due to error: Can't connect to network to query entity from API key\n",
       "                "
      ],
      "text/plain": [
       "<IPython.core.display.HTML object>"
      ]
     },
     "metadata": {},
     "output_type": "display_data"
    },
    {
     "name": "stderr",
     "output_type": "stream",
     "text": [
      "Failed to query for notebook name, you can set it manually with the WANDB_NOTEBOOK_NAME environment variable\n",
      "\u001b[34m\u001b[1mwandb\u001b[0m: Wandb version 0.10.17 is available!  To upgrade, please run:\n",
      "\u001b[34m\u001b[1mwandb\u001b[0m:  $ pip install wandb --upgrade\n"
     ]
    },
    {
     "data": {
      "text/plain": [
       "W&B Run: https://app.wandb.ai/hdj/waf-gpt/runs/1h7lucs7"
      ]
     },
     "execution_count": 5,
     "metadata": {},
     "output_type": "execute_result"
    }
   ],
   "source": [
    "config = {\n",
    "    \"lm_name\": \"/data/yjzhou/bigdatamodel2/\",\n",
    "    \"ref_lm_name\": \"/data/yjzhou/bigdatamodel2/\",\n",
    "    \"cls_model_name\": \"TODO my reward_model\",\n",
    "    \"tk_name\": \"gpt2\",\n",
    "    \"steps\": 25600,\n",
    "    \"batch_size\": 128,\n",
    "    \"forward_batch_size\": 16,\n",
    "    \"ppo_epochs\": 4,   \n",
    "    \"txt_in_len\": 1,\n",
    "    \"txt_out_len\": 65,\n",
    "    \"max_length\":66,\n",
    "    \"lr\": 1.41e-6,\n",
    "    \"init_kl_coef\":0.1,\n",
    "    \"target\": 6,\n",
    "    \"horizon\":10000,\n",
    "    \"gamma\":1,\n",
    "    \"lam\":0.95,\n",
    "    \"cliprange\": .2,\n",
    "    \"cliprange_value\":.2,\n",
    "    \"vf_coef\":.1, \n",
    "}\n",
    "wandb.init(name='run-42', project='waf-gpt', config=config)\n",
    "# lr = 2e-5\n",
    "# model_load=SentimentModel(\"/data/yjzhou/bigdatamodel/\",2)\n",
    "# optimizer_load = AdamW(model_load.parameters(), lr=lr, correct_bias=False)\n",
    "# schedules\n",
    "# scheduler_load = get_linear_schedule_with_warmup(optimizer, num_warmup_steps=num_warmup_steps, num_training_steps=num_training_steps)  # PyTorch scheduler\n",
    "\n",
    "# sentiment_model=load_checkpoint(model_load,'/home/hdj/trl/nbs/4.pt')"
   ]
  },
  {
   "cell_type": "markdown",
   "metadata": {},
   "source": [
    "# 加载模型"
   ]
  },
  {
   "cell_type": "code",
   "execution_count": 6,
   "metadata": {},
   "outputs": [
    {
     "name": "stdout",
     "output_type": "stream",
     "text": [
      "vocab_size shape : 50257\n",
      "vocab_size shape : 50257\n"
     ]
    }
   ],
   "source": [
    "gpt2_model = GPT2HeadWithValueModel.from_pretrained(config['lm_name'])\n",
    "# _ = gpt2_model.eval()\n",
    "gpt2_model_ref = GPT2HeadWithValueModel.from_pretrained(config['ref_lm_name'])\n",
    "gpt2_tokenizer = GPT2Tokenizer.from_pretrained(config['tk_name'])\n",
    "\n",
    "# gpt2_model = AutoModelWithLMHead.from_pretrained(config['lm_name'])\n",
    "# gpt2_model_ref = AutoModelWithLMHead.from_pretrained(config['ref_lm_name'])\n",
    "# gpt2_tokenizer = AutoTokenizer.from_pretrained(config['tk_name'])\n",
    "\n",
    "# sentiment_model=load_checkpoint(model_load,'/home/hdj/trl/nbs/4.pt')\n",
    "sentiment_model = torch.load('/home/hdj/trl/nbs/model.pkl')\n",
    "# _ = gpt2_model.eval()\n",
    "device = torch.device(\"cuda\" if torch.cuda.is_available() else \"cpu\")\n",
    "# device = torch.device(\"cpu\")\n",
    "_ = gpt2_model.to(device)\n",
    "_ = sentiment_model.to(device)\n",
    "_ = gpt2_model_ref.to(device)"
   ]
  },
  {
   "cell_type": "markdown",
   "metadata": {},
   "source": [
    "# 数据 和 合法字符下标生成"
   ]
  },
  {
   "cell_type": "code",
   "execution_count": 7,
   "metadata": {},
   "outputs": [
    {
     "name": "stderr",
     "output_type": "stream",
     "text": [
      "  6%|▌         | 1434/25600 [00:00<00:01, 14337.31it/s]"
     ]
    },
    {
     "name": "stdout",
     "output_type": "stream",
     "text": [
      "(25600, 1)\n",
      "  content\n",
      "0       0\n",
      "1       0\n",
      "2       0\n",
      "3       0\n",
      "4       0\n"
     ]
    },
    {
     "name": "stderr",
     "output_type": "stream",
     "text": [
      "100%|██████████| 25600/25600 [00:01<00:00, 13738.75it/s]\n",
      " 20%|██        | 5132/25600 [00:00<00:00, 51311.49it/s]"
     ]
    },
    {
     "name": "stdout",
     "output_type": "stream",
     "text": [
      "  content                         tokens\n",
      "0       0  [tensor(15, device='cuda:0')]\n",
      "1       0  [tensor(15, device='cuda:0')]\n",
      "2       0  [tensor(15, device='cuda:0')]\n",
      "3       0  [tensor(15, device='cuda:0')]\n",
      "4       0  [tensor(15, device='cuda:0')]\n"
     ]
    },
    {
     "name": "stderr",
     "output_type": "stream",
     "text": [
      "100%|██████████| 25600/25600 [00:00<00:00, 51309.78it/s]\n"
     ]
    }
   ],
   "source": [
    "wafData=pd.DataFrame()\n",
    "wafData['content']=['0' for _ in range(25600)]\n",
    "print(wafData.shape)\n",
    "print(wafData.head())\n",
    "wafData['tokens']=wafData['content'].progress_apply(lambda x: gpt2_tokenizer.encode(x, return_tensors=\"pt\").to(device)[0, :config['txt_in_len']])\n",
    "print(wafData.head())\n",
    "wafData['query'] = wafData['tokens'].progress_apply(lambda x: gpt2_tokenizer.decode(x))\n",
    "wafData.head()\n",
    "df=pd.DataFrame()\n",
    "df=wafData\n",
    "df.head()\n",
    "# specialIndex=[0, 3228, 10185, 13896, 34635, 50184]\n",
    "legal_index=[  0, 15,   352,   362,   513,   604,   642,  657, 718,   767,   807,   860,\n",
    "           838,  1367,  1105,  1511,  1478,  1315,  1467,  1596,  1248,   678,\n",
    "          1160,  2310,  2534,  2242,  1987,  1679,  2608,  2681,  2579,  2808,\n",
    "          1542,  3261,  3933,  4747,  4974,  3439,  4570,  5214,  4353,  5014,\n",
    "          2319,  6073,  5433,  5946,  5846,  4153,  6337,  6298,  4764,  5125,\n",
    "          2026,  6885,  6740,  7192,  7175,  5996,  7265,  7632,  7618,  7863,\n",
    "          3126,  8454,  8190,  8093,  5598,  6135,  7930,  8275,  8257,  8644,\n",
    "          4317,  9166,  7724,  8854,  8915,  5441,  8684,  8541,  8699,  9225,\n",
    "          4019,  9773,  9415,  9698,  9508,  7600,  9849, 10083,  9193,  9919,\n",
    "          4101, 10495, 10190, 10261, 10048,  6957,  9907, 10111,  9661,  7388,\n",
    "          1802,  8949, 15143, 15349, 14436, 13343,15696, 16226, 15495, 16003,\n",
    "          9796]\n",
    "legal_index=set(legal_index)\n",
    "nolegal_index=[i for i in range(50257) if i not in legal_index]\n",
    "# data=torch.randn(6,50257)\n",
    "# len(legal_index),len(nolegal_index)\n",
    "# for index ,num in enumerate(legal_index):\n",
    "#     id2token=gpt2_tokenizer.convert_ids_to_tokens(num)\n",
    "#     token2id=gpt2_tokenizer.convert_tokens_to_ids(id2token)\n",
    "#     print(index,id2token,token2id)"
   ]
  },
  {
   "cell_type": "markdown",
   "metadata": {},
   "source": [
    "# 开始训练"
   ]
  },
  {
   "cell_type": "code",
   "execution_count": null,
   "metadata": {},
   "outputs": [],
   "source": [
    "ppo_trainer = PPOTrainer(gpt2_model, gpt2_model_ref, **config)\n",
    "fbs = config['forward_batch_size']\n",
    "rewards_plot=[]\n",
    "text_plot=[]\n",
    "for epoch in tqdm(range(int(np.ceil(config[\"steps\"]/config['batch_size'])))):\n",
    "    torch.cuda.empty_cache()\n",
    "    logs = dict()\n",
    "    game_data = dict()\n",
    "    timing = dict()\n",
    "    t0 = time.time()\n",
    "    \n",
    "    #### get a batch from the dataset\n",
    "    df_batch = df.sample(config['batch_size'])\n",
    "    game_data['query'] = df_batch['query'].tolist()\n",
    "    query_tensors = torch.stack(df_batch['tokens'].tolist())\n",
    "    \n",
    "    #### get response from gpt2\n",
    "    t = time.time()\n",
    "    total_length = config['txt_in_len']+config['txt_out_len']\n",
    "    response_tensors = []\n",
    "    for i in range(int(config['batch_size']/fbs)):\n",
    "        response  = respond_to_batch(gpt2_model, query_tensors[i*fbs:(i+1)*fbs],nolegal_index,\n",
    "                                     txt_len=config['txt_out_len'])\n",
    "        response_tensors.append(response)\n",
    "    response_tensors = torch.cat(response_tensors)\n",
    "    game_data['response'] = [gpt2_tokenizer.decode(response_tensors[i, :]).split('!')[0] for i in range(config['batch_size'])]\n",
    "    timing['time/get_response'] = time.time()-t\n",
    "    \n",
    "    #### tokenize text for sentiment analysis\n",
    "    t = time.time()\n",
    "    texts = [q + r for q,r in zip(game_data['query'], game_data['response'])]\n",
    "    text_plot+=texts\n",
    "    #统计legal illegal数量\n",
    "#     islegal_tests=[t[:  t.rindex('0')+1] for t in texts]\n",
    "#     print(islegal_tests)\n",
    "#     print(texts)\n",
    "    legalCount,illegalCount=count_is_legal(texts)\n",
    "    logs['count/legalCount']=legalCount\n",
    "    logs['count/illegalCount']=illegalCount\n",
    "    \n",
    "    sentiment_inputs, attention_masks,indices = data_prepare(texts, gpt2_tokenizer, config['max_length'])  \n",
    "    sentiment_inputs=sentiment_inputs.to(device)\n",
    "    attention_masks=attention_masks.to(device)\n",
    "    indices=indices.to(device)\n",
    "    timing['time/build_input_sentiment'] = time.time()-t\n",
    "\n",
    "    #### get sentiment score\n",
    "    t = time.time()\n",
    "    rewards = []\n",
    "    for i in range(int(config['batch_size']/fbs)):\n",
    "        res = sentiment_model.forward(sentiment_inputs[i*fbs:(i+1)*fbs],\n",
    "                                      attention_masks[i*fbs:(i+1)*fbs],\n",
    "                                     indices[i*fbs:(i+1)*fbs])[:, 1].detach()\n",
    "        rewards.append(res)\n",
    "    rewards = torch.cat(rewards)\n",
    "    timing['time/get_sentiment_preds'] = time.time()-t\n",
    "    rewards_plot.append(rewards.cpu().tolist())\n",
    "    #数据均衡处理\n",
    "    rewards_index = sorted(range(len(rewards)), key=lambda k: rewards[k],reverse=False)  # 升序排序 reversed=False\n",
    "    posNum=sum(rewards>=0).cpu().numpy()\n",
    "    dataBalance=False\n",
    "    print('posNum :',posNum,len(rewards))\n",
    "    if posNum==0:\n",
    "        continue\n",
    "    if posNum*2<len(rewards):#做数据均衡处理\n",
    "        dataBalance=True\n",
    "        largeNegNum=posNum#采样数量\n",
    "        print('largeNegNum :',largeNegNum)\n",
    "#         smallNegNum=int(posNum*0.2)#采样数量\n",
    "#         print('smallRotioNeg :',smallNegNum)\n",
    "#         choiceSmall=rewards_index[:len(rewards)-posNum-posNum]\n",
    "#         choiceLarge=rewards_index[-posNum-posNum:-posNum]\n",
    "#         print('choiceSmall :',choiceSmall)\n",
    "#         print('choiceLarge :',choiceLarge)\n",
    "#         if largeNegNum>len(choiceLarge):\n",
    "#             largeNegNum=len(choiceLarge)\n",
    "#         if smallNegNum>len(choiceSmall):\n",
    "#             smallNegNum=len(choiceSmall)\n",
    "#         largeIndex = np.random.choice(choiceLarge,size=largeNegNum, replace=False)\n",
    "#         largeIndex=choiceLarge\n",
    "#         smallIndex = np.random.choice(choiceSmall,size=smallNegNum, replace=False)\n",
    "#         if posNum==0:\n",
    "#             posNum=5\n",
    "        posIndex=rewards_index[-2*posNum:]\n",
    "#         print('smallIndex :',smallIndex)\n",
    "#         print('largeIndex :',largeIndex)\n",
    "        print('posIndex :',posIndex)\n",
    "#         print(type(posIndex),type(smallIndex),type(largeIndex),)\n",
    "        allIndex=posIndex#+list(smallIndex)#+list(largeIndex)\n",
    "\n",
    "    if dataBalance:\n",
    "        random.shuffle(allIndex)\n",
    "        print('allIndex :',allIndex)\n",
    "        query_tensors=query_tensors[allIndex,:]\n",
    "        response_tensors=response_tensors[allIndex,:]\n",
    "        rewards=rewards[allIndex]\n",
    "    print(query_tensors.shape,response_tensors.shape,rewards.shape)\n",
    "   \n",
    "    \n",
    "    #### Run PPO training \n",
    "    t = time.time()\n",
    "#     stats = ppo_trainer.step(query_selected, response_selected, rewards_selected)\n",
    "    stats = ppo_trainer.step(query_tensors, response_tensors, rewards)\n",
    "    timing['time/optimization'] = time.time()-t\n",
    "     \n",
    "    #### Log everything\n",
    "    timing['time/epoch'] = time.time()-t0\n",
    "    table_rows = [list(r) for r in zip(game_data['query'], game_data['response'], rewards.cpu().tolist())]\n",
    "    logs.update({'game_log':wandb.Table(\n",
    "        columns=['query', 'response', 'reward'],\n",
    "        rows=table_rows)})\n",
    "    logs.update(timing)\n",
    "    logs.update(stats)\n",
    "    logs['env/reward_mean'] = torch.mean(rewards).cpu().numpy()\n",
    "    logs['env/reward_std'] = torch.std(rewards).cpu().numpy()\n",
    "    logs['env/reward_dist'] = rewards.cpu().numpy()\n",
    "    wandb.log(logs)\n",
    "#     if epoch==20:\n",
    "#         break"
   ]
  },
  {
   "cell_type": "markdown",
   "metadata": {},
   "source": [
    "# 代码结束了"
   ]
  },
  {
   "cell_type": "code",
   "execution_count": 16,
   "metadata": {},
   "outputs": [],
   "source": [
    "len(nolegal_index),len(legal_index)\n",
    "# encoded_dict=gpt2_tokenizer.encode_plus()\n",
    "encoded_dict = gpt2_tokenizer.encode_plus(\n",
    "            ' 1 2 0! 0! 74!!!',  # Sentence to encode.\n",
    "            add_special_tokens=True,  # Add '[CLS]' and '[SEP]'\n",
    "            max_length=15,  # Pad & truncate all sentences.\n",
    "            pad_to_max_length=True,\n",
    "            return_attention_mask=True,  # Construct attn. masks.\n",
    "            return_tensors='pt',  # Return pytorch tensors.\n",
    "        )"
   ]
  },
  {
   "cell_type": "code",
   "execution_count": 17,
   "metadata": {},
   "outputs": [
    {
     "data": {
      "text/plain": [
       "{'input_ids': tensor([[  352,   362,   657,     0,   657,     0,  8915, 10185,     0,     0,\n",
       "              0,     0,     0,     0,     0]]),\n",
       " 'token_type_ids': tensor([[0, 0, 0, 0, 0, 0, 0, 0, 0, 0, 0, 0, 0, 0, 0]]),\n",
       " 'attention_mask': tensor([[1, 1, 1, 1, 1, 1, 1, 1, 0, 0, 0, 0, 0, 0, 0]])}"
      ]
     },
     "execution_count": 17,
     "metadata": {},
     "output_type": "execute_result"
    }
   ],
   "source": [
    "encoded_dict"
   ]
  },
  {
   "cell_type": "code",
   "execution_count": 18,
   "metadata": {},
   "outputs": [
    {
     "data": {
      "text/plain": [
       "tensor([[False, False,  True, False,  True, False, False, False, False, False,\n",
       "         False, False, False, False, False]])"
      ]
     },
     "execution_count": 18,
     "metadata": {},
     "output_type": "execute_result"
    }
   ],
   "source": [
    "encoded_dict['input_ids'] == 657"
   ]
  },
  {
   "cell_type": "code",
   "execution_count": 11,
   "metadata": {},
   "outputs": [
    {
     "data": {
      "text/plain": [
       "array([ True, False,  True, False, False, False])"
      ]
     },
     "execution_count": 11,
     "metadata": {},
     "output_type": "execute_result"
    }
   ],
   "source": [
    "np.array(encoded_dict) == 657"
   ]
  },
  {
   "cell_type": "code",
   "execution_count": 19,
   "metadata": {},
   "outputs": [],
   "source": [
    "idx = torch.nonzero(encoded_dict['input_ids'] == 657)\n",
    "idx"
   ]
  },
  {
   "cell_type": "code",
   "execution_count": 27,
   "metadata": {},
   "outputs": [
    {
     "data": {
      "text/plain": [
       "tensor([[2]])"
      ]
     },
     "execution_count": 27,
     "metadata": {},
     "output_type": "execute_result"
    }
   ],
   "source": [
    "idx"
   ]
  },
  {
   "cell_type": "code",
   "execution_count": 26,
   "metadata": {},
   "outputs": [
    {
     "ename": "IndexError",
     "evalue": "index 1 is out of bounds for dimension 0 with size 1",
     "output_type": "error",
     "traceback": [
      "\u001b[0;31m---------------------------------------------------------------------------\u001b[0m",
      "\u001b[0;31mIndexError\u001b[0m                                Traceback (most recent call last)",
      "\u001b[0;32m<ipython-input-26-6500b4c27315>\u001b[0m in \u001b[0;36m<module>\u001b[0;34m\u001b[0m\n\u001b[1;32m      2\u001b[0m     \u001b[0midx\u001b[0m\u001b[0;34m=\u001b[0m\u001b[0mtorch\u001b[0m\u001b[0;34m.\u001b[0m\u001b[0mtensor\u001b[0m\u001b[0;34m(\u001b[0m\u001b[0mmax_len\u001b[0m\u001b[0;34m-\u001b[0m\u001b[0;36m1\u001b[0m\u001b[0;34m)\u001b[0m\u001b[0;34m\u001b[0m\u001b[0;34m\u001b[0m\u001b[0m\n\u001b[1;32m      3\u001b[0m \u001b[0;32melse\u001b[0m\u001b[0;34m:\u001b[0m\u001b[0;34m\u001b[0m\u001b[0;34m\u001b[0m\u001b[0m\n\u001b[0;32m----> 4\u001b[0;31m     \u001b[0midx\u001b[0m\u001b[0;34m=\u001b[0m\u001b[0midx\u001b[0m\u001b[0;34m[\u001b[0m\u001b[0;36m0\u001b[0m\u001b[0;34m]\u001b[0m\u001b[0;34m[\u001b[0m\u001b[0;36m1\u001b[0m\u001b[0;34m]\u001b[0m\u001b[0;34m\u001b[0m\u001b[0;34m\u001b[0m\u001b[0m\n\u001b[0m\u001b[1;32m      5\u001b[0m \u001b[0;34m\u001b[0m\u001b[0m\n\u001b[1;32m      6\u001b[0m \u001b[0midx\u001b[0m \u001b[0;34m=\u001b[0m \u001b[0midx\u001b[0m\u001b[0;34m.\u001b[0m\u001b[0mrepeat\u001b[0m\u001b[0;34m(\u001b[0m\u001b[0;36m1\u001b[0m\u001b[0;34m,\u001b[0m \u001b[0;36m1\u001b[0m\u001b[0;34m)\u001b[0m\u001b[0;34m\u001b[0m\u001b[0;34m\u001b[0m\u001b[0m\n",
      "\u001b[0;31mIndexError\u001b[0m: index 1 is out of bounds for dimension 0 with size 1"
     ]
    }
   ],
   "source": [
    "\n",
    "if idx.shape[0]==0:\n",
    "    idx=torch.tensor(max_len-1)\n",
    "else:\n",
    "    idx=idx[0][1]\n",
    "\n",
    "idx = idx.repeat(1, 1)\n",
    "idx"
   ]
  },
  {
   "cell_type": "code",
   "execution_count": 14,
   "metadata": {},
   "outputs": [
    {
     "data": {
      "text/plain": [
       "50256"
      ]
     },
     "execution_count": 14,
     "metadata": {},
     "output_type": "execute_result"
    }
   ],
   "source": [
    "gpt2_tokenizer.convert_tokens_to_ids(' !')#Ġ"
   ]
  },
  {
   "cell_type": "code",
   "execution_count": 15,
   "metadata": {},
   "outputs": [
    {
     "data": {
      "text/plain": [
       "'!!!'"
      ]
     },
     "execution_count": 15,
     "metadata": {},
     "output_type": "execute_result"
    }
   ],
   "source": [
    "gpt2_tokenizer.convert_ids_to_tokens(10185)"
   ]
  },
  {
   "cell_type": "code",
   "execution_count": 8,
   "metadata": {},
   "outputs": [
    {
     "data": {
      "text/plain": [
       "(torch.Size([128, 1]), torch.Tensor)"
      ]
     },
     "execution_count": 8,
     "metadata": {},
     "output_type": "execute_result"
    }
   ],
   "source": [
    "ppo_trainer = PPOTrainer(gpt2_model, gpt2_model_ref, **config)\n",
    "fbs = config['forward_batch_size']\n",
    "torch.cuda.empty_cache()\n",
    "logs = dict()\n",
    "game_data = dict()\n",
    "timing = dict()\n",
    "t0 = time.time()\n",
    "#### get a batch from the dataset\n",
    "df_batch = df.sample(config['batch_size'])\n",
    "game_data['query'] = df_batch['query'].tolist()\n",
    "query_tensors = torch.stack(df_batch['tokens'].tolist())\n",
    "query_tensors.shape,type(query_tensors)"
   ]
  },
  {
   "cell_type": "code",
   "execution_count": 20,
   "metadata": {},
   "outputs": [
    {
     "data": {
      "text/plain": [
       "{'input_ids': [352,\n",
       "  8454,\n",
       "  657,\n",
       "  0,\n",
       "  718,\n",
       "  7863,\n",
       "  8190,\n",
       "  8454,\n",
       "  657,\n",
       "  13896,\n",
       "  8915,\n",
       "  10185],\n",
       " 'token_type_ids': [0, 0, 0, 0, 0, 0, 0, 0, 0, 0, 0, 0],\n",
       " 'attention_mask': [1, 1, 1, 1, 1, 1, 1, 1, 1, 1, 1, 1]}"
      ]
     },
     "execution_count": 20,
     "metadata": {},
     "output_type": "execute_result"
    }
   ],
   "source": [
    "# gpt2_tokenizer.encode_plus('0 1 0 ! !!!!')\n",
    "gpt2_tokenizer.encode_plus(' 1 61 0! 6 59 62 61 0!!!! 74!!!')"
   ]
  },
  {
   "cell_type": "code",
   "execution_count": 21,
   "metadata": {},
   "outputs": [
    {
     "data": {
      "text/plain": [
       "' 1 61 0! 6 59 62 61 0!!!! 74!!!'"
      ]
     },
     "execution_count": 21,
     "metadata": {},
     "output_type": "execute_result"
    }
   ],
   "source": [
    "gpt2_tokenizer.decode([352,\n",
    "  8454,\n",
    "  657,\n",
    "  0,\n",
    "  718,\n",
    "  7863,\n",
    "  8190,\n",
    "  8454,\n",
    "  657,\n",
    "  13896,\n",
    "  8915,\n",
    "  10185])"
   ]
  },
  {
   "cell_type": "code",
   "execution_count": 13,
   "metadata": {},
   "outputs": [
    {
     "data": {
      "text/plain": [
       "'Ġ!'"
      ]
     },
     "execution_count": 13,
     "metadata": {},
     "output_type": "execute_result"
    }
   ],
   "source": [
    "gpt2_tokenizer.convert_ids_to_tokens(5145)"
   ]
  },
  {
   "cell_type": "code",
   "execution_count": 28,
   "metadata": {},
   "outputs": [
    {
     "data": {
      "text/plain": [
       "0"
      ]
     },
     "execution_count": 28,
     "metadata": {},
     "output_type": "execute_result"
    }
   ],
   "source": [
    "gpt2_tokenizer.convert_tokens_to_ids('!')"
   ]
  },
  {
   "cell_type": "code",
   "execution_count": 9,
   "metadata": {},
   "outputs": [
    {
     "name": "stdout",
     "output_type": "stream",
     "text": [
      "128 0\n",
      "torch.Size([128, 66]) torch.Size([128, 66]) torch.Size([128, 1])\n"
     ]
    }
   ],
   "source": [
    "#### get response from gpt2\n",
    "n=10\n",
    "legalList=[]\n",
    "illegalList=[]\n",
    "# while n>=0:\n",
    "t = time.time()\n",
    "total_length = config['txt_in_len']+config['txt_out_len']\n",
    "response_tensors = []\n",
    "for i in range(int(config['batch_size']/fbs)):\n",
    "    response  = respond_to_batch(gpt2_model, query_tensors[i*fbs:(i+1)*fbs],nolegal_index,top_k=20,\n",
    "                                 txt_len=config['txt_out_len'])\n",
    "    response_tensors.append(response)\n",
    "response_tensors = torch.cat(response_tensors)\n",
    "game_data['response'] = [gpt2_tokenizer.decode(response_tensors[i, :]) for i in range(config['batch_size'])]\n",
    "timing['time/get_response'] = time.time()-t\n",
    "#### tokenize text for sentiment analysis\n",
    "t = time.time()\n",
    "texts = [q + r for q,r in zip(game_data['query'], game_data['response'])]\n",
    "#TODO 这里增加判断生成的是否符合语法规范\n",
    "# texts_check=[t.split()[:-1] for t in texts]\n",
    "\n",
    "legalCount,illegalCount=count_is_legal(texts)\n",
    "legalList.append(legalCount)\n",
    "illegalList.append(illegalCount)\n",
    "print(legalCount,illegalCount)\n",
    "logs['count/legalCount']=legalCount\n",
    "logs['count/illegalCount']=illegalCount\n",
    "\n",
    "sentiment_inputs, attention_masks,indices = data_prepare(texts, gpt2_tokenizer, config['max_length'])    \n",
    "timing['time/build_input_sentiment'] = time.time()-t\n",
    "print(sentiment_inputs.shape,attention_masks.shape,indices.shape)\n",
    "#     n-=1"
   ]
  },
  {
   "cell_type": "code",
   "execution_count": 13,
   "metadata": {},
   "outputs": [
    {
     "data": {
      "text/plain": [
       "tensor([[29],\n",
       "        [40],\n",
       "        [35],\n",
       "        [56],\n",
       "        [44]])"
      ]
     },
     "execution_count": 13,
     "metadata": {},
     "output_type": "execute_result"
    }
   ],
   "source": [
    "indices[:5]"
   ]
  },
  {
   "cell_type": "code",
   "execution_count": 12,
   "metadata": {},
   "outputs": [
    {
     "data": {
      "text/plain": [
       "tensor([[   15,   362,   513, 15495,   604, 16003,   642,  8257,   718,  7863,\n",
       "          8190,   838,  1511,  1542,   718,  7863,  8190,  2579,  9773,   718,\n",
       "          7863,  8093,  3261,   513, 15495,  1367,  3126,  7863,  8190,   657,\n",
       "         34635, 34635, 34635, 34635, 13896,     0,     0,     0,     0,     0,\n",
       "             0,     0,     0,     0,     0,     0,     0,     0,     0,     0,\n",
       "             0,     0,     0,     0,     0,     0,     0,     0,     0,     0,\n",
       "             0,     0,     0,     0,     0,     0],\n",
       "        [   15,   362,   513, 15495,   604,  9796,   807,  7600,   718,  7863,\n",
       "          8093,   860,  5441,   718,  7863,  8190,   767,  3933,   807,  7600,\n",
       "           718,  7863,  8190,  4974,  5946,  5014,  9907,   718,  7863,  8190,\n",
       "          2319,   513, 15495,   718,  7863,  8093,   807,  7600,   604, 16003,\n",
       "           657, 34635, 34635, 13896, 50184,     0,     0,     0,     0,     0,\n",
       "             0,     0,     0,     0,     0,     0,     0,     0,     0,     0,\n",
       "             0,     0,     0,     0,     0,     0],\n",
       "        [   15,   352,  1105,  7930,  8949,   604, 16003,   718,  7863,  8190,\n",
       "           767,  4747,  1467,  9415,   718,  7863,  8093,  3439,  4570,  5214,\n",
       "          9661,  5014,  9907,  2319,  6073,  5433,   718,  7863,  8190,   807,\n",
       "          9508,   604, 16003,   513, 15495,   657, 34635, 34635, 34635, 13896,\n",
       "          3228,     0,     0,     0,     0,     0,     0,     0,     0,     0,\n",
       "             0,     0,     0,     0,     0,     0,     0,     0,     0,     0,\n",
       "             0,     0,     0,     0,     0,     0],\n",
       "        [   15,   362,   513, 15495,   604, 16003,   642,  9166,   718,  7863,\n",
       "          8093,   767,  3933,   807,  7600,   718,  7863,  8093,  4974,  5846,\n",
       "          4570,  5214, 10111,   718,  7863,  8190,  4353,  7192,   718,  7863,\n",
       "          8190,  7175,  4153, 10048,   718,  7863,  8190,  1248,  9225,  4570,\n",
       "          5214, 10111,  5014,  6957,  2319,   513, 15495,  1987,  5598,   718,\n",
       "          7863,  8093,   807,  9508,   604, 16003,   657, 13896, 50184,     0,\n",
       "             0,     0,     0,     0,     0,     0],\n",
       "        [   15,   362,   513, 15495,   604, 16003,   642,  8644,   718,  7863,\n",
       "          8093,   838,  1315,  1467,  9415,   718,  7863,  8190,  1596,  1679,\n",
       "          1248,  9225,   678,  1160,  9919,  2310,  1248,  9225,  2534,  1160,\n",
       "          9919,  2242,  1160,  4101,  2534,  1987,  5598,  1160,  4101,   678,\n",
       "          1987,  5598,  1367,  8454,   657, 34635, 34635, 50184,     0,     0,\n",
       "             0,     0,     0,     0,     0,     0,     0,     0,     0,     0,\n",
       "             0,     0,     0,     0,     0,     0]])"
      ]
     },
     "execution_count": 12,
     "metadata": {},
     "output_type": "execute_result"
    }
   ],
   "source": [
    "sentiment_inputs[:5]"
   ]
  },
  {
   "cell_type": "code",
   "execution_count": 10,
   "metadata": {},
   "outputs": [],
   "source": [
    "# response_tensors[:10]"
   ]
  },
  {
   "cell_type": "code",
   "execution_count": 9,
   "metadata": {},
   "outputs": [],
   "source": [
    "# game_data['response'][:10]"
   ]
  },
  {
   "cell_type": "code",
   "execution_count": 17,
   "metadata": {},
   "outputs": [
    {
     "data": {
      "text/plain": [
       "66"
      ]
     },
     "execution_count": 17,
     "metadata": {},
     "output_type": "execute_result"
    }
   ],
   "source": [
    "len(texts[1].split())"
   ]
  },
  {
   "cell_type": "code",
   "execution_count": null,
   "metadata": {},
   "outputs": [],
   "source": [
    "# response_tensors[:2]"
   ]
  },
  {
   "cell_type": "code",
   "execution_count": null,
   "metadata": {},
   "outputs": [],
   "source": [
    "# game_data['response'][:2]"
   ]
  },
  {
   "cell_type": "code",
   "execution_count": 18,
   "metadata": {},
   "outputs": [
    {
     "data": {
      "text/plain": [
       "' 1 12 3 108 4 109 6 59 63 7 32 8 85 6 59 62 34 43 39 95 6 59 63 38 19 6 59 62 8 84 4 110 3 108 14 27 8 85 4 109 3 108 110 3 108 81 6 59 62 8 84 4 110 3 108 84 4 109 3 108 73 54 70 84'"
      ]
     },
     "execution_count": 18,
     "metadata": {},
     "output_type": "execute_result"
    }
   ],
   "source": [
    "# gpt2_tokenizer.decode([  352,  1105,   513, 15495,   604, 16003,   718,  7863,  8093,   767,\n",
    "#           3933,   807,  7600,   718,  7863,  8190,  4974,  5946,  5014,  6957,\n",
    "#            718,  7863,  8093,  4353,   678,   718,  7863,  8190,   807,  9508,\n",
    "#            604,  9796,   513, 15495,  1478,  2681,   807,  7600,   604, 16003,\n",
    "#            513, 15495,  9796,   513, 15495,  9773,   718,  7863,  8190,   807,\n",
    "#           9508,   604,  9796,   513, 15495,  9508,   604, 16003,   513, 15495,\n",
    "#           8854,  7175,  4317,  9508])\n",
    "# # data[:,nolegal_index]=np.NINF\n",
    "# # data"
   ]
  },
  {
   "cell_type": "code",
   "execution_count": 58,
   "metadata": {},
   "outputs": [],
   "source": [
    "# import torch.nn.functional as F\n",
    "# probs = F.softmax(data, dim=-1)\n",
    "# for i in probs[0]:\n",
    "#     print(i)"
   ]
  },
  {
   "cell_type": "code",
   "execution_count": 19,
   "metadata": {},
   "outputs": [
    {
     "data": {
      "text/plain": [
       "(46293, 'Ġbothers')"
      ]
     },
     "execution_count": 19,
     "metadata": {},
     "output_type": "execute_result"
    }
   ],
   "source": [
    "gpt2_tokenizer.convert_tokens_to_ids('Ġ'+'bothers'),gpt2_tokenizer.convert_ids_to_tokens(46293)\n"
   ]
  },
  {
   "cell_type": "code",
   "execution_count": 15,
   "metadata": {},
   "outputs": [
    {
     "data": {
      "text/plain": [
       "3"
      ]
     },
     "execution_count": 15,
     "metadata": {},
     "output_type": "execute_result"
    }
   ],
   "source": [
    "# response_tensors[:2]\n",
    "txt='0 0!!!'\n",
    "txt.index('!')"
   ]
  },
  {
   "cell_type": "code",
   "execution_count": 15,
   "metadata": {
    "scrolled": false
   },
   "outputs": [
    {
     "name": "stdout",
     "output_type": "stream",
     "text": [
      "126 2\n",
      "torch.Size([128, 66]) torch.Size([128, 66]) torch.Size([128, 1])\n"
     ]
    }
   ],
   "source": [
    "#### tokenize text for sentiment analysis\n",
    "t = time.time()\n",
    "texts = [q + r for q,r in zip(game_data['query'], game_data['response'])]\n",
    "#TODO 这里增加判断生成的是否符合语法规范\n",
    "# texts_check=[t.split()[:-1] for t in texts]\n",
    "\n",
    "legalCount,illegalCount=count_is_legal(texts)\n",
    "print(legalCount,illegalCount)\n",
    "logs['count/legalCount']=legalCount\n",
    "logs['count/illegalCount']=illegalCount\n",
    "    \n",
    "sentiment_inputs, attention_masks,indices = data_prepare(texts, gpt2_tokenizer, config['max_length'])    \n",
    "timing['time/build_input_sentiment'] = time.time()-t\n",
    "print(sentiment_inputs.shape,attention_masks.shape,indices.shape)"
   ]
  },
  {
   "cell_type": "code",
   "execution_count": 18,
   "metadata": {},
   "outputs": [
    {
     "data": {
      "text/plain": [
       "(torch.Tensor, torch.Tensor, torch.Tensor)"
      ]
     },
     "execution_count": 18,
     "metadata": {},
     "output_type": "execute_result"
    }
   ],
   "source": [
    "sentiment_inputs=sentiment_inputs.to(device)\n",
    "attention_masks=attention_masks.to(device)\n",
    "indices=indices.to(device)\n",
    "type(sentiment_inputs),type(attention_masks),type(indices)"
   ]
  },
  {
   "cell_type": "code",
   "execution_count": 22,
   "metadata": {},
   "outputs": [],
   "source": [
    "# text_list=texts[0].split()\n",
    "# for i in range(len(sentiment_inputs[0])):\n",
    "#     print(sentiment_inputs[0][i],)\n",
    "# sentiment_inputs[:2]"
   ]
  },
  {
   "cell_type": "code",
   "execution_count": 19,
   "metadata": {},
   "outputs": [
    {
     "name": "stdout",
     "output_type": "stream",
     "text": [
      "<class 'torch.Tensor'> torch.Size([16])\n",
      "<class 'torch.Tensor'> torch.Size([16])\n",
      "<class 'torch.Tensor'> torch.Size([16])\n",
      "<class 'torch.Tensor'> torch.Size([16])\n",
      "<class 'torch.Tensor'> torch.Size([16])\n",
      "<class 'torch.Tensor'> torch.Size([16])\n",
      "<class 'torch.Tensor'> torch.Size([16])\n",
      "<class 'torch.Tensor'> torch.Size([16])\n"
     ]
    }
   ],
   "source": [
    "#### get sentiment score\n",
    "t = time.time()\n",
    "rewards = []\n",
    "for i in range(int(config['batch_size']/fbs)):\n",
    "    res = sentiment_model.forward(sentiment_inputs[i*fbs:(i+1)*fbs],\n",
    "                                  attention_masks[i*fbs:(i+1)*fbs],\n",
    "                                 indices[i*fbs:(i+1)*fbs])[:, 1].detach()\n",
    "    print(type(res),res.shape)\n",
    "    rewards.append(res)\n",
    "rewards = torch.cat(rewards)\n",
    "timing['time/get_sentiment_preds'] = time.time()-t"
   ]
  },
  {
   "cell_type": "code",
   "execution_count": 21,
   "metadata": {},
   "outputs": [
    {
     "data": {
      "text/plain": [
       "tensor(-513.7990, device='cuda:0')"
      ]
     },
     "execution_count": 21,
     "metadata": {},
     "output_type": "execute_result"
    }
   ],
   "source": [
    "sum(rewards)"
   ]
  },
  {
   "cell_type": "code",
   "execution_count": 23,
   "metadata": {},
   "outputs": [
    {
     "data": {
      "text/plain": [
       "tensor(18, device='cuda:0')"
      ]
     },
     "execution_count": 23,
     "metadata": {},
     "output_type": "execute_result"
    }
   ],
   "source": [
    "rewards.shape\n",
    "sum(rewards>=0)"
   ]
  },
  {
   "cell_type": "code",
   "execution_count": null,
   "metadata": {},
   "outputs": [],
   "source": []
  },
  {
   "cell_type": "code",
   "execution_count": 21,
   "metadata": {},
   "outputs": [
    {
     "name": "stdout",
     "output_type": "stream",
     "text": [
      "largeRotioNeg : 16\n",
      "smallRotioNeg : 4\n",
      "choiceSmall : [30, 108, 42, 92, 94, 24, 110, 119, 59, 109, 52, 71, 88, 104, 33, 124, 90, 32, 85, 82, 48, 98, 4, 2, 127, 41, 66, 102, 106, 77, 113, 100, 105, 26, 123, 114, 116, 74, 29, 125, 91, 126, 56, 15, 9, 31, 17, 97, 87, 75, 39, 19, 120, 43, 95, 55, 111, 35, 122, 40, 0, 22, 68, 49, 76, 20, 65, 57, 16, 80, 73, 12, 50, 36, 53, 10, 28, 7, 58, 101, 103, 118, 86, 79, 67, 115, 14, 44]\n",
      "choiceLarge : [38, 63, 37, 81, 83, 78, 46, 60, 117, 27, 21, 13, 70, 54, 34, 93, 5, 1, 6, 25]\n",
      "smallIndex : [28 41 39 95]\n",
      "largeIndex : [ 70   1  93  54   6  21 117  81  83  78  37  27  38  13  46  60]\n",
      "posIndex : [11, 72, 112, 96, 62, 107, 121, 18, 45, 23, 89, 61, 51, 47, 64, 84, 8, 3, 69, 99]\n",
      "<class 'list'> <class 'numpy.ndarray'> <class 'numpy.ndarray'>\n",
      "allIndex : [11, 72, 112, 96, 62, 107, 121, 18, 45, 23, 89, 61, 51, 47, 64, 84, 8, 3, 69, 99, 28, 41, 39, 95, 70, 1, 93, 54, 6, 21, 117, 81, 83, 78, 37, 27, 38, 13, 46, 60]\n"
     ]
    }
   ],
   "source": [
    "rewards_index = sorted(range(len(rewards)), key=lambda k: rewards[k],reverse=False)  # 升序排序 reversed=False\n",
    "posNum=sum(rewards>=0).cpu().numpy()\n",
    "if posNum*2<len(rewards):#做数据均衡处理\n",
    "    largeNegNum=int(posNum*0.8)#采样数量\n",
    "    print('largeRotioNeg :',largeNegNum)\n",
    "    smallNegNum=posNum-largeNegNum#采样数量\n",
    "    print('smallRotioNeg :',smallNegNum)\n",
    "    choiceSmall=rewards_index[:len(rewards)-posNum-posNum]\n",
    "    choiceLarge=rewards_index[-posNum-posNum:-posNum]\n",
    "    print('choiceSmall :',choiceSmall)\n",
    "    print('choiceLarge :',choiceLarge)\n",
    "    largeIndex = np.random.choice(choiceLarge,size=largeNegNum, replace=False)\n",
    "    smallIndex = np.random.choice(choiceSmall,size=smallNegNum, replace=False)\n",
    "    posIndex=rewards_index[-posNum:]\n",
    "    print('smallIndex :',smallIndex)\n",
    "    print('largeIndex :',largeIndex)\n",
    "    print('posIndex :',posIndex)\n",
    "    print(type(posIndex),type(smallIndex),type(largeIndex),)\n",
    "    allIndex=posIndex+list(smallIndex)+list(largeIndex)\n",
    "    print('allIndex :',allIndex)\n",
    "query_selected=query_tensors[allIndex,:]\n",
    "response_selected=response_tensors[allIndex,:]\n",
    "rewards_selected=rewards[allIndex]"
   ]
  },
  {
   "cell_type": "code",
   "execution_count": 36,
   "metadata": {},
   "outputs": [],
   "source": []
  },
  {
   "cell_type": "code",
   "execution_count": 22,
   "metadata": {},
   "outputs": [
    {
     "data": {
      "text/plain": [
       "(torch.Tensor, torch.Tensor, torch.Tensor)"
      ]
     },
     "execution_count": 22,
     "metadata": {},
     "output_type": "execute_result"
    }
   ],
   "source": [
    "type(query_selected),type(response_selected),type(rewards_selected)"
   ]
  },
  {
   "cell_type": "code",
   "execution_count": 23,
   "metadata": {},
   "outputs": [
    {
     "data": {
      "text/plain": [
       "(torch.Size([40, 1]), torch.Size([40, 65]), torch.Size([40]))"
      ]
     },
     "execution_count": 23,
     "metadata": {},
     "output_type": "execute_result"
    }
   ],
   "source": [
    "query_selected.shape,response_selected.shape,rewards_selected.shape"
   ]
  },
  {
   "cell_type": "code",
   "execution_count": 24,
   "metadata": {},
   "outputs": [
    {
     "name": "stdout",
     "output_type": "stream",
     "text": [
      "查看问题 : 512\n",
      "查看问题 : 512\n",
      "查看问题 : 512\n",
      "查看问题 : 512\n",
      "查看问题 : 512\n",
      "查看问题 : 512\n",
      "查看问题 : 512\n",
      "查看问题 : 512\n",
      "查看问题 : 512\n",
      "查看问题 : 512\n",
      "查看问题 : 512\n",
      "查看问题 : 512\n",
      "查看问题 : 512\n",
      "查看问题 : 512\n",
      "查看问题 : 512\n",
      "查看问题 : 512\n",
      "查看问题 : 512\n"
     ]
    }
   ],
   "source": [
    "#### Run PPO training \n",
    "t = time.time()\n",
    "stats = ppo_trainer.step(query_tensors, response_tensors, rewards)\n",
    "timing['time/optimization'] = time.time()-t"
   ]
  },
  {
   "cell_type": "code",
   "execution_count": 5,
   "metadata": {},
   "outputs": [],
   "source": [
    "# type(stats)\n",
    "# stats"
   ]
  },
  {
   "cell_type": "code",
   "execution_count": 28,
   "metadata": {},
   "outputs": [
    {
     "data": {
      "text/plain": [
       "['0 1 2 0', '0 2 3 0', '0']"
      ]
     },
     "execution_count": 28,
     "metadata": {},
     "output_type": "execute_result"
    }
   ],
   "source": [
    "# rewards\n",
    "texts=['0 1 2 0','0 2 3 0!!','0 !!']\n",
    "islegal_tests=[t[:  t.rindex('0')+1] for t in texts]\n",
    "islegal_tests"
   ]
  },
  {
   "cell_type": "code",
   "execution_count": 29,
   "metadata": {},
   "outputs": [
    {
     "data": {
      "text/plain": [
       "[' 1 12 66 105 4 109 6 59 62 7 33 16 82 6 59 62 35 36 37 98 39 96 40 41 42 6 59 62 8 85 4 110 3 108 0',\n",
       " ' 2 3 108 4 109 5 71 6 59 62 10 7 33 16 83 6 59 62 35 36 37 97 6 59 63 38 55 6 59 63 56 6 59 62 57 11 60 59 63 0']"
      ]
     },
     "execution_count": 29,
     "metadata": {},
     "output_type": "execute_result"
    }
   ],
   "source": [
    "game_data['response'][:2]"
   ]
  },
  {
   "cell_type": "code",
   "execution_count": 6,
   "metadata": {},
   "outputs": [
    {
     "data": {
      "text/plain": [
       "[3, 2, 1]"
      ]
     },
     "execution_count": 6,
     "metadata": {},
     "output_type": "execute_result"
    }
   ],
   "source": [
    "\n",
    "a=[1,2,3]\n",
    "random.shuffle(a)\n",
    "a"
   ]
  },
  {
   "cell_type": "code",
   "execution_count": 49,
   "metadata": {},
   "outputs": [
    {
     "name": "stdout",
     "output_type": "stream",
     "text": [
      "0 1 12 66 103 6 59 63 10 7 32 10 7 32 34 44 36 37 97 39 95 40 41 42 47 47 93 18 47 57 24 43 36 40 41 42 24 64 24 64 40 3 108 24 64 11 60 24 64 11 6 59 62 3 108 24 64 24 64 8 85 64 90 80 91\n",
      "0 1 12 66 106 6 59 62 10 7 32 10 7 32 34 44 36 40 41 42 18 79 36 40 41 42 24 64 47 47 93 18 87 24 64 24 64 24 64 11 60 40 3 108 24 64 11 6 59 62 74 6 59 63 6 59 62 6 59 62 39 64 20 84 76 74\n",
      "0 1 12 66 106 4 110 46 10 7 32 10 7 32 34 44 36 40 41 36 40 41 42 47 6 6 59 63 47 47 6 59 63 6 59 63 47 20 90 6 59 63 40 41 42 24 64 11 39 24 64 11 60 6 59 62 40 3 108 24 64 91 16 74 31 99\n",
      "0 1 12 66 103 6 59 62 10 7 32 10 7 32 34 44 36 40 41 42 47 92 18 87 40 41 42 24 64 11 60 6 59 62 47 86 6 59 63 39 96 6 59 62 38 58 6 59 62 64 56 6 59 62 24 64 24 64 11 6 59 63 24 64 91 56\n",
      "0 1 12 66 103 6 59 62 7 32 7 32 34 44 36 40 41 42 47 44 36 40 3 108 47 6 59 62 56 6 59 62 47 93 18 87 6 59 63 38 55 6 59 63 56 6 59 63 57 24 64 6 59 62 57 24 64 6 59 63 98 80 16 71 5 1\n",
      "0 1 12 66 19 6 59 63 10 7 33 10 7 32 34 44 36 37 97 6 59 62 38 53 40 54 47 94 6 59 63 18 94 39 95 40 3 108 24 64 40 41 42 24 64 11 60 59 62 6 59 63 6 59 62 6 59 62 24 64 64 11 2 33 87 12\n",
      "0 1 12 66 103 6 59 63 10 7 32 10 7 32 34 44 36 40 41 42 6 59 63 47 47 93 18 56 6 59 63 38 53 6 59 62 56 6 59 63 57 24 64 35 36 40 3 108 24 64 11 11 61 0 24 64 64 11 61 67 66 52 11 60 32 49\n",
      "0 1 12 66 107 6 59 63 10 7 32 10 7 32 10 7 32 34 44 36 40 41 42 6 59 63 47 6 59 63 47 56 6 59 63 57 39 95 40 3 108 24 64 110 45 94 6 59 62 39 96 6 59 63 40 3 108 24 64 11 60 91 70 11 60 98\n",
      "0 2 3 108 3 108 5 68 7 32 10 10 7 32 34 44 36 40 41 42 47 92 18 79 36 40 3 108 24 64 47 47 64 66 6 59 63 40 3 108 24 64 6 59 62 24 64 80 108 24 64 6 59 62 0 24 64 11 86 6 59 63 102 109 4 99\n",
      "0 1 12 66 104 6 59 63 10 7 32 7 32 34 44 36 40 41 42 47 97 39 95 40 3 108 47 94 6 59 62 18 91 18 79 24 64 24 64 6 59 62 40 3 108 24 64 11 60 24 64 6 59 62 24 64 6 59 62 8 89 73 8 84 80 56\n",
      "0 1 12 66 85 6 59 63 10 7 32 10 7 32 34 44 36 37 98 39 95 40 3 108 47 86 6 59 62 45 94 6 59 62 18 79 43 38 55 6 59 63 56 6 59 63 57 24 64 24 64 11 61 24 64 64 24 64 24 64 99 107 55 5 22 76\n",
      "0 1 12 66 103 6 59 63 10 7 32 10 7 32 34 44 36 40 41 42 47 94 6 59 62 18 79 36 40 3 108 24 64 40 3 108 24 64 11 60 59 62 6 59 63 24 64 11 60 6 59 62 24 64 11 6 59 62 29 65 68 66 72 46 350\n",
      "0 1 12 66 107 6 59 62 10 7 32 10 7 32 10 7 32 34 44 43 44 36 40 41 42 47 45 94 6 59 62 6 59 62 40 3 108 47 6 59 63 18 79 56 6 24 64 24 64 11 60 6 59 63 24 64 11 60 59 62 0 91 45 91 71 92\n",
      "0 1 12 66 103 6 59 63 10 7 32 10 7 32 8 85 34 44 36 37 98 39 96 40 3 108 45 94 6 59 62 18 79 36 40 3 108 24 64 47 55 6 59 62 56 6 59 62 57 24 64 11 60 6 59 62 0 88 24 64 59 63 10 11 35 1\n",
      "0 1 12 66 103 6 59 63 10 7 33 7 32 35 36 40 41 42 6 59 62 34 44 36 40 41 42 47 45 94 6 59 62 18 36 37 97 39 95 40 41 42 24 64 24 64 24 64 47 24 64 6 59 62 6 59 62 6 59 63 38 53 30 64 27 67\n",
      "0 1 12 66 104 6 59 62 10 7 32 10 7 32 34 34 44 36 37 97 6 59 63 38 53 6 59 62 56 40 3 108 47 24 64 47 94 6 59 63 38 53 6 59 62 38 53 6 59 62 24 64 11 60 59 62 64 34 24 64 36 24 64 12 71 87\n",
      "0 1 12 66 103 6 59 63 10 7 32 10 7 32 34 44 36 40 41 42 47 93 18 45 94 6 94 6 59 62 18 79 24 64 36 40 3 108 24 64 24 64 11 61 24 64 24 64 11 60 59 62 24 64 11 6 59 62 64 11 60 88 31 21 11 28\n",
      "0 1 12 66 100 6 59 62 10 7 32 10 7 32 34 44 36 40 41 42 47 6 59 62 47 86 6 59 63 41 42 6 59 62 6 59 63 37 97 39 96 40 3 108 24 64 11 60 59 62 24 64 11 6 59 62 11 6 59 63 24 64 87 12 75 37\n",
      "0 1 12 66 103 6 59 62 10 7 32 10 7 32 34 44 36 37 98 39 95 40 41 42 47 45 94 6 59 62 18 79 36 40 41 42 24 64 64 6 59 63 6 59 63 40 3 108 24 64 24 64 24 64 11 60 6 59 63 22 47 105 57 47 108 29\n",
      "0 1 12 66 101 6 59 63 10 7 32 10 7 32 34 44 36 40 3 108 8 85 6 59 62 34 44 36 40 3 108 47 47 47 47 93 18 70 24 64 94 6 59 62 38 53 6 59 62 24 64 11 60 24 64 40 41 42 24 64 35 36 79 47 76 46\n",
      "0 1 12 66 101 6 59 62 10 7 32 10 7 32 34 44 36 37 97 39 96 40 3 108 47 52 17 47 94 6 59 63 18 79 36 37 98 39 95 40 41 42 24 64 6 59 62 24 64 24 64 11 60 59 62 3 108 24 64 11 60 93 3 108 50 80\n",
      "0 1 12 66 100 6 59 62 10 7 32 10 7 32 34 44 36 40 41 42 47 47 92 18 79 36 37 97 39 95 40 3 108 24 64 47 93 18 79 24 64 24 64 24 64 47 64 11 61 24 64 11 24 64 11 60 4 110 24 64 92 78 98 29 24 1\n",
      "0 1 12 66 103 6 59 62 10 7 32 10 7 32 34 44 36 40 3 108 45 94 6 59 63 46 94 6 59 63 18 87 6 59 62 38 53 6 59 63 54 24 64 46 87 24 64 11 60 59 62 24 64 11 4 110 64 68 24 64 37 90 470 72 21\n",
      "0 1 12 66 103 4 109 6 59 63 7 32 7 32 10 7 32 34 44 36 40 3 108 47 34 44 36 86 6 59 63 38 55 6 59 62 56 6 59 63 57 47 47 93 6 59 62 40 41 42 24 64 6 59 62 47 6 59 63 56 6 59 63 47 64 91\n",
      "0 1 12 66 100 6 59 62 10 7 32 10 7 32 34 44 36 40 3 108 47 44 36 37 98 6 45 94 6 59 63 18 79 36 40 3 108 24 64 47 92 24 64 47 47 93 24 64 11 60 59 62 24 64 11 60 24 64 24 64 53 87 64 104 22 30\n",
      "0 1 12 66 107 6 59 62 10 7 32 10 7 32 34 44 43 44 36 40 3 108 45 94 6 59 62 36 40 41 42 47 6 59 63 47 6 59 63 66 102 24 64 40 41 42 24 64 6 59 63 24 64 39 6 59 62 36 91 24 64 66 64 64 66 33\n",
      "0 1 12 66 103 6 59 62 10 7 32 10 7 32 34 44 36 40 41 42 45 94 6 94 37 97 39 95 40 3 108 47 6 59 62 18 79 36 40 41 42 24 64 40 3 108 24 64 11 60 64 11 60 24 64 11 60 24 64 11 45 66 91 24 64 91\n",
      "0 1 12 66 103 6 59 63 10 7 32 10 7 32 34 44 36 40 3 108 47 71 24 64 47 94 6 59 62 18 79 43 36 40 41 42 24 64 11 60 59 62 40 3 108 24 64 64 45 24 64 24 64 11 60 24 64 11 60 24 64 48 21 49 78 45\n",
      "0 1 12 66 104 6 59 63 10 7 32 10 7 33 16 82 34 44 36 37 98 6 59 63 38 58 6 59 62 38 53 6 59 63 56 6 59 62 35 36 40 41 42 24 64 18 36 40 3 108 24 64 11 24 64 11 24 64 11 61 27 47 46 67 93 99\n",
      "0 1 12 66 101 6 59 62 10 7 32 10 7 32 34 44 36 40 41 42 47 16 82 6 59 62 38 51 6 59 63 47 64 56 39 95 6 59 62 36 40 3 108 24 64 11 61 24 64 11 24 64 11 56 6 59 63 64 11 60 91 30 94 110 0 16\n",
      "0 1 12 66 103 6 59 63 10 7 32 10 7 32 34 44 36 40 41 42 6 59 62 47 6 59 63 47 92 18 87 6 59 63 38 55 6 59 62 56 6 59 63 57 24 64 11 60 59 62 0 24 64 11 60 64 11 24 64 100 47 86 99 22 61 1\n",
      "0 1 12 66 102 6 59 62 10 7 32 10 7 32 34 44 36 40 41 42 47 45 94 18 47 64 18 12 36 40 41 42 24 64 24 64 6 59 62 6 59 63 38 58 6 59 62 64 11 60 59 62 24 64 11 60 24 64 11 24 64 340 29 60 66\n",
      "0 1 12 66 103 4 110 10 7 32 7 32 11 34 44 36 40 3 108 47 44 36 40 41 42 6 94 6 59 63 18 87 6 59 62 38 53 6 59 62 40 41 42 24 64 6 59 62 35 24 64 6 59 63 40 41 42 24 64 6 59 63 8 84 74 74\n",
      "0 1 12 66 103 6 59 63 10 7 32 10 7 32 7 32 34 44 36 40 41 42 47 43 38 51 6 59 62 38 53 6 59 62 56 6 59 63 38 55 6 59 63 56 6 59 62 57 24 64 11 60 59 63 64 6 59 62 24 64 37 52 110 3 68 1\n",
      "0 1 12 66 103 6 59 62 10 7 32 10 7 32 34 44 36 40 41 42 6 59 63 45 94 6 59 63 18 87 40 41 42 24 64 94 6 59 63 18 79 36 40 3 108 24 64 24 64 24 64 11 60 11 63 24 64 11 6 59 62 79 110 64 32 13\n",
      "0 1 12 66 100 6 59 62 10 7 32 10 7 32 34 44 36 40 3 108 45 94 6 59 62 18 42 24 64 36 40 3 108 24 64 11 60 59 62 3 108 24 64 11 60 6 59 63 11 61 24 64 11 64 11 4 24 64 64 24 64 94 85 90 85 12\n",
      "0 1 12 66 103 6 59 63 10 7 32 10 7 32 34 44 36 38 58 36 40 3 108 47 47 93 18 79 24 64 39 95 6 59 62 38 53 6 59 62 54 24 64 11 60 59 62 38 53 24 64 11 64 24 64 24 64 11 6 59 62 16 64 66 30 63\n",
      "0 1 12 66 101 6 59 62 10 7 32 10 7 32 7 32 34 44 36 40 3 108 36 40 41 42 47 47 94 6 59 62 18 79 24 64 34 44 36 40 3 108 24 64 11 61 24 64 11 61 24 64 11 61 45 94 6 59 62 24 64 34 25 180 68\n",
      "0 1 12 66 103 6\n",
      "0 1 12 66 103 6 59 63 10 7 32 10 7 32 34 44 36 40 3 108 6 59 63 34 44 36 40 3 108 47 6 59 62 47 37 98 39 96 40 3 108 47 86 6 59 62 47 93 18 93 24 64 24 64 24 64 11 60 59 62 66 104 24 64 110 45\n",
      "0 1 12 66 100 6 59 62 10 7 32 10 7 32 34 44 36 40 3 108 47 36 40 41 42 6 59 63 47 6 59 62 52 93 18 39 96 40 41 42 24 64 11 60 59 62 24 64 11 24 64 11 60 6 59 62 91 24 640 103 14 33 34 106 91\n",
      "0 1 12 3 108 6 59 62 10 7 32 10 7 32 17 34 44 38 53 6 59 63 34 44 43 36 40 41 42 47 47 6 59 63 39 95 40 41 42 24 64 39 95 40 3 108 24 64 11 60 91 24 64 11 64 40 3 108 24 64 11 64 101 24 64 36\n",
      "0 1 12 66 104 6 59 62 10 7 32 10 7 32 34 44 36 40 3 108 47 93 18 87 39 96 40 41 42 24 64 94 6 59 63 18 56 6 59 63 24 64 11 60 59 63 24 64 11 60 24 64 11 24 64 11 6 59 62 45 46 12 3 108 104 0\n",
      "0 1 12 66 103 6 59 63 10 7 32 7 32 7 32 34 44 36 37 97 6 59 62 38 53 6 59 62 54 47 94 6 59 63 18 79 36 37 97 39 96 40 3 108 24 64 40 41 42 24 64 6 59 63 24 64 6 59 62 52 70 54 25 82 3 108\n",
      "0 1 12 66 103 6 59 63 10 7 32 10 7 32 10 7 32 34 44 36 40 41 42 6 59 63 34 44 36 37 97 39 96 40 41 42 47 92 18 87 40 41 42 24 64 64 11 60 59 62 47 92 24 64 11 110 94 6 59 63 24 64 99 17 108 99\n",
      "0 1 12 66 103 4 109 10 10 7 33 7 33 16 83 34 44 36 40 41 42 47 43 56 6 59 62 57 24 64 78 6 59 63 40 3 108 24 64 11 61 47 64 11 60 6 59 62 4 110 39 24 64 11 6 59 62 97 4 110 3 108 63 27 61 85\n",
      "0 1 12 66 103 6 59 63 10 7 32 10 7 32 34 44 36 40 3 108 66 100 45 94 6 59 63 18 79 36 40 41 42 24 64 24 64 11 60 6 59 63 24 64 64 24 64 6 59 62 0 6 59 62 39 95 6 26 6 59 62 47 86 30 81 47\n",
      "0 1 12 66 101 6 59 63 10 7 32 10 7 32 34 44 36 37 98 39 95 40 3 108 47 6 59 63 47 45 94 6 59 63 18 79 43 38 19 24 64 34 44 43 38 19 24 64 11 24 64 11 6 59 62 4 110 24 64 97 24 64 11 11 94 41\n",
      "0 1 12 66 107 6 59 62 10 7 32 10 7 32 7 32 34 44 36 40 3 108 45 94 6 59 62 18 79 36 40 3 108 24 64 24 64 24 64 47 64 40 41 42 24 64 11 60 6 11 61 6 59 62 0 3 108 24 64 11 61 27 57 24 64 107\n",
      "0 1 12 66 104 6 59 62 10 7 32 10 7 32 34 44 36 40 41 42 47 34 43 38 55 6 59 62 56 6 59 62 57 47 94 6 59 62 18 79 43 39 96 40 3 108 24 64 24 64 11 60 59 62 24 64 24 64 11 61 32 86 49 1 87 57\n",
      "0 1 12 66 100 4 110 5 7 32 7 32 10 7 32 34 44 36 40 41 36 37 97 39 95 40 41 42 47 47 47 45 94 6 59 62 18 87 6 59 62 38 58 6 59 63 54 24 64 6 59 62 6 59 63 8 85 4 109 3 108 45 94 9 8 1\n",
      "0 1 12 66 105 6 59 62 10 7 32 10 7 32 10 7 32 34 44 36 40 3 108 45 94 6 59 63 36 40 3 108 47 87 40 3 108 55 6 59 63 56 6 59 63 24 64 52 24 64 11 61 24 64 11 6 59 62 6 59 62 64 88 91 290\n",
      "0 1 12 66 107 6 59 63 10 7 32 10 7 32 34 44 36 40 41 42 47 6 59 62 38 55 6 59 62 56 6 59 63 57 47 93 20 90 24 64 40 41 42 24 64 11 60 59 63 0 39 95 6 59 63 6 59 62 24 64 49 108 76 83 24 64\n",
      "0 1 12 66 100 6 59 62 10 7 32 10 7 32 34 44 36 40 3 108 6 59 62 47 92 18 47 6 59 62 36 37 97 39 96 40 3 108 24 64 40 41 42 24 64 11 61 24 64 11 6 59 62 91 24 64 6 59 62 0 29 79 0 80 77 94\n",
      "0 1 12 66 104 6 59 63 10 7 32 10 7 32 34 44 36 40 41 42 47 45 94 6 59 62 18 79 36 40 3 108 24 64 20 24 64 69 6 59 63 39 95 40 41 42 24 64 11 6 59 63 24 64 11 60 24 64 64 32 73 37 47 24 64 43\n",
      "0 1 12 66 106 6 59 63 10 7 32 10 7 32 34 44 36 37 97 39 96 40 3 108 6 59 62 47 6 59 62 47 94 39 95 6 59 63 38 55 6 59 63 56 6 59 63 57 24 64 11 60 59 63 66 4 81 24 64 80 30 27 67 68 33 21\n",
      "0 1 12 66 103 6 59 63 7 32 10 7 32 34 44 36 40 3 108 47 44 36 40 3 108 47 93 47 47 92 18 79 68 24 64 6 59 62 38 53 6 59 62 56 6 59 63 24 64 24 64 6 59 62 24 64 6 59 63 120 104 48 64 37 61\n",
      "0 1 12 66 107 6 59 63 10 7 32 10 7 32 7 32 34 44 36 37 97 39 95 40 3 108 47 45 94 6 59 62 18 18 79 36 40 3 108 24 64 40 41 42 24 64 24 64 11 60 24 64 11 64 11 4 110 24 64 34 24 64 35 960 67\n",
      "0 1 12 66 103 6 59 62 10 7 32 10 13 34 44 36 37 98 6 59 63 38 53 39 95 40 41 42 47 6 59 62 36 40 3 108 24 64 109 66 39 96 40 3 108 24 64 11 60 6 59 63 6 59 62 6 59 63 64 80 47 890 50 64 86\n",
      "0 1 12 66 103 6 59 62 10 7 32 7 32 34 44 36 40 3 108 6 59 62 34 44 36 40 41 42 47 47 45 94 6 59 62 18 79 43 38 53 6 59 63 54 24 64 24 64 6 59 62 38 55 24 64 24 64 40 41 42 24 64 64 2 92 87\n",
      "0 1 12 66 100 6 59 63 7 32 10 7 32 14 34 44 36 40 3 108 6 59 63 91 36 40 41 42 47 93 18 87 6 59 63 38 58 6 59 63 24 64 6 59 63 40 3 108 24 64 6 59 62 6 59 62 4 109 24 64 11 13 66 56 1050\n",
      "0 1 12 66 107 6 59 62 10 7 32 10 7 32 34 44 36 37 97 39 96 40 3 108 6 59 63 47 94 6 59 62 18 94 6 59 63 18 79 36 40 3 108 24 64 24 64 11 60 24 64 11 60 24 64 11 60 16 11 60 88 101 91 55 75 73\n",
      "0 1 12 66 103 6 59 63 10 7 32 10 7 32 34 44 36 37 98 39 95 40 3 108 47 93 47 93 47 92 18 79 43 43 38 53 6 59 63 79 43 38 53 24 64 24 64 24 64 24 64 11 60 24 64 11 6 59 62 3 108 24 64 102 66 52\n",
      "0 1 12 66 103 6 59 62 10 7 32 10 7 32 34 44 36 40 41 42 47 47 93 18 79 43 38 55 6 59 62 56 6 59 62 57 24 64 34 43 38 53 6 59 62 40 41 42 24 64 24 64 11 6 59 63 64 11 60 59 62 0 40 3 42 11\n",
      "0 1 12 66 103 4 109 6 59 62 7 32 10 7 32 34 44 36 40 3 108 45 94 6 59 62 18 53 6 59 62 40 3 108 24 64 6 59 63 66 100 40 41 42 24 64 6 59 63 8 84 4 110 3 108 24 64 6 59 63 15 4 110 64 103 21\n",
      "0 1 12 66 100 6 59 63 10 7 32 10 7 32 34 44 36 40 41 42 47 56 6 59 62 47 92 18 79 43 36 40 3 108 24 64 47 93 24 64 11 60 59 63 24 64 11 60 59 63 0 45 24 64 11 60 24 64 108 15 99 2 94 92 104 35\n",
      "0 1 12 66 102 6 59 62 7 32 10 7 32 34 44 36 37 97 6 59 62 34 44 36 40 41 42 47 6 59 62 47 6 59 63 36 40 41 42 47 92 18 24 64 6 59 62 39 95 6 59 63 24 64 6 59 62 91 24 64 10600 34 72 35\n",
      "0 1 12 66 102 6 59 62 7 32 10 10 7 32 34 44 36 40 3 108 47 97 39 96 40 3 108 47 86 6 59 63 41 42 24 64 47 92 39 95 6 59 62 38 53 6 59 63 54 24 64 6 59 63 24 64 6 59 63 64 35 91 71 50 47 78\n",
      "0 1 12 66 107 6 59 63 10 7 32 10 7 32 34 44 36 40 3 108 47 94 6 59 63 18 87 6 59 62 40 3 108 24 64 39 95 6 59 62 38 53 6 59 62 54 24 64 11 6 59 62 24 64 64 11 11 60 22 24 64 64 94 2 31 2\n",
      "0 1 12 66 19 6 59 62 10 7 32 7 32 10 7 32 34 44 36 40 3 108 6 59 62 34 44 36 40 3 108 47 45 94 6 59 63 18 79 36 40 3 108 24 64 24 64 11 60 24 64 39 96 6 59 63 24 64 47 93 24 64 80 78 59 62\n",
      "0 1 12 66 107 6 59 62 10 7 33 7 32 7 32 34 44 36 37 97 39 96 40 41 42 6 59 62 38 55 6 59 63 56 6 59 62 57 47 47 93 18 45 94 39 95 40 41 42 24 64 11 24 64 11 60 59 62 0 34 24 64 99 91 25 24\n",
      "0 1 12 66 101 6 5 69 10 7 32 10 7 32 34 44 36 40 3 108 47 93 18 36 40 41 42 24 64 47 108 24 64 47 93 6 59 63 47 92 24 64 20 24 64 11 60 64 11 60 59 62 6 59 63 0 11 61 24 64 11 64 106 0 87 91\n",
      "0 1 12 66 103 6 59 63 10 7 32 7 32 34 44 36 37 97 39 96 40 3 108 47 92 6 59 63 38 53 6 59 62 56 6 59 62 57 47 93 18 79 43 38 53 24 64 24 64 24 64 6 59 62 4 110 3 108 24 64 800 870 90 1\n",
      "0 1 12 66 103 6 59 63 10 7 32 10 7 32 34 43 44 43 38 53 6 59 63 40 41 42 6 91 18 87 66 100 24 64 36 40 66 104 24 64 40 3 108 24 64 64 11 60 6 11 6 59 62 40 41 42 24 64 11 6 59 63 0 65 68 110\n",
      "0 1 12 66 102 6 59 62 10 7 32 10 7 32 34 44 36 37 97 39 96 40 3 108 45 94 39 96 40 41 42 47 87 6 59 63 63 38 55 6 59 62 56 6 59 62 57 24 64 24 64 11 24 64 11 60 47 42 64 11 60 97 47 29 20 14\n",
      "0 1 12 66 104 6 59 63 10 7 32 7 32 34 44 36 37 97 39 96 40 41 42 47 93 18 79 43 38 53 6 59 62 54 24 64 47 92 24 64 6 59 62 40 41 42 24 64 24 64 6 59 62 6 59 62 24 64 6 59 63 101 87 44 24 64\n",
      "0 1 12 66 104 6 59 62 10 7 32 10 7 32 34 44 36 37 98 6 59 62 38 53 40 41 42 47 92 18 94 6 59 62 18 79 43 38 55 24 64 31 24 64 11 60 59 63 24 64 24 64 11 60 24 64 64 11 61 45 94 90 100 2 800\n",
      "0 1 12 66 103 6 59 62 10 7 32 10 7 32 34 44 36 40 3 108 47 6 59 62 18 87 6 59 62 38 53 6 59 63 54 24 64 87 6 59 63 38 51 24 64 11 60 59 62 24 64 11 6 59 63 40 3 108 70 24 64 52 47 48 64 16\n",
      "0 1 12 66 103 4 109 6 59 63 7 33 16 82 6 59 62 35 36 40 3 108 6 59 62 10 7 32 8 84 4 109 3 108 6 59 62 8 85 4 110 66 104 38 55 6 59 62 56 39 96 6 59 63 56 99 2 23 110 3 108 27 54 34 29 5\n",
      "0 1 12 66 101 6 59 63 10 7 32 7 32 34 44 36 40 41 42 47 93 18 79 87 40 3 108 24 64 6 59 63 38 58 6 59 63 54 24 64 6 59 62 38 53 6 59 63 55 6 59 62 96 39 24 64 6 59 62 47 64 95 28 27 20 30\n",
      "0 1 12 66 85 6 59 62 10 7 32 10 7 32 34 44 36 40 41 42 45 94 6 59 62 18 68 36 40 3 108 24 64 47 94 6 59 62 18 79 36 40 3 108 24 64 24 64 11 60 24 64 11 60 6 59 62 45 94 99 77 100 11 22 520\n",
      "0 2 3 108 5 6 5 68 10 10 7 32 7 33 10 7 32 34 44 36 40 41 42 47 56 6 59 63 49 94 6 59 62 35 36 40 3 108 24 64 11 61 4 109 45 94 6 59 63 24 64 11 24 64 11 60 91 24 64 13 105 27 88 80 60 56\n",
      "0 1 12 66 104 6 59 62 10 7 32 7 32 34 44 36 40 3 108 6 59 62 34 44 36 40 41 42 47 6 59 62 47 47 92 18 79 43 38 51 24 64 47 64 6 59 63 6 59 62 24 64 24 64 11 61 0 33 24 64 31 64 53 94 32 64\n",
      "0 1 12 66 107 6 59 62 10 7 32 10 7 32 10 7 32 34 44 36 40 41 42 47 95 6 59 62 38 58 6 59 62 54 45 94 6 59 62 18 79 36 40 3 108 24 64 40 3 108 24 64 24 64 11 61 31 24 64 11 60 86 6 59 62 20\n",
      "0 1 12 66 103 6 59 63 10 7 32 10 7 32 34 44 36 40 3 108 45 94 6 59 63 18 79 36 40 3 108 24 64 47 93 18 36 37 97 39 95 40 3 108 24 64 24 64 11 60 59 62 66 24 64 11 60 24 64 64 58 28 94 21 730\n",
      "0 1 12 66 103 6 59 63 10 7 32 10 7 32 34 44 36 40 41 42 47 89 97 39 96 40 3 108 47 92 18 66 24 64 6 59 62 56 6 59 62 24 64 11 61 24 64 11 61 24 64 11 60 6 59 63 24 64 11 94 94 13 67 86 107 35\n",
      "0 1 12 66 103 6 59 63 10 7 32 10 7 33 34 44 36 40 3 108 47 94 6 59 63 18 79 36 37 97 6 59 62 36 37 97 39 96 40 3 108 24 64 24 64 11 60 59 63 24 64 11 61 24 64 11 60 94 4 110 3 108 24 64 52 21\n",
      "0 1 12 66 107 6 59 62 10 7 32 10 7 32 34 44 36 40 41 42 6 59 62 56 6 59 63 47 45 94 6 59 62 18 87 36 40 41 42 24 64 6 59 62 38 53 6 59 62 24 64 11 6 59 63 24 64 80 64 62 45 64 50 64 25 25\n",
      "0 1 12 66 106 6 59 62 10 7 32 10 7 32 34 44 36 37 97 39 95 40 3 108 47 93 18 47 93 18 79 43 36 40 3 108 24 24 64 11 60 59 63 45 94 24 64 24 64 11 60 24 64 64 11 60 45 94 4 110 64 16 100 310 10\n",
      "0 1 12 66 106 6 59 62 10 7 32 10 7 32 34 44 36 37 36 37 98 6 59 62 38 53 40 41 42 47 6 59 62 47 41 42 24 64 6 59 63 6 59 62 64 11 61 24 64 24 64 11 60 6 59 63 20 39 86 40 3 108 22 101 107 12\n",
      "0 1 12 66 103 6 59 63 103 7 32 7 32 66 107 34 44 36 40 41 42 47 93 44 36 37 97 39 95 40 41 42 47 47 47 93 18 79 24 64 24 64 6 59 62 40 3 108 24 64 6 59 62 6 59 62 6 59 62 49 109 24 64 69 44 17\n",
      "0 1 12 66 104 6 59 63 10 7 32 10 7 32 34 44 36 37 97 39 95 40 3 108 40 3 108 47 93 45 94 6 59 62 18 46 24 64 47 24 64 6 59 62 6 59 62 40 3 108 24 64 11 60 59 62 64 64 11 60 24 64 60 52 2 46\n",
      "0 2 3 108 33 6 5 71 10 7 32 10 7 32 34 44 36 40 41 42 6 59 62 97 39 96 40 41 42 47 93 18 87 43 38 55 6 59 62 56 6 59 63 57 24 64 11 60 59 63 40 3 108 24 64 64 11 24 640 57 66 98 46 98 106\n",
      "0 1 12 66 104 6 59 62 10 7 32 10 7 32 34 44 36 40 3 108 45 94 6 59 62 18 87 6 59 62 38 53 6 59 62 56 6 59 63 57 24 64 11 60 59 63 34 44 36 40 3 108 24 64 11 60 24 64 64 11 24 64 101 107 67 108\n",
      "0 2 3 108 86 6 5 72 10 7 32 10 7 33 16 82 34 43 44 36 40 3 108 47 93 18 79 43 39 96 40 3 108 24 64 35 36 40 3 108 24 64 11 60 59 62 24 64 11 60 24 64 11 60 24 64 11 61 68 92 17 100 108 4700\n",
      "0 1 12 66 103 6 59 63 10 7 32 10 7 32 34 44 36 40 3 96 40 3 108 47 45 94 6 59 63 18 94 6 59 62 36 40 3 108 24 64 24 64 11 60 59 63 24 64 11 60 6 59 63 39 64 11 60 6 59 63 0 24 64 12 16 104\n",
      "0 1 12 66 103 6 59 63 10 7 32 10 7 32 34 44 36 40 3 108 34 44 36 40 41 42 47 47 47 45 47 55 6 11 6 59 62 47 40 41 42 24 64 47 45 94 6 59 62 24 64 24 64 11 6 59 63 24 64 24 64 11 61 79 6 26\n",
      "0 1 12 66 101 6 59 63 10 7 32 10 7 32 34 44 36 37 98 6 59 91 36 37 97 39 96 40 3 108 47 52 45 94 6 59 63 18 79 36 37 98 39 96 40 3 108 24 64 47 64 24 64 11 60 59 62 0 24 64 91 2 110 41 96\n",
      "0 1 12 66 103 6 8 84 10 7 33 16 83 6 59 63 35 36 37 97 39 95 40 41 42 47 93 18 79 36 40 3 108 24 64 20 89 6 59 62 24 64 11 60 59 63 0 24 64 64 6 59 62 109 3 108 24 64 83 84 47 88 25 101 26 87\n",
      "0 1 12 66 100 6 59 63 10 7 32 10 7 32 34 44 36 37 97 39 95 40 3 108 47 93 18 47 94 6 59 62 18 79 36 37 97 39 96 40 41 42 24 64 24 64 24 64 76 24 64 11 61 24 64 11 60 59 63 0 22 45 33 1 21 1\n"
     ]
    }
   ],
   "source": [
    "import matplotlib.pyplot as plt\n",
    "#对score进行排序 画出分布图\n",
    "\n",
    "# text_plot[60*128:60*128+100]\n",
    "for t in text_plot[-100:]:\n",
    "    print(t)"
   ]
  },
  {
   "cell_type": "code",
   "execution_count": 45,
   "metadata": {},
   "outputs": [
    {
     "name": "stdout",
     "output_type": "stream",
     "text": [
      "25600 200\n"
     ]
    },
    {
     "data": {
      "text/plain": [
       "[<matplotlib.lines.Line2D at 0x7fa413891850>]"
      ]
     },
     "execution_count": 45,
     "metadata": {},
     "output_type": "execute_result"
    },
    {
     "data": {
      "image/png": "[encoded data removed]",
      "text/plain": [
       "<Figure size 432x288 with 1 Axes>"
      ]
     },
     "metadata": {
      "needs_background": "light"
     },
     "output_type": "display_data"
    }
   ],
   "source": [
    "print(len(text_plot),len(rewards_plot))\n",
    "a,b=18*128,18*128+1000\n",
    "j=0\n",
    "sum_len=[]\n",
    "lenDist=[]\n",
    "for i, t in enumerate(text_plot) :\n",
    "    values=t.split()\n",
    "#     print(i+1,len(values))\n",
    "    sum_len.append(len(values))\n",
    "    if (i+1)%128==0:\n",
    "        p=sum(sum_len)/len(sum_len)\n",
    "#         print(j,'*'*10,p)\n",
    "        j+=1\n",
    "        sum_len=[]\n",
    "        lenDist.append(p)\n",
    "x=[i for i in range(len(lenDist))]\n",
    "plt.plot(x, lenDist)  "
   ]
  },
  {
   "cell_type": "code",
   "execution_count": 12,
   "metadata": {},
   "outputs": [
    {
     "data": {
      "text/plain": [
       "'0 1 2 30 0 '"
      ]
     },
     "execution_count": 12,
     "metadata": {},
     "output_type": "execute_result"
    }
   ],
   "source": [
    "text='0 1 2 30 0 !'\n",
    "text.split('!')[0]"
   ]
  },
  {
   "cell_type": "code",
   "execution_count": 5,
   "metadata": {
    "scrolled": false
   },
   "outputs": [
    {
     "name": "stderr",
     "output_type": "stream",
     "text": [
      "\r",
      "  0%|          | 0/200 [00:00<?, ?it/s]"
     ]
    },
    {
     "name": "stdout",
     "output_type": "stream",
     "text": [
      "posNum : 14 128\n",
      "largeRotioNeg : 14\n",
      "posIndex : [94, 31, 77, 107, 126, 19, 111, 116, 83, 114, 70, 45, 53, 60, 52, 4, 63, 101, 124, 42, 27, 5, 57, 8, 47, 40, 50, 113, 123]\n",
      "allIndex : [77, 52, 19, 70, 5, 113, 111, 47, 40, 123, 124, 116, 57, 42, 114, 83, 53, 63, 94, 4, 60, 50, 8, 45, 27, 31, 107, 101, 126]\n",
      "torch.Size([29, 1]) torch.Size([29, 65]) torch.Size([29])\n"
     ]
    },
    {
     "name": "stderr",
     "output_type": "stream",
     "text": [
      "Failed to query for notebook name, you can set it manually with the WANDB_NOTEBOOK_NAME environment variable\n",
      "\u001b[34m\u001b[1mwandb\u001b[0m: Wandb version 0.10.17 is available!  To upgrade, please run:\n",
      "\u001b[34m\u001b[1mwandb\u001b[0m:  $ pip install wandb --upgrade\n",
      "  0%|          | 1/200 [00:16<55:43, 16.80s/it]"
     ]
    },
    {
     "name": "stdout",
     "output_type": "stream",
     "text": [
      "posNum : 20 128\n",
      "largeRotioNeg : 20\n",
      "posIndex : [33, 24, 100, 29, 43, 118, 74, 85, 86, 38, 115, 75, 127, 57, 93, 34, 122, 91, 87, 114, 15, 121, 58, 92, 67, 65, 79, 42, 31, 45, 10, 49, 64, 80, 62, 119, 108, 77, 13, 22, 72]\n",
      "allIndex : [62, 10, 115, 64, 57, 72, 85, 122, 100, 22, 86, 80, 127, 75, 79, 15, 31, 92, 49, 108, 121, 91, 77, 118, 87, 38, 43, 65, 33, 114, 119, 67, 74, 58, 93, 45, 24, 42, 34, 13, 29]\n",
      "torch.Size([41, 1]) torch.Size([41, 65]) torch.Size([41])\n"
     ]
    },
    {
     "name": "stderr",
     "output_type": "stream",
     "text": [
      "\r",
      "  1%|          | 2/200 [00:33<55:10, 16.72s/it]"
     ]
    },
    {
     "name": "stdout",
     "output_type": "stream",
     "text": [
      "posNum : 12 128\n",
      "largeRotioNeg : 12\n",
      "posIndex : [120, 117, 126, 115, 10, 109, 92, 43, 121, 15, 111, 107, 112, 86, 95, 60, 99, 18, 19, 45, 106, 3, 90, 122, 7]\n",
      "allIndex : [122, 43, 86, 3, 7, 18, 19, 92, 111, 106, 15, 99, 45, 109, 120, 90, 112, 107, 121, 10, 117, 126, 115, 60, 95]\n",
      "torch.Size([25, 1]) torch.Size([25, 65]) torch.Size([25])\n"
     ]
    },
    {
     "name": "stderr",
     "output_type": "stream",
     "text": [
      "\r",
      "  2%|▏         | 3/200 [00:46<51:26, 15.67s/it]"
     ]
    },
    {
     "name": "stdout",
     "output_type": "stream",
     "text": [
      "posNum : 15 128\n",
      "largeRotioNeg : 15\n",
      "posIndex : [70, 32, 51, 61, 83, 0, 9, 82, 56, 28, 27, 72, 107, 118, 85, 124, 84, 86, 34, 15, 10, 31, 111, 8, 3, 92, 1, 109, 79, 37, 35]\n",
      "allIndex : [92, 84, 10, 56, 28, 85, 109, 15, 83, 72, 9, 1, 86, 37, 82, 51, 111, 107, 61, 32, 79, 118, 27, 8, 0, 34, 70, 35, 124, 31, 3]\n",
      "torch.Size([31, 1]) torch.Size([31, 65]) torch.Size([31])\n"
     ]
    },
    {
     "name": "stderr",
     "output_type": "stream",
     "text": [
      "\r",
      "  2%|▏         | 4/200 [01:00<49:47, 15.24s/it]"
     ]
    },
    {
     "name": "stdout",
     "output_type": "stream",
     "text": [
      "posNum : 5 128\n",
      "largeRotioNeg : 5\n",
      "posIndex : [9, 114, 2, 63, 118, 17, 66, 21, 73, 20, 94]\n",
      "allIndex : [2, 66, 21, 73, 20, 17, 94, 114, 118, 63, 9]\n",
      "torch.Size([11, 1]) torch.Size([11, 65]) torch.Size([11])\n"
     ]
    },
    {
     "name": "stderr",
     "output_type": "stream",
     "text": [
      "\r",
      "  2%|▎         | 5/200 [01:11<44:46, 13.78s/it]"
     ]
    },
    {
     "name": "stdout",
     "output_type": "stream",
     "text": [
      "posNum : 13 128\n",
      "largeRotioNeg : 13\n",
      "posIndex : [43, 92, 16, 84, 76, 111, 110, 42, 73, 85, 66, 41, 93, 17, 60, 108, 58, 104, 88, 122, 1, 48, 102, 99, 24, 51, 89]\n",
      "allIndex : [85, 110, 42, 73, 60, 17, 111, 89, 1, 108, 92, 24, 66, 58, 104, 76, 43, 122, 16, 102, 41, 99, 93, 88, 48, 51, 84]\n",
      "torch.Size([27, 1]) torch.Size([27, 65]) torch.Size([27])\n"
     ]
    },
    {
     "name": "stderr",
     "output_type": "stream",
     "text": [
      "\r",
      "  3%|▎         | 6/200 [01:24<44:10, 13.66s/it]"
     ]
    },
    {
     "name": "stdout",
     "output_type": "stream",
     "text": [
      "posNum : 7 128\n",
      "largeRotioNeg : 7\n",
      "posIndex : [79, 20, 74, 66, 113, 8, 75, 54, 101, 84, 69, 106, 59, 53, 62]\n",
      "allIndex : [79, 101, 54, 69, 75, 59, 66, 53, 8, 84, 106, 113, 74, 62, 20]\n",
      "torch.Size([15, 1]) torch.Size([15, 65]) torch.Size([15])\n"
     ]
    },
    {
     "name": "stderr",
     "output_type": "stream",
     "text": [
      "\r",
      "  4%|▎         | 7/200 [01:35<41:32, 12.92s/it]"
     ]
    },
    {
     "name": "stdout",
     "output_type": "stream",
     "text": [
      "posNum : 3 128\n",
      "largeRotioNeg : 3\n",
      "posIndex : [46, 30, 17, 33, 112, 122, 74]\n",
      "allIndex : [112, 122, 46, 30, 17, 74, 33]\n",
      "torch.Size([7, 1]) torch.Size([7, 65]) torch.Size([7])\n"
     ]
    },
    {
     "name": "stderr",
     "output_type": "stream",
     "text": [
      "\r",
      "  4%|▍         | 8/200 [01:45<38:10, 11.93s/it]"
     ]
    },
    {
     "name": "stdout",
     "output_type": "stream",
     "text": [
      "posNum : 3 128\n",
      "largeRotioNeg : 3\n",
      "posIndex : [99, 94, 54, 41, 98, 25, 90]\n",
      "allIndex : [90, 94, 98, 99, 25, 41, 54]\n",
      "torch.Size([7, 1]) torch.Size([7, 65]) torch.Size([7])\n"
     ]
    },
    {
     "name": "stderr",
     "output_type": "stream",
     "text": [
      "\r",
      "  4%|▍         | 9/200 [01:54<35:47, 11.24s/it]"
     ]
    },
    {
     "name": "stdout",
     "output_type": "stream",
     "text": [
      "posNum : 3 128\n",
      "largeRotioNeg : 3\n",
      "posIndex : [10, 20, 68, 19, 87, 16, 30]\n",
      "allIndex : [10, 68, 19, 87, 20, 30, 16]\n",
      "torch.Size([7, 1]) torch.Size([7, 65]) torch.Size([7])\n"
     ]
    },
    {
     "name": "stderr",
     "output_type": "stream",
     "text": [
      "\r",
      "  5%|▌         | 10/200 [02:04<34:00, 10.74s/it]"
     ]
    },
    {
     "name": "stdout",
     "output_type": "stream",
     "text": [
      "posNum : 2 128\n",
      "largeRotioNeg : 2\n",
      "posIndex : [119, 37, 19, 116, 50]\n",
      "allIndex : [50, 116, 119, 37, 19]\n",
      "torch.Size([5, 1]) torch.Size([5, 65]) torch.Size([5])\n"
     ]
    },
    {
     "name": "stderr",
     "output_type": "stream",
     "text": [
      "\r",
      "  6%|▌         | 11/200 [02:13<32:17, 10.25s/it]"
     ]
    },
    {
     "name": "stdout",
     "output_type": "stream",
     "text": [
      "posNum : 0 128\n",
      "largeRotioNeg : 0\n",
      "posIndex : [7, 84, 37, 19, 93, 12, 79, 11, 51, 58, 69]\n",
      "allIndex : [11, 79, 93, 37, 51, 58, 7, 12, 84, 69, 19]\n",
      "torch.Size([11, 1]) torch.Size([11, 65]) torch.Size([11])\n"
     ]
    },
    {
     "name": "stderr",
     "output_type": "stream",
     "text": [
      "\r",
      "  6%|▌         | 12/200 [02:23<32:11, 10.27s/it]"
     ]
    },
    {
     "name": "stdout",
     "output_type": "stream",
     "text": [
      "posNum : 3 128\n",
      "largeRotioNeg : 3\n",
      "posIndex : [37, 79, 27, 125, 112, 122, 109]\n",
      "allIndex : [125, 37, 79, 109, 112, 122, 27]\n",
      "torch.Size([7, 1]) torch.Size([7, 65]) torch.Size([7])\n"
     ]
    },
    {
     "name": "stderr",
     "output_type": "stream",
     "text": [
      "\r",
      "  6%|▋         | 13/200 [02:33<31:20, 10.06s/it]"
     ]
    },
    {
     "name": "stdout",
     "output_type": "stream",
     "text": [
      "posNum : 4 128\n",
      "largeRotioNeg : 4\n",
      "posIndex : [39, 126, 46, 98, 44, 96, 13, 1, 49]\n",
      "allIndex : [44, 49, 98, 39, 13, 46, 1, 126, 96]\n",
      "torch.Size([9, 1]) torch.Size([9, 65]) torch.Size([9])\n"
     ]
    },
    {
     "name": "stderr",
     "output_type": "stream",
     "text": [
      "\r",
      "  7%|▋         | 14/200 [02:43<31:06, 10.03s/it]"
     ]
    },
    {
     "name": "stdout",
     "output_type": "stream",
     "text": [
      "posNum : 2 128\n",
      "largeRotioNeg : 2\n",
      "posIndex : [39, 44, 119, 75, 93]\n",
      "allIndex : [93, 75, 44, 119, 39]\n",
      "torch.Size([5, 1]) torch.Size([5, 65]) torch.Size([5])\n"
     ]
    },
    {
     "name": "stderr",
     "output_type": "stream",
     "text": [
      "\r",
      "  8%|▊         | 15/200 [02:52<30:11,  9.79s/it]"
     ]
    },
    {
     "name": "stdout",
     "output_type": "stream",
     "text": [
      "posNum : 4 128\n",
      "largeRotioNeg : 4\n",
      "posIndex : [35, 69, 83, 76, 19, 20, 116, 57, 49]\n",
      "allIndex : [19, 57, 116, 83, 76, 69, 49, 35, 20]\n",
      "torch.Size([9, 1]) torch.Size([9, 65]) torch.Size([9])\n"
     ]
    },
    {
     "name": "stderr",
     "output_type": "stream",
     "text": [
      "\r",
      "  8%|▊         | 16/200 [03:02<30:10,  9.84s/it]"
     ]
    },
    {
     "name": "stdout",
     "output_type": "stream",
     "text": [
      "posNum : 2 128\n",
      "largeRotioNeg : 2\n",
      "posIndex : [46, 108, 116, 101, 36]\n",
      "allIndex : [46, 116, 36, 101, 108]\n",
      "torch.Size([5, 1]) torch.Size([5, 65]) torch.Size([5])\n"
     ]
    },
    {
     "name": "stderr",
     "output_type": "stream",
     "text": [
      "\r",
      "  8%|▊         | 17/200 [03:11<29:29,  9.67s/it]"
     ]
    },
    {
     "name": "stdout",
     "output_type": "stream",
     "text": [
      "posNum : 1 128\n",
      "largeRotioNeg : 1\n",
      "posIndex : [93, 113, 71]\n",
      "allIndex : [93, 71, 113]\n",
      "torch.Size([3, 1]) torch.Size([3, 65]) torch.Size([3])\n"
     ]
    },
    {
     "name": "stderr",
     "output_type": "stream",
     "text": [
      "\r",
      "  9%|▉         | 18/200 [03:20<28:37,  9.44s/it]"
     ]
    },
    {
     "name": "stdout",
     "output_type": "stream",
     "text": [
      "posNum : 4 128\n",
      "largeRotioNeg : 4\n",
      "posIndex : [115, 54, 118, 83, 97, 55, 31, 87, 73]\n",
      "allIndex : [118, 54, 73, 87, 31, 55, 115, 97, 83]\n",
      "torch.Size([9, 1]) torch.Size([9, 65]) torch.Size([9])\n"
     ]
    },
    {
     "name": "stderr",
     "output_type": "stream",
     "text": [
      "\r",
      " 10%|▉         | 19/200 [03:30<29:02,  9.63s/it]"
     ]
    },
    {
     "name": "stdout",
     "output_type": "stream",
     "text": [
      "posNum : 3 128\n",
      "largeRotioNeg : 3\n",
      "posIndex : [105, 97, 51, 54, 120, 124, 106]\n",
      "allIndex : [97, 54, 120, 124, 106, 105, 51]\n",
      "torch.Size([7, 1]) torch.Size([7, 65]) torch.Size([7])\n"
     ]
    },
    {
     "name": "stderr",
     "output_type": "stream",
     "text": [
      "\r",
      " 10%|█         | 20/200 [03:40<28:48,  9.60s/it]"
     ]
    },
    {
     "name": "stdout",
     "output_type": "stream",
     "text": [
      "posNum : 0 128\n",
      "largeRotioNeg : 0\n",
      "posIndex : [120, 81, 18, 63, 49, 109, 82, 10, 56, 16, 22]\n",
      "allIndex : [49, 56, 63, 16, 81, 22, 18, 109, 10, 120, 82]\n",
      "torch.Size([11, 1]) torch.Size([11, 65]) torch.Size([11])\n"
     ]
    },
    {
     "name": "stderr",
     "output_type": "stream",
     "text": [
      "\r",
      " 10%|█         | 21/200 [03:50<29:18,  9.82s/it]"
     ]
    },
    {
     "name": "stdout",
     "output_type": "stream",
     "text": [
      "posNum : 0 128\n",
      "largeRotioNeg : 0\n",
      "posIndex : [86, 93, 11, 39, 101, 33, 15, 0, 59, 25, 113]\n",
      "allIndex : [101, 59, 86, 113, 39, 15, 25, 33, 0, 11, 93]\n",
      "torch.Size([11, 1]) torch.Size([11, 65]) torch.Size([11])\n"
     ]
    },
    {
     "name": "stderr",
     "output_type": "stream",
     "text": [
      "\r",
      " 11%|█         | 22/200 [04:01<29:36,  9.98s/it]"
     ]
    },
    {
     "name": "stdout",
     "output_type": "stream",
     "text": [
      "posNum : 4 128\n",
      "largeRotioNeg : 4\n",
      "posIndex : [60, 57, 17, 123, 102, 31, 67, 79, 68]\n",
      "allIndex : [102, 57, 60, 123, 17, 79, 67, 68, 31]\n",
      "torch.Size([9, 1]) torch.Size([9, 65]) torch.Size([9])\n"
     ]
    },
    {
     "name": "stderr",
     "output_type": "stream",
     "text": [
      "\r",
      " 12%|█▏        | 23/200 [04:11<29:25,  9.98s/it]"
     ]
    },
    {
     "name": "stdout",
     "output_type": "stream",
     "text": [
      "posNum : 8 128\n",
      "largeRotioNeg : 8\n",
      "posIndex : [35, 19, 109, 23, 119, 111, 29, 98, 28, 100, 37, 88, 63, 49, 44, 13, 64]\n",
      "allIndex : [100, 64, 109, 29, 37, 49, 23, 44, 13, 98, 35, 19, 119, 63, 28, 111, 88]\n",
      "torch.Size([17, 1]) torch.Size([17, 65]) torch.Size([17])\n"
     ]
    },
    {
     "name": "stderr",
     "output_type": "stream",
     "text": [
      "\r",
      " 12%|█▏        | 24/200 [04:22<30:38, 10.44s/it]"
     ]
    },
    {
     "name": "stdout",
     "output_type": "stream",
     "text": [
      "posNum : 2 128\n",
      "largeRotioNeg : 2\n",
      "posIndex : [50, 103, 33, 77, 44]\n",
      "allIndex : [77, 33, 44, 50, 103]\n",
      "torch.Size([5, 1]) torch.Size([5, 65]) torch.Size([5])\n"
     ]
    },
    {
     "name": "stderr",
     "output_type": "stream",
     "text": [
      "\r",
      " 12%|█▎        | 25/200 [04:31<29:23, 10.08s/it]"
     ]
    },
    {
     "name": "stdout",
     "output_type": "stream",
     "text": [
      "posNum : 1 128\n",
      "largeRotioNeg : 1\n",
      "posIndex : [32, 44, 63]\n",
      "allIndex : [32, 63, 44]\n",
      "torch.Size([3, 1]) torch.Size([3, 65]) torch.Size([3])\n"
     ]
    },
    {
     "name": "stderr",
     "output_type": "stream",
     "text": [
      "\r",
      " 13%|█▎        | 26/200 [04:40<28:08,  9.70s/it]"
     ]
    },
    {
     "name": "stdout",
     "output_type": "stream",
     "text": [
      "posNum : 1 128\n",
      "largeRotioNeg : 1\n",
      "posIndex : [63, 112, 30]\n",
      "allIndex : [112, 30, 63]\n",
      "torch.Size([3, 1]) torch.Size([3, 65]) torch.Size([3])\n"
     ]
    },
    {
     "name": "stderr",
     "output_type": "stream",
     "text": [
      "\r",
      " 14%|█▎        | 27/200 [04:49<27:11,  9.43s/it]"
     ]
    },
    {
     "name": "stdout",
     "output_type": "stream",
     "text": [
      "posNum : 1 128\n",
      "largeRotioNeg : 1\n",
      "posIndex : [97, 3, 54]\n",
      "allIndex : [54, 97, 3]\n",
      "torch.Size([3, 1]) torch.Size([3, 65]) torch.Size([3])\n"
     ]
    },
    {
     "name": "stderr",
     "output_type": "stream",
     "text": [
      "\r",
      " 14%|█▍        | 28/200 [04:58<26:34,  9.27s/it]"
     ]
    },
    {
     "name": "stdout",
     "output_type": "stream",
     "text": [
      "posNum : 1 128\n",
      "largeRotioNeg : 1\n",
      "posIndex : [12, 121, 62]\n",
      "allIndex : [121, 62, 12]\n",
      "torch.Size([3, 1]) torch.Size([3, 65]) torch.Size([3])\n"
     ]
    },
    {
     "name": "stderr",
     "output_type": "stream",
     "text": [
      "\r",
      " 14%|█▍        | 29/200 [05:07<26:02,  9.14s/it]"
     ]
    },
    {
     "name": "stdout",
     "output_type": "stream",
     "text": [
      "posNum : 1 128\n",
      "largeRotioNeg : 1\n",
      "posIndex : [97, 126, 23]\n",
      "allIndex : [97, 126, 23]\n",
      "torch.Size([3, 1]) torch.Size([3, 65]) torch.Size([3])\n"
     ]
    },
    {
     "name": "stderr",
     "output_type": "stream",
     "text": [
      "\r",
      " 15%|█▌        | 30/200 [05:16<25:42,  9.08s/it]"
     ]
    },
    {
     "name": "stdout",
     "output_type": "stream",
     "text": [
      "posNum : 1 128\n",
      "largeRotioNeg : 1\n",
      "posIndex : [121, 110, 41]\n",
      "allIndex : [41, 110, 121]\n",
      "torch.Size([3, 1]) torch.Size([3, 65]) torch.Size([3])\n"
     ]
    },
    {
     "name": "stderr",
     "output_type": "stream",
     "text": [
      "\r",
      " 16%|█▌        | 31/200 [05:25<25:23,  9.02s/it]"
     ]
    },
    {
     "name": "stdout",
     "output_type": "stream",
     "text": [
      "posNum : 6 128\n",
      "largeRotioNeg : 6\n",
      "posIndex : [3, 12, 104, 71, 107, 100, 120, 118, 47, 37, 126, 90, 70]\n",
      "allIndex : [126, 118, 100, 104, 90, 70, 12, 107, 120, 3, 71, 37, 47]\n",
      "torch.Size([13, 1]) torch.Size([13, 65]) torch.Size([13])\n"
     ]
    },
    {
     "name": "stderr",
     "output_type": "stream",
     "text": [
      "\r",
      " 16%|█▌        | 32/200 [05:35<26:49,  9.58s/it]"
     ]
    },
    {
     "name": "stdout",
     "output_type": "stream",
     "text": [
      "posNum : 1 128\n",
      "largeRotioNeg : 1\n",
      "posIndex : [74, 45, 3]\n",
      "allIndex : [45, 74, 3]\n",
      "torch.Size([3, 1]) torch.Size([3, 65]) torch.Size([3])\n"
     ]
    },
    {
     "name": "stderr",
     "output_type": "stream",
     "text": [
      "\r",
      " 16%|█▋        | 33/200 [05:44<26:04,  9.37s/it]"
     ]
    },
    {
     "name": "stdout",
     "output_type": "stream",
     "text": [
      "posNum : 4 128\n",
      "largeRotioNeg : 4\n",
      "posIndex : [127, 19, 6, 12, 65, 57, 55, 25, 47]\n",
      "allIndex : [12, 6, 65, 25, 55, 19, 47, 127, 57]\n",
      "torch.Size([9, 1]) torch.Size([9, 65]) torch.Size([9])\n"
     ]
    },
    {
     "name": "stderr",
     "output_type": "stream",
     "text": [
      "\r",
      " 17%|█▋        | 34/200 [05:54<26:21,  9.53s/it]"
     ]
    },
    {
     "name": "stdout",
     "output_type": "stream",
     "text": [
      "posNum : 3 128\n",
      "largeRotioNeg : 3\n",
      "posIndex : [98, 17, 79, 66, 40, 45, 126]\n",
      "allIndex : [40, 98, 79, 66, 126, 45, 17]\n",
      "torch.Size([7, 1]) torch.Size([7, 65]) torch.Size([7])\n"
     ]
    },
    {
     "name": "stderr",
     "output_type": "stream",
     "text": [
      "\r",
      " 18%|█▊        | 35/200 [06:04<26:13,  9.54s/it]"
     ]
    },
    {
     "name": "stdout",
     "output_type": "stream",
     "text": [
      "posNum : 4 128\n",
      "largeRotioNeg : 4\n",
      "posIndex : [90, 44, 65, 99, 1, 52, 29, 37, 3]\n",
      "allIndex : [99, 52, 37, 3, 44, 90, 65, 29, 1]\n",
      "torch.Size([9, 1]) torch.Size([9, 65]) torch.Size([9])\n"
     ]
    },
    {
     "name": "stderr",
     "output_type": "stream",
     "text": [
      "\r",
      " 18%|█▊        | 36/200 [06:14<26:24,  9.66s/it]"
     ]
    },
    {
     "name": "stdout",
     "output_type": "stream",
     "text": [
      "posNum : 1 128\n",
      "largeRotioNeg : 1\n",
      "posIndex : [108, 36, 50]\n",
      "allIndex : [36, 50, 108]\n",
      "torch.Size([3, 1]) torch.Size([3, 65]) torch.Size([3])\n"
     ]
    },
    {
     "name": "stderr",
     "output_type": "stream",
     "text": [
      "\r",
      " 18%|█▊        | 37/200 [06:23<25:39,  9.45s/it]"
     ]
    },
    {
     "name": "stdout",
     "output_type": "stream",
     "text": [
      "posNum : 3 128\n",
      "largeRotioNeg : 3\n",
      "posIndex : [63, 121, 5, 111, 8, 103, 7]\n",
      "allIndex : [7, 103, 121, 5, 63, 8, 111]\n",
      "torch.Size([7, 1]) torch.Size([7, 65]) torch.Size([7])\n"
     ]
    },
    {
     "name": "stderr",
     "output_type": "stream",
     "text": [
      "\r",
      " 19%|█▉        | 38/200 [06:32<25:39,  9.50s/it]"
     ]
    },
    {
     "name": "stdout",
     "output_type": "stream",
     "text": [
      "posNum : 1 128\n",
      "largeRotioNeg : 1\n",
      "posIndex : [12, 110, 117]\n",
      "allIndex : [12, 110, 117]\n",
      "torch.Size([3, 1]) torch.Size([3, 65]) torch.Size([3])\n"
     ]
    },
    {
     "name": "stderr",
     "output_type": "stream",
     "text": [
      "\r",
      " 20%|█▉        | 39/200 [06:41<25:00,  9.32s/it]"
     ]
    },
    {
     "name": "stdout",
     "output_type": "stream",
     "text": [
      "posNum : 1 128\n",
      "largeRotioNeg : 1\n",
      "posIndex : [109, 89, 2]\n",
      "allIndex : [2, 109, 89]\n",
      "torch.Size([3, 1]) torch.Size([3, 65]) torch.Size([3])\n"
     ]
    },
    {
     "name": "stderr",
     "output_type": "stream",
     "text": [
      "\r",
      " 20%|██        | 40/200 [06:50<24:30,  9.19s/it]"
     ]
    },
    {
     "name": "stdout",
     "output_type": "stream",
     "text": [
      "posNum : 1 128\n",
      "largeRotioNeg : 1\n",
      "posIndex : [70, 4, 13]\n",
      "allIndex : [13, 4, 70]\n",
      "torch.Size([3, 1]) torch.Size([3, 65]) torch.Size([3])\n"
     ]
    },
    {
     "name": "stderr",
     "output_type": "stream",
     "text": [
      "\r",
      " 20%|██        | 41/200 [06:59<24:09,  9.11s/it]"
     ]
    },
    {
     "name": "stdout",
     "output_type": "stream",
     "text": [
      "posNum : 2 128\n",
      "largeRotioNeg : 2\n",
      "posIndex : [53, 36, 24, 110, 59]\n",
      "allIndex : [110, 59, 36, 24, 53]\n",
      "torch.Size([5, 1]) torch.Size([5, 65]) torch.Size([5])\n"
     ]
    },
    {
     "name": "stderr",
     "output_type": "stream",
     "text": [
      "\r",
      " 21%|██        | 42/200 [07:08<24:07,  9.16s/it]"
     ]
    },
    {
     "name": "stdout",
     "output_type": "stream",
     "text": [
      "posNum : 1 128\n",
      "largeRotioNeg : 1\n",
      "posIndex : [94, 109, 107]\n",
      "allIndex : [109, 107, 94]\n",
      "torch.Size([3, 1]) torch.Size([3, 65]) torch.Size([3])\n"
     ]
    },
    {
     "name": "stderr",
     "output_type": "stream",
     "text": [
      "\r",
      " 22%|██▏       | 43/200 [07:17<23:45,  9.08s/it]"
     ]
    },
    {
     "name": "stdout",
     "output_type": "stream",
     "text": [
      "posNum : 2 128\n",
      "largeRotioNeg : 2\n",
      "posIndex : [124, 119, 100, 97, 24]\n",
      "allIndex : [124, 100, 24, 119, 97]\n",
      "torch.Size([5, 1]) torch.Size([5, 65]) torch.Size([5])\n"
     ]
    },
    {
     "name": "stderr",
     "output_type": "stream",
     "text": [
      "\r",
      " 22%|██▏       | 44/200 [07:26<23:44,  9.13s/it]"
     ]
    },
    {
     "name": "stdout",
     "output_type": "stream",
     "text": [
      "posNum : 3 128\n",
      "largeRotioNeg : 3\n",
      "posIndex : [19, 35, 81, 48, 78, 85, 117]\n",
      "allIndex : [19, 35, 48, 81, 117, 85, 78]\n",
      "torch.Size([7, 1]) torch.Size([7, 65]) torch.Size([7])\n"
     ]
    },
    {
     "name": "stderr",
     "output_type": "stream",
     "text": [
      "\r",
      " 22%|██▎       | 45/200 [07:36<23:59,  9.28s/it]"
     ]
    },
    {
     "name": "stdout",
     "output_type": "stream",
     "text": [
      "posNum : 1 128\n",
      "largeRotioNeg : 1\n",
      "posIndex : [12, 95, 101]\n",
      "allIndex : [12, 95, 101]\n",
      "torch.Size([3, 1]) torch.Size([3, 65]) torch.Size([3])\n"
     ]
    },
    {
     "name": "stderr",
     "output_type": "stream",
     "text": [
      "\r",
      " 23%|██▎       | 46/200 [07:45<23:31,  9.16s/it]"
     ]
    },
    {
     "name": "stdout",
     "output_type": "stream",
     "text": [
      "posNum : 3 128\n",
      "largeRotioNeg : 3\n",
      "posIndex : [25, 79, 93, 78, 114, 8, 95]\n",
      "allIndex : [78, 114, 95, 8, 79, 93, 25]\n",
      "torch.Size([7, 1]) torch.Size([7, 65]) torch.Size([7])\n"
     ]
    },
    {
     "name": "stderr",
     "output_type": "stream",
     "text": [
      "\r",
      " 24%|██▎       | 47/200 [07:55<23:44,  9.31s/it]"
     ]
    },
    {
     "name": "stdout",
     "output_type": "stream",
     "text": [
      "posNum : 1 128\n",
      "largeRotioNeg : 1\n",
      "posIndex : [50, 76, 49]\n",
      "allIndex : [49, 76, 50]\n",
      "torch.Size([3, 1]) torch.Size([3, 65]) torch.Size([3])\n"
     ]
    },
    {
     "name": "stderr",
     "output_type": "stream",
     "text": [
      "\r",
      " 24%|██▍       | 48/200 [08:04<23:19,  9.21s/it]"
     ]
    },
    {
     "name": "stdout",
     "output_type": "stream",
     "text": [
      "posNum : 2 128\n",
      "largeRotioNeg : 2\n",
      "posIndex : [85, 95, 115, 68, 92]\n",
      "allIndex : [68, 95, 92, 115, 85]\n",
      "torch.Size([5, 1]) torch.Size([5, 65]) torch.Size([5])\n"
     ]
    },
    {
     "name": "stderr",
     "output_type": "stream",
     "text": [
      "\r",
      " 24%|██▍       | 49/200 [08:13<23:14,  9.24s/it]"
     ]
    },
    {
     "name": "stdout",
     "output_type": "stream",
     "text": [
      "posNum : 0 128\n",
      "largeRotioNeg : 0\n",
      "posIndex : [47, 21, 98, 33, 113, 73, 91, 57, 31, 58, 53]\n",
      "allIndex : [113, 58, 73, 57, 33, 31, 47, 21, 98, 53, 91]\n",
      "torch.Size([11, 1]) torch.Size([11, 65]) torch.Size([11])\n"
     ]
    },
    {
     "name": "stderr",
     "output_type": "stream",
     "text": [
      "\r",
      " 25%|██▌       | 50/200 [08:23<23:58,  9.59s/it]"
     ]
    },
    {
     "name": "stdout",
     "output_type": "stream",
     "text": [
      "posNum : 1 128\n",
      "largeRotioNeg : 1\n",
      "posIndex : [8, 34, 124]\n",
      "allIndex : [124, 34, 8]\n",
      "torch.Size([3, 1]) torch.Size([3, 65]) torch.Size([3])\n"
     ]
    },
    {
     "name": "stderr",
     "output_type": "stream",
     "text": [
      "\r",
      " 26%|██▌       | 51/200 [08:32<23:21,  9.41s/it]"
     ]
    },
    {
     "name": "stdout",
     "output_type": "stream",
     "text": [
      "posNum : 1 128\n",
      "largeRotioNeg : 1\n",
      "posIndex : [101, 126, 55]\n",
      "allIndex : [55, 126, 101]\n",
      "torch.Size([3, 1]) torch.Size([3, 65]) torch.Size([3])\n"
     ]
    },
    {
     "name": "stderr",
     "output_type": "stream",
     "text": [
      "\r",
      " 26%|██▌       | 52/200 [08:41<22:54,  9.28s/it]"
     ]
    },
    {
     "name": "stdout",
     "output_type": "stream",
     "text": [
      "posNum : 0 128\n",
      "largeRotioNeg : 0\n",
      "posIndex : [105, 70, 124, 41, 82, 99, 30, 60, 0, 16, 109]\n",
      "allIndex : [60, 30, 99, 41, 109, 16, 124, 82, 105, 0, 70]\n",
      "torch.Size([11, 1]) torch.Size([11, 65]) torch.Size([11])\n"
     ]
    },
    {
     "name": "stderr",
     "output_type": "stream",
     "text": [
      "\r",
      " 26%|██▋       | 53/200 [08:52<23:45,  9.70s/it]"
     ]
    },
    {
     "name": "stdout",
     "output_type": "stream",
     "text": [
      "posNum : 1 128\n",
      "largeRotioNeg : 1\n",
      "posIndex : [88, 35, 19]\n",
      "allIndex : [35, 88, 19]\n",
      "torch.Size([3, 1]) torch.Size([3, 65]) torch.Size([3])\n"
     ]
    },
    {
     "name": "stderr",
     "output_type": "stream",
     "text": [
      "\r",
      " 27%|██▋       | 54/200 [09:01<23:04,  9.48s/it]"
     ]
    },
    {
     "name": "stdout",
     "output_type": "stream",
     "text": [
      "posNum : 2 128\n",
      "largeRotioNeg : 2\n",
      "posIndex : [97, 33, 51, 92, 119]\n",
      "allIndex : [33, 119, 97, 92, 51]\n",
      "torch.Size([5, 1]) torch.Size([5, 65]) torch.Size([5])\n"
     ]
    },
    {
     "name": "stderr",
     "output_type": "stream",
     "text": [
      "\r",
      " 28%|██▊       | 55/200 [09:10<22:46,  9.42s/it]"
     ]
    },
    {
     "name": "stdout",
     "output_type": "stream",
     "text": [
      "posNum : 1 128\n",
      "largeRotioNeg : 1\n",
      "posIndex : [16, 28, 119]\n",
      "allIndex : [16, 28, 119]\n",
      "torch.Size([3, 1]) torch.Size([3, 65]) torch.Size([3])\n"
     ]
    },
    {
     "name": "stderr",
     "output_type": "stream",
     "text": [
      "\r",
      " 28%|██▊       | 56/200 [09:19<22:16,  9.28s/it]"
     ]
    },
    {
     "name": "stdout",
     "output_type": "stream",
     "text": [
      "posNum : 1 128\n",
      "largeRotioNeg : 1\n",
      "posIndex : [118, 98, 6]\n",
      "allIndex : [118, 6, 98]\n",
      "torch.Size([3, 1]) torch.Size([3, 65]) torch.Size([3])\n"
     ]
    },
    {
     "name": "stderr",
     "output_type": "stream",
     "text": [
      "\r",
      " 28%|██▊       | 57/200 [09:28<21:50,  9.17s/it]"
     ]
    },
    {
     "name": "stdout",
     "output_type": "stream",
     "text": [
      "posNum : 0 128\n",
      "largeRotioNeg : 0\n",
      "posIndex : [56, 46, 39, 64, 79, 89, 92, 94, 45, 127, 82]\n",
      "allIndex : [39, 56, 46, 89, 79, 64, 45, 82, 94, 92, 127]\n",
      "torch.Size([11, 1]) torch.Size([11, 65]) torch.Size([11])\n"
     ]
    },
    {
     "name": "stderr",
     "output_type": "stream",
     "text": [
      "\r",
      " 29%|██▉       | 58/200 [09:38<22:34,  9.54s/it]"
     ]
    },
    {
     "name": "stdout",
     "output_type": "stream",
     "text": [
      "posNum : 2 128\n",
      "largeRotioNeg : 2\n",
      "posIndex : [114, 47, 32, 90, 55]\n",
      "allIndex : [114, 90, 32, 47, 55]\n",
      "torch.Size([5, 1]) torch.Size([5, 65]) torch.Size([5])\n"
     ]
    },
    {
     "name": "stderr",
     "output_type": "stream",
     "text": [
      "\r",
      " 30%|██▉       | 59/200 [09:48<22:10,  9.44s/it]"
     ]
    },
    {
     "name": "stdout",
     "output_type": "stream",
     "text": [
      "posNum : 0 128\n",
      "largeRotioNeg : 0\n",
      "posIndex : [89, 0, 114, 41, 70, 126, 36, 79, 86, 26, 98]\n",
      "allIndex : [36, 86, 0, 79, 98, 26, 114, 126, 41, 89, 70]\n",
      "torch.Size([11, 1]) torch.Size([11, 65]) torch.Size([11])\n"
     ]
    },
    {
     "name": "stderr",
     "output_type": "stream",
     "text": [
      "\r",
      " 30%|███       | 60/200 [09:58<22:45,  9.76s/it]"
     ]
    },
    {
     "name": "stdout",
     "output_type": "stream",
     "text": [
      "posNum : 2 128\n",
      "largeRotioNeg : 2\n",
      "posIndex : [79, 56, 75, 115, 105]\n",
      "allIndex : [79, 105, 56, 75, 115]\n",
      "torch.Size([5, 1]) torch.Size([5, 65]) torch.Size([5])\n"
     ]
    },
    {
     "name": "stderr",
     "output_type": "stream",
     "text": [
      "\r",
      " 30%|███       | 61/200 [10:07<22:15,  9.61s/it]"
     ]
    },
    {
     "name": "stdout",
     "output_type": "stream",
     "text": [
      "posNum : 0 128\n",
      "largeRotioNeg : 0\n",
      "posIndex : [92, 47, 69, 41, 93, 38, 54, 1, 8, 10, 50]\n",
      "allIndex : [69, 8, 10, 93, 47, 1, 38, 50, 41, 92, 54]\n",
      "torch.Size([11, 1]) torch.Size([11, 65]) torch.Size([11])\n"
     ]
    },
    {
     "name": "stderr",
     "output_type": "stream",
     "text": [
      "\r",
      " 31%|███       | 62/200 [10:18<22:41,  9.87s/it]"
     ]
    },
    {
     "name": "stdout",
     "output_type": "stream",
     "text": [
      "posNum : 1 128\n",
      "largeRotioNeg : 1\n",
      "posIndex : [41, 25, 26]\n",
      "allIndex : [26, 25, 41]\n",
      "torch.Size([3, 1]) torch.Size([3, 65]) torch.Size([3])\n"
     ]
    },
    {
     "name": "stderr",
     "output_type": "stream",
     "text": [
      "\r",
      " 32%|███▏      | 63/200 [10:27<21:48,  9.55s/it]"
     ]
    },
    {
     "name": "stdout",
     "output_type": "stream",
     "text": [
      "posNum : 1 128\n",
      "largeRotioNeg : 1\n",
      "posIndex : [125, 40, 27]\n",
      "allIndex : [40, 125, 27]\n",
      "torch.Size([3, 1]) torch.Size([3, 65]) torch.Size([3])\n"
     ]
    },
    {
     "name": "stderr",
     "output_type": "stream",
     "text": [
      "\r",
      " 32%|███▏      | 64/200 [10:36<21:08,  9.33s/it]"
     ]
    },
    {
     "name": "stdout",
     "output_type": "stream",
     "text": [
      "posNum : 2 128\n",
      "largeRotioNeg : 2\n",
      "posIndex : [102, 24, 111, 27, 91]\n",
      "allIndex : [111, 24, 102, 91, 27]\n",
      "torch.Size([5, 1]) torch.Size([5, 65]) torch.Size([5])\n"
     ]
    },
    {
     "name": "stderr",
     "output_type": "stream",
     "text": [
      "\r",
      " 32%|███▎      | 65/200 [10:45<20:57,  9.31s/it]"
     ]
    },
    {
     "name": "stdout",
     "output_type": "stream",
     "text": [
      "posNum : 1 128\n",
      "largeRotioNeg : 1\n",
      "posIndex : [102, 115, 16]\n",
      "allIndex : [16, 102, 115]\n",
      "torch.Size([3, 1]) torch.Size([3, 65]) torch.Size([3])\n"
     ]
    },
    {
     "name": "stderr",
     "output_type": "stream",
     "text": [
      "\r",
      " 33%|███▎      | 66/200 [10:54<20:29,  9.18s/it]"
     ]
    },
    {
     "name": "stdout",
     "output_type": "stream",
     "text": [
      "posNum : 1 128\n",
      "largeRotioNeg : 1\n",
      "posIndex : [6, 12, 69]\n",
      "allIndex : [6, 69, 12]\n",
      "torch.Size([3, 1]) torch.Size([3, 65]) torch.Size([3])\n"
     ]
    },
    {
     "name": "stderr",
     "output_type": "stream",
     "text": [
      "\r",
      " 34%|███▎      | 67/200 [11:03<20:09,  9.09s/it]"
     ]
    },
    {
     "name": "stdout",
     "output_type": "stream",
     "text": [
      "posNum : 0 128\n",
      "largeRotioNeg : 0\n",
      "posIndex : [43, 86, 123, 111, 103, 30, 91, 125, 89, 76, 9]\n",
      "allIndex : [111, 103, 123, 91, 43, 9, 30, 89, 86, 76, 125]\n",
      "torch.Size([11, 1]) torch.Size([11, 65]) torch.Size([11])\n"
     ]
    },
    {
     "name": "stderr",
     "output_type": "stream",
     "text": [
      "\r",
      " 34%|███▍      | 68/200 [11:13<20:53,  9.50s/it]"
     ]
    },
    {
     "name": "stdout",
     "output_type": "stream",
     "text": [
      "posNum : 0 128\n",
      "largeRotioNeg : 0\n",
      "posIndex : [42, 98, 109, 58, 7, 85, 96, 123, 14, 104, 107]\n",
      "allIndex : [7, 14, 42, 107, 109, 96, 85, 104, 123, 58, 98]\n",
      "torch.Size([11, 1]) torch.Size([11, 65]) torch.Size([11])\n"
     ]
    },
    {
     "name": "stderr",
     "output_type": "stream",
     "text": [
      "\r",
      " 34%|███▍      | 69/200 [11:23<21:20,  9.78s/it]"
     ]
    },
    {
     "name": "stdout",
     "output_type": "stream",
     "text": [
      "posNum : 1 128\n",
      "largeRotioNeg : 1\n",
      "posIndex : [69, 19, 83]\n",
      "allIndex : [69, 83, 19]\n",
      "torch.Size([3, 1]) torch.Size([3, 65]) torch.Size([3])\n"
     ]
    },
    {
     "name": "stderr",
     "output_type": "stream",
     "text": [
      "\r",
      " 35%|███▌      | 70/200 [11:32<20:36,  9.51s/it]"
     ]
    },
    {
     "name": "stdout",
     "output_type": "stream",
     "text": [
      "posNum : 1 128\n",
      "largeRotioNeg : 1\n",
      "posIndex : [15, 29, 54]\n",
      "allIndex : [54, 15, 29]\n",
      "torch.Size([3, 1]) torch.Size([3, 65]) torch.Size([3])\n"
     ]
    },
    {
     "name": "stderr",
     "output_type": "stream",
     "text": [
      "\r",
      " 36%|███▌      | 71/200 [11:41<19:56,  9.27s/it]"
     ]
    },
    {
     "name": "stdout",
     "output_type": "stream",
     "text": [
      "posNum : 1 128\n",
      "largeRotioNeg : 1\n",
      "posIndex : [72, 24, 127]\n",
      "allIndex : [72, 24, 127]\n",
      "torch.Size([3, 1]) torch.Size([3, 65]) torch.Size([3])\n"
     ]
    },
    {
     "name": "stderr",
     "output_type": "stream",
     "text": [
      "\r",
      " 36%|███▌      | 72/200 [11:50<19:29,  9.13s/it]"
     ]
    },
    {
     "name": "stdout",
     "output_type": "stream",
     "text": [
      "posNum : 1 128\n",
      "largeRotioNeg : 1\n",
      "posIndex : [85, 29, 67]\n",
      "allIndex : [85, 29, 67]\n",
      "torch.Size([3, 1]) torch.Size([3, 65]) torch.Size([3])\n"
     ]
    },
    {
     "name": "stderr",
     "output_type": "stream",
     "text": [
      "\r",
      " 36%|███▋      | 73/200 [11:59<19:09,  9.05s/it]"
     ]
    },
    {
     "name": "stdout",
     "output_type": "stream",
     "text": [
      "posNum : 1 128\n",
      "largeRotioNeg : 1\n",
      "posIndex : [55, 5, 39]\n",
      "allIndex : [55, 39, 5]\n",
      "torch.Size([3, 1]) torch.Size([3, 65]) torch.Size([3])\n"
     ]
    },
    {
     "name": "stderr",
     "output_type": "stream",
     "text": [
      "\r",
      " 37%|███▋      | 74/200 [12:08<18:56,  9.02s/it]"
     ]
    },
    {
     "name": "stdout",
     "output_type": "stream",
     "text": [
      "posNum : 1 128\n",
      "largeRotioNeg : 1\n",
      "posIndex : [60, 71, 57]\n",
      "allIndex : [60, 57, 71]\n",
      "torch.Size([3, 1]) torch.Size([3, 65]) torch.Size([3])\n"
     ]
    },
    {
     "name": "stderr",
     "output_type": "stream",
     "text": [
      "\r",
      " 38%|███▊      | 75/200 [12:16<18:39,  8.95s/it]"
     ]
    },
    {
     "name": "stdout",
     "output_type": "stream",
     "text": [
      "posNum : 0 128\n",
      "largeRotioNeg : 0\n",
      "posIndex : [1, 62, 71, 52, 97, 34, 107, 90, 6, 101, 21]\n",
      "allIndex : [107, 6, 21, 71, 90, 52, 34, 97, 1, 62, 101]\n",
      "torch.Size([11, 1]) torch.Size([11, 65]) torch.Size([11])\n"
     ]
    },
    {
     "name": "stderr",
     "output_type": "stream",
     "text": [
      "\r",
      " 38%|███▊      | 76/200 [12:27<19:25,  9.40s/it]"
     ]
    },
    {
     "name": "stdout",
     "output_type": "stream",
     "text": [
      "posNum : 2 128\n",
      "largeRotioNeg : 2\n",
      "posIndex : [15, 2, 33, 4, 23]\n",
      "allIndex : [23, 15, 33, 2, 4]\n",
      "torch.Size([5, 1]) torch.Size([5, 65]) torch.Size([5])\n"
     ]
    },
    {
     "name": "stderr",
     "output_type": "stream",
     "text": [
      "\r",
      " 38%|███▊      | 77/200 [12:36<19:07,  9.33s/it]"
     ]
    },
    {
     "name": "stdout",
     "output_type": "stream",
     "text": [
      "posNum : 0 128\n",
      "largeRotioNeg : 0\n",
      "posIndex : [108, 107, 118, 17, 64, 27, 103, 13, 44, 53, 14]\n",
      "allIndex : [107, 17, 64, 108, 14, 13, 44, 103, 27, 53, 118]\n",
      "torch.Size([11, 1]) torch.Size([11, 65]) torch.Size([11])\n"
     ]
    },
    {
     "name": "stderr",
     "output_type": "stream",
     "text": [
      "\r",
      " 39%|███▉      | 78/200 [12:46<19:38,  9.66s/it]"
     ]
    },
    {
     "name": "stdout",
     "output_type": "stream",
     "text": [
      "posNum : 0 128\n",
      "largeRotioNeg : 0\n",
      "posIndex : [85, 49, 4, 56, 121, 13, 22, 83, 41, 58, 45]\n",
      "allIndex : [4, 45, 58, 13, 22, 85, 56, 41, 49, 121, 83]\n",
      "torch.Size([11, 1]) torch.Size([11, 65]) torch.Size([11])\n"
     ]
    },
    {
     "name": "stderr",
     "output_type": "stream",
     "text": [
      "\r",
      " 40%|███▉      | 79/200 [12:57<20:00,  9.92s/it]"
     ]
    },
    {
     "name": "stdout",
     "output_type": "stream",
     "text": [
      "posNum : 1 128\n",
      "largeRotioNeg : 1\n",
      "posIndex : [98, 70, 69]\n",
      "allIndex : [69, 70, 98]\n",
      "torch.Size([3, 1]) torch.Size([3, 65]) torch.Size([3])\n"
     ]
    },
    {
     "name": "stderr",
     "output_type": "stream",
     "text": [
      "\r",
      " 40%|████      | 80/200 [13:06<19:15,  9.63s/it]"
     ]
    },
    {
     "name": "stdout",
     "output_type": "stream",
     "text": [
      "posNum : 1 128\n",
      "largeRotioNeg : 1\n",
      "posIndex : [66, 121, 82]\n",
      "allIndex : [121, 82, 66]\n",
      "torch.Size([3, 1]) torch.Size([3, 65]) torch.Size([3])\n"
     ]
    },
    {
     "name": "stderr",
     "output_type": "stream",
     "text": [
      "\r",
      " 40%|████      | 81/200 [13:15<18:38,  9.40s/it]"
     ]
    },
    {
     "name": "stdout",
     "output_type": "stream",
     "text": [
      "posNum : 2 128\n",
      "largeRotioNeg : 2\n",
      "posIndex : [26, 6, 76, 49, 20]\n",
      "allIndex : [76, 6, 26, 20, 49]\n",
      "torch.Size([5, 1]) torch.Size([5, 65]) torch.Size([5])\n"
     ]
    },
    {
     "name": "stderr",
     "output_type": "stream",
     "text": [
      "\r",
      " 41%|████      | 82/200 [13:24<18:21,  9.34s/it]"
     ]
    },
    {
     "name": "stdout",
     "output_type": "stream",
     "text": [
      "posNum : 1 128\n",
      "largeRotioNeg : 1\n",
      "posIndex : [24, 33, 5]\n",
      "allIndex : [5, 24, 33]\n",
      "torch.Size([3, 1]) torch.Size([3, 65]) torch.Size([3])\n"
     ]
    },
    {
     "name": "stderr",
     "output_type": "stream",
     "text": [
      "\r",
      " 42%|████▏     | 83/200 [13:33<17:53,  9.18s/it]"
     ]
    },
    {
     "name": "stdout",
     "output_type": "stream",
     "text": [
      "posNum : 1 128\n",
      "largeRotioNeg : 1\n",
      "posIndex : [7, 75, 65]\n",
      "allIndex : [7, 65, 75]\n",
      "torch.Size([3, 1]) torch.Size([3, 65]) torch.Size([3])\n"
     ]
    },
    {
     "name": "stderr",
     "output_type": "stream",
     "text": [
      "\r",
      " 42%|████▏     | 84/200 [13:42<17:34,  9.09s/it]"
     ]
    },
    {
     "name": "stdout",
     "output_type": "stream",
     "text": [
      "posNum : 0 128\n",
      "largeRotioNeg : 0\n",
      "posIndex : [118, 91, 58, 32, 46, 61, 10, 92, 2, 125, 64]\n",
      "allIndex : [58, 125, 61, 10, 118, 92, 46, 32, 64, 91, 2]\n",
      "torch.Size([11, 1]) torch.Size([11, 65]) torch.Size([11])\n"
     ]
    },
    {
     "name": "stderr",
     "output_type": "stream",
     "text": [
      "\r",
      " 42%|████▎     | 85/200 [13:52<18:11,  9.49s/it]"
     ]
    },
    {
     "name": "stdout",
     "output_type": "stream",
     "text": [
      "posNum : 1 128\n",
      "largeRotioNeg : 1\n",
      "posIndex : [105, 104, 53]\n",
      "allIndex : [104, 105, 53]\n",
      "torch.Size([3, 1]) torch.Size([3, 65]) torch.Size([3])\n"
     ]
    },
    {
     "name": "stderr",
     "output_type": "stream",
     "text": [
      "\r",
      " 43%|████▎     | 86/200 [14:01<17:39,  9.29s/it]"
     ]
    },
    {
     "name": "stdout",
     "output_type": "stream",
     "text": [
      "posNum : 1 128\n",
      "largeRotioNeg : 1\n",
      "posIndex : [27, 90, 64]\n",
      "allIndex : [27, 90, 64]\n",
      "torch.Size([3, 1]) torch.Size([3, 65]) torch.Size([3])\n"
     ]
    },
    {
     "name": "stderr",
     "output_type": "stream",
     "text": [
      "\r",
      " 44%|████▎     | 87/200 [14:10<17:17,  9.18s/it]"
     ]
    },
    {
     "name": "stdout",
     "output_type": "stream",
     "text": [
      "posNum : 3 128\n",
      "largeRotioNeg : 3\n",
      "posIndex : [11, 124, 13, 26, 12, 34, 30]\n",
      "allIndex : [124, 30, 13, 12, 34, 26, 11]\n",
      "torch.Size([7, 1]) torch.Size([7, 65]) torch.Size([7])\n"
     ]
    },
    {
     "name": "stderr",
     "output_type": "stream",
     "text": [
      "\r",
      " 44%|████▍     | 88/200 [14:19<17:20,  9.29s/it]"
     ]
    },
    {
     "name": "stdout",
     "output_type": "stream",
     "text": [
      "posNum : 0 128\n",
      "largeRotioNeg : 0\n",
      "posIndex : [94, 61, 15, 101, 78, 77, 17, 35, 75, 123, 21]\n",
      "allIndex : [15, 21, 78, 35, 101, 123, 94, 77, 61, 75, 17]\n",
      "torch.Size([11, 1]) torch.Size([11, 65]) torch.Size([11])\n"
     ]
    },
    {
     "name": "stderr",
     "output_type": "stream",
     "text": [
      "\r",
      " 44%|████▍     | 89/200 [14:30<17:46,  9.61s/it]"
     ]
    },
    {
     "name": "stdout",
     "output_type": "stream",
     "text": [
      "posNum : 0 128\n",
      "largeRotioNeg : 0\n",
      "posIndex : [88, 102, 42, 40, 7, 23, 125, 116, 20, 101, 59]\n",
      "allIndex : [40, 42, 7, 116, 23, 88, 125, 101, 20, 102, 59]\n",
      "torch.Size([11, 1]) torch.Size([11, 65]) torch.Size([11])\n"
     ]
    },
    {
     "name": "stderr",
     "output_type": "stream",
     "text": [
      "\r",
      " 45%|████▌     | 90/200 [14:40<18:05,  9.87s/it]"
     ]
    },
    {
     "name": "stdout",
     "output_type": "stream",
     "text": [
      "posNum : 0 128\n",
      "largeRotioNeg : 0\n",
      "posIndex : [116, 53, 30, 61, 117, 32, 87, 67, 37, 28, 38]\n",
      "allIndex : [53, 87, 116, 28, 61, 30, 38, 67, 117, 37, 32]\n",
      "torch.Size([11, 1]) torch.Size([11, 65]) torch.Size([11])\n"
     ]
    },
    {
     "name": "stderr",
     "output_type": "stream",
     "text": [
      "\r",
      " 46%|████▌     | 91/200 [14:51<18:16, 10.06s/it]"
     ]
    },
    {
     "name": "stdout",
     "output_type": "stream",
     "text": [
      "posNum : 0 128\n",
      "largeRotioNeg : 0\n",
      "posIndex : [104, 83, 16, 37, 89, 76, 33, 12, 26, 7, 22]\n",
      "allIndex : [12, 26, 83, 89, 104, 37, 76, 16, 7, 22, 33]\n",
      "torch.Size([11, 1]) torch.Size([11, 65]) torch.Size([11])\n"
     ]
    },
    {
     "name": "stderr",
     "output_type": "stream",
     "text": [
      "\r",
      " 46%|████▌     | 92/200 [15:01<18:20, 10.19s/it]"
     ]
    },
    {
     "name": "stdout",
     "output_type": "stream",
     "text": [
      "posNum : 0 128\n",
      "largeRotioNeg : 0\n",
      "posIndex : [63, 107, 38, 5, 45, 96, 17, 93, 88, 86, 39]\n",
      "allIndex : [107, 5, 86, 39, 88, 17, 93, 45, 38, 96, 63]\n",
      "torch.Size([11, 1]) torch.Size([11, 65]) torch.Size([11])\n"
     ]
    },
    {
     "name": "stderr",
     "output_type": "stream",
     "text": [
      "\r",
      " 46%|████▋     | 93/200 [15:12<18:20, 10.28s/it]"
     ]
    },
    {
     "name": "stdout",
     "output_type": "stream",
     "text": [
      "posNum : 1 128\n",
      "largeRotioNeg : 1\n",
      "posIndex : [5, 57, 22]\n",
      "allIndex : [22, 5, 57]\n",
      "torch.Size([3, 1]) torch.Size([3, 65]) torch.Size([3])\n"
     ]
    },
    {
     "name": "stderr",
     "output_type": "stream",
     "text": [
      "\r",
      " 47%|████▋     | 94/200 [15:21<17:27,  9.88s/it]"
     ]
    },
    {
     "name": "stdout",
     "output_type": "stream",
     "text": [
      "posNum : 3 128\n",
      "largeRotioNeg : 3\n",
      "posIndex : [72, 111, 104, 51, 13, 58, 41]\n",
      "allIndex : [13, 58, 111, 72, 51, 41, 104]\n",
      "torch.Size([7, 1]) torch.Size([7, 65]) torch.Size([7])\n"
     ]
    },
    {
     "name": "stderr",
     "output_type": "stream",
     "text": [
      "\r",
      " 48%|████▊     | 95/200 [15:30<17:12,  9.84s/it]"
     ]
    },
    {
     "name": "stdout",
     "output_type": "stream",
     "text": [
      "posNum : 0 128\n",
      "largeRotioNeg : 0\n",
      "posIndex : [88, 80, 78, 50, 57, 92, 125, 7, 89, 23, 97]\n",
      "allIndex : [125, 80, 92, 7, 23, 97, 88, 78, 89, 50, 57]\n",
      "torch.Size([11, 1]) torch.Size([11, 65]) torch.Size([11])\n"
     ]
    },
    {
     "name": "stderr",
     "output_type": "stream",
     "text": [
      "\r",
      " 48%|████▊     | 96/200 [15:41<17:20, 10.01s/it]"
     ]
    },
    {
     "name": "stdout",
     "output_type": "stream",
     "text": [
      "posNum : 0 128\n",
      "largeRotioNeg : 0\n",
      "posIndex : [15, 55, 4, 114, 81, 22, 125, 49, 43, 104, 92]\n",
      "allIndex : [114, 55, 49, 4, 15, 92, 43, 81, 104, 22, 125]\n",
      "torch.Size([11, 1]) torch.Size([11, 65]) torch.Size([11])\n"
     ]
    },
    {
     "name": "stderr",
     "output_type": "stream",
     "text": [
      "\r",
      " 48%|████▊     | 97/200 [15:51<17:23, 10.13s/it]"
     ]
    },
    {
     "name": "stdout",
     "output_type": "stream",
     "text": [
      "posNum : 1 128\n",
      "largeRotioNeg : 1\n",
      "posIndex : [39, 76, 110]\n",
      "allIndex : [110, 39, 76]\n",
      "torch.Size([3, 1]) torch.Size([3, 65]) torch.Size([3])\n"
     ]
    },
    {
     "name": "stderr",
     "output_type": "stream",
     "text": [
      "\r",
      " 49%|████▉     | 98/200 [16:00<16:32,  9.73s/it]"
     ]
    },
    {
     "name": "stdout",
     "output_type": "stream",
     "text": [
      "posNum : 1 128\n",
      "largeRotioNeg : 1\n",
      "posIndex : [61, 27, 21]\n",
      "allIndex : [61, 27, 21]\n",
      "torch.Size([3, 1]) torch.Size([3, 65]) torch.Size([3])\n"
     ]
    },
    {
     "name": "stderr",
     "output_type": "stream",
     "text": [
      "\r",
      " 50%|████▉     | 99/200 [16:09<15:56,  9.47s/it]"
     ]
    },
    {
     "name": "stdout",
     "output_type": "stream",
     "text": [
      "posNum : 1 128\n",
      "largeRotioNeg : 1\n",
      "posIndex : [17, 110, 86]\n",
      "allIndex : [86, 17, 110]\n",
      "torch.Size([3, 1]) torch.Size([3, 65]) torch.Size([3])\n"
     ]
    },
    {
     "name": "stderr",
     "output_type": "stream",
     "text": [
      "\r",
      " 50%|█████     | 100/200 [16:18<15:30,  9.31s/it]"
     ]
    },
    {
     "name": "stdout",
     "output_type": "stream",
     "text": [
      "posNum : 1 128\n",
      "largeRotioNeg : 1\n",
      "posIndex : [90, 21, 23]\n",
      "allIndex : [90, 23, 21]\n",
      "torch.Size([3, 1]) torch.Size([3, 65]) torch.Size([3])\n"
     ]
    },
    {
     "name": "stderr",
     "output_type": "stream",
     "text": [
      "\r",
      " 50%|█████     | 101/200 [16:27<15:08,  9.17s/it]"
     ]
    },
    {
     "name": "stdout",
     "output_type": "stream",
     "text": [
      "posNum : 0 128\n",
      "largeRotioNeg : 0\n",
      "posIndex : [100, 88, 3, 74, 24, 73, 59, 32, 91, 55, 13]\n",
      "allIndex : [13, 32, 100, 3, 73, 59, 88, 24, 74, 55, 91]\n",
      "torch.Size([11, 1]) torch.Size([11, 65]) torch.Size([11])\n"
     ]
    },
    {
     "name": "stderr",
     "output_type": "stream",
     "text": [
      "\r",
      " 51%|█████     | 102/200 [16:37<15:35,  9.55s/it]"
     ]
    },
    {
     "name": "stdout",
     "output_type": "stream",
     "text": [
      "posNum : 2 128\n",
      "largeRotioNeg : 2\n",
      "posIndex : [85, 17, 126, 90, 86]\n",
      "allIndex : [17, 126, 86, 90, 85]\n",
      "torch.Size([5, 1]) torch.Size([5, 65]) torch.Size([5])\n"
     ]
    },
    {
     "name": "stderr",
     "output_type": "stream",
     "text": [
      "\r",
      " 52%|█████▏    | 103/200 [16:46<15:15,  9.44s/it]"
     ]
    },
    {
     "name": "stdout",
     "output_type": "stream",
     "text": [
      "posNum : 1 128\n",
      "largeRotioNeg : 1\n",
      "posIndex : [28, 20, 68]\n",
      "allIndex : [28, 68, 20]\n",
      "torch.Size([3, 1]) torch.Size([3, 65]) torch.Size([3])\n"
     ]
    },
    {
     "name": "stderr",
     "output_type": "stream",
     "text": [
      "\r",
      " 52%|█████▏    | 104/200 [16:55<14:50,  9.27s/it]"
     ]
    },
    {
     "name": "stdout",
     "output_type": "stream",
     "text": [
      "posNum : 1 128\n",
      "largeRotioNeg : 1\n",
      "posIndex : [96, 63, 126]\n",
      "allIndex : [63, 96, 126]\n",
      "torch.Size([3, 1]) torch.Size([3, 65]) torch.Size([3])\n"
     ]
    },
    {
     "name": "stderr",
     "output_type": "stream",
     "text": [
      "\r",
      " 52%|█████▎    | 105/200 [17:04<14:34,  9.20s/it]"
     ]
    },
    {
     "name": "stdout",
     "output_type": "stream",
     "text": [
      "posNum : 0 128\n",
      "largeRotioNeg : 0\n",
      "posIndex : [27, 89, 125, 124, 3, 38, 118, 127, 26, 97, 95]\n",
      "allIndex : [125, 97, 89, 26, 38, 3, 95, 27, 118, 124, 127]\n",
      "torch.Size([11, 1]) torch.Size([11, 65]) torch.Size([11])\n"
     ]
    },
    {
     "name": "stderr",
     "output_type": "stream",
     "text": [
      "\r",
      " 53%|█████▎    | 106/200 [17:15<15:01,  9.59s/it]"
     ]
    },
    {
     "name": "stdout",
     "output_type": "stream",
     "text": [
      "posNum : 3 128\n",
      "largeRotioNeg : 3\n",
      "posIndex : [115, 71, 103, 85, 102, 40, 50]\n",
      "allIndex : [50, 85, 102, 40, 71, 103, 115]\n",
      "torch.Size([7, 1]) torch.Size([7, 65]) torch.Size([7])\n"
     ]
    },
    {
     "name": "stderr",
     "output_type": "stream",
     "text": [
      "\r",
      " 54%|█████▎    | 107/200 [17:24<14:56,  9.64s/it]"
     ]
    },
    {
     "name": "stdout",
     "output_type": "stream",
     "text": [
      "posNum : 0 128\n",
      "largeRotioNeg : 0\n",
      "posIndex : [39, 40, 15, 64, 107, 116, 34, 73, 42, 126, 61]\n",
      "allIndex : [15, 107, 39, 40, 126, 61, 42, 64, 116, 34, 73]\n",
      "torch.Size([11, 1]) torch.Size([11, 65]) torch.Size([11])\n"
     ]
    },
    {
     "name": "stderr",
     "output_type": "stream",
     "text": [
      "\r",
      " 54%|█████▍    | 108/200 [17:35<15:12,  9.92s/it]"
     ]
    },
    {
     "name": "stdout",
     "output_type": "stream",
     "text": [
      "posNum : 1 128\n",
      "largeRotioNeg : 1\n",
      "posIndex : [66, 68, 114]\n",
      "allIndex : [66, 114, 68]\n",
      "torch.Size([3, 1]) torch.Size([3, 65]) torch.Size([3])\n"
     ]
    },
    {
     "name": "stderr",
     "output_type": "stream",
     "text": [
      "\r",
      " 55%|█████▍    | 109/200 [17:44<14:36,  9.63s/it]"
     ]
    },
    {
     "name": "stdout",
     "output_type": "stream",
     "text": [
      "posNum : 0 128\n",
      "largeRotioNeg : 0\n",
      "posIndex : [13, 31, 93, 79, 71, 4, 75, 102, 65, 123, 89]\n",
      "allIndex : [75, 123, 93, 65, 71, 102, 4, 31, 79, 89, 13]\n",
      "torch.Size([11, 1]) torch.Size([11, 65]) torch.Size([11])\n"
     ]
    },
    {
     "name": "stderr",
     "output_type": "stream",
     "text": [
      "\r",
      " 55%|█████▌    | 110/200 [17:55<14:50,  9.89s/it]"
     ]
    },
    {
     "name": "stdout",
     "output_type": "stream",
     "text": [
      "posNum : 1 128\n",
      "largeRotioNeg : 1\n",
      "posIndex : [45, 73, 87]\n",
      "allIndex : [73, 87, 45]\n",
      "torch.Size([3, 1]) torch.Size([3, 65]) torch.Size([3])\n"
     ]
    },
    {
     "name": "stderr",
     "output_type": "stream",
     "text": [
      "\r",
      " 56%|█████▌    | 111/200 [18:03<14:16,  9.62s/it]"
     ]
    },
    {
     "name": "stdout",
     "output_type": "stream",
     "text": [
      "posNum : 1 128\n",
      "largeRotioNeg : 1\n",
      "posIndex : [10, 34, 76]\n",
      "allIndex : [10, 76, 34]\n",
      "torch.Size([3, 1]) torch.Size([3, 65]) torch.Size([3])\n"
     ]
    },
    {
     "name": "stderr",
     "output_type": "stream",
     "text": [
      "\r",
      " 56%|█████▌    | 112/200 [18:12<13:49,  9.43s/it]"
     ]
    },
    {
     "name": "stdout",
     "output_type": "stream",
     "text": [
      "posNum : 0 128\n",
      "largeRotioNeg : 0\n",
      "posIndex : [24, 87, 19, 20, 57, 95, 112, 109, 51, 76, 104]\n",
      "allIndex : [19, 51, 20, 24, 87, 95, 57, 112, 109, 104, 76]\n",
      "torch.Size([11, 1]) torch.Size([11, 65]) torch.Size([11])\n"
     ]
    },
    {
     "name": "stderr",
     "output_type": "stream",
     "text": [
      "\r",
      " 56%|█████▋    | 113/200 [18:23<14:05,  9.71s/it]"
     ]
    },
    {
     "name": "stdout",
     "output_type": "stream",
     "text": [
      "posNum : 1 128\n",
      "largeRotioNeg : 1\n",
      "posIndex : [92, 47, 54]\n",
      "allIndex : [54, 47, 92]\n",
      "torch.Size([3, 1]) torch.Size([3, 65]) torch.Size([3])\n"
     ]
    },
    {
     "name": "stderr",
     "output_type": "stream",
     "text": [
      "\r",
      " 57%|█████▋    | 114/200 [18:32<13:33,  9.46s/it]"
     ]
    },
    {
     "name": "stdout",
     "output_type": "stream",
     "text": [
      "posNum : 0 128\n",
      "largeRotioNeg : 0\n",
      "posIndex : [106, 96, 110, 71, 109, 99, 68, 53, 5, 50, 100]\n",
      "allIndex : [71, 99, 5, 68, 96, 110, 53, 50, 106, 100, 109]\n",
      "torch.Size([11, 1]) torch.Size([11, 65]) torch.Size([11])\n"
     ]
    },
    {
     "name": "stderr",
     "output_type": "stream",
     "text": [
      "\r",
      " 57%|█████▊    | 115/200 [18:42<13:47,  9.74s/it]"
     ]
    },
    {
     "name": "stdout",
     "output_type": "stream",
     "text": [
      "posNum : 0 128\n",
      "largeRotioNeg : 0\n",
      "posIndex : [84, 28, 51, 44, 54, 27, 118, 30, 72, 103, 89]\n",
      "allIndex : [54, 103, 44, 51, 84, 28, 72, 118, 30, 89, 27]\n",
      "torch.Size([11, 1]) torch.Size([11, 65]) torch.Size([11])\n"
     ]
    },
    {
     "name": "stderr",
     "output_type": "stream",
     "text": [
      "\r",
      " 58%|█████▊    | 116/200 [18:53<13:54,  9.94s/it]"
     ]
    },
    {
     "name": "stdout",
     "output_type": "stream",
     "text": [
      "posNum : 1 128\n",
      "largeRotioNeg : 1\n",
      "posIndex : [52, 120, 34]\n",
      "allIndex : [52, 34, 120]\n",
      "torch.Size([3, 1]) torch.Size([3, 65]) torch.Size([3])\n"
     ]
    },
    {
     "name": "stderr",
     "output_type": "stream",
     "text": [
      "\r",
      " 58%|█████▊    | 117/200 [19:01<13:20,  9.64s/it]"
     ]
    },
    {
     "name": "stdout",
     "output_type": "stream",
     "text": [
      "posNum : 0 128\n",
      "largeRotioNeg : 0\n",
      "posIndex : [72, 20, 43, 55, 41, 52, 75, 13, 25, 38, 37]\n",
      "allIndex : [55, 38, 72, 25, 43, 75, 52, 37, 41, 20, 13]\n",
      "torch.Size([11, 1]) torch.Size([11, 65]) torch.Size([11])\n"
     ]
    },
    {
     "name": "stderr",
     "output_type": "stream",
     "text": [
      "\r",
      " 59%|█████▉    | 118/200 [19:12<13:28,  9.86s/it]"
     ]
    },
    {
     "name": "stdout",
     "output_type": "stream",
     "text": [
      "posNum : 1 128\n",
      "largeRotioNeg : 1\n",
      "posIndex : [88, 57, 104]\n",
      "allIndex : [57, 104, 88]\n",
      "torch.Size([3, 1]) torch.Size([3, 65]) torch.Size([3])\n"
     ]
    },
    {
     "name": "stderr",
     "output_type": "stream",
     "text": [
      "\r",
      " 60%|█████▉    | 119/200 [19:21<12:55,  9.57s/it]"
     ]
    },
    {
     "name": "stdout",
     "output_type": "stream",
     "text": [
      "posNum : 0 128\n",
      "largeRotioNeg : 0\n",
      "posIndex : [3, 48, 36, 103, 9, 71, 60, 56, 53, 50, 85]\n",
      "allIndex : [3, 48, 85, 56, 9, 53, 50, 36, 103, 60, 71]\n",
      "torch.Size([11, 1]) torch.Size([11, 65]) torch.Size([11])\n"
     ]
    },
    {
     "name": "stderr",
     "output_type": "stream",
     "text": [
      "\r",
      " 60%|██████    | 120/200 [19:31<13:05,  9.82s/it]"
     ]
    },
    {
     "name": "stdout",
     "output_type": "stream",
     "text": [
      "posNum : 0 128\n",
      "largeRotioNeg : 0\n",
      "posIndex : [70, 59, 78, 121, 95, 30, 4, 122, 40, 90, 29]\n",
      "allIndex : [122, 121, 29, 78, 70, 95, 90, 4, 59, 40, 30]\n",
      "torch.Size([11, 1]) torch.Size([11, 65]) torch.Size([11])\n"
     ]
    },
    {
     "name": "stderr",
     "output_type": "stream",
     "text": [
      "\r",
      " 60%|██████    | 121/200 [19:42<13:10, 10.00s/it]"
     ]
    },
    {
     "name": "stdout",
     "output_type": "stream",
     "text": [
      "posNum : 0 128\n",
      "largeRotioNeg : 0\n",
      "posIndex : [113, 3, 67, 51, 81, 101, 123, 77, 95, 43, 39]\n",
      "allIndex : [43, 123, 39, 113, 51, 77, 101, 67, 81, 3, 95]\n",
      "torch.Size([11, 1]) torch.Size([11, 65]) torch.Size([11])\n"
     ]
    },
    {
     "name": "stderr",
     "output_type": "stream",
     "text": [
      "\r",
      " 61%|██████    | 122/200 [19:52<13:10, 10.14s/it]"
     ]
    },
    {
     "name": "stdout",
     "output_type": "stream",
     "text": [
      "posNum : 3 128\n",
      "largeRotioNeg : 3\n",
      "posIndex : [46, 86, 28, 13, 9, 22, 53]\n",
      "allIndex : [9, 86, 13, 28, 46, 53, 22]\n",
      "torch.Size([7, 1]) torch.Size([7, 65]) torch.Size([7])\n"
     ]
    },
    {
     "name": "stderr",
     "output_type": "stream",
     "text": [
      "\r",
      " 62%|██████▏   | 123/200 [20:02<12:51, 10.02s/it]"
     ]
    },
    {
     "name": "stdout",
     "output_type": "stream",
     "text": [
      "posNum : 0 128\n",
      "largeRotioNeg : 0\n",
      "posIndex : [120, 119, 81, 16, 113, 60, 98, 125, 102, 34, 1]\n",
      "allIndex : [16, 113, 102, 98, 119, 81, 120, 125, 60, 34, 1]\n",
      "torch.Size([11, 1]) torch.Size([11, 65]) torch.Size([11])\n"
     ]
    },
    {
     "name": "stderr",
     "output_type": "stream",
     "text": [
      "\r",
      " 62%|██████▏   | 124/200 [20:12<12:48, 10.11s/it]"
     ]
    },
    {
     "name": "stdout",
     "output_type": "stream",
     "text": [
      "posNum : 0 128\n",
      "largeRotioNeg : 0\n",
      "posIndex : [61, 113, 53, 77, 111, 48, 66, 116, 54, 23, 97]\n",
      "allIndex : [23, 113, 97, 53, 66, 116, 54, 77, 111, 48, 61]\n",
      "torch.Size([11, 1]) torch.Size([11, 65]) torch.Size([11])\n"
     ]
    },
    {
     "name": "stderr",
     "output_type": "stream",
     "text": [
      "\r",
      " 62%|██████▎   | 125/200 [20:23<12:47, 10.24s/it]"
     ]
    },
    {
     "name": "stdout",
     "output_type": "stream",
     "text": [
      "posNum : 0 128\n",
      "largeRotioNeg : 0\n",
      "posIndex : [126, 73, 90, 9, 39, 124, 53, 41, 64, 34, 84]\n",
      "allIndex : [84, 124, 73, 41, 64, 53, 39, 34, 90, 9, 126]\n",
      "torch.Size([11, 1]) torch.Size([11, 65]) torch.Size([11])\n"
     ]
    },
    {
     "name": "stderr",
     "output_type": "stream",
     "text": [
      "\r",
      " 63%|██████▎   | 126/200 [20:33<12:40, 10.27s/it]"
     ]
    },
    {
     "name": "stdout",
     "output_type": "stream",
     "text": [
      "posNum : 0 128\n",
      "largeRotioNeg : 0\n",
      "posIndex : [85, 97, 17, 103, 23, 88, 113, 15, 55, 115, 49]\n",
      "allIndex : [55, 88, 113, 103, 49, 85, 15, 115, 23, 17, 97]\n",
      "torch.Size([11, 1]) torch.Size([11, 65]) torch.Size([11])\n"
     ]
    },
    {
     "name": "stderr",
     "output_type": "stream",
     "text": [
      "\r",
      " 64%|██████▎   | 127/200 [20:43<12:32, 10.31s/it]"
     ]
    },
    {
     "name": "stdout",
     "output_type": "stream",
     "text": [
      "posNum : 0 128\n",
      "largeRotioNeg : 0\n",
      "posIndex : [88, 17, 102, 62, 72, 4, 101, 126, 54, 98, 70]\n",
      "allIndex : [54, 4, 126, 72, 62, 70, 88, 101, 102, 17, 98]\n",
      "torch.Size([11, 1]) torch.Size([11, 65]) torch.Size([11])\n"
     ]
    },
    {
     "name": "stderr",
     "output_type": "stream",
     "text": [
      "\r",
      " 64%|██████▍   | 128/200 [20:54<12:22, 10.32s/it]"
     ]
    },
    {
     "name": "stdout",
     "output_type": "stream",
     "text": [
      "posNum : 0 128\n",
      "largeRotioNeg : 0\n",
      "posIndex : [5, 120, 112, 123, 28, 93, 49, 77, 16, 125, 102]\n",
      "allIndex : [120, 125, 93, 16, 102, 112, 28, 49, 77, 123, 5]\n",
      "torch.Size([11, 1]) torch.Size([11, 65]) torch.Size([11])\n"
     ]
    },
    {
     "name": "stderr",
     "output_type": "stream",
     "text": [
      "\r",
      " 64%|██████▍   | 129/200 [21:04<12:14, 10.35s/it]"
     ]
    },
    {
     "name": "stdout",
     "output_type": "stream",
     "text": [
      "posNum : 1 128\n",
      "largeRotioNeg : 1\n",
      "posIndex : [94, 119, 24]\n",
      "allIndex : [94, 119, 24]\n",
      "torch.Size([3, 1]) torch.Size([3, 65]) torch.Size([3])\n"
     ]
    },
    {
     "name": "stderr",
     "output_type": "stream",
     "text": [
      "\r",
      " 65%|██████▌   | 130/200 [21:13<11:33,  9.91s/it]"
     ]
    },
    {
     "name": "stdout",
     "output_type": "stream",
     "text": [
      "posNum : 1 128\n",
      "largeRotioNeg : 1\n",
      "posIndex : [127, 56, 78]\n",
      "allIndex : [56, 127, 78]\n",
      "torch.Size([3, 1]) torch.Size([3, 65]) torch.Size([3])\n"
     ]
    },
    {
     "name": "stderr",
     "output_type": "stream",
     "text": [
      "\r",
      " 66%|██████▌   | 131/200 [21:22<11:02,  9.60s/it]"
     ]
    },
    {
     "name": "stdout",
     "output_type": "stream",
     "text": [
      "posNum : 0 128\n",
      "largeRotioNeg : 0\n",
      "posIndex : [87, 122, 91, 4, 36, 94, 121, 17, 59, 113, 118]\n",
      "allIndex : [91, 121, 122, 36, 59, 118, 4, 87, 113, 17, 94]\n",
      "torch.Size([11, 1]) torch.Size([11, 65]) torch.Size([11])\n"
     ]
    },
    {
     "name": "stderr",
     "output_type": "stream",
     "text": [
      "\r",
      " 66%|██████▌   | 132/200 [21:32<11:09,  9.84s/it]"
     ]
    },
    {
     "name": "stdout",
     "output_type": "stream",
     "text": [
      "posNum : 0 128\n",
      "largeRotioNeg : 0\n",
      "posIndex : [14, 44, 18, 29, 57, 26, 109, 99, 58, 24, 91]\n",
      "allIndex : [91, 99, 14, 58, 44, 26, 24, 57, 109, 29, 18]\n",
      "torch.Size([11, 1]) torch.Size([11, 65]) torch.Size([11])\n"
     ]
    },
    {
     "name": "stderr",
     "output_type": "stream",
     "text": [
      "\r",
      " 66%|██████▋   | 133/200 [21:43<11:12, 10.04s/it]"
     ]
    },
    {
     "name": "stdout",
     "output_type": "stream",
     "text": [
      "posNum : 0 128\n",
      "largeRotioNeg : 0\n",
      "posIndex : [72, 33, 75, 14, 59, 111, 5, 63, 47, 37, 108]\n",
      "allIndex : [47, 72, 5, 33, 75, 108, 14, 37, 111, 59, 63]\n",
      "torch.Size([11, 1]) torch.Size([11, 65]) torch.Size([11])\n"
     ]
    },
    {
     "name": "stderr",
     "output_type": "stream",
     "text": [
      "\r",
      " 67%|██████▋   | 134/200 [21:53<11:11, 10.17s/it]"
     ]
    },
    {
     "name": "stdout",
     "output_type": "stream",
     "text": [
      "posNum : 0 128\n",
      "largeRotioNeg : 0\n",
      "posIndex : [105, 14, 42, 97, 90, 21, 115, 61, 104, 29, 19]\n",
      "allIndex : [14, 19, 29, 42, 104, 61, 21, 90, 105, 97, 115]\n",
      "torch.Size([11, 1]) torch.Size([11, 65]) torch.Size([11])\n"
     ]
    },
    {
     "name": "stderr",
     "output_type": "stream",
     "text": [
      "\r",
      " 68%|██████▊   | 135/200 [22:04<11:06, 10.25s/it]"
     ]
    },
    {
     "name": "stdout",
     "output_type": "stream",
     "text": [
      "posNum : 1 128\n",
      "largeRotioNeg : 1\n",
      "posIndex : [42, 95, 124]\n",
      "allIndex : [124, 95, 42]\n",
      "torch.Size([3, 1]) torch.Size([3, 65]) torch.Size([3])\n"
     ]
    },
    {
     "name": "stderr",
     "output_type": "stream",
     "text": [
      "\r",
      " 68%|██████▊   | 136/200 [22:13<10:29,  9.83s/it]"
     ]
    },
    {
     "name": "stdout",
     "output_type": "stream",
     "text": [
      "posNum : 0 128\n",
      "largeRotioNeg : 0\n",
      "posIndex : [25, 107, 18, 16, 123, 74, 77, 63, 114, 90, 104]\n",
      "allIndex : [25, 18, 90, 77, 123, 114, 107, 74, 104, 16, 63]\n",
      "torch.Size([11, 1]) torch.Size([11, 65]) torch.Size([11])\n"
     ]
    },
    {
     "name": "stderr",
     "output_type": "stream",
     "text": [
      "\r",
      " 68%|██████▊   | 137/200 [22:23<10:32, 10.05s/it]"
     ]
    },
    {
     "name": "stdout",
     "output_type": "stream",
     "text": [
      "posNum : 1 128\n",
      "largeRotioNeg : 1\n",
      "posIndex : [76, 22, 6]\n",
      "allIndex : [22, 6, 76]\n",
      "torch.Size([3, 1]) torch.Size([3, 65]) torch.Size([3])\n"
     ]
    },
    {
     "name": "stderr",
     "output_type": "stream",
     "text": [
      "\r",
      " 69%|██████▉   | 138/200 [22:32<10:02,  9.71s/it]"
     ]
    },
    {
     "name": "stdout",
     "output_type": "stream",
     "text": [
      "posNum : 1 128\n",
      "largeRotioNeg : 1\n",
      "posIndex : [77, 6, 115]\n",
      "allIndex : [77, 6, 115]\n",
      "torch.Size([3, 1]) torch.Size([3, 65]) torch.Size([3])\n"
     ]
    },
    {
     "name": "stderr",
     "output_type": "stream",
     "text": [
      "\r",
      " 70%|██████▉   | 139/200 [22:41<09:38,  9.48s/it]"
     ]
    },
    {
     "name": "stdout",
     "output_type": "stream",
     "text": [
      "posNum : 0 128\n",
      "largeRotioNeg : 0\n",
      "posIndex : [88, 3, 116, 108, 96, 42, 0, 58, 24, 21, 113]\n",
      "allIndex : [24, 42, 116, 113, 0, 58, 21, 88, 108, 3, 96]\n",
      "torch.Size([11, 1]) torch.Size([11, 65]) torch.Size([11])\n"
     ]
    },
    {
     "name": "stderr",
     "output_type": "stream",
     "text": [
      "\r",
      " 70%|███████   | 140/200 [22:51<09:45,  9.75s/it]"
     ]
    },
    {
     "name": "stdout",
     "output_type": "stream",
     "text": [
      "posNum : 1 128\n",
      "largeRotioNeg : 1\n",
      "posIndex : [3, 25, 94]\n",
      "allIndex : [25, 3, 94]\n",
      "torch.Size([3, 1]) torch.Size([3, 65]) torch.Size([3])\n"
     ]
    },
    {
     "name": "stderr",
     "output_type": "stream",
     "text": [
      "\r",
      " 70%|███████   | 141/200 [23:00<09:20,  9.51s/it]"
     ]
    },
    {
     "name": "stdout",
     "output_type": "stream",
     "text": [
      "posNum : 0 128\n",
      "largeRotioNeg : 0\n",
      "posIndex : [63, 21, 24, 41, 118, 107, 78, 101, 71, 95, 1]\n",
      "allIndex : [95, 78, 41, 107, 24, 101, 1, 118, 21, 63, 71]\n",
      "torch.Size([11, 1]) torch.Size([11, 65]) torch.Size([11])\n"
     ]
    },
    {
     "name": "stderr",
     "output_type": "stream",
     "text": [
      "\r",
      " 71%|███████   | 142/200 [23:11<09:27,  9.78s/it]"
     ]
    },
    {
     "name": "stdout",
     "output_type": "stream",
     "text": [
      "posNum : 0 128\n",
      "largeRotioNeg : 0\n",
      "posIndex : [74, 124, 89, 47, 121, 27, 44, 80, 114, 21, 51]\n",
      "allIndex : [51, 80, 114, 44, 121, 27, 47, 124, 89, 74, 21]\n",
      "torch.Size([11, 1]) torch.Size([11, 65]) torch.Size([11])\n"
     ]
    },
    {
     "name": "stderr",
     "output_type": "stream",
     "text": [
      "\r",
      " 72%|███████▏  | 143/200 [23:21<09:28,  9.97s/it]"
     ]
    },
    {
     "name": "stdout",
     "output_type": "stream",
     "text": [
      "posNum : 0 128\n",
      "largeRotioNeg : 0\n",
      "posIndex : [112, 66, 105, 40, 99, 90, 31, 87, 70, 58, 38]\n",
      "allIndex : [66, 70, 112, 105, 90, 99, 58, 38, 31, 87, 40]\n",
      "torch.Size([11, 1]) torch.Size([11, 65]) torch.Size([11])\n"
     ]
    },
    {
     "name": "stderr",
     "output_type": "stream",
     "text": [
      "\r",
      " 72%|███████▏  | 144/200 [23:32<09:27, 10.13s/it]"
     ]
    },
    {
     "name": "stdout",
     "output_type": "stream",
     "text": [
      "posNum : 1 128\n",
      "largeRotioNeg : 1\n",
      "posIndex : [13, 80, 59]\n",
      "allIndex : [80, 13, 59]\n",
      "torch.Size([3, 1]) torch.Size([3, 65]) torch.Size([3])\n"
     ]
    },
    {
     "name": "stderr",
     "output_type": "stream",
     "text": [
      "\r",
      " 72%|███████▎  | 145/200 [23:41<08:56,  9.76s/it]"
     ]
    },
    {
     "name": "stdout",
     "output_type": "stream",
     "text": [
      "posNum : 0 128\n",
      "largeRotioNeg : 0\n",
      "posIndex : [31, 9, 63, 72, 103, 101, 92, 83, 86, 117, 104]\n",
      "allIndex : [86, 104, 83, 9, 31, 101, 72, 103, 92, 63, 117]\n",
      "torch.Size([11, 1]) torch.Size([11, 65]) torch.Size([11])\n"
     ]
    },
    {
     "name": "stderr",
     "output_type": "stream",
     "text": [
      "\r",
      " 73%|███████▎  | 146/200 [23:51<08:58,  9.97s/it]"
     ]
    },
    {
     "name": "stdout",
     "output_type": "stream",
     "text": [
      "posNum : 0 128\n",
      "largeRotioNeg : 0\n",
      "posIndex : [86, 99, 59, 117, 103, 3, 62, 29, 26, 74, 77]\n",
      "allIndex : [29, 86, 103, 59, 3, 117, 74, 99, 77, 26, 62]\n",
      "torch.Size([11, 1]) torch.Size([11, 65]) torch.Size([11])\n"
     ]
    },
    {
     "name": "stderr",
     "output_type": "stream",
     "text": [
      "\r",
      " 74%|███████▎  | 147/200 [24:01<08:54, 10.09s/it]"
     ]
    },
    {
     "name": "stdout",
     "output_type": "stream",
     "text": [
      "posNum : 3 128\n",
      "largeRotioNeg : 3\n",
      "posIndex : [89, 122, 60, 108, 87, 6, 79]\n",
      "allIndex : [87, 6, 89, 60, 79, 108, 122]\n",
      "torch.Size([7, 1]) torch.Size([7, 65]) torch.Size([7])\n"
     ]
    },
    {
     "name": "stderr",
     "output_type": "stream",
     "text": [
      "\r",
      " 74%|███████▍  | 148/200 [24:11<08:38,  9.97s/it]"
     ]
    },
    {
     "name": "stdout",
     "output_type": "stream",
     "text": [
      "posNum : 0 128\n",
      "largeRotioNeg : 0\n",
      "posIndex : [78, 94, 43, 97, 0, 75, 77, 92, 58, 20, 57]\n",
      "allIndex : [94, 97, 57, 92, 0, 77, 20, 78, 43, 58, 75]\n",
      "torch.Size([11, 1]) torch.Size([11, 65]) torch.Size([11])\n"
     ]
    },
    {
     "name": "stderr",
     "output_type": "stream",
     "text": [
      "\r",
      " 74%|███████▍  | 149/200 [24:22<08:37, 10.14s/it]"
     ]
    },
    {
     "name": "stdout",
     "output_type": "stream",
     "text": [
      "posNum : 0 128\n",
      "largeRotioNeg : 0\n",
      "posIndex : [22, 38, 82, 40, 93, 49, 2, 61, 6, 74, 14]\n",
      "allIndex : [49, 22, 40, 74, 38, 6, 82, 61, 14, 93, 2]\n",
      "torch.Size([11, 1]) torch.Size([11, 65]) torch.Size([11])\n"
     ]
    },
    {
     "name": "stderr",
     "output_type": "stream",
     "text": [
      "\r",
      " 75%|███████▌  | 150/200 [24:32<08:27, 10.15s/it]"
     ]
    },
    {
     "name": "stdout",
     "output_type": "stream",
     "text": [
      "posNum : 0 128\n",
      "largeRotioNeg : 0\n",
      "posIndex : [125, 54, 12, 63, 102, 101, 35, 32, 79, 123, 5]\n",
      "allIndex : [63, 125, 102, 54, 123, 101, 12, 79, 5, 32, 35]\n",
      "torch.Size([11, 1]) torch.Size([11, 65]) torch.Size([11])\n"
     ]
    },
    {
     "name": "stderr",
     "output_type": "stream",
     "text": [
      "\r",
      " 76%|███████▌  | 151/200 [24:42<08:21, 10.24s/it]"
     ]
    },
    {
     "name": "stdout",
     "output_type": "stream",
     "text": [
      "posNum : 3 128\n",
      "largeRotioNeg : 3\n",
      "posIndex : [33, 121, 10, 27, 39, 60, 17]\n",
      "allIndex : [17, 27, 60, 33, 10, 121, 39]\n",
      "torch.Size([7, 1]) torch.Size([7, 65]) torch.Size([7])\n"
     ]
    },
    {
     "name": "stderr",
     "output_type": "stream",
     "text": [
      "\r",
      " 76%|███████▌  | 152/200 [24:52<08:01, 10.04s/it]"
     ]
    },
    {
     "name": "stdout",
     "output_type": "stream",
     "text": [
      "posNum : 1 128\n",
      "largeRotioNeg : 1\n",
      "posIndex : [99, 53, 115]\n",
      "allIndex : [53, 99, 115]\n",
      "torch.Size([3, 1]) torch.Size([3, 65]) torch.Size([3])\n"
     ]
    },
    {
     "name": "stderr",
     "output_type": "stream",
     "text": [
      "\r",
      " 76%|███████▋  | 153/200 [25:01<07:35,  9.70s/it]"
     ]
    },
    {
     "name": "stdout",
     "output_type": "stream",
     "text": [
      "posNum : 1 128\n",
      "largeRotioNeg : 1\n",
      "posIndex : [34, 14, 49]\n",
      "allIndex : [34, 49, 14]\n",
      "torch.Size([3, 1]) torch.Size([3, 65]) torch.Size([3])\n"
     ]
    },
    {
     "name": "stderr",
     "output_type": "stream",
     "text": [
      "\r",
      " 77%|███████▋  | 154/200 [25:10<07:15,  9.46s/it]"
     ]
    },
    {
     "name": "stdout",
     "output_type": "stream",
     "text": [
      "posNum : 1 128\n",
      "largeRotioNeg : 1\n",
      "posIndex : [1, 80, 32]\n",
      "allIndex : [1, 32, 80]\n",
      "torch.Size([3, 1]) torch.Size([3, 65]) torch.Size([3])\n"
     ]
    },
    {
     "name": "stderr",
     "output_type": "stream",
     "text": [
      "\r",
      " 78%|███████▊  | 155/200 [25:19<06:58,  9.30s/it]"
     ]
    },
    {
     "name": "stdout",
     "output_type": "stream",
     "text": [
      "posNum : 0 128\n",
      "largeRotioNeg : 0\n",
      "posIndex : [47, 77, 3, 80, 48, 60, 42, 78, 101, 45, 41]\n",
      "allIndex : [41, 45, 80, 101, 48, 77, 3, 42, 78, 60, 47]\n",
      "torch.Size([11, 1]) torch.Size([11, 65]) torch.Size([11])\n"
     ]
    },
    {
     "name": "stderr",
     "output_type": "stream",
     "text": [
      "\r",
      " 78%|███████▊  | 156/200 [25:29<07:05,  9.66s/it]"
     ]
    },
    {
     "name": "stdout",
     "output_type": "stream",
     "text": [
      "posNum : 2 128\n",
      "largeRotioNeg : 2\n",
      "posIndex : [16, 89, 109, 3, 52]\n",
      "allIndex : [89, 3, 52, 16, 109]\n",
      "torch.Size([5, 1]) torch.Size([5, 65]) torch.Size([5])\n"
     ]
    },
    {
     "name": "stderr",
     "output_type": "stream",
     "text": [
      "\r",
      " 78%|███████▊  | 157/200 [25:38<06:52,  9.60s/it]"
     ]
    },
    {
     "name": "stdout",
     "output_type": "stream",
     "text": [
      "posNum : 0 128\n",
      "largeRotioNeg : 0\n",
      "posIndex : [8, 34, 84, 38, 70, 107, 5, 28, 96, 69, 92]\n",
      "allIndex : [107, 28, 92, 69, 34, 38, 5, 8, 84, 96, 70]\n",
      "torch.Size([11, 1]) torch.Size([11, 65]) torch.Size([11])\n"
     ]
    },
    {
     "name": "stderr",
     "output_type": "stream",
     "text": [
      "\r",
      " 79%|███████▉  | 158/200 [25:49<06:54,  9.86s/it]"
     ]
    },
    {
     "name": "stdout",
     "output_type": "stream",
     "text": [
      "posNum : 0 128\n",
      "largeRotioNeg : 0\n",
      "posIndex : [2, 7, 4, 119, 13, 97, 98, 60, 35, 82, 90]\n",
      "allIndex : [7, 2, 4, 98, 82, 35, 119, 90, 60, 13, 97]\n",
      "torch.Size([11, 1]) torch.Size([11, 65]) torch.Size([11])\n"
     ]
    },
    {
     "name": "stderr",
     "output_type": "stream",
     "text": [
      "\r",
      " 80%|███████▉  | 159/200 [25:59<06:51, 10.03s/it]"
     ]
    },
    {
     "name": "stdout",
     "output_type": "stream",
     "text": [
      "posNum : 2 128\n",
      "largeRotioNeg : 2\n",
      "posIndex : [119, 1, 22, 21, 35]\n",
      "allIndex : [35, 119, 1, 21, 22]\n",
      "torch.Size([5, 1]) torch.Size([5, 65]) torch.Size([5])\n"
     ]
    },
    {
     "name": "stderr",
     "output_type": "stream",
     "text": [
      "\r",
      " 80%|████████  | 160/200 [26:09<06:33,  9.83s/it]"
     ]
    },
    {
     "name": "stdout",
     "output_type": "stream",
     "text": [
      "posNum : 2 128\n",
      "largeRotioNeg : 2\n",
      "posIndex : [38, 14, 0, 82, 56]\n",
      "allIndex : [0, 38, 14, 56, 82]\n",
      "torch.Size([5, 1]) torch.Size([5, 65]) torch.Size([5])\n"
     ]
    },
    {
     "name": "stderr",
     "output_type": "stream",
     "text": [
      "\r",
      " 80%|████████  | 161/200 [26:18<06:17,  9.67s/it]"
     ]
    },
    {
     "name": "stdout",
     "output_type": "stream",
     "text": [
      "posNum : 1 128\n",
      "largeRotioNeg : 1\n",
      "posIndex : [0, 35, 36]\n",
      "allIndex : [36, 35, 0]\n",
      "torch.Size([3, 1]) torch.Size([3, 65]) torch.Size([3])\n"
     ]
    },
    {
     "name": "stderr",
     "output_type": "stream",
     "text": [
      "\r",
      " 81%|████████  | 162/200 [26:27<05:59,  9.46s/it]"
     ]
    },
    {
     "name": "stdout",
     "output_type": "stream",
     "text": [
      "posNum : 1 128\n",
      "largeRotioNeg : 1\n",
      "posIndex : [34, 76, 41]\n",
      "allIndex : [41, 34, 76]\n",
      "torch.Size([3, 1]) torch.Size([3, 65]) torch.Size([3])\n"
     ]
    },
    {
     "name": "stderr",
     "output_type": "stream",
     "text": [
      "\r",
      " 82%|████████▏ | 163/200 [26:36<05:45,  9.34s/it]"
     ]
    },
    {
     "name": "stdout",
     "output_type": "stream",
     "text": [
      "posNum : 2 128\n",
      "largeRotioNeg : 2\n",
      "posIndex : [69, 8, 112, 22, 73]\n",
      "allIndex : [22, 8, 73, 69, 112]\n",
      "torch.Size([5, 1]) torch.Size([5, 65]) torch.Size([5])\n"
     ]
    },
    {
     "name": "stderr",
     "output_type": "stream",
     "text": [
      "\r",
      " 82%|████████▏ | 164/200 [26:45<05:36,  9.35s/it]"
     ]
    },
    {
     "name": "stdout",
     "output_type": "stream",
     "text": [
      "posNum : 2 128\n",
      "largeRotioNeg : 2\n",
      "posIndex : [73, 84, 89, 88, 44]\n",
      "allIndex : [89, 84, 88, 44, 73]\n",
      "torch.Size([5, 1]) torch.Size([5, 65]) torch.Size([5])\n"
     ]
    },
    {
     "name": "stderr",
     "output_type": "stream",
     "text": [
      "\r",
      " 82%|████████▎ | 165/200 [26:55<05:27,  9.35s/it]"
     ]
    },
    {
     "name": "stdout",
     "output_type": "stream",
     "text": [
      "posNum : 1 128\n",
      "largeRotioNeg : 1\n",
      "posIndex : [112, 28, 61]\n",
      "allIndex : [28, 112, 61]\n",
      "torch.Size([3, 1]) torch.Size([3, 65]) torch.Size([3])\n"
     ]
    },
    {
     "name": "stderr",
     "output_type": "stream",
     "text": [
      "\r",
      " 83%|████████▎ | 166/200 [27:04<05:14,  9.25s/it]"
     ]
    },
    {
     "name": "stdout",
     "output_type": "stream",
     "text": [
      "posNum : 2 128\n",
      "largeRotioNeg : 2\n",
      "posIndex : [104, 51, 117, 23, 34]\n",
      "allIndex : [23, 51, 117, 34, 104]\n",
      "torch.Size([5, 1]) torch.Size([5, 65]) torch.Size([5])\n"
     ]
    },
    {
     "name": "stderr",
     "output_type": "stream",
     "text": [
      "\r",
      " 84%|████████▎ | 167/200 [27:13<05:05,  9.26s/it]"
     ]
    },
    {
     "name": "stdout",
     "output_type": "stream",
     "text": [
      "posNum : 0 128\n",
      "largeRotioNeg : 0\n",
      "posIndex : [117, 47, 54, 31, 17, 89, 49, 34, 119, 101, 120]\n",
      "allIndex : [120, 49, 101, 34, 89, 54, 117, 17, 31, 47, 119]\n",
      "torch.Size([11, 1]) torch.Size([11, 65]) torch.Size([11])\n"
     ]
    },
    {
     "name": "stderr",
     "output_type": "stream",
     "text": [
      "\r",
      " 84%|████████▍ | 168/200 [27:24<05:08,  9.64s/it]"
     ]
    },
    {
     "name": "stdout",
     "output_type": "stream",
     "text": [
      "posNum : 0 128\n",
      "largeRotioNeg : 0\n",
      "posIndex : [121, 21, 46, 16, 125, 31, 81, 40, 12, 32, 91]\n",
      "allIndex : [32, 16, 125, 40, 91, 121, 12, 46, 81, 31, 21]\n",
      "torch.Size([11, 1]) torch.Size([11, 65]) torch.Size([11])\n"
     ]
    },
    {
     "name": "stderr",
     "output_type": "stream",
     "text": [
      "\r",
      " 84%|████████▍ | 169/200 [27:34<05:07,  9.92s/it]"
     ]
    },
    {
     "name": "stdout",
     "output_type": "stream",
     "text": [
      "posNum : 1 128\n",
      "largeRotioNeg : 1\n",
      "posIndex : [78, 37, 35]\n",
      "allIndex : [35, 37, 78]\n",
      "torch.Size([3, 1]) torch.Size([3, 65]) torch.Size([3])\n"
     ]
    },
    {
     "name": "stderr",
     "output_type": "stream",
     "text": [
      "\r",
      " 85%|████████▌ | 170/200 [27:43<04:48,  9.63s/it]"
     ]
    },
    {
     "name": "stdout",
     "output_type": "stream",
     "text": [
      "posNum : 1 128\n",
      "largeRotioNeg : 1\n",
      "posIndex : [58, 104, 27]\n",
      "allIndex : [104, 27, 58]\n",
      "torch.Size([3, 1]) torch.Size([3, 65]) torch.Size([3])\n"
     ]
    },
    {
     "name": "stderr",
     "output_type": "stream",
     "text": [
      "\r",
      " 86%|████████▌ | 171/200 [27:52<04:33,  9.43s/it]"
     ]
    },
    {
     "name": "stdout",
     "output_type": "stream",
     "text": [
      "posNum : 0 128\n",
      "largeRotioNeg : 0\n",
      "posIndex : [83, 72, 62, 43, 93, 98, 37, 28, 29, 61, 116]\n",
      "allIndex : [28, 83, 62, 43, 98, 116, 61, 72, 37, 29, 93]\n",
      "torch.Size([11, 1]) torch.Size([11, 65]) torch.Size([11])\n"
     ]
    },
    {
     "name": "stderr",
     "output_type": "stream",
     "text": [
      "\r",
      " 86%|████████▌ | 172/200 [28:03<04:32,  9.74s/it]"
     ]
    },
    {
     "name": "stdout",
     "output_type": "stream",
     "text": [
      "posNum : 1 128\n",
      "largeRotioNeg : 1\n",
      "posIndex : [7, 11, 89]\n",
      "allIndex : [7, 89, 11]\n",
      "torch.Size([3, 1]) torch.Size([3, 65]) torch.Size([3])\n"
     ]
    },
    {
     "name": "stderr",
     "output_type": "stream",
     "text": [
      "\r",
      " 86%|████████▋ | 173/200 [28:12<04:16,  9.51s/it]"
     ]
    },
    {
     "name": "stdout",
     "output_type": "stream",
     "text": [
      "posNum : 1 128\n",
      "largeRotioNeg : 1\n",
      "posIndex : [2, 52, 47]\n",
      "allIndex : [52, 47, 2]\n",
      "torch.Size([3, 1]) torch.Size([3, 65]) torch.Size([3])\n"
     ]
    },
    {
     "name": "stderr",
     "output_type": "stream",
     "text": [
      "\r",
      " 87%|████████▋ | 174/200 [28:20<04:01,  9.30s/it]"
     ]
    },
    {
     "name": "stdout",
     "output_type": "stream",
     "text": [
      "posNum : 2 128\n",
      "largeRotioNeg : 2\n",
      "posIndex : [9, 108, 41, 71, 18]\n",
      "allIndex : [9, 41, 71, 18, 108]\n",
      "torch.Size([5, 1]) torch.Size([5, 65]) torch.Size([5])\n"
     ]
    },
    {
     "name": "stderr",
     "output_type": "stream",
     "text": [
      "\r",
      " 88%|████████▊ | 175/200 [28:30<03:52,  9.30s/it]"
     ]
    },
    {
     "name": "stdout",
     "output_type": "stream",
     "text": [
      "posNum : 0 128\n",
      "largeRotioNeg : 0\n",
      "posIndex : [52, 10, 12, 41, 85, 2, 56, 35, 1, 77, 103]\n",
      "allIndex : [85, 41, 2, 12, 103, 10, 52, 35, 56, 1, 77]\n",
      "torch.Size([11, 1]) torch.Size([11, 65]) torch.Size([11])\n"
     ]
    },
    {
     "name": "stderr",
     "output_type": "stream",
     "text": [
      "\r",
      " 88%|████████▊ | 176/200 [28:40<03:51,  9.63s/it]"
     ]
    },
    {
     "name": "stdout",
     "output_type": "stream",
     "text": [
      "posNum : 1 128\n",
      "largeRotioNeg : 1\n",
      "posIndex : [58, 81, 31]\n",
      "allIndex : [81, 58, 31]\n",
      "torch.Size([3, 1]) torch.Size([3, 65]) torch.Size([3])\n"
     ]
    },
    {
     "name": "stderr",
     "output_type": "stream",
     "text": [
      "\r",
      " 88%|████████▊ | 177/200 [28:49<03:37,  9.44s/it]"
     ]
    },
    {
     "name": "stdout",
     "output_type": "stream",
     "text": [
      "posNum : 1 128\n",
      "largeRotioNeg : 1\n",
      "posIndex : [23, 16, 98]\n",
      "allIndex : [98, 16, 23]\n",
      "torch.Size([3, 1]) torch.Size([3, 65]) torch.Size([3])\n"
     ]
    },
    {
     "name": "stderr",
     "output_type": "stream",
     "text": [
      "\r",
      " 89%|████████▉ | 178/200 [28:58<03:25,  9.32s/it]"
     ]
    },
    {
     "name": "stdout",
     "output_type": "stream",
     "text": [
      "posNum : 0 128\n",
      "largeRotioNeg : 0\n",
      "posIndex : [25, 37, 46, 73, 67, 108, 110, 68, 7, 74, 26]\n",
      "allIndex : [26, 46, 73, 68, 67, 7, 25, 110, 108, 74, 37]\n",
      "torch.Size([11, 1]) torch.Size([11, 65]) torch.Size([11])\n"
     ]
    },
    {
     "name": "stderr",
     "output_type": "stream",
     "text": [
      "\r",
      " 90%|████████▉ | 179/200 [29:09<03:23,  9.67s/it]"
     ]
    },
    {
     "name": "stdout",
     "output_type": "stream",
     "text": [
      "posNum : 1 128\n",
      "largeRotioNeg : 1\n",
      "posIndex : [0, 23, 84]\n",
      "allIndex : [23, 0, 84]\n",
      "torch.Size([3, 1]) torch.Size([3, 65]) torch.Size([3])\n"
     ]
    },
    {
     "name": "stderr",
     "output_type": "stream",
     "text": [
      "\r",
      " 90%|█████████ | 180/200 [29:17<03:08,  9.44s/it]"
     ]
    },
    {
     "name": "stdout",
     "output_type": "stream",
     "text": [
      "posNum : 2 128\n",
      "largeRotioNeg : 2\n",
      "posIndex : [112, 29, 20, 120, 51]\n",
      "allIndex : [29, 51, 112, 20, 120]\n",
      "torch.Size([5, 1]) torch.Size([5, 65]) torch.Size([5])\n"
     ]
    },
    {
     "name": "stderr",
     "output_type": "stream",
     "text": [
      "\r",
      " 90%|█████████ | 181/200 [29:27<02:59,  9.45s/it]"
     ]
    },
    {
     "name": "stdout",
     "output_type": "stream",
     "text": [
      "posNum : 3 128\n",
      "largeRotioNeg : 3\n",
      "posIndex : [41, 112, 100, 71, 78, 114, 64]\n",
      "allIndex : [114, 100, 78, 112, 41, 71, 64]\n",
      "torch.Size([7, 1]) torch.Size([7, 65]) torch.Size([7])\n"
     ]
    },
    {
     "name": "stderr",
     "output_type": "stream",
     "text": [
      "\r",
      " 91%|█████████ | 182/200 [29:37<02:51,  9.52s/it]"
     ]
    },
    {
     "name": "stdout",
     "output_type": "stream",
     "text": [
      "posNum : 0 128\n",
      "largeRotioNeg : 0\n",
      "posIndex : [61, 69, 75, 97, 127, 109, 19, 56, 74, 71, 6]\n",
      "allIndex : [97, 6, 69, 71, 56, 19, 127, 61, 75, 74, 109]\n",
      "torch.Size([11, 1]) torch.Size([11, 65]) torch.Size([11])\n"
     ]
    },
    {
     "name": "stderr",
     "output_type": "stream",
     "text": [
      "\r",
      " 92%|█████████▏| 183/200 [29:47<02:46,  9.80s/it]"
     ]
    },
    {
     "name": "stdout",
     "output_type": "stream",
     "text": [
      "posNum : 1 128\n",
      "largeRotioNeg : 1\n",
      "posIndex : [77, 12, 84]\n",
      "allIndex : [12, 84, 77]\n",
      "torch.Size([3, 1]) torch.Size([3, 65]) torch.Size([3])\n"
     ]
    },
    {
     "name": "stderr",
     "output_type": "stream",
     "text": [
      "\r",
      " 92%|█████████▏| 184/200 [29:56<02:32,  9.52s/it]"
     ]
    },
    {
     "name": "stdout",
     "output_type": "stream",
     "text": [
      "posNum : 0 128\n",
      "largeRotioNeg : 0\n",
      "posIndex : [83, 71, 0, 8, 89, 62, 24, 46, 70, 118, 91]\n",
      "allIndex : [0, 71, 89, 24, 62, 83, 8, 70, 118, 46, 91]\n",
      "torch.Size([11, 1]) torch.Size([11, 65]) torch.Size([11])\n"
     ]
    },
    {
     "name": "stderr",
     "output_type": "stream",
     "text": [
      "\r",
      " 92%|█████████▎| 185/200 [30:06<02:26,  9.79s/it]"
     ]
    },
    {
     "name": "stdout",
     "output_type": "stream",
     "text": [
      "posNum : 0 128\n",
      "largeRotioNeg : 0\n",
      "posIndex : [8, 57, 64, 106, 102, 54, 81, 123, 121, 61, 16]\n",
      "allIndex : [81, 64, 16, 102, 61, 121, 54, 57, 106, 8, 123]\n",
      "torch.Size([11, 1]) torch.Size([11, 65]) torch.Size([11])\n"
     ]
    },
    {
     "name": "stderr",
     "output_type": "stream",
     "text": [
      "\r",
      " 93%|█████████▎| 186/200 [30:17<02:19,  9.97s/it]"
     ]
    },
    {
     "name": "stdout",
     "output_type": "stream",
     "text": [
      "posNum : 1 128\n",
      "largeRotioNeg : 1\n",
      "posIndex : [48, 9, 31]\n",
      "allIndex : [48, 9, 31]\n",
      "torch.Size([3, 1]) torch.Size([3, 65]) torch.Size([3])\n"
     ]
    },
    {
     "name": "stderr",
     "output_type": "stream",
     "text": [
      "\r",
      " 94%|█████████▎| 187/200 [30:26<02:05,  9.65s/it]"
     ]
    },
    {
     "name": "stdout",
     "output_type": "stream",
     "text": [
      "posNum : 2 128\n",
      "largeRotioNeg : 2\n",
      "posIndex : [95, 127, 73, 8, 65]\n",
      "allIndex : [73, 95, 8, 127, 65]\n",
      "torch.Size([5, 1]) torch.Size([5, 65]) torch.Size([5])\n"
     ]
    },
    {
     "name": "stderr",
     "output_type": "stream",
     "text": [
      "\r",
      " 94%|█████████▍| 188/200 [30:35<01:54,  9.54s/it]"
     ]
    },
    {
     "name": "stdout",
     "output_type": "stream",
     "text": [
      "posNum : 1 128\n",
      "largeRotioNeg : 1\n",
      "posIndex : [14, 59, 126]\n",
      "allIndex : [59, 14, 126]\n",
      "torch.Size([3, 1]) torch.Size([3, 65]) torch.Size([3])\n"
     ]
    },
    {
     "name": "stderr",
     "output_type": "stream",
     "text": [
      "\r",
      " 94%|█████████▍| 189/200 [30:44<01:42,  9.34s/it]"
     ]
    },
    {
     "name": "stdout",
     "output_type": "stream",
     "text": [
      "posNum : 2 128\n",
      "largeRotioNeg : 2\n",
      "posIndex : [3, 79, 42, 122, 2]\n",
      "allIndex : [3, 122, 42, 79, 2]\n",
      "torch.Size([5, 1]) torch.Size([5, 65]) torch.Size([5])\n"
     ]
    },
    {
     "name": "stderr",
     "output_type": "stream",
     "text": [
      "\r",
      " 95%|█████████▌| 190/200 [30:53<01:33,  9.32s/it]"
     ]
    },
    {
     "name": "stdout",
     "output_type": "stream",
     "text": [
      "posNum : 2 128\n",
      "largeRotioNeg : 2\n",
      "posIndex : [111, 112, 57, 119, 55]\n",
      "allIndex : [119, 111, 112, 55, 57]\n",
      "torch.Size([5, 1]) torch.Size([5, 65]) torch.Size([5])\n"
     ]
    },
    {
     "name": "stderr",
     "output_type": "stream",
     "text": [
      "\r",
      " 96%|█████████▌| 191/200 [31:03<01:24,  9.35s/it]"
     ]
    },
    {
     "name": "stdout",
     "output_type": "stream",
     "text": [
      "posNum : 1 128\n",
      "largeRotioNeg : 1\n",
      "posIndex : [4, 14, 81]\n",
      "allIndex : [4, 14, 81]\n",
      "torch.Size([3, 1]) torch.Size([3, 65]) torch.Size([3])\n"
     ]
    },
    {
     "name": "stderr",
     "output_type": "stream",
     "text": [
      "\r",
      " 96%|█████████▌| 192/200 [31:12<01:13,  9.24s/it]"
     ]
    },
    {
     "name": "stdout",
     "output_type": "stream",
     "text": [
      "posNum : 4 128\n",
      "largeRotioNeg : 4\n",
      "posIndex : [77, 33, 83, 58, 56, 49, 69, 114, 75]\n",
      "allIndex : [49, 75, 56, 69, 114, 83, 33, 58, 77]\n",
      "torch.Size([9, 1]) torch.Size([9, 65]) torch.Size([9])\n"
     ]
    },
    {
     "name": "stderr",
     "output_type": "stream",
     "text": [
      "\r",
      " 96%|█████████▋| 193/200 [31:22<01:06,  9.51s/it]"
     ]
    },
    {
     "name": "stdout",
     "output_type": "stream",
     "text": [
      "posNum : 2 128\n",
      "largeRotioNeg : 2\n",
      "posIndex : [54, 112, 33, 114, 78]\n",
      "allIndex : [114, 33, 54, 112, 78]\n",
      "torch.Size([5, 1]) torch.Size([5, 65]) torch.Size([5])\n"
     ]
    },
    {
     "name": "stderr",
     "output_type": "stream",
     "text": [
      "\r",
      " 97%|█████████▋| 194/200 [31:31<00:56,  9.46s/it]"
     ]
    },
    {
     "name": "stdout",
     "output_type": "stream",
     "text": [
      "posNum : 5 128\n",
      "largeRotioNeg : 5\n",
      "posIndex : [80, 34, 39, 71, 66, 74, 67, 93, 6, 14, 100]\n",
      "allIndex : [74, 39, 93, 71, 100, 6, 67, 34, 14, 80, 66]\n",
      "torch.Size([11, 1]) torch.Size([11, 65]) torch.Size([11])\n"
     ]
    },
    {
     "name": "stderr",
     "output_type": "stream",
     "text": [
      "\r",
      " 98%|█████████▊| 195/200 [31:42<00:48,  9.78s/it]"
     ]
    },
    {
     "name": "stdout",
     "output_type": "stream",
     "text": [
      "posNum : 2 128\n",
      "largeRotioNeg : 2\n",
      "posIndex : [127, 124, 83, 71, 27]\n",
      "allIndex : [71, 27, 127, 83, 124]\n",
      "torch.Size([5, 1]) torch.Size([5, 65]) torch.Size([5])\n"
     ]
    },
    {
     "name": "stderr",
     "output_type": "stream",
     "text": [
      "\r",
      " 98%|█████████▊| 196/200 [31:51<00:38,  9.65s/it]"
     ]
    },
    {
     "name": "stdout",
     "output_type": "stream",
     "text": [
      "posNum : 1 128\n",
      "largeRotioNeg : 1\n",
      "posIndex : [106, 74, 3]\n",
      "allIndex : [106, 74, 3]\n",
      "torch.Size([3, 1]) torch.Size([3, 65]) torch.Size([3])\n"
     ]
    },
    {
     "name": "stderr",
     "output_type": "stream",
     "text": [
      "\r",
      " 98%|█████████▊| 197/200 [32:00<00:28,  9.43s/it]"
     ]
    },
    {
     "name": "stdout",
     "output_type": "stream",
     "text": [
      "posNum : 1 128\n",
      "largeRotioNeg : 1\n",
      "posIndex : [111, 90, 22]\n",
      "allIndex : [90, 22, 111]\n",
      "torch.Size([3, 1]) torch.Size([3, 65]) torch.Size([3])\n"
     ]
    },
    {
     "name": "stderr",
     "output_type": "stream",
     "text": [
      "\r",
      " 99%|█████████▉| 198/200 [32:09<00:18,  9.29s/it]"
     ]
    },
    {
     "name": "stdout",
     "output_type": "stream",
     "text": [
      "posNum : 2 128\n",
      "largeRotioNeg : 2\n",
      "posIndex : [13, 44, 53, 89, 88]\n",
      "allIndex : [88, 13, 53, 44, 89]\n",
      "torch.Size([5, 1]) torch.Size([5, 65]) torch.Size([5])\n"
     ]
    },
    {
     "name": "stderr",
     "output_type": "stream",
     "text": [
      "\r",
      "100%|█████████▉| 199/200 [32:18<00:09,  9.29s/it]"
     ]
    },
    {
     "name": "stdout",
     "output_type": "stream",
     "text": [
      "posNum : 1 128\n",
      "largeRotioNeg : 1\n",
      "posIndex : [76, 86, 97]\n",
      "allIndex : [97, 76, 86]\n",
      "torch.Size([3, 1]) torch.Size([3, 65]) torch.Size([3])\n"
     ]
    },
    {
     "name": "stderr",
     "output_type": "stream",
     "text": [
      "100%|██████████| 200/200 [32:27<00:00,  9.74s/it]\n"
     ]
    }
   ],
   "source": [
    "ppo_trainer = PPOTrainer(gpt2_model, gpt2_model_ref, **config)\n",
    "fbs = config['forward_batch_size']\n",
    "rewards_plot=[]\n",
    "text_plot=[]\n",
    "for epoch in tqdm(range(int(np.ceil(config[\"steps\"]/config['batch_size'])))):\n",
    "    torch.cuda.empty_cache()\n",
    "    logs = dict()\n",
    "    game_data = dict()\n",
    "    timing = dict()\n",
    "    t0 = time.time()\n",
    "    \n",
    "    #### get a batch from the dataset\n",
    "    df_batch = df.sample(config['batch_size'])\n",
    "    game_data['query'] = df_batch['query'].tolist()\n",
    "    query_tensors = torch.stack(df_batch['tokens'].tolist())\n",
    "    \n",
    "    #### get response from gpt2\n",
    "    t = time.time()\n",
    "    total_length = config['txt_in_len']+config['txt_out_len']\n",
    "    response_tensors = []\n",
    "    for i in range(int(config['batch_size']/fbs)):\n",
    "        response  = respond_to_batch(gpt2_model, query_tensors[i*fbs:(i+1)*fbs],nolegal_index,\n",
    "                                     txt_len=config['txt_out_len'])\n",
    "        response_tensors.append(response)\n",
    "    response_tensors = torch.cat(response_tensors)\n",
    "    game_data['response'] = [gpt2_tokenizer.decode(response_tensors[i, :]).split('!')[0] for i in range(config['batch_size'])]\n",
    "    timing['time/get_response'] = time.time()-t\n",
    "    \n",
    "    #### tokenize text for sentiment analysis\n",
    "    t = time.time()\n",
    "    texts = [q + r for q,r in zip(game_data['query'], game_data['response'])]\n",
    "    text_plot+=texts\n",
    "    #统计legal illegal数量\n",
    "#     islegal_tests=[t[:  t.rindex('0')+1] for t in texts]\n",
    "#     print(islegal_tests)\n",
    "#     print(texts)\n",
    "    legalCount,illegalCount=count_is_legal(texts)\n",
    "    logs['count/legalCount']=legalCount\n",
    "    logs['count/illegalCount']=illegalCount\n",
    "    \n",
    "    sentiment_inputs, attention_masks,indices = data_prepare(texts, gpt2_tokenizer, config['max_length'])  \n",
    "    sentiment_inputs=sentiment_inputs.to(device)\n",
    "    attention_masks=attention_masks.to(device)\n",
    "    indices=indices.to(device)\n",
    "    timing['time/build_input_sentiment'] = time.time()-t\n",
    "\n",
    "    #### get sentiment score\n",
    "    t = time.time()\n",
    "    rewards = []\n",
    "    for i in range(int(config['batch_size']/fbs)):\n",
    "        res = sentiment_model.forward(sentiment_inputs[i*fbs:(i+1)*fbs],\n",
    "                                      attention_masks[i*fbs:(i+1)*fbs],\n",
    "                                     indices[i*fbs:(i+1)*fbs])[:, 1].detach()\n",
    "        rewards.append(res)\n",
    "    rewards = torch.cat(rewards)\n",
    "    timing['time/get_sentiment_preds'] = time.time()-t\n",
    "    rewards_plot.append(rewards.cpu().tolist())\n",
    "    #数据均衡处理\n",
    "    rewards_index = sorted(range(len(rewards)), key=lambda k: rewards[k],reverse=False)  # 升序排序 reversed=False\n",
    "    posNum=sum(rewards>=0).cpu().numpy()\n",
    "    dataBalance=False\n",
    "    print('posNum :',posNum,len(rewards))\n",
    "    if posNum*2<len(rewards):#做数据均衡处理\n",
    "        dataBalance=True\n",
    "        largeNegNum=posNum#采样数量\n",
    "        print('largeRotioNeg :',largeNegNum)\n",
    "#         smallNegNum=int(posNum*0.2)#采样数量\n",
    "#         print('smallRotioNeg :',smallNegNum)\n",
    "#         choiceSmall=rewards_index[:len(rewards)-posNum-posNum]\n",
    "#         choiceLarge=rewards_index[-posNum-posNum:-posNum]\n",
    "#         print('choiceSmall :',choiceSmall)\n",
    "#         print('choiceLarge :',choiceLarge)\n",
    "#         if largeNegNum>len(choiceLarge):\n",
    "#             largeNegNum=len(choiceLarge)\n",
    "#         if smallNegNum>len(choiceSmall):\n",
    "#             smallNegNum=len(choiceSmall)\n",
    "#         largeIndex = np.random.choice(choiceLarge,size=largeNegNum, replace=False)\n",
    "#         largeIndex=choiceLarge\n",
    "#         smallIndex = np.random.choice(choiceSmall,size=smallNegNum, replace=False)\n",
    "        if posNum==0:\n",
    "            posNum=5\n",
    "        posIndex=rewards_index[-2*posNum-1:]\n",
    "#         print('smallIndex :',smallIndex)\n",
    "#         print('largeIndex :',largeIndex)\n",
    "        print('posIndex :',posIndex)\n",
    "#         print(type(posIndex),type(smallIndex),type(largeIndex),)\n",
    "        allIndex=posIndex#+list(smallIndex)#+list(largeIndex)\n",
    "    if len(allIndex)==0 or len(allIndex)==1:\n",
    "        continue\n",
    "    if dataBalance:\n",
    "        random.shuffle(allIndex)\n",
    "        print('allIndex :',allIndex)\n",
    "        query_tensors=query_tensors[allIndex,:]\n",
    "        response_tensors=response_tensors[allIndex,:]\n",
    "        rewards=rewards[allIndex]\n",
    "    print(query_tensors.shape,response_tensors.shape,rewards.shape)\n",
    "   \n",
    "    \n",
    "    #### Run PPO training \n",
    "    t = time.time()\n",
    "#     stats = ppo_trainer.step(query_selected, response_selected, rewards_selected)\n",
    "    stats = ppo_trainer.step(query_tensors, response_tensors, rewards)\n",
    "    timing['time/optimization'] = time.time()-t\n",
    "     \n",
    "    #### Log everything\n",
    "    timing['time/epoch'] = time.time()-t0\n",
    "    table_rows = [list(r) for r in zip(game_data['query'], game_data['response'], rewards.cpu().tolist())]\n",
    "    logs.update({'game_log':wandb.Table(\n",
    "        columns=['query', 'response', 'reward'],\n",
    "        rows=table_rows)})\n",
    "    logs.update(timing)\n",
    "    logs.update(stats)\n",
    "    logs['env/reward_mean'] = torch.mean(rewards).cpu().numpy()\n",
    "    logs['env/reward_std'] = torch.std(rewards).cpu().numpy()\n",
    "    logs['env/reward_dist'] = rewards.cpu().numpy()\n",
    "    wandb.log(logs)\n",
    "#     if epoch==20:\n",
    "#         break"
   ]
  },
  {
   "cell_type": "code",
   "execution_count": 13,
   "metadata": {},
   "outputs": [
    {
     "name": "stdout",
     "output_type": "stream",
     "text": [
      "60\n",
      "31\n",
      "23\n",
      "9\n",
      "7\n",
      "25\n",
      "16\n",
      "14\n",
      "12\n",
      "1\n"
     ]
    }
   ],
   "source": [
    "for t in rewards_plot[:10]:\n",
    "    print(len(t))"
   ]
  },
  {
   "cell_type": "code",
   "execution_count": 6,
   "metadata": {},
   "outputs": [
    {
     "data": {
      "image/png": "[encoded data removed]",
      "text/plain": [
       "<Figure size 432x288 with 1 Axes>"
      ]
     },
     "metadata": {
      "needs_background": "light"
     },
     "output_type": "display_data"
    }
   ],
   "source": [
    "rewards_plot\n",
    "import matplotlib.pyplot as plt\n",
    "#对score进行排序 画出分布图\n",
    "for scores in rewards_plot[:]:\n",
    "    scores=sorted(scores)\n",
    "    posNum=sum(np.array(scores)>=0)\n",
    "#     print(posNum)\n",
    "#     len(scores),scores[:10]\n",
    "    x=[i for i in range(len(scores))]\n",
    "    plt.plot(x, scores)  "
   ]
  },
  {
   "cell_type": "code",
   "execution_count": null,
   "metadata": {},
   "outputs": [],
   "source": []
  },
  {
   "cell_type": "code",
   "execution_count": null,
   "metadata": {},
   "outputs": [],
   "source": []
  },
  {
   "cell_type": "code",
   "execution_count": 13,
   "metadata": {},
   "outputs": [],
   "source": [
    "# len(game_data['response'])\n",
    "# game_data['response']\n",
    "# torch.Size([128, 1]) torch.Size([128, 65]) torch.Size([128])\n",
    "for i in range(0):\n",
    "    print(i)"
   ]
  },
  {
   "cell_type": "code",
   "execution_count": 13,
   "metadata": {},
   "outputs": [
    {
     "data": {
      "text/plain": [
       "59"
      ]
     },
     "execution_count": 13,
     "metadata": {},
     "output_type": "execute_result"
    }
   ],
   "source": [
    "data=[38, 33, 125, 65, 58, 105, 19, 106, 1, 92, 111, 63, 100, 85, 71, 118, 82, 116, 119, 75, 15, 2, 54, 37, 94, 36, 9, 127, 97, 114, 47, 91, 102, 121, 55, 14, 123, 60, 78, 87, 110, 109, 53, 25, 64, 40, 5, 124, 29, 7, 45, 112, 52, 28, 62, 30, 48, 122, 57]\n",
    "len(data)"
   ]
  },
  {
   "cell_type": "code",
   "execution_count": 27,
   "metadata": {},
   "outputs": [],
   "source": [
    "torch.save(gpt2_model, '/data/hdj/data/CodeBERT/codesearch/results/gpt2_model_0207_1.pkl')\n",
    "# gpt2_model = torch.load('/data/hdj/data/CodeBERT/codesearch/results/gpt2_model.pkl')"
   ]
  },
  {
   "cell_type": "code",
   "execution_count": 11,
   "metadata": {},
   "outputs": [],
   "source": [
    "torch.cuda.empty_cache()\n",
    "_ = gpt2_model.eval()"
   ]
  },
  {
   "cell_type": "code",
   "execution_count": 7,
   "metadata": {},
   "outputs": [
    {
     "name": "stdout",
     "output_type": "stream",
     "text": [
      "(64, 5)\n"
     ]
    },
    {
     "data": {
      "text/html": [
       "<div>\n",
       "<style scoped>\n",
       "    .dataframe tbody tr th:only-of-type {\n",
       "        vertical-align: middle;\n",
       "    }\n",
       "\n",
       "    .dataframe tbody tr th {\n",
       "        vertical-align: top;\n",
       "    }\n",
       "\n",
       "    .dataframe thead th {\n",
       "        text-align: right;\n",
       "    }\n",
       "</style>\n",
       "<table border=\"1\" class=\"dataframe\">\n",
       "  <thead>\n",
       "    <tr style=\"text-align: right;\">\n",
       "      <th></th>\n",
       "      <th>query</th>\n",
       "      <th>response (before)</th>\n",
       "      <th>response (after)</th>\n",
       "      <th>rewards (before)</th>\n",
       "      <th>rewards (after)</th>\n",
       "    </tr>\n",
       "  </thead>\n",
       "  <tbody>\n",
       "    <tr>\n",
       "      <th>0</th>\n",
       "      <td>0</td>\n",
       "      <td>2 3 108 4 110 8 84 6 59 63 9 77 6 59 63 7 33 ...</td>\n",
       "      <td>1 12 66 104 6 59 63 10 14 27 89 28 81 6 90 7 ...</td>\n",
       "      <td>-5.194730</td>\n",
       "      <td>-5.933484</td>\n",
       "    </tr>\n",
       "    <tr>\n",
       "      <th>1</th>\n",
       "      <td>0</td>\n",
       "      <td>2 3 108 4 109 5 68 6 59 62 7 33 16 82 6 59 63...</td>\n",
       "      <td>2 3 108 4 109 5 68 6 59 62 7 33 16 82 6 59 63...</td>\n",
       "      <td>-5.307281</td>\n",
       "      <td>-5.459636</td>\n",
       "    </tr>\n",
       "    <tr>\n",
       "      <th>2</th>\n",
       "      <td>0</td>\n",
       "      <td>2 3 108 4 109 8 85 6 59 63 9 74 6 59 63 7 32 ...</td>\n",
       "      <td>1 12 66 101 6 59 63 10 13 30 6 59 63 18 79 28...</td>\n",
       "      <td>-5.395615</td>\n",
       "      <td>-5.868737</td>\n",
       "    </tr>\n",
       "    <tr>\n",
       "      <th>3</th>\n",
       "      <td>0</td>\n",
       "      <td>2 3 108 4 109 5 71 6 59 63 10 7 33 16 83 6 59...</td>\n",
       "      <td>1 12 66 19 4 109 6 59 63 7 32 8 85 6 59 63 34...</td>\n",
       "      <td>-5.449418</td>\n",
       "      <td>-4.094964</td>\n",
       "    </tr>\n",
       "    <tr>\n",
       "      <th>4</th>\n",
       "      <td>0</td>\n",
       "      <td>2 3 108 4 109 8 84 6 59 62 9 74 6 59 62 7 32 ...</td>\n",
       "      <td>1 12 66 102 6 59 62 10 14 27 80 28 81 6 59 62...</td>\n",
       "      <td>4.862106</td>\n",
       "      <td>-6.038002</td>\n",
       "    </tr>\n",
       "  </tbody>\n",
       "</table>\n",
       "</div>"
      ],
      "text/plain": [
       "  query                                  response (before)  \\\n",
       "0     0   2 3 108 4 110 8 84 6 59 63 9 77 6 59 63 7 33 ...   \n",
       "1     0   2 3 108 4 109 5 68 6 59 62 7 33 16 82 6 59 63...   \n",
       "2     0   2 3 108 4 109 8 85 6 59 63 9 74 6 59 63 7 32 ...   \n",
       "3     0   2 3 108 4 109 5 71 6 59 63 10 7 33 16 83 6 59...   \n",
       "4     0   2 3 108 4 109 8 84 6 59 62 9 74 6 59 62 7 32 ...   \n",
       "\n",
       "                                    response (after)  rewards (before)  \\\n",
       "0   1 12 66 104 6 59 63 10 14 27 89 28 81 6 90 7 ...         -5.194730   \n",
       "1   2 3 108 4 109 5 68 6 59 62 7 33 16 82 6 59 63...         -5.307281   \n",
       "2   1 12 66 101 6 59 63 10 13 30 6 59 63 18 79 28...         -5.395615   \n",
       "3   1 12 66 19 4 109 6 59 63 7 32 8 85 6 59 63 34...         -5.449418   \n",
       "4   1 12 66 102 6 59 62 10 14 27 80 28 81 6 59 62...          4.862106   \n",
       "\n",
       "   rewards (after)  \n",
       "0        -5.933484  \n",
       "1        -5.459636  \n",
       "2        -5.868737  \n",
       "3        -4.094964  \n",
       "4        -6.038002  "
      ]
     },
     "execution_count": 7,
     "metadata": {},
     "output_type": "execute_result"
    }
   ],
   "source": [
    "#### get a batch from the dataset\n",
    "total=0\n",
    "bs = 64\n",
    "query_list=[]\n",
    "response_before=[]\n",
    "response_after=[]\n",
    "rewards_before=[]\n",
    "rewards_after=[]\n",
    "while total>=0:\n",
    "    game_data_test = dict()\n",
    "    df_batch = df.sample(bs)\n",
    "    game_data_test['query'] = df_batch['query'].tolist()\n",
    "#     query_list+=df_batch['query'].tolist()\n",
    "    query_tensors = torch.stack(df_batch['tokens'].tolist())\n",
    "\n",
    "    #### get response from gpt2 and gpt2_ref\n",
    "    total_length = config['txt_in_len']+config['txt_out_len']\n",
    "    response_tensors_ref  = respond_to_batch(gpt2_model_ref, query_tensors,nolegal_index, txt_len=config['txt_out_len'])\n",
    "    game_data_test['response (before)'] = [gpt2_tokenizer.decode(response_tensors_ref[i, :]) for i in range(bs)]\n",
    "#     response_before+=[gpt2_tokenizer.decode(response_tensors_ref[i, :]) for i in range(bs)]\n",
    "    response_tensors  = respond_to_batch(gpt2_model, query_tensors,nolegal_index, txt_len=config['txt_out_len'])\n",
    "    game_data_test['response (after)'] = [gpt2_tokenizer.decode(response_tensors[i, :]) for i in range(bs)]\n",
    "#     response_after+=[gpt2_tokenizer.decode(response_tensors[i, :]) for i in range(bs)]\n",
    "    #### sentiment analysis of query/response pairs before/after\n",
    "    texts = [q + r for q,r in zip(game_data_test['query'], game_data_test['response (before)'])]\n",
    "    sentiment_inputs, attention_masks,indices = data_prepare(texts, gpt2_tokenizer, config['max_length'])  \n",
    "    sentiment_inputs=sentiment_inputs.to(device)\n",
    "    attention_masks=attention_masks.to(device)\n",
    "    indices=indices.to(device)  \n",
    "    rewards = sentiment_model.forward(sentiment_inputs,\n",
    "                                          attention_masks,\n",
    "                                         indices)[:, 1].detach()\n",
    "    # rewards = sentiment_model.forward(sentiment_inputs, attention_masks)[0][:, 1].detach()\n",
    "    game_data_test['rewards (before)'] = rewards.cpu().numpy()\n",
    "#     rewards_before+=rewards.cpu().numpy()\n",
    "    texts = [q + r for q,r in zip(game_data_test['query'], game_data_test['response (after)'])]\n",
    "    sentiment_inputs, attention_masks,indices = data_prepare(texts, gpt2_tokenizer, config['max_length'])  \n",
    "    sentiment_inputs=sentiment_inputs.to(device)\n",
    "    attention_masks=attention_masks.to(device)\n",
    "    indices=indices.to(device)   \n",
    "    rewards = sentiment_model.forward(sentiment_inputs,\n",
    "                                          attention_masks,\n",
    "                                         indices)[:, 1].detach()\n",
    "\n",
    "    game_data_test['rewards (after)'] = rewards.cpu().numpy()\n",
    "#     rewards_after=rewards.cpu().numpy()\n",
    "    total-=1\n",
    "# game_data_test['query'] = query_list\n",
    "# game_data_test['response (before)'] = response_before\n",
    "# game_data_test['response (after)'] = response_after\n",
    "# game_data_test['rewards (before)'] = rewards_before\n",
    "# game_data_test['rewards (after)'] = rewards_after\n",
    "# store results in a dataframe\n",
    "df_results = pd.DataFrame(game_data_test)\n",
    "print(df_results.shape)\n",
    "df_results.head()"
   ]
  },
  {
   "cell_type": "code",
   "execution_count": 32,
   "metadata": {},
   "outputs": [],
   "source": [
    "#这里处理！导致的文本输出0时还不结束的问题\n",
    "# s='!'\n",
    "# specialIndex=[]\n",
    "# for i in range(66):\n",
    "#     specialIndex+=gpt2_tokenizer.encode(s)\n",
    "#     print(gpt2_tokenizer.encode(s),s)\n",
    "#     s+='!'\n",
    "# len(specialIndex)\n",
    "# specialIndex=set(specialIndex)\n",
    "# specialIndex"
   ]
  },
  {
   "cell_type": "code",
   "execution_count": 18,
   "metadata": {},
   "outputs": [
    {
     "data": {
      "text/plain": [
       "('!!!!!!!!', '!!!', '!!!!!')"
      ]
     },
     "execution_count": 18,
     "metadata": {},
     "output_type": "execute_result"
    }
   ],
   "source": [
    "gpt2_tokenizer.convert_ids_to_tokens(34635),gpt2_tokenizer.convert_ids_to_tokens(10185),gpt2_tokenizer.convert_ids_to_tokens(50184),"
   ]
  },
  {
   "cell_type": "code",
   "execution_count": 34,
   "metadata": {},
   "outputs": [],
   "source": [
    "# sorted(df_results['response (after)'].values)"
   ]
  },
  {
   "cell_type": "code",
   "execution_count": 8,
   "metadata": {},
   "outputs": [
    {
     "data": {
      "text/plain": [
       "array([' 1 12 66 104 6 59 63 10 14 27 89 28 81 6 90 7 33 16 83 6 59 63 28 81 6 59 63 29 13 71 61 24 64 61 24 60 59 63 61 0 99 61 61 0 60 61 0! 0! 0! 90 106 60 61 91 61 61 00 61 0 1 0',\n",
       "       ' 2 3 108 4 109 5 68 6 59 62 7 33 16 82 6 59 63 7 33 16 82 6 59 63 8 84 4 109 0 13 98 6 59 62 8 84 4 109 0 25 8 85 4 110 34 43 84 4 110 0 70 61 9 16 82 35 58 61 61 30 47 2 35 99 103',\n",
       "       ' 1 12 66 101 6 59 63 10 13 30 6 59 63 18 79 28 81 6 59 62 31 7 33 4 110 61 8 84 4 110 46 61 0 6 61 0 8 84 4 110 61 0 11 61 60 61 30 61 0 30 61 101 60 60 61 600 61 0 91 61 66 0 59 102',\n",
       "       ' 1 12 66 19 4 109 6 59 63 7 32 8 85 6 59 63 34 44 4 109 46 99 4 109 45 94 4 109 46 99 4 109 6 59 63 8 84 4 109 90 97 6 59 62 8 84 4 109 14 50 61 98 109 7 32 8 85 4 109 90 22 52 110 64 10',\n",
       "       ' 1 12 66 102 6 59 62 10 14 27 80 28 81 6 59 62 7 33 16 82 6 59 62 8 84 4 110 3 108 0 18 79 60 61 89 61 0 62 24 64 11 61 0 61 0 60 61 30 61 0 24 61 0 23 61 35 61 88 61 0 12 91 60 81 84',\n",
       "       ' 2 3 108 4 109 8 84 6 59 62 9 73 6 59 62 7 32 8 85 6 59 63 8 84 4 110 46 99 4 109 8 84 4 109 26 8 85 4 109 61 8 85 4 109 8 84 4 109 55 69 15 97 100 96 8 84 4 110 9 78 72 11 61 84 2',\n",
       "       ' 2 3 108 4 110 8 85 6 59 63 9 73 6 59 7 33 16 82 6 59 63 7 32 8 84 4 109 7 33 16 83 6 59 8 84 4 109 7 33 16 83 6 59 62 8 84 4 110 52 98 110 0 37 97 88 8 85 4 109 46 99 11 61 0 12',\n",
       "       ' 1 12 3 108 6 59 62 7 33 16 83 6 59 62 35 36 40 41 42 51 60 59 63 0! 22 60 61 89 61 74 16 60 61 0!!!! 44 103 33 61 80 61 96 90 94 16 83 28 20 90 1080 35 88 29 73 45 10 10 33 64 88',\n",
       "       ' 1 12 66 105 6 59 62 7 33 16 82 6 59 62 35 36 40 3 108 6 24 50 61 0! 6 59 62 61 0!!!! 74!!! 80 60 70 5 21 93 25 35 68 80 25 94 14 800 2 2 24 230 60 81 44 109 1200',\n",
       "       ' 1 12 66 106 6 59 62 10 14 27 80 28 81 6 59 62 29 65 18 79 108 24 6 89 90 4 109 20 90 60 60 59 62 0 24 61 0 30 6 59 63 8 60 61 61 61 0 60 61 0 30 61 0 30 61 0 61 0 83 61 21 33 57 60 21',\n",
       "       ' 1 12 66 105 6 59 62 10 13 30 6 7 33 16 83 6 59 63 18 79 28 81 6 89 6 59 62 89 89 89 22 24 64 61 0!!!!!!! 50 86 61 35 61 110 61 23 60 61 0! 31 60 61 27 11 60 1020 300',\n",
       "       ' 1 12 66 102 6 59 62 10 13 30 6 59 63 18 79 28 81 6 89 29 24 7 32 8 84 4 109 47 94 6 59 62 8 84 4 109 24 64 11 61 0 61 0 30 60 61 61 0 60 61 0!0 61 46 2 61 109 110 35 42 2 0 30 22',\n",
       "       ' 1 12 66 106 4 110 6 59 62 7 33 16 83 6 59 62 35 36 40 3 108 6 59 63 8 85 4 109 3 108 0 27 8 85 4 109 3 108 75 10 61 21 61 0 98 26 6 59 62 8 85 4 110 3 108 84 4 109 3 108 47 0 60 91 88',\n",
       "       ' 1 12 66 102 6 59 63 7 32 8 85 6 59 62 34 43 39 96 6 59 63 40 3 108 6 59 62 14 4 110 61 98 6 59 63 8 85 4 110 55 6 59 62 56 6 59 63 80 19 61 0 24 64 6 21 61 0 15 35 0 89 210 22 108',\n",
       "       ' 2 3 108 4 109 8 85 6 59 63 9 74 6 52 7 33 16 83 6 59 63 7 33 16 82 6 59 63 35 36 40 41 42 6 59 62 28 6 58 6 59 62 54 26 61 0 8 84 4 109 0 76 25 82 6 59 62 8 85 4 109 0 109 61 12',\n",
       "       ' 1 12 66 105 6 59 63 10 13 30 6 59 62 18 79 28 81 6 59 62 7 33 16 86 6 59 63 7 33 16 83 6 59 30 6 89 8 85 94 6 59 62 61 0!!!!!! 109 61 61 0! 31 61 33 61 0 640 31 310',\n",
       "       ' 1 12 3 108 6 59 63 7 32 8 85 6 59 62 34 43 39 96 6 59 62 38 58 6 59 62 54 6 59 63 50 86 6 59 63 51 6 59 63 5 8 84 4 110! 61 0 49 87 6 21 61 0 0 30 66 61 0 17 0 35 65 68 30 92',\n",
       "       ' 1 12 3 108 4 110 6 59 7 33 16 83 6 59 62 7 33 16 82 6 59 62 35 36 40 3 108 26 39 95 6 59 63 8 85 4 109 3 108 102 54 61 0! 97 6 59 63 8 85 4 110 3 108 0 7 28 20 14 102 2 80 53 102',\n",
       "       ' 1 12 3 108 6 59 63 7 33 16 82 6 59 63 35 36 37 97 6 59 62 38 19 6!!! 23 47 61 78 6 59 62 8 84 4 109 21 6 89 61 87 6 59 63 5 6 59 63 0 61 23 61 78 98 79 27 61 0 500 61 0',\n",
       "       ' 1 12 3 108 6 59 62 10 15 16 83 6 59 62 17 26 18 79 10 7 33 63 71 90 21 18 79 22 20 90 23 20 90 22 24 64 20 90 19 24 64 11 61 0! 11 60 61 0!! 84 61 0 4 109 61 14 11 61 0 14 0 11 61',\n",
       "       ' 2 3 108 4 110 8 85 6 59 62 9 74 6 59 63 7 32 8 85 6 59 62 7 33 16 83 6 59 62 8 85 4 109 8 85 4 109 76 6 59 63 8 85 4 109 27 8 85 4 110 58 6 61 26 72 80 7 51 34 81 103 42 100 35 12',\n",
       "       ' 1 12 3 108 6 59 63 7 33 16 82 6 59 63 35 36 37 98 6 59 63 38 51 6 59 63 0!! 98 6 59 63 8 84 4 109 20 90 61 0! 109 60 59 63 18 79 30! 12 100 106 64 61 36 5 87 35 22 87 94 100 93 72',\n",
       "       ' 2 3 108 4 109 8 85 6 59 63 9 73 6 59 63 7 33 16 83 6 59 62 6 59 62 8 84 4 110 46 99 4 109 6 59 63 8 84 4 110 96 6 59 63 8 85 4 110 0 97 6 59 63 8 84 4 109 0 53 102 81 99 108 75 12',\n",
       "       ' 1 12 3 108 6 8 85 6 59 63 9 75 6 59 62 7 33 16 83 6 59 63 95 7 32 8 84 4 110 34 43 39 96 6 59 63 38 19 6 59 63 8 85 4 109 3 108 0 98 6 59 63 8 84 4 109 87 9 61 102 0 0 290 108',\n",
       "       ' 1 12 66 106 4 44 6 59 62 7 33 16 83 6 59 62 7 32 8 85 4 109 46 99 4 109 45 94 4 109 46 99 4 110 6 59 62 8 84 4 109 6 59 14 8 8 85 4 109 3 108 0 31 9 75 61 0 110 3 108 23 0 300 75',\n",
       "       ' 1 12 66 106 6 59 63 7 33 16 82 6 90 7 32 8 85 6 59 63 7 33 16 82 6 59 62 35 36 40 41 42 61 0!!!!!!!!!!! 94 24 11 61 101 34 60 80 61 110 63 22 84 25 61 14! 27 67 92',\n",
       "       ' 1 12 66 105 6 59 63 10 15 16 83 6 89 18 79 25 18 79 22 20 89 21 18 6 90 7 33 16 22 6 90 22 24 64 20 15 89 61 24 64 6 59 62 61 24 64 11 61 0 61 0 0 61 0 61 0 11 61 0 97 0 4 109 0 76',\n",
       "       ' 1 12 66 104 6 59 63 7 33 16 82 6 59 63 7 33 16 82 6 59 63 35 61 61 0!!!!! 79 61! 49 81 6 59 63 110 61! 2 61 30 97 6 4 110 610 91 30 35 61 99 4 109 73 81 108 21 32 95 31 109',\n",
       "       ' 1 12 66 101 6 59 62 10 15 16 82 6 59 63 7 33 16 82 6 61 26 18 79 97 6 90 23 20 89 23 20 90 22 22 24 64 20 90 19 24 64 11 61 0! 0! 11 61 0 34 61 0! 0 71 61 0 22 94 84 4 109 680',\n",
       "       ' 1 12 66 102 6 59 63 10 7 33 16 83 6 59 62 35 36 40 3 108 61 0 4 110 61 0! 88 18 79 36 40 3 108 24 64 61 0 61 91 61 0 61 0 110 61 61 106 33 61 94 90 16 61 0 86 61 0 00 2500 16 95',\n",
       "       ' 1 12 3 108 6 59 63 7 32 8 84 6 59 63 34 43 39 96 6 59 62 40 41 42 6 59 62 8 84 4 109 61 0 58 6 59 63 54 6 59 62 8 85 4 109 61 0 20 90 1000 6 59 62 91 61 56 4 109 23 26 91 0 0 84',\n",
       "       ' 2 3 108 4 109 8 85 6 59 62 9 73 6 59 62 7 33 16 83 6 59 63 16 83 6 59 63 10 15 16 83 6 59 63 8 85 4 109 0 4 109 60 21 21 6 59 62 8 85 4 109 89 97 26 17 61 0 61 0 7 25 86 15 0 24',\n",
       "       ' 1 12 66 102 6 59 62 10 14 27 80 28 81 6 59 62 29 7 33 90 63 8 94 6 59 62 18 79 61 24 61 24 64 61 0!!!! 1 24 60 61 0!!!! 93 61 0!! 23 87 61 9 30 83 29 22 42 0 68 92',\n",
       "       ' 1 12 66 19 6 59 62 10 13 30 6 59 63 18 79 28 81 6 59 62 7 32 24 64 11 61 0 61 0 4 109 61 31 61 0 25 61 12 61 61 0 61 0 83 61 0 29 61 2 60 61 46 28 60 610 98 106 10 87 52 23 2 91 69',\n",
       "       ' 1 12 3 108 6 59 63 7 33 16 83 6 59 62 35 36 37 98 6 59 62 38 53 6 94 6 59 63 54 6 59 63 0!!!!!!! 98 6 59 63 65 61 17 61 36 40 41 42 37 98 80 61 61 310 86 14 210 79 11',\n",
       "       ' 2 3 108 4 110 8 84 6 59 63 9 73 6 59 62 7 33 16 83 6 59 63 7 32 8 85 4 109 0 36 40 41 42 8 84 6 59 62 8 85 4 110 61 0 79 8 84 4 109 0 97 6 61 25 8 85 4 109 0 35 48 31 110 9 73',\n",
       "       ' 1 12 66 106 6 59 62 10 15 16 82 6 59 62 17 25 18 79 22 20 90 21 18 79 6 59 63 7 32 8 85 20 90 89 26 89 22 8 84 4 109 7 33 24 64 11 61 0 29 60 61 0 0 61 0 61 0 0 15 0 22 53 81 2 93',\n",
       "       ' 1 12 3 108 6 59 63 10 13 30 6 59 63 18 79 28 81 6 59 63 31 7 33 24 34 8 85 4 109 3 108 24 64 19 60 61 0 61 0 61 0 61 0 30 60 61 0! 14 61 0 350 60 61 24 60 75 30 7500 1060 42',\n",
       "       ' 1 12 3 108 6 59 63 10 15 16 83 6 59 62 17 26 18 79 19 20 89 21 18 79 22 20 90 23 20 90 22 9 90 22 24 64 20 89 19 24 64 11 61 0 13 61 0 11 60 61 26 61 0 4 110 61 0 0 55 70 330 22 76 35',\n",
       "       ' 1 12 3 108 6 59 62 7 32 8 84 6 59 63 34 43 39 95 6 59 62 38 53 6 59 62 54 6 59 63 0 6 59 62 0 6 59 62 23 24 94 6 59 63 0 90 61 0 80 32 61 0 61 30 61 0 30 80 60 60 60 83 0! 0',\n",
       "       ' 1 12 66 106 4 109 6 59 62 7 32 8 85 6 50 8 84 4 110 46 97 4 110 97 6 59 62 8 84 4 109 9 9 75 8 84 4 110 77 76 8 85 4 109 26 8 85 4 110 30 109 9 55 97 6 70 90 25 61 0 109 12 1100 46',\n",
       "       ' 2 57 7 32 6 59 63 7 33 16 82 6 59 63 26 8 85 4 109 46 99 4 109 26 4 109 95 8 84 4 109 0 91 60 60 60 61 70 15 61 73 6 59 63 57 61 80 60 900 83 82 99 1 49 2 13 71 99 95 70 22 101 9 20',\n",
       "       ' 1 12 3 108 6 59 63 7 33 16 98 6 59 62 10 7 32 8 85 6 59 63 34 43 39 96 6 59 62 40 3 108 16 82 6 59 63 61 0!!!! 0!!!! 2 61 21 21 82 18 79 75 79 29 110 20 90! 0 44 21',\n",
       "       ' 1 12 3 108 6 59 62 10 15 16 60 90 28 81 6 59 63 7 33 16 83 6 59 62 35 36 40 41 42 44 4 110 61 0 22 61 0! 0 61 21 24 61 0! 44 26 60 60 61 69 93 61 31 89 35 11 60 60 61 110 61 0 12 0',\n",
       "       ' 1 12 66 105 6 59 62 10 13 30 6 59 62 18 79 28 81 6 90 17 7 33 16 82 6 94 90 6 96 6 60 59 62 7 32 61 30 61 30 24 64 61 61 60 60 59 63 60 60 61 0 61 0 61 0 61 0! 0 0 0 0 0 32 0',\n",
       "       ' 1 12 66 105 6 59 62 10 7 32 8 84 6 59 62 34 43 39 96 6 59 62 40 3 108 30 6 59 62 8 84 50 86 6 59 62 51 61 0 61 0!!! 73 61 10 61 29 32 0 17 95 61 61 0 31 550 56 35 26 83 23 79',\n",
       "       ' 1 12 3 108 6 59 63 10 7 33 16 82 6 59 63 35 36 40 3 108 24 61!! 69 60 4 109 61 36 610 98 6 59 62 61 61 58 6 59 62 54 61 89 61 61 60 61 61 61 88 31 61 0! 22 83 28 68 104 22 90 65 21',\n",
       "       ' 1 12 66 102 6 59 62 10 13 30 6 59 63 18 79 28 81 6 59 62 31 61 9 6 59 62 90 30 6 59 62 61 8 89 18 79 7 33 61 24 64 19 24 64 61 0 89 61 61 0! 0 61 0!! 0 91 60 61 000 0 44',\n",
       "       ' 1 12 66 19 6 59 62 7 33 16 83 6 59 63 35 36 40 41 42 6 59 62 61 61 0!!!!! 18 79 36 40 30 98 6 59 63 25 30 4 110 60 59 63 50 90 61 0 90 60 61 25 24 61 61 00 70 31 6100 101',\n",
       "       ' 1 12 66 102 6 59 63 10 13 30 6 59 62 28 81 6 59 63 28 81 6 57 81 6 59 63 24 60 4 110 61 0 91 61 0!! 61 0! 89 52 60 61 0 21 61 61 75 61 14 61 31 61 21 23 61 0! 61!0 52 25 52',\n",
       "       ' 1 12 66 105 6 59 62 7 33 16 82 6 59 63 35 36 40 3 108 6 59 62 6 59 62 61 0!!!!!! 0!!! 110 31 23 46 23 17 16 90 88 4 110! 109 9 60 60 35 59 620 88 14 29 33 108 44 17 17',\n",
       "       ' 1 12 66 104 6 59 63 10 13 30 6 59 63 18 79 28 81 6 60 15 24 64 21 18 30 68 8 85 4 109 45 8 84 6 10 7 91 23 61 61 61 0 24 64 11 61 0 61 0 61 0 60 61 60 61 0 61 00 37 107 80 61 0 26',\n",
       "       ' 2 3 108 4 109 8 85 6 59 62 9 74 6 59 62 7 33 16 83 6 59 63 8 85 4 109 7 33 16 83 6 59 62 8 85 4 109 104 6 59 63 8 85 4 109 0 97 6 59 62 8 84 4 109 62 8 85 4 57 60 53 1 9 71 30',\n",
       "       ' 1 12 3 108 6 59 62 7 32 8 85 6 59 62 34 43 39 95 6 59 63 40 41 42 6 59 63 30 6 59 62 61 0 6 59 63 60 59 63 61 0! 13 30 30 6 60 110 61 90 61 35 60 16 61 0 26 61 110 18 79 22 0 99 28',\n",
       "       ' 1 12 66 106 6 59 63 7 32 8 85 6 59 62 34 43 39 96 6 59 63 40 3 108 6 59 62 51 6 59 63 0 30 6 59 63 61 0!! 35 61 0! 27 61 0 28! 30 61 0 25 60 18 79 22 61 24 64 42 18 34 56 98',\n",
       "       ' 1 12 66 100 6 59 63 10 15 16 83 6 59 63 7 32 8 84 19 89 80 21 18 79 22 6 59 63 20 90 4 109 46 20 89 55 6 59 62 56 6 59 63 57 24 64 11 61 0 0 60 61 0 0 0 12 0 0 97 600 30 109 71 65',\n",
       "       ' 1 12 66 19 4 109 6 59 63 7 33 16 83 6 59 63 8 85 4 109 46 99 4 110 45 94 4 109 46 33 16 83 6 59 63 8 85 4 110 3 1080 60 69 11 61 0 4 110 61 0 11 60 61 23 17 55 109 3 108 30 920 78 35',\n",
       "       ' 1 12 66 105 6 59 63 10 13 30 6 59 63 28 7 32 8 85 6 89 65 18 79 28 81 6 59 62 31 30 6 59 63 28 81 6 60 61 24 64 60 61 0 60 61 0 61 0! 0 61 0 61 60 61 0 72 31 31 61 0 89 46 61 31',\n",
       "       ' 2 3 108 4 110 8 85 6 59 63 9 75 6 59 7 33 16 83 6 59 62 7 33 16 83 6 59 62 8 85 4 109 25 6 59 63 8 84 4 110 0 8 85 4 109 21 6 59 62 8 85 4 109 21 70 44 36 40 3 108 82 32 110 29 77',\n",
       "       ' 1 12 66 104 6 59 62 7 33 16 82 6 59 63 35 36 37 98 6 59 62 38 55 6 89 53 6 59 62 54 6 59 62 8 85 89 61 0!!!! 8 85 4 109 61 67 82 78 26 75 7 610 52 16 42 00 1! 20 27',\n",
       "       ' 2 3 108 4 110 8 85 6 59 63 9 73 6 59 62 7 33 16 83 6 59 63 85 4 110 8 85 4 109 7 33 16 83 6 59 63 8 84 4 109 2 6 59 62 8 84 4 109 60 16 82 6 16 28 52 4 109 0 49 52 88 61 13 23 11',\n",
       "       ' 2 3 108 4 110 5 71 6 59 63 7 33 16 83 6 59 62 8 85 4 109 46 99 4 109 45 8 84 4 109 81 6 59 63 8 84 4 109 52 88 8 84 4 109 98 92 26 44 4 109 24 49 21 80 110 25 10 69 103 76 1 47 80 101 52',\n",
       "       ' 1 12 66 19 6 59 63 7 33 16 83 6 59 63 7 33 16 83 6 59 62 35 36 40 41 42 6 89 61 0!!!!!!!! 61 0!! 18 79 35 99 57 610 76! 85 68 10 23! 23 53 23 56 64 91 110 65 11',\n",
       "       ' 1 12 3 108 6 59 62 7 33 16 82 6 59 62 35 36 40 3 108 6 59 62 61 0! 90 7 33 60 89 60 61 0!!!!!!!! 50 61 68 83 910 60 35 108 35 61 94 66 300 2 34 35 31 350 21 12 72'],\n",
       "      dtype=object)"
      ]
     },
     "execution_count": 8,
     "metadata": {},
     "output_type": "execute_result"
    }
   ],
   "source": [
    "df_results['response (after)'].values"
   ]
  },
  {
   "cell_type": "code",
   "execution_count": null,
   "metadata": {},
   "outputs": [],
   "source": [
    "# config = {\n",
    "#     \"lm_name\": \"/home/yjzhou/transformers/examples/models/gpt2_sqli_rand4000_small/\",\n",
    "#     \"ref_lm_name\": \"/home/yjzhou/transformers/examples/models/gpt2_sqli_rand4000_small/\",\n",
    "#     \"cls_model_name\": \"TODO my reward_model\",\n",
    "#     \"tk_name\": \"gpt2\",\n",
    "#     \"steps\": 25600,\n",
    "#     \"batch_size\": 32,\n",
    "#     \"forward_batch_size\": 16,\n",
    "#     \"ppo_epochs\": 4,   \n",
    "#     \"txt_in_len\": 1,\n",
    "#     \"txt_out_len\": 64,\n",
    "#     \"max_length\":65,\n",
    "#     \"lr\": 1.41e-5,\n",
    "#     \"init_kl_coef\":0.2,\n",
    "#     \"target\": 6,\n",
    "#     \"horizon\":10000,\n",
    "#     \"gamma\":1,\n",
    "#     \"lam\":0.95,\n",
    "#     \"cliprange\": .2,\n",
    "#     \"cliprange_value\":.2,\n",
    "#     \"vf_coef\":.1, \n",
    "# }"
   ]
  },
  {
   "cell_type": "code",
   "execution_count": null,
   "metadata": {},
   "outputs": [],
   "source": [
    "GPT2Config {\n",
    "  \"_num_labels\": 2,\n",
    "  \"activation_function\": \"gelu_new\",\n",
    "  \"architectures\": [\n",
    "    \"GPT2LMHeadModel\"\n",
    "  ],\n",
    "  \"attn_pdrop\": 0.1,\n",
    "  \"bos_token_id\": 50256,\n",
    "  \"do_sample\": false,\n",
    "  \"early_stopping\": false,\n",
    "  \"embd_pdrop\": 0.1,\n",
    "  \"eos_token_id\": 50256,\n",
    "  \"finetuning_task\": null,\n",
    "  \"id2label\": {\n",
    "    \"0\": \"LABEL_0\",\n",
    "    \"1\": \"LABEL_1\"\n",
    "  },\n",
    "  \"initializer_range\": 0.02,\n",
    "  \"is_decoder\": false,\n",
    "  \"is_encoder_decoder\": false,\n",
    "  \"label2id\": {\n",
    "    \"LABEL_0\": 0,\n",
    "    \"LABEL_1\": 1\n",
    "  },\n",
    "  \"layer_norm_epsilon\": 1e-05,\n",
    "  \"length_penalty\": 1.0,\n",
    "  \"max_length\": 20,\n",
    "  \"min_length\": 0,\n",
    "  \"model_type\": \"gpt2\",\n",
    "  \"n_ctx\": 1024,\n",
    "  \"n_embd\": 768,\n",
    "  \"n_head\": 12,\n",
    "  \"n_layer\": 12,\n",
    "  \"n_positions\": 1024,\n",
    "  \"no_repeat_ngram_size\": 0,\n",
    "  \"num_beams\": 1,\n",
    "  \"num_return_sequences\": 1,\n",
    "  \"output_attentions\": false,\n",
    "  \"output_hidden_states\": false,\n",
    "  \"output_past\": true,\n",
    "  \"pad_token_id\": null,\n",
    "  \"pruned_heads\": {},\n",
    "  \"repetition_penalty\": 1.0,\n",
    "  \"resid_pdrop\": 0.1,\n",
    "  \"summary_activation\": null,\n",
    "  \"summary_first_dropout\": 0.1,\n",
    "  \"summary_proj_to_labels\": true,\n",
    "  \"summary_type\": \"cls_index\",\n",
    "  \"summary_use_proj\": true,\n",
    "  \"temperature\": 1.0,\n",
    "  \"top_k\": 50,\n",
    "  \"top_p\": 1.0,\n",
    "  \"torchscript\": false,\n",
    "  \"use_bfloat16\": false,\n",
    "  \"vocab_size\": 50257\n",
    "}"
   ]
  },
  {
   "cell_type": "code",
   "execution_count": null,
   "metadata": {},
   "outputs": [],
   "source": [
    "# transformer=AutoModelWithLMHead.from_pretrained('/home/yjzhou/transformers/examples/models/gpt2_sqli_rand4000_small/').transformer\n",
    "# transformer_outputs=transformer(input_ids,attention_mask=attention_masks)\n",
    "# type(transformer_outputs[0]),transformer_outputs[0].shape\n",
    "\n",
    "# # Cell\n",
    "\n",
    "# class SentimentValueHead(torch.nn.Module):\n",
    "#     \"\"\"The ValueHead class implements a head for GPT2 that returns a scalar for each output token.\"\"\"\n",
    "#     def __init__(self, num_labels):\n",
    "#         super().__init__()\n",
    "#         self.drop = nn.Dropout(0.1)\n",
    "#         self.classifier = nn.Linear(768, num_labels)\n",
    "#     def forward(self, hidden_states):\n",
    "#         output = hidden_states\n",
    "# #         output = self.drop(output)\n",
    "#         output = self.classifier(output)\n",
    "#         return output\n",
    "\n",
    "# # Cell\n",
    "\n",
    "# class SentimentModel(torch.nn.Module):\n",
    "#     \"\"\"The GPT2HeadWithValueModel class implements a GPT2 language model with a secondary, scalar head.\"\"\"\n",
    "#     def __init__(self, model_path,num_labels):\n",
    "#         super().__init__()\n",
    "# #         config.num_labels = 2\n",
    "#         if(os.path.exists(model_path)):\n",
    "#             self.model = AutoModelWithLMHead.from_pretrained(model_path)\n",
    "#         else:\n",
    "#             print(\"error model path not exists\")\n",
    "# #         self.lm_head = nn.Linear(config.n_embd, config.vocab_size, bias=False)\n",
    "#         self.v_head = SentimentValueHead(num_labels)\n",
    "#         self.loss_fn=CrossEntropyLoss()\n",
    "#     def forward(\n",
    "#         self,\n",
    "#         input_ids=None,\n",
    "#         attention_mask=None,\n",
    "#         indices=None,\n",
    "#         label=None,\n",
    "#     ):\n",
    "\n",
    "#         transformer_outputs = self.model.transformer(\n",
    "#             input_ids,\n",
    "#             attention_mask=attention_mask,\n",
    "#         )\n",
    "#         indices=indices.repeat(1,768).reshape(indices.shape[0],1,768)\n",
    "# #         print('transformer_outputs ',type(transformer_outputs),transformer_outputs[0].shape)\n",
    "# #         print('indices ',type(indices),indices.shape)\n",
    "        \n",
    "#         hidden_states=torch.gather(transformer_outputs[0],1,indices)\n",
    "# #         print('hidden_states ',type(hidden_states),hidden_states.shape)\n",
    "        \n",
    "#         logits = torch.squeeze(self.v_head(hidden_states),1) \n",
    "# #         print('logits.shape:  ****',logits.shape)\n",
    "# #         print('labels.shape: ',label.shape)\n",
    "# #         print()\n",
    "#         loss=self.loss_fn(logits,label)\n",
    "#         return loss,logits\n",
    "# Cell"
   ]
  },
  {
   "cell_type": "code",
   "execution_count": null,
   "metadata": {},
   "outputs": [],
   "source": [
    "\"steps\": 25600,\n",
    "\"batch_size\": 128,Number of samples per optimisation step, default: 256\n",
    "\"forward_batch_size\": 16, Number of samples forward passed through model at a time, default: 16\n",
    "\"ppo_epochs\": 4,   Number of optimisation epochs per batch of samples, default: 4\n",
    "\"txt_in_len\": 1,\n",
    "\"txt_out_len\": 64,\n",
    "\"max_length\":65,\n",
    "\"lr\": 1.41e-5,Adam learning rate, default: 1.41e-5\n",
    "\n",
    "#这里倒序计算GAE\n",
    "for t in reversed(range(gen_len)):\n",
    "    nextvalues = values[:, t + 1] if t < gen_len - 1 else 0.0\n",
    "    delta = rewards[:, t] + self.ppo_params['gamma'] * nextvalues - values[:, t]\n",
    "    lastgaelam = delta + self.ppo_params['gamma'] * self.ppo_params['lam'] * lastgae\n",
    "    advantages_reversed.append(lastgaelam)\n",
    "advantages = torch.stack(advantages_reversed[::-1]).transpose(0, 1)\n",
    "\"gamma\":1,Gamma parameter for advantage calculation, default: 1.\n",
    "\"lam\":0.95,   (float): Lambda parameter for advantage calcualation, default: 0.95\n",
    "\n",
    "    \n",
    "pg_losses = -advantages * ratio #p1\n",
    "pg_losses2 = -advantages * torch.clamp(ratio,1.0 - self.ppo_params['cliprange'],1.0 + self.ppo_params['cliprange'])#p2\n",
    "pg_loss = torch.mean(torch.max(pg_losses, pg_losses2))#actor_loss\n",
    "\"cliprange\": .2,Range for clipping in PPO policy gradient loss, default: 0.2\n",
    "    \n",
    "logprob, vpred = logprob[:, -gen_len:], vpred[:,-gen_len-1:-1]\n",
    "vpredclipped = clip_by_value(vpred,values - self.ppo_params[\"cliprange_value\"],values + self.ppo_params[\"cliprange_value\"])\n",
    "vf_losses1 = (vpred - returns)**2\n",
    "vf_losses2 = (vpredclipped - returns)**2\n",
    "vf_loss = .5 * torch.mean(torch.max(vf_losses1, vf_losses2))# critic_loss    \n",
    "\"cliprange_value\":.2,Range for clipping values in loss calculation, default: 0.2\n",
    "    \n",
    "loss = pg_loss + self.ppo_params['vf_coef'] * vf_loss # total_loss\n",
    "\"vf_coef\":.1, Scaling factor for value loss, default: 0.1\n",
    "    \n",
    "self.kl_ctl = AdaptiveKLController(self.ppo_params['init_kl_coef'],self.ppo_params['target'],self.ppo_params['horizon'])\n",
    "\"init_kl_coef\":0.2,Initial KL penalty coefficient (used for adaptive and linear control), default: 0.2\n",
    "\"target\": 6,Target KL value for adaptive KL control, default: 6.0\n",
    "\"horizon\":10000,Horizon for adaptive KL control, default: 10000\n",
    "\"adap_kl_ctrl\": True,Use adaptive KL control, otherwise linear, default: True\n"
   ]
  },
  {
   "cell_type": "code",
   "execution_count": null,
   "metadata": {},
   "outputs": [],
   "source": [
    "# #词表的映射\n",
    "# a=['S', 'numericContext', 'sQuoteContext', 'terDigitZero', 'terSQuote', 'fuzzstr', 'wsp', 'booleanAttack', 'opOr', 'fuzzequal', 'sqliAttack', 'cmt', 'terDigitIncludingZero', 'unionAttack', 'piggyAttack', 'errorAttack', 'opAnd', 'errorfunction', 'parOpen', '1', 'opCom', 'concat', '0x7e', '@@version', 'par', 'updatexml', 'extractvalue', 'opSem', 'opSel', 'funcSleep', 'union', 'cols', 'orAttack', 'andAttack', 'booleanTrueExpr', 'booleanFalseExpr', 'unaryFalse', 'opNot', 'trueAtom', 'opBinInvert', 'falseAtom', 'falseConst', 'false', 'unaryTrue', 'binaryTrue', 'opEqual', 'terChar', 'opLt', 'opGt', 'opLike', 'opIs', 'true', 'opMinus', '{a', '1}=1', '{x', '(select', '1)}=1', '{`if`', 'blank', '--', '%23', '+', '%0b', ')', 'sleep', 'terDigitExcludingZero', '<@=1', '<@!=1', '<@=1.', '<@=.1', '<@!=.1', '<@!=1.', '1<@', '@<@', '!@<@', '!@<@.', '1<@.', '@<@.', '(', ';', 'select', 'and', '&&', 'or', '||', 'is', 'like', '-', ',', '%2C', '>', '<', '%3C', '=', '~', '%7e', '!', 'not', 'a', '2', '3', '4', '5', '6', '7', '8', '9', '0', \"'\", '%27']\n",
    "# token2id=dict()\n",
    "# for index,t in enumerate(a):\n",
    "#     token2id[t]=index\n",
    "#     print(t,' ',index,' ',gpt2_tokenizer.encode('Ġ'+str(index), return_tensors=\"pt\"))\n",
    "# # print(token2id)\n",
    "# string=' '.join([str(i) for i in range(111)])\n",
    "# print(string)\n",
    "# gpt2_tokenizer.encode(string, return_tensors=\"pt\")\n",
    "# legal_index=[   15,   352,   362,   513,   604,   642,   718,   767,   807,   860,\n",
    "#            838,  1367,  1105,  1511,  1478,  1315,  1467,  1596,  1248,   678,\n",
    "#           1160,  2310,  2534,  2242,  1987,  1679,  2608,  2681,  2579,  2808,\n",
    "#           1542,  3261,  3933,  4747,  4974,  3439,  4570,  5214,  4353,  5014,\n",
    "#           2319,  6073,  5433,  5946,  5846,  4153,  6337,  6298,  4764,  5125,\n",
    "#           2026,  6885,  6740,  7192,  7175,  5996,  7265,  7632,  7618,  7863,\n",
    "#           3126,  8454,  8190,  8093,  5598,  6135,  7930,  8275,  8257,  8644,\n",
    "#           4317,  9166,  7724,  8854,  8915,  5441,  8684,  8541,  8699,  9225,\n",
    "#           4019,  9773,  9415,  9698,  9508,  7600,  9849, 10083,  9193,  9919,\n",
    "#           4101, 10495, 10190, 10261, 10048,  6957,  9907, 10111,  9661,  7388,\n",
    "#           1802,  8949, 15143, 15349, 14436, 13343, 15696, 16226, 15495, 16003,\n",
    "#           9796]\n",
    "# len(legal_index)"
   ]
  }
 ],
 "metadata": {
  "kernelspec": {
   "display_name": "Python 3",
   "language": "python",
   "name": "python3"
  },
  "language_info": {
   "codemirror_mode": {
    "name": "ipython",
    "version": 3
   },
   "file_extension": ".py",
   "mimetype": "text/x-python",
   "name": "python",
   "nbconvert_exporter": "python",
   "pygments_lexer": "ipython3",
   "version": "3.7.9"
  }
 },
 "nbformat": 4,
 "nbformat_minor": 4
}
