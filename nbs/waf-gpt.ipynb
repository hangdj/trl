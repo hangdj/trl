{
 "cells": [
  {
   "cell_type": "code",
   "execution_count": 1,
   "metadata": {},
   "outputs": [
    {
     "name": "stdout",
     "output_type": "stream",
     "text": [
      "['S', 'numericContext', 'sQuoteContext', 'sQuoteContext', 'terDigitZero', 'terSQuote', 'fuzzstr', 'wsp', 'booleanAttack', 'opOr', 'fuzzequal', 'sqliAttack', 'cmt', 'numericContext', 'terDigitIncludingZero', 'sqliAttack', 'unionAttack', 'piggyAttack', 'errorAttack', 'errorAttack', 'opAnd', 'errorfunction', 'parOpen', '1', 'opCom', 'concat', '0x7e', '@@version', 'par', 'errorfunction', 'updatexml', 'extractvalue', 'piggyAttack', 'opSem', 'opSel', 'funcSleep', 'unionAttack', 'union', 'cols', 'cols', 'booleanAttack', 'orAttack', 'andAttack', 'orAttack', 'booleanTrueExpr', 'andAttack', 'booleanFalseExpr', 'booleanFalseExpr', 'unaryFalse', 'unaryFalse', 'opNot', 'trueAtom', 'opBinInvert', 'falseAtom', 'falseAtom', 'falseConst', 'falseConst', 'false', 'booleanTrueExpr', 'unaryTrue', 'binaryTrue', 'binaryTrue', 'opEqual', 'terChar', 'opLt', 'opGt', 'opLike', 'opIs', 'true', 'opMinus', 'unaryTrue', 'trueAtom', '{a', '1}=1', '{x', '(select', '1)}=1', '{`if`', 'wsp', 'blank', 'cmt', '--', '%23', 'blank', '+', '%0b', 'par', ')', 'funcSleep', 'sleep', 'terDigitExcludingZero', 'fuzzstr', '<@=1', '<@!=1', '<@=1.', '<@=.1', '<@!=.1', '<@!=1.', 'fuzzequal', '1<@', '@<@', '!@<@', '!@<@.', '1<@.', '@<@.', 'parOpen', '(', 'opSem', ';', 'opSel', 'select', 'opAnd', 'and', '&&', 'opOr', 'or', '||', 'opIs', 'is', 'opLike', 'like', 'opMinus', '-', 'opCom', ',', '%2C', 'opGt', '>', 'opLt', '<', '%3C', 'opEqual', '=', 'opBinInvert', '~', '%7e', 'opNot', '!', 'not', 'terChar', 'a', 'terDigitIncludingZero', 'terDigitExcludingZero', '2', '3', '4', '5', '6', '7', '8', '9', 'terDigitZero', '0', 'terSQuote', \"'\", '%27']\n",
      "156\n"
     ]
    },
    {
     "name": "stderr",
     "output_type": "stream",
     "text": [
      "/home/hdj/anaconda3/envs/waf/lib/python3.7/site-packages/tqdm/std.py:658: FutureWarning: The Panel class is removed from pandas. Accessing it from the top-level namespace will also be removed in the next version\n",
      "  from pandas import Panel\n"
     ]
    }
   ],
   "source": [
    "import torch\n",
    "import wandb\n",
    "import time\n",
    "import os\n",
    "from tqdm import tqdm\n",
    "import random\n",
    "import numpy as np\n",
    "import pandas as pd\n",
    "from transformers import AutoModelWithLMHead, AutoTokenizer\n",
    "tqdm.pandas()\n",
    "import os\n",
    "from transformers import GPT2Tokenizer\n",
    "from transformers import AutoModelForSequenceClassification, AutoTokenizer\n",
    "\n",
    "from trl.gpt2 import GPT2HeadWithValueModel, respond_to_batch # TODO GPT2HeadWithValueM \n",
    "from trl.ppo import PPOTrainer\n",
    "from trl.core import build_bert_batch_from_txt\n",
    "from torch.utils.data import TensorDataset, DataLoader, RandomSampler, SequentialSampler\n",
    "import torch.nn as nn\n",
    "from transformers import AdamW\n",
    "from transformers import get_linear_schedule_with_warmup\n",
    "import time\n",
    "from torch.nn import CrossEntropyLoss\n",
    "import datetime\n",
    "from collections import defaultdict\n",
    "def load_checkpoint(model, checkpoint_PATH):\n",
    "    if os.path.exists(checkpoint_PATH):\n",
    "        model_CKPT = torch.load(checkpoint_PATH)#,map_location=torch.device('cpu')\n",
    "        model.load_state_dict(model_CKPT['state_dict'])\n",
    "        print('loading checkpoint!')\n",
    "#         optimizer.load_state_dict(model_CKPT['optimizer'])\n",
    "    return model\n",
    "def format_time(elapsed):\n",
    "    '''\n",
    "    Takes a time in seconds and returns a string hh:mm:ss\n",
    "    '''\n",
    "    # Round to the nearest second.\n",
    "    elapsed_rounded = int(round((elapsed)))\n",
    "\n",
    "    # Format as hh:mm:ss\n",
    "    return str(datetime.timedelta(seconds=elapsed_rounded))\n",
    "# 判断语法合法性的语法库准备\n",
    "class CFG(object):\n",
    "    def __init__(self):\n",
    "        self.prod = defaultdict(list)  \n",
    "\n",
    "    def add_prod(self, lhs, rhs): #\n",
    "        \"\"\" Add production to the grammar.\n",
    "        \"\"\"\n",
    "        prods = rhs.split('\\\\')\n",
    "        allslices.append(lhs)\n",
    "        for prod in prods:\n",
    "            for sp in prod.split():\n",
    "                if sp not in allslices:\n",
    "                    allslices.append(sp)\n",
    "        for prod in prods:\n",
    "            self.prod[lhs].append(tuple(prod.split()))\n",
    "\n",
    "    def get_sli_number(self,\n",
    "                    choice,\n",
    "                    slistr,  #\n",
    "                    ):\n",
    "        for i in range(len(choice)):\n",
    "            if choice[i]==slistr:\n",
    "                return i\n",
    "        return len(choice) \n",
    "\n",
    "    def get_ch_sli(self,\n",
    "                slinum,\n",
    "                choice,\n",
    "                ):\n",
    "        if slinum>=len(choice):\n",
    "            return 0\n",
    "        else:\n",
    "            return choice[slinum]\n",
    "    def verify_convergent(self,\n",
    "                            symbol,\n",
    "                            choice,\n",
    "                            datafram,\n",
    "                            datanum,\n",
    "                            ):\n",
    "        dev = ''\n",
    "        #print(self.prod[symbol])\n",
    "        div = 1\n",
    "        for veri_prod in self.prod[symbol]:\n",
    "#             print(veri_prod)\n",
    "            for sym in veri_prod:\n",
    "                if sym in self.prod:\n",
    "#                     print(sym)\n",
    "                    if datanum<len(datafram):\n",
    "                        dev = self.get_ch_sli(int(datafram[datanum]),choice)\n",
    "                    else:\n",
    "                        div = 0\n",
    "                        break\n",
    "#                     print(dev,\"!!!!!!!\")\n",
    "                    if dev==sym:\n",
    "#                         print(dev,\"********\")\n",
    "                        #print(datanum)\n",
    "                        datanum = self.verify_convergent(sym,choice=choice,datafram=datafram,datanum=datanum+1)\n",
    "#                         print(datanum)\n",
    "                        div = 1\n",
    "                    else:\n",
    "                        div = 0\n",
    "                else:\n",
    "                    if datanum<len(datafram):\n",
    "                        dev = self.get_ch_sli(int(datafram[datanum]),choice)\n",
    "                    else:\n",
    "                        div = 0\n",
    "                        break\n",
    "#                     print(dev,\"......\")\n",
    "                    if dev==sym:\n",
    "                        datanum = datanum + 1\n",
    "                        div = 1\n",
    "                    else:\n",
    "                        div = 0\n",
    "                #datanum = datanum + 1\n",
    "#             print(datanum,\"%%%%%%%\")\n",
    "            if div == 1:\n",
    "#                 print(\"???????????\")\n",
    "                return datanum\n",
    "        return 0\n",
    "\n",
    "    def verify(self,\n",
    "                choice,\n",
    "                datafram,\n",
    "                ):\n",
    "        verilen = self.verify_convergent('S',choice=choice,datafram=datafram,datanum=1)\n",
    "#         if verilen==0:\n",
    "#             print('verilen :',verilen,' datafram_len ;',len(datafram))\n",
    "#             print(choice,datafram)\n",
    "        if verilen==len(datafram):\n",
    "            return 1\n",
    "        else:\n",
    "            return 0\n",
    "allslices = []\n",
    "cfg = CFG()\n",
    "with open(\"/data/hdj/trl/bnf-sql.txt\",\"r\") as f:\n",
    "    for line in f.readlines():\n",
    "        line = line.strip('\\n')\n",
    "        bnflist = line.split(':=')\n",
    "        cfg.add_prod(bnflist[0],bnflist[1])\n",
    "print(allslices)\n",
    "print(len(allslices))\n",
    "\n",
    "\n",
    "#         print('logits.shape:  ****',logits.shape)\n",
    "#         print('labels.shape: ',label.shape)\n",
    "#         print()\n",
    "#         if(label!=None):\n",
    "#             loss=self.loss_fn(logits,label)\n",
    "#         else:\n",
    "#             loss=None\n",
    "#         return loss,logits\n",
    "        \n",
    "# texts = [q + r for q,r in zip(game_data['query'], game_data['response'])]\n"
   ]
  },
  {
   "cell_type": "markdown",
   "metadata": {},
   "source": [
    "# reawrd_model 定义"
   ]
  },
  {
   "cell_type": "code",
   "execution_count": 2,
   "metadata": {},
   "outputs": [],
   "source": [
    "class ValueHead(torch.nn.Module):\n",
    "    \"\"\"The ValueHead class implements a head for GPT2 that returns a scalar for each output token.\"\"\"\n",
    "    def __init__(self, num_labels):\n",
    "        super().__init__()\n",
    "        self.drop = nn.Dropout(0.1)\n",
    "        self.classifier = nn.Linear(768, num_labels)\n",
    "    def forward(self, hidden_states):\n",
    "        output = hidden_states\n",
    "#         output = self.drop(output)\n",
    "        output = self.classifier(output)\n",
    "        return output\n",
    "\n",
    "# Cell\n",
    "\n",
    "class SentimentModel(torch.nn.Module):\n",
    "    \"\"\"The GPT2HeadWithValueModel class implements a GPT2 language model with a secondary, scalar head.\"\"\"\n",
    "    def __init__(self, model_path,num_labels):\n",
    "        super().__init__()\n",
    "#         config.num_labels = 2\n",
    "        if(os.path.exists(model_path)):\n",
    "            self.model = AutoModelWithLMHead.from_pretrained(model_path)\n",
    "        else:\n",
    "            print(\"error model path not exists\")\n",
    "#         self.lm_head = nn.Linear(config.n_embd, config.vocab_size, bias=False)\n",
    "        self.v_head = ValueHead(num_labels)\n",
    "#         self.loss_fn=CrossEntropyLoss()\n",
    "    def forward(\n",
    "        self,\n",
    "        input_ids=None,\n",
    "        attention_mask=None,\n",
    "        indices=None,\n",
    "#         label=None,\n",
    "    ):\n",
    "\n",
    "        transformer_outputs = self.model.transformer(\n",
    "            input_ids,\n",
    "            attention_mask=attention_mask,\n",
    "        )\n",
    "        indices=indices.repeat(1,768).reshape(indices.shape[0],1,768)\n",
    "#         print('transformer_outputs ',type(transformer_outputs),transformer_outputs[0].shape)\n",
    "#         print('indices ',type(indices),indices.shape)\n",
    "        \n",
    "        hidden_states=torch.gather(transformer_outputs[0],1,indices)\n",
    "#         print('hidden_states ',type(hidden_states),hidden_states.shape)\n",
    "        \n",
    "        logits = torch.squeeze(self.v_head(hidden_states),1) \n",
    "        return logits"
   ]
  },
  {
   "cell_type": "code",
   "execution_count": 28,
   "metadata": {},
   "outputs": [
    {
     "name": "stdout",
     "output_type": "stream",
     "text": [
      "islegal_tests : [['0', '1', '12', '66', '104', '6', '59', '63', '59', '63', '61'], ['0', '1', '12', '66', '105', '6', '59', '62', '7', '33', '16', '82', '6', '59', '62', '35', '36', '40', '3', '108', '6', '24', '50', '61']]\n"
     ]
    }
   ],
   "source": [
    "# texts=[' 1 12 66 104 6 59 63 59 63 61 0 99 61 61 0 60 61 0! 0! 0! 90 106 60 61 91 61 61 00 61 0 1 0',' 1 12 66 105 6 59 62 7 33 16 82 6 59 62 35 36 40 3 108 6 24 50 61 0! 6 59 62 61 0!!!! 74!!! 80 60 70 5 21 93 25 35 68 80 25 94 14 800 2 2 24 230 60 81 44 109 1200']\n",
    "# islegal_tests=[]\n",
    "# for t in texts:\n",
    "#     aList=['0']\n",
    "#     for string in t.strip().split():\n",
    "#         if not string.startswith('0'):\n",
    "#             aList.append(string) \n",
    "#         else:\n",
    "#             break\n",
    "#     islegal_tests.append(aList)\n",
    "# print('islegal_tests :',islegal_tests[:10])"
   ]
  },
  {
   "cell_type": "code",
   "execution_count": 35,
   "metadata": {},
   "outputs": [
    {
     "data": {
      "text/plain": [
       "(0, 3, [0, 1, 2])"
      ]
     },
     "execution_count": 35,
     "metadata": {},
     "output_type": "execute_result"
    }
   ],
   "source": [
    "# # count_is_legal(['2 3 108 4 109 8 85 6 59 63 9 76 6 59 62 75 6 59 63 29 65 18 79 66 103 24 64 6 59 62 8 85 4 110'])\n",
    "# count_is_legal(['2 3 108 4 109 8 84 6 59 62 9 77 6 59 63 78 78 6 59 62 7 32 8 84 4 110 46 99 4 110 45 94 4 110 46 99 4 110 6 59 62 8 84 4 110',\n",
    "#                '2 3 108 4 109 8 85 6 59 63 9 76 6 59 62 75 6 59 63 29 65 18 79 66 103 24 64 6 59 62 8 85 4 110','0 2 3'])"
   ]
  },
  {
   "cell_type": "markdown",
   "metadata": {},
   "source": [
    "# 判断合法性代码"
   ]
  },
  {
   "cell_type": "code",
   "execution_count": 3,
   "metadata": {},
   "outputs": [],
   "source": [
    "#TODO 这里增加判断生成的是否符合语法规范\n",
    "def count_is_legal(texts):#只输入response\n",
    "    islegal_tests=[]\n",
    "    for t in texts:\n",
    "        aList=['0']\n",
    "        for string in t.strip().split():\n",
    "            if not string.startswith('0'):\n",
    "                aList.append(string) \n",
    "            else:\n",
    "                break\n",
    "        islegal_tests.append(aList)\n",
    "    legalCount=0\n",
    "    illegalCount=0\n",
    "    illegalIndex=[]\n",
    "    newallsli = []\n",
    "    for slic in allslices:\n",
    "        if slic not in newallsli:\n",
    "            newallsli.append(slic)\n",
    "    for index, list_str in enumerate(islegal_tests):\n",
    "        flag=True\n",
    "        tmp=[]\n",
    "        for t in list_str :\n",
    "            try:\n",
    "                tmp.append(int(t))\n",
    "            except:\n",
    "                flag=False\n",
    "                break\n",
    "        if flag:\n",
    "            if cfg.verify(choice = newallsli,datafram=tmp)==1:\n",
    "                legalCount=legalCount+1\n",
    "            else:\n",
    "                illegalCount+=1\n",
    "                illegalIndex.append(index)\n",
    "        else:\n",
    "            illegalCount+=1\n",
    "            illegalIndex.append(index)\n",
    "    return legalCount,illegalCount,illegalIndex#增加非法语法的数据下标"
   ]
  },
  {
   "cell_type": "code",
   "execution_count": 3,
   "metadata": {},
   "outputs": [],
   "source": []
  },
  {
   "cell_type": "markdown",
   "metadata": {},
   "source": [
    "# reward model 数据输入准备代码"
   ]
  },
  {
   "cell_type": "code",
   "execution_count": 4,
   "metadata": {},
   "outputs": [],
   "source": [
    "def data_prepare(content, tokenizer, max_len=65):\n",
    "\n",
    "    # Tokenize all of the sentences and map the tokens to thier word IDs.\n",
    "    input_ids = []\n",
    "    attention_masks = []\n",
    "    indices=[]\n",
    "    tokenizer.pad_token = \"!\"\n",
    "    # For every sentence...\n",
    "    for sent in content:\n",
    "        # `encode_plus` will:\n",
    "        #   (1) Tokenize the sentence.\n",
    "        #   (2) Prepend the `[CLS]` token to the start.\n",
    "        #   (3) Append the `[SEP]` token to the end.\n",
    "        #   (4) Map tokens to their IDs.\n",
    "        #   (5) Pad or truncate the sentence to `max_length`\n",
    "        #   (6) Create attention masks for [PAD] tokens.\n",
    "        encoded_dict = tokenizer.encode_plus(\n",
    "            sent,  # Sentence to encode.\n",
    "            add_special_tokens=True,  # Add '[CLS]' and '[SEP]'\n",
    "            max_length=max_len,  # Pad & truncate all sentences.\n",
    "            pad_to_max_length=True,\n",
    "            return_attention_mask=True,  # Construct attn. masks.\n",
    "            return_tensors='pt',  # Return pytorch tensors.\n",
    "        )\n",
    "        \n",
    "        # Add the encoded sentence to the list.\n",
    "        input_ids.append(encoded_dict['input_ids'])\n",
    "        idx = torch.nonzero((encoded_dict['input_ids'] == 657))\n",
    "        if idx.shape[0]==0:\n",
    "            idx=torch.tensor(max_len-1)\n",
    "        else:\n",
    "            idx=idx[0][1]\n",
    "#         if idx==60：\n",
    "#         print(idx)\n",
    "        idx = idx.repeat(1, 1)\n",
    "#         try:\n",
    "#             idx = torch.nonzero((encoded_dict['input_ids'] == 657))[0][1]\n",
    "#             idx = idx.repeat(1, 1)\n",
    "#         except:\n",
    "#             print(content,encoded_dict['input_ids'])\n",
    "#             break\n",
    "        \n",
    "        indices.append(idx)\n",
    "        # And its attention mask (simply differentiates padding from non-padding).\n",
    "        attention_masks.append(encoded_dict['attention_mask'])\n",
    "\n",
    "    # Convert the lists into tensors.\n",
    "    input_ids = torch.cat(input_ids, dim=0)\n",
    "    attention_masks = torch.cat(attention_masks, dim=0)\n",
    "    indices = torch.cat(indices, dim=0)\n",
    "#     print(\"The first sentence untokenized:\\n\", content[0])\n",
    "#     print(\"Index numbers of the first sentence after padding:\\n\", input_ids[0])\n",
    "\n",
    "    return input_ids,  attention_masks,indices"
   ]
  },
  {
   "cell_type": "code",
   "execution_count": 4,
   "metadata": {},
   "outputs": [],
   "source": [
    "# gpt2_model.named_children"
   ]
  },
  {
   "cell_type": "code",
   "execution_count": 5,
   "metadata": {},
   "outputs": [
    {
     "data": {
      "text/html": [
       "\n",
       "                    Logging results to <a href=\"https://wandb.com\" target=\"_blank\">Weights & Biases</a>.<br/>\n",
       "                    Couldn't load entity due to error: Can't connect to network to query entity from API key\n",
       "                "
      ],
      "text/plain": [
       "<IPython.core.display.HTML object>"
      ]
     },
     "metadata": {},
     "output_type": "display_data"
    },
    {
     "name": "stderr",
     "output_type": "stream",
     "text": [
      "Failed to query for notebook name, you can set it manually with the WANDB_NOTEBOOK_NAME environment variable\n"
     ]
    },
    {
     "data": {
      "text/plain": [
       "W&B Run: https://app.wandb.ai/hdj/waf-gpt/runs/34xb9cj9"
      ]
     },
     "execution_count": 5,
     "metadata": {},
     "output_type": "execute_result"
    }
   ],
   "source": [
    "config = {\n",
    "    \"lm_name\": \"/data/yjzhou/bigdatamodel2/\",\n",
    "    \"ref_lm_name\": \"/data/yjzhou/bigdatamodel2/\",\n",
    "    \"cls_model_name\": \"/home/hdj/trl/nbs/model.pkl\",\n",
    "    \"tk_name\": \"gpt2\",\n",
    "    \"steps\": 25600,\n",
    "    \"batch_size\": 256,\n",
    "    \"forward_batch_size\": 16,\n",
    "    \"ppo_epochs\": 3,   \n",
    "    \"txt_in_len\": 1,\n",
    "    \"txt_out_len\": 50,\n",
    "    \"max_length\":51,\n",
    "    \"lr\": 1.41e-5,\n",
    "    \"init_kl_coef\":1.0,\n",
    "    \"target\": 6,\n",
    "    \"horizon\":10000,\n",
    "    \"gamma\":1,\n",
    "    \"lam\":0.95,\n",
    "    \"cliprange\": .2,\n",
    "    \"cliprange_value\":.2,\n",
    "    \"vf_coef\":.1, \n",
    "}\n",
    "wandb.init(name='run-42', project='waf-gpt', config=config)\n",
    "# lr = 2e-5\n",
    "# model_load=SentimentModel(\"/data/yjzhou/bigdatamodel/\",2)\n",
    "# optimizer_load = AdamW(model_load.parameters(), lr=lr, correct_bias=False)\n",
    "# schedules\n",
    "# scheduler_load = get_linear_schedule_with_warmup(optimizer, num_warmup_steps=num_warmup_steps, num_training_steps=num_training_steps)  # PyTorch scheduler\n",
    "\n",
    "# sentiment_model=load_checkpoint(model_load,'/home/hdj/trl/nbs/4.pt')"
   ]
  },
  {
   "cell_type": "markdown",
   "metadata": {},
   "source": [
    "# 加载模型"
   ]
  },
  {
   "cell_type": "code",
   "execution_count": 6,
   "metadata": {},
   "outputs": [
    {
     "name": "stdout",
     "output_type": "stream",
     "text": [
      "vocab_size shape : 50257\n",
      "vocab_size shape : 50257\n"
     ]
    }
   ],
   "source": [
    "gpt2_model = GPT2HeadWithValueModel.from_pretrained(config['lm_name'])\n",
    "# _ = gpt2_model.eval()\n",
    "gpt2_model_ref = GPT2HeadWithValueModel.from_pretrained(config['ref_lm_name'])\n",
    "gpt2_tokenizer = GPT2Tokenizer.from_pretrained(config['tk_name'])\n",
    "\n",
    "# gpt2_model = AutoModelWithLMHead.from_pretrained(config['lm_name'])\n",
    "# gpt2_model_ref = AutoModelWithLMHead.from_pretrained(config['ref_lm_name'])\n",
    "# gpt2_tokenizer = AutoTokenizer.from_pretrained(config['tk_name'])\n",
    "\n",
    "# sentiment_model=load_checkpoint(model_load,'/home/hdj/trl/nbs/4.pt')\n",
    "sentiment_model = torch.load(config['cls_model_name'])\n",
    "# _ = gpt2_model.eval()\n",
    "device = torch.device(\"cuda\" if torch.cuda.is_available() else \"cpu\")\n",
    "# device = torch.device(\"cpu\")\n",
    "_ = gpt2_model.to(device)\n",
    "_ = sentiment_model.to(device)\n",
    "_ = gpt2_model_ref.to(device)"
   ]
  },
  {
   "cell_type": "code",
   "execution_count": 6,
   "metadata": {},
   "outputs": [
    {
     "data": {
      "text/plain": [
       "(50256, None)"
      ]
     },
     "execution_count": 6,
     "metadata": {},
     "output_type": "execute_result"
    }
   ],
   "source": [
    "# # gpt2_tokenizer = GPT2Tokenizer.from_pretrained(config['tk_name'])\n",
    "# gpt2_tokenizer.convert_tokens_to_ids('11'),gpt2_tokenizer.convert_ids_to_tokens(50526)"
   ]
  },
  {
   "cell_type": "markdown",
   "metadata": {},
   "source": [
    "# 数据 和 合法字符下标生成"
   ]
  },
  {
   "cell_type": "code",
   "execution_count": 7,
   "metadata": {},
   "outputs": [
    {
     "name": "stderr",
     "output_type": "stream",
     "text": [
      "  5%|▌         | 1376/25600 [00:00<00:01, 13753.39it/s]"
     ]
    },
    {
     "name": "stdout",
     "output_type": "stream",
     "text": [
      "(25600, 1)\n",
      "  content\n",
      "0       0\n",
      "1       0\n",
      "2       0\n",
      "3       0\n",
      "4       0\n"
     ]
    },
    {
     "name": "stderr",
     "output_type": "stream",
     "text": [
      "100%|██████████| 25600/25600 [00:01<00:00, 13431.93it/s]\n",
      " 20%|█▉        | 5057/25600 [00:00<00:00, 50563.06it/s]"
     ]
    },
    {
     "name": "stdout",
     "output_type": "stream",
     "text": [
      "  content                         tokens\n",
      "0       0  [tensor(15, device='cuda:0')]\n",
      "1       0  [tensor(15, device='cuda:0')]\n",
      "2       0  [tensor(15, device='cuda:0')]\n",
      "3       0  [tensor(15, device='cuda:0')]\n",
      "4       0  [tensor(15, device='cuda:0')]\n"
     ]
    },
    {
     "name": "stderr",
     "output_type": "stream",
     "text": [
      "100%|██████████| 25600/25600 [00:00<00:00, 50841.28it/s]\n"
     ]
    }
   ],
   "source": [
    "wafData=pd.DataFrame()\n",
    "wafData['content']=['0' for _ in range(25600)]\n",
    "print(wafData.shape)\n",
    "print(wafData.head())\n",
    "wafData['tokens']=wafData['content'].progress_apply(lambda x: gpt2_tokenizer.encode(x, return_tensors=\"pt\").to(device)[0, :config['txt_in_len']])\n",
    "print(wafData.head())\n",
    "wafData['query'] = wafData['tokens'].progress_apply(lambda x: gpt2_tokenizer.decode(x))\n",
    "wafData.head()\n",
    "df=pd.DataFrame()\n",
    "df=wafData\n",
    "df.head()\n",
    "# specialIndex=[0, 3228, 10185, 13896, 34635, 50184]\n",
    "legal_index=[  0, 15,   352,   362,   513,   604,   642,  657, 718,   767,   807,   860,\n",
    "           838,  1367,  1105,  1511,  1478,  1315,  1467,  1596,  1248,   678,\n",
    "          1160,  2310,  2534,  2242,  1987,  1679,  2608,  2681,  2579,  2808,\n",
    "          1542,  3261,  3933,  4747,  4974,  3439,  4570,  5214,  4353,  5014,\n",
    "          2319,  6073,  5433,  5946,  5846,  4153,  6337,  6298,  4764,  5125,\n",
    "          2026,  6885,  6740,  7192,  7175,  5996,  7265,  7632,  7618,  7863,\n",
    "          3126,  8454,  8190,  8093,  5598,  6135,  7930,  8275,  8257,  8644,\n",
    "          4317,  9166,  7724,  8854,  8915,  5441,  8684,  8541,  8699,  9225,\n",
    "          4019,  9773,  9415,  9698,  9508,  7600,  9849, 10083,  9193,  9919,\n",
    "          4101, 10495, 10190, 10261, 10048,  6957,  9907, 10111,  9661,  7388,\n",
    "          1802,  8949, 15143, 15349, 14436, 13343,15696, 16226, 15495, 16003,\n",
    "          9796]\n",
    "legal_index=set(legal_index)\n",
    "nolegal_index=[i for i in range(50257) if i not in legal_index]\n",
    "# data=torch.randn(6,50257)\n",
    "# len(legal_index),len(nolegal_index)\n",
    "# for index ,num in enumerate(legal_index):\n",
    "#     id2token=gpt2_tokenizer.convert_ids_to_tokens(num)\n",
    "#     token2id=gpt2_tokenizer.convert_tokens_to_ids(id2token)\n",
    "#     print(index,id2token,token2id)"
   ]
  },
  {
   "cell_type": "markdown",
   "metadata": {},
   "source": [
    "# 开始训练"
   ]
  },
  {
   "cell_type": "code",
   "execution_count": null,
   "metadata": {},
   "outputs": [
    {
     "name": "stderr",
     "output_type": "stream",
     "text": [
      "\r",
      "  0%|          | 0/100 [00:00<?, ?it/s]"
     ]
    },
    {
     "name": "stdout",
     "output_type": "stream",
     "text": [
      "len(rewards) : 16 16\n",
      "rewards.shape : torch.Size([256]) tensor(-7.4237, device='cuda:0')\n",
      "len(illegalIndex)  14  illegalCount : 14\n",
      "posNum : 44 256\n",
      "torch.Size([132, 1]) torch.Size([132, 50]) torch.Size([132])\n"
     ]
    }
   ],
   "source": [
    "ppo_trainer = PPOTrainer(gpt2_model, gpt2_model_ref, **config)\n",
    "fbs = config['forward_batch_size']\n",
    "rewards_plot=[]\n",
    "text_plot=[]\n",
    "for epoch in tqdm(range(int(np.ceil(config[\"steps\"]/config['batch_size'])))):\n",
    "    torch.cuda.empty_cache()\n",
    "    logs = dict()\n",
    "    game_data = dict()\n",
    "    timing = dict()\n",
    "    t0 = time.time()\n",
    "    \n",
    "    #### get a batch from the dataset\n",
    "    df_batch = df.sample(config['batch_size'])\n",
    "    game_data['query'] = df_batch['query'].tolist()\n",
    "    query_tensors = torch.stack(df_batch['tokens'].tolist())\n",
    "    \n",
    "    #### get response from gpt2\n",
    "    t = time.time()\n",
    "    total_length = config['txt_in_len']+config['txt_out_len']\n",
    "    response_tensors = []\n",
    "    for i in range(int(config['batch_size']/fbs)):\n",
    "        response  = respond_to_batch(gpt2_model, query_tensors[i*fbs:(i+1)*fbs],nolegal_index,\n",
    "                                     txt_len=config['txt_out_len'],top_k=20)\n",
    "        response_tensors.append(response)\n",
    "    response_tensors = torch.cat(response_tensors)\n",
    "    game_data['response'] = [gpt2_tokenizer.decode(response_tensors[i, :]).split('!')[0] for i in range(config['batch_size'])]\n",
    "    timing['time/get_response'] = time.time()-t\n",
    "    \n",
    "    #### tokenize text for sentiment analysis\n",
    "    t = time.time()\n",
    "    texts = [q + r for q,r in zip(game_data['query'], game_data['response'])]\n",
    "#     texts = \n",
    "    text_plot+=texts\n",
    "    #统计legal illegal数量\n",
    "#     islegal_tests=[t[:  t.rindex('0')+1] for t in texts]\n",
    "#     print(islegal_tests)\n",
    "#     print(texts)\n",
    "    legalCount,illegalCount,illegalIndex=count_is_legal(game_data['response'])\n",
    "    logs['count/legalCount']=legalCount\n",
    "    logs['count/illegalCount']=illegalCount\n",
    "    \n",
    "#     assert len(illegalIndex)==illegalCount\n",
    "    sentiment_inputs, attention_masks,indices = data_prepare(texts, gpt2_tokenizer, config['max_length'])  \n",
    "    sentiment_inputs=sentiment_inputs.to(device)\n",
    "    attention_masks=attention_masks.to(device)\n",
    "    indices=indices.to(device)\n",
    "    timing['time/build_input_sentiment'] = time.time()-t\n",
    "\n",
    "    #### get sentiment score\n",
    "    t = time.time()\n",
    "    rewards = []\n",
    "    for i in range(int(config['batch_size']/fbs)):\n",
    "        res = sentiment_model.forward(sentiment_inputs[i*fbs:(i+1)*fbs],\n",
    "                                      attention_masks[i*fbs:(i+1)*fbs],\n",
    "                                     indices[i*fbs:(i+1)*fbs])[:, 1].detach()\n",
    "        rewards.append(res)\n",
    "    #根据非法下标 对reward打分进行修正\n",
    "    print('len(rewards) :',len(rewards),len(rewards[0]))\n",
    "    rewards = torch.cat(rewards)\n",
    "    print('rewards.shape :',rewards.shape,min(rewards)-1)\n",
    "    fixScore=min(rewards)-1\n",
    "#     print('修正前的reward',rewards)\n",
    "#     filterIndex=[]\n",
    "#     for ind in illegalIndex:\n",
    "#         if rewards[ind]>0:\n",
    "#             filterIndex.append(ind)\n",
    "#     rewards[filterIndex]=fixScore\n",
    "#     rewards[illegalIndex]=fixScore\n",
    "    print('len(illegalIndex) ',len(illegalIndex),' illegalCount :',illegalCount)\n",
    "#     print('illegalIndex ：',illegalIndex,' filterIndex :',filterIndex)\n",
    "#     print('修正后的reward',rewards)\n",
    "    timing['time/get_sentiment_preds'] = time.time()-t\n",
    "    rewards_plot.append(rewards.cpu().tolist())\n",
    "    #数据均衡处理\n",
    "    rewards_index = sorted(range(len(rewards)), key=lambda k: rewards[k],reverse=False)  # 升序排序 reversed=False\n",
    "    posNum=sum(rewards>=-4).cpu().numpy()\n",
    "    dataBalance=False\n",
    "    print('posNum :',posNum,len(rewards))\n",
    "    if posNum==0:\n",
    "        continue\n",
    "    if posNum*3<len(rewards):#做数据均衡处理\n",
    "        dataBalance=True\n",
    "        largeNegNum=posNum#采样数量\n",
    "#         print('largeNegNum :',largeNegNum)\n",
    "        smallNegNum=posNum*2#采样数量\n",
    "# #         print('smallRotioNeg :',smallNegNum)\n",
    "        choiceSmall=rewards_index[:len(rewards)-posNum]\n",
    "# #         choiceLarge=rewards_index[-posNum-posNum:-posNum]\n",
    "# #         print('choiceSmall :',choiceSmall)\n",
    "# #         print('choiceLarge :',choiceLarge)\n",
    "# #         if largeNegNum>len(choiceLarge):\n",
    "# #             largeNegNum=len(choiceLarge)\n",
    "        if smallNegNum>len(choiceSmall):\n",
    "            smallNegNum=len(choiceSmall)\n",
    "#         largeIndex = np.random.choice(choiceLarge,size=largeNegNum, replace=False)\n",
    "# #         largeIndex=choiceLarge\n",
    "        smallIndex = np.random.choice(choiceSmall,size=smallNegNum, replace=False)\n",
    "# #         if posNum==0:\n",
    "# #             posNum=5\n",
    "        posIndex=rewards_index[-posNum:]\n",
    "# #         print('smallIndex :',smallIndex)\n",
    "# #         print('largeIndex :',largeIndex)\n",
    "#         print('posIndex :',posIndex)\n",
    "# #         print(type(posIndex),type(smallIndex),type(largeIndex),)\n",
    "        allIndex=posIndex+list(smallIndex)#+list(largeIndex)\n",
    "\n",
    "    if dataBalance:\n",
    "        random.shuffle(allIndex)\n",
    "#         print('allIndex :',allIndex)\n",
    "        query_tensors=query_tensors[allIndex,:]\n",
    "        response_tensors=response_tensors[allIndex,:]\n",
    "        rewards=rewards[allIndex]\n",
    "    print(query_tensors.shape,response_tensors.shape,rewards.shape)\n",
    "   \n",
    "    \n",
    "    #### Run PPO training \n",
    "    t = time.time()\n",
    "#     stats = ppo_trainer.step(query_selected, response_selected, rewards_selected)\n",
    "    stats = ppo_trainer.step(query_tensors, response_tensors, rewards,nolegal_index)\n",
    "    timing['time/optimization'] = time.time()-t\n",
    "     \n",
    "    #### Log everything\n",
    "    timing['time/epoch'] = time.time()-t0\n",
    "    table_rows = [list(r) for r in zip(game_data['query'], game_data['response'], rewards.cpu().tolist())]\n",
    "    logs.update({'game_log':wandb.Table(\n",
    "        columns=['query', 'response', 'reward'],\n",
    "        rows=table_rows)})\n",
    "    logs.update(timing)\n",
    "    logs.update(stats)\n",
    "    logs['env/reward_mean'] = torch.mean(rewards).cpu().numpy()\n",
    "    logs['env/reward_std'] = torch.std(rewards).cpu().numpy()\n",
    "    logs['env/reward_dist'] = rewards.cpu().numpy()\n",
    "    wandb.log(logs)\n",
    "#     if epoch%5==0:\n",
    "#         break\n",
    "#         torch.save(gpt2_model, '/data/hdj/data/CodeBERT/codesearch/results/gpt2_model_0208_'+str(epoch)+'.pkl')"
   ]
  },
  {
   "cell_type": "markdown",
   "metadata": {},
   "source": [
    "# 代码结束了"
   ]
  },
  {
   "cell_type": "code",
   "execution_count": 16,
   "metadata": {},
   "outputs": [],
   "source": [
    "len(nolegal_index),len(legal_index)\n",
    "# encoded_dict=gpt2_tokenizer.encode_plus()\n",
    "encoded_dict = gpt2_tokenizer.encode_plus(\n",
    "            ' 1 2 0! 0! 74!!!',  # Sentence to encode.\n",
    "            add_special_tokens=True,  # Add '[CLS]' and '[SEP]'\n",
    "            max_length=15,  # Pad & truncate all sentences.\n",
    "            pad_to_max_length=True,\n",
    "            return_attention_mask=True,  # Construct attn. masks.\n",
    "            return_tensors='pt',  # Return pytorch tensors.\n",
    "        )"
   ]
  },
  {
   "cell_type": "code",
   "execution_count": 17,
   "metadata": {},
   "outputs": [
    {
     "data": {
      "text/plain": [
       "{'input_ids': tensor([[  352,   362,   657,     0,   657,     0,  8915, 10185,     0,     0,\n",
       "              0,     0,     0,     0,     0]]),\n",
       " 'token_type_ids': tensor([[0, 0, 0, 0, 0, 0, 0, 0, 0, 0, 0, 0, 0, 0, 0]]),\n",
       " 'attention_mask': tensor([[1, 1, 1, 1, 1, 1, 1, 1, 0, 0, 0, 0, 0, 0, 0]])}"
      ]
     },
     "execution_count": 17,
     "metadata": {},
     "output_type": "execute_result"
    }
   ],
   "source": [
    "encoded_dict"
   ]
  },
  {
   "cell_type": "code",
   "execution_count": 18,
   "metadata": {},
   "outputs": [
    {
     "data": {
      "text/plain": [
       "tensor([[False, False,  True, False,  True, False, False, False, False, False,\n",
       "         False, False, False, False, False]])"
      ]
     },
     "execution_count": 18,
     "metadata": {},
     "output_type": "execute_result"
    }
   ],
   "source": [
    "encoded_dict['input_ids'] == 657"
   ]
  },
  {
   "cell_type": "code",
   "execution_count": 11,
   "metadata": {},
   "outputs": [
    {
     "data": {
      "text/plain": [
       "array([ True, False,  True, False, False, False])"
      ]
     },
     "execution_count": 11,
     "metadata": {},
     "output_type": "execute_result"
    }
   ],
   "source": [
    "np.array(encoded_dict) == 657"
   ]
  },
  {
   "cell_type": "code",
   "execution_count": 19,
   "metadata": {},
   "outputs": [],
   "source": [
    "idx = torch.nonzero(encoded_dict['input_ids'] == 657)\n",
    "idx"
   ]
  },
  {
   "cell_type": "code",
   "execution_count": 27,
   "metadata": {},
   "outputs": [
    {
     "data": {
      "text/plain": [
       "tensor([[2]])"
      ]
     },
     "execution_count": 27,
     "metadata": {},
     "output_type": "execute_result"
    }
   ],
   "source": [
    "idx"
   ]
  },
  {
   "cell_type": "code",
   "execution_count": 26,
   "metadata": {},
   "outputs": [
    {
     "ename": "IndexError",
     "evalue": "index 1 is out of bounds for dimension 0 with size 1",
     "output_type": "error",
     "traceback": [
      "\u001b[0;31m---------------------------------------------------------------------------\u001b[0m",
      "\u001b[0;31mIndexError\u001b[0m                                Traceback (most recent call last)",
      "\u001b[0;32m<ipython-input-26-6500b4c27315>\u001b[0m in \u001b[0;36m<module>\u001b[0;34m\u001b[0m\n\u001b[1;32m      2\u001b[0m     \u001b[0midx\u001b[0m\u001b[0;34m=\u001b[0m\u001b[0mtorch\u001b[0m\u001b[0;34m.\u001b[0m\u001b[0mtensor\u001b[0m\u001b[0;34m(\u001b[0m\u001b[0mmax_len\u001b[0m\u001b[0;34m-\u001b[0m\u001b[0;36m1\u001b[0m\u001b[0;34m)\u001b[0m\u001b[0;34m\u001b[0m\u001b[0;34m\u001b[0m\u001b[0m\n\u001b[1;32m      3\u001b[0m \u001b[0;32melse\u001b[0m\u001b[0;34m:\u001b[0m\u001b[0;34m\u001b[0m\u001b[0;34m\u001b[0m\u001b[0m\n\u001b[0;32m----> 4\u001b[0;31m     \u001b[0midx\u001b[0m\u001b[0;34m=\u001b[0m\u001b[0midx\u001b[0m\u001b[0;34m[\u001b[0m\u001b[0;36m0\u001b[0m\u001b[0;34m]\u001b[0m\u001b[0;34m[\u001b[0m\u001b[0;36m1\u001b[0m\u001b[0;34m]\u001b[0m\u001b[0;34m\u001b[0m\u001b[0;34m\u001b[0m\u001b[0m\n\u001b[0m\u001b[1;32m      5\u001b[0m \u001b[0;34m\u001b[0m\u001b[0m\n\u001b[1;32m      6\u001b[0m \u001b[0midx\u001b[0m \u001b[0;34m=\u001b[0m \u001b[0midx\u001b[0m\u001b[0;34m.\u001b[0m\u001b[0mrepeat\u001b[0m\u001b[0;34m(\u001b[0m\u001b[0;36m1\u001b[0m\u001b[0;34m,\u001b[0m \u001b[0;36m1\u001b[0m\u001b[0;34m)\u001b[0m\u001b[0;34m\u001b[0m\u001b[0;34m\u001b[0m\u001b[0m\n",
      "\u001b[0;31mIndexError\u001b[0m: index 1 is out of bounds for dimension 0 with size 1"
     ]
    }
   ],
   "source": [
    "\n",
    "if idx.shape[0]==0:\n",
    "    idx=torch.tensor(max_len-1)\n",
    "else:\n",
    "    idx=idx[0][1]\n",
    "\n",
    "idx = idx.repeat(1, 1)\n",
    "idx"
   ]
  },
  {
   "cell_type": "code",
   "execution_count": 14,
   "metadata": {},
   "outputs": [
    {
     "data": {
      "text/plain": [
       "50256"
      ]
     },
     "execution_count": 14,
     "metadata": {},
     "output_type": "execute_result"
    }
   ],
   "source": [
    "gpt2_tokenizer.convert_tokens_to_ids(' !')#Ġ"
   ]
  },
  {
   "cell_type": "code",
   "execution_count": 15,
   "metadata": {},
   "outputs": [
    {
     "data": {
      "text/plain": [
       "'!!!'"
      ]
     },
     "execution_count": 15,
     "metadata": {},
     "output_type": "execute_result"
    }
   ],
   "source": [
    "gpt2_tokenizer.convert_ids_to_tokens(10185)"
   ]
  },
  {
   "cell_type": "code",
   "execution_count": 8,
   "metadata": {},
   "outputs": [
    {
     "data": {
      "text/plain": [
       "(torch.Size([128, 1]), torch.Tensor)"
      ]
     },
     "execution_count": 8,
     "metadata": {},
     "output_type": "execute_result"
    }
   ],
   "source": [
    "ppo_trainer = PPOTrainer(gpt2_model, gpt2_model_ref, **config)\n",
    "fbs = config['forward_batch_size']\n",
    "torch.cuda.empty_cache()\n",
    "logs = dict()\n",
    "game_data = dict()\n",
    "timing = dict()\n",
    "t0 = time.time()\n",
    "#### get a batch from the dataset\n",
    "df_batch = df.sample(config['batch_size'])\n",
    "game_data['query'] = df_batch['query'].tolist()\n",
    "query_tensors = torch.stack(df_batch['tokens'].tolist())\n",
    "query_tensors.shape,type(query_tensors)"
   ]
  },
  {
   "cell_type": "code",
   "execution_count": 20,
   "metadata": {},
   "outputs": [
    {
     "data": {
      "text/plain": [
       "{'input_ids': [352,\n",
       "  8454,\n",
       "  657,\n",
       "  0,\n",
       "  718,\n",
       "  7863,\n",
       "  8190,\n",
       "  8454,\n",
       "  657,\n",
       "  13896,\n",
       "  8915,\n",
       "  10185],\n",
       " 'token_type_ids': [0, 0, 0, 0, 0, 0, 0, 0, 0, 0, 0, 0],\n",
       " 'attention_mask': [1, 1, 1, 1, 1, 1, 1, 1, 1, 1, 1, 1]}"
      ]
     },
     "execution_count": 20,
     "metadata": {},
     "output_type": "execute_result"
    }
   ],
   "source": [
    "# gpt2_tokenizer.encode_plus('0 1 0 ! !!!!')\n",
    "gpt2_tokenizer.encode_plus(' 1 61 0! 6 59 62 61 0!!!! 74!!!')"
   ]
  },
  {
   "cell_type": "code",
   "execution_count": 21,
   "metadata": {},
   "outputs": [
    {
     "data": {
      "text/plain": [
       "' 1 61 0! 6 59 62 61 0!!!! 74!!!'"
      ]
     },
     "execution_count": 21,
     "metadata": {},
     "output_type": "execute_result"
    }
   ],
   "source": [
    "gpt2_tokenizer.decode([352,\n",
    "  8454,\n",
    "  657,\n",
    "  0,\n",
    "  718,\n",
    "  7863,\n",
    "  8190,\n",
    "  8454,\n",
    "  657,\n",
    "  13896,\n",
    "  8915,\n",
    "  10185])"
   ]
  },
  {
   "cell_type": "code",
   "execution_count": 13,
   "metadata": {},
   "outputs": [
    {
     "data": {
      "text/plain": [
       "'Ġ!'"
      ]
     },
     "execution_count": 13,
     "metadata": {},
     "output_type": "execute_result"
    }
   ],
   "source": [
    "gpt2_tokenizer.convert_ids_to_tokens(5145)"
   ]
  },
  {
   "cell_type": "code",
   "execution_count": 28,
   "metadata": {},
   "outputs": [
    {
     "data": {
      "text/plain": [
       "0"
      ]
     },
     "execution_count": 28,
     "metadata": {},
     "output_type": "execute_result"
    }
   ],
   "source": [
    "gpt2_tokenizer.convert_tokens_to_ids('!')"
   ]
  },
  {
   "cell_type": "code",
   "execution_count": 9,
   "metadata": {},
   "outputs": [
    {
     "name": "stdout",
     "output_type": "stream",
     "text": [
      "128 0\n",
      "torch.Size([128, 66]) torch.Size([128, 66]) torch.Size([128, 1])\n"
     ]
    }
   ],
   "source": [
    "#### get response from gpt2\n",
    "n=10\n",
    "legalList=[]\n",
    "illegalList=[]\n",
    "# while n>=0:\n",
    "t = time.time()\n",
    "total_length = config['txt_in_len']+config['txt_out_len']\n",
    "response_tensors = []\n",
    "for i in range(int(config['batch_size']/fbs)):\n",
    "    response  = respond_to_batch(gpt2_model, query_tensors[i*fbs:(i+1)*fbs],nolegal_index,top_k=20,\n",
    "                                 txt_len=config['txt_out_len'])\n",
    "    response_tensors.append(response)\n",
    "response_tensors = torch.cat(response_tensors)\n",
    "game_data['response'] = [gpt2_tokenizer.decode(response_tensors[i, :]) for i in range(config['batch_size'])]\n",
    "timing['time/get_response'] = time.time()-t\n",
    "#### tokenize text for sentiment analysis\n",
    "t = time.time()\n",
    "texts = [q + r for q,r in zip(game_data['query'], game_data['response'])]\n",
    "#TODO 这里增加判断生成的是否符合语法规范\n",
    "# texts_check=[t.split()[:-1] for t in texts]\n",
    "\n",
    "legalCount,illegalCount=count_is_legal(texts)\n",
    "legalList.append(legalCount)\n",
    "illegalList.append(illegalCount)\n",
    "print(legalCount,illegalCount)\n",
    "logs['count/legalCount']=legalCount\n",
    "logs['count/illegalCount']=illegalCount\n",
    "\n",
    "sentiment_inputs, attention_masks,indices = data_prepare(texts, gpt2_tokenizer, config['max_length'])    \n",
    "timing['time/build_input_sentiment'] = time.time()-t\n",
    "print(sentiment_inputs.shape,attention_masks.shape,indices.shape)\n",
    "#     n-=1"
   ]
  },
  {
   "cell_type": "code",
   "execution_count": 13,
   "metadata": {},
   "outputs": [
    {
     "data": {
      "text/plain": [
       "tensor([[29],\n",
       "        [40],\n",
       "        [35],\n",
       "        [56],\n",
       "        [44]])"
      ]
     },
     "execution_count": 13,
     "metadata": {},
     "output_type": "execute_result"
    }
   ],
   "source": [
    "indices[:5]"
   ]
  },
  {
   "cell_type": "code",
   "execution_count": 12,
   "metadata": {},
   "outputs": [
    {
     "data": {
      "text/plain": [
       "tensor([[   15,   362,   513, 15495,   604, 16003,   642,  8257,   718,  7863,\n",
       "          8190,   838,  1511,  1542,   718,  7863,  8190,  2579,  9773,   718,\n",
       "          7863,  8093,  3261,   513, 15495,  1367,  3126,  7863,  8190,   657,\n",
       "         34635, 34635, 34635, 34635, 13896,     0,     0,     0,     0,     0,\n",
       "             0,     0,     0,     0,     0,     0,     0,     0,     0,     0,\n",
       "             0,     0,     0,     0,     0,     0,     0,     0,     0,     0,\n",
       "             0,     0,     0,     0,     0,     0],\n",
       "        [   15,   362,   513, 15495,   604,  9796,   807,  7600,   718,  7863,\n",
       "          8093,   860,  5441,   718,  7863,  8190,   767,  3933,   807,  7600,\n",
       "           718,  7863,  8190,  4974,  5946,  5014,  9907,   718,  7863,  8190,\n",
       "          2319,   513, 15495,   718,  7863,  8093,   807,  7600,   604, 16003,\n",
       "           657, 34635, 34635, 13896, 50184,     0,     0,     0,     0,     0,\n",
       "             0,     0,     0,     0,     0,     0,     0,     0,     0,     0,\n",
       "             0,     0,     0,     0,     0,     0],\n",
       "        [   15,   352,  1105,  7930,  8949,   604, 16003,   718,  7863,  8190,\n",
       "           767,  4747,  1467,  9415,   718,  7863,  8093,  3439,  4570,  5214,\n",
       "          9661,  5014,  9907,  2319,  6073,  5433,   718,  7863,  8190,   807,\n",
       "          9508,   604, 16003,   513, 15495,   657, 34635, 34635, 34635, 13896,\n",
       "          3228,     0,     0,     0,     0,     0,     0,     0,     0,     0,\n",
       "             0,     0,     0,     0,     0,     0,     0,     0,     0,     0,\n",
       "             0,     0,     0,     0,     0,     0],\n",
       "        [   15,   362,   513, 15495,   604, 16003,   642,  9166,   718,  7863,\n",
       "          8093,   767,  3933,   807,  7600,   718,  7863,  8093,  4974,  5846,\n",
       "          4570,  5214, 10111,   718,  7863,  8190,  4353,  7192,   718,  7863,\n",
       "          8190,  7175,  4153, 10048,   718,  7863,  8190,  1248,  9225,  4570,\n",
       "          5214, 10111,  5014,  6957,  2319,   513, 15495,  1987,  5598,   718,\n",
       "          7863,  8093,   807,  9508,   604, 16003,   657, 13896, 50184,     0,\n",
       "             0,     0,     0,     0,     0,     0],\n",
       "        [   15,   362,   513, 15495,   604, 16003,   642,  8644,   718,  7863,\n",
       "          8093,   838,  1315,  1467,  9415,   718,  7863,  8190,  1596,  1679,\n",
       "          1248,  9225,   678,  1160,  9919,  2310,  1248,  9225,  2534,  1160,\n",
       "          9919,  2242,  1160,  4101,  2534,  1987,  5598,  1160,  4101,   678,\n",
       "          1987,  5598,  1367,  8454,   657, 34635, 34635, 50184,     0,     0,\n",
       "             0,     0,     0,     0,     0,     0,     0,     0,     0,     0,\n",
       "             0,     0,     0,     0,     0,     0]])"
      ]
     },
     "execution_count": 12,
     "metadata": {},
     "output_type": "execute_result"
    }
   ],
   "source": [
    "sentiment_inputs[:5]"
   ]
  },
  {
   "cell_type": "code",
   "execution_count": 10,
   "metadata": {},
   "outputs": [],
   "source": [
    "# response_tensors[:10]"
   ]
  },
  {
   "cell_type": "code",
   "execution_count": 9,
   "metadata": {},
   "outputs": [],
   "source": [
    "# game_data['response'][:10]"
   ]
  },
  {
   "cell_type": "code",
   "execution_count": 17,
   "metadata": {},
   "outputs": [
    {
     "data": {
      "text/plain": [
       "66"
      ]
     },
     "execution_count": 17,
     "metadata": {},
     "output_type": "execute_result"
    }
   ],
   "source": [
    "len(texts[1].split())"
   ]
  },
  {
   "cell_type": "code",
   "execution_count": null,
   "metadata": {},
   "outputs": [],
   "source": [
    "# response_tensors[:2]"
   ]
  },
  {
   "cell_type": "code",
   "execution_count": null,
   "metadata": {},
   "outputs": [],
   "source": [
    "# game_data['response'][:2]"
   ]
  },
  {
   "cell_type": "code",
   "execution_count": 18,
   "metadata": {},
   "outputs": [
    {
     "data": {
      "text/plain": [
       "' 1 12 3 108 4 109 6 59 63 7 32 8 85 6 59 62 34 43 39 95 6 59 63 38 19 6 59 62 8 84 4 110 3 108 14 27 8 85 4 109 3 108 110 3 108 81 6 59 62 8 84 4 110 3 108 84 4 109 3 108 73 54 70 84'"
      ]
     },
     "execution_count": 18,
     "metadata": {},
     "output_type": "execute_result"
    }
   ],
   "source": [
    "# gpt2_tokenizer.decode([  352,  1105,   513, 15495,   604, 16003,   718,  7863,  8093,   767,\n",
    "#           3933,   807,  7600,   718,  7863,  8190,  4974,  5946,  5014,  6957,\n",
    "#            718,  7863,  8093,  4353,   678,   718,  7863,  8190,   807,  9508,\n",
    "#            604,  9796,   513, 15495,  1478,  2681,   807,  7600,   604, 16003,\n",
    "#            513, 15495,  9796,   513, 15495,  9773,   718,  7863,  8190,   807,\n",
    "#           9508,   604,  9796,   513, 15495,  9508,   604, 16003,   513, 15495,\n",
    "#           8854,  7175,  4317,  9508])\n",
    "# # data[:,nolegal_index]=np.NINF\n",
    "# # data"
   ]
  },
  {
   "cell_type": "code",
   "execution_count": 58,
   "metadata": {},
   "outputs": [],
   "source": [
    "# import torch.nn.functional as F\n",
    "# probs = F.softmax(data, dim=-1)\n",
    "# for i in probs[0]:\n",
    "#     print(i)"
   ]
  },
  {
   "cell_type": "code",
   "execution_count": 19,
   "metadata": {},
   "outputs": [
    {
     "data": {
      "text/plain": [
       "(46293, 'Ġbothers')"
      ]
     },
     "execution_count": 19,
     "metadata": {},
     "output_type": "execute_result"
    }
   ],
   "source": [
    "gpt2_tokenizer.convert_tokens_to_ids('Ġ'+'bothers'),gpt2_tokenizer.convert_ids_to_tokens(46293)\n"
   ]
  },
  {
   "cell_type": "code",
   "execution_count": 15,
   "metadata": {},
   "outputs": [
    {
     "data": {
      "text/plain": [
       "3"
      ]
     },
     "execution_count": 15,
     "metadata": {},
     "output_type": "execute_result"
    }
   ],
   "source": [
    "# response_tensors[:2]\n",
    "txt='0 0!!!'\n",
    "txt.index('!')"
   ]
  },
  {
   "cell_type": "code",
   "execution_count": 15,
   "metadata": {
    "scrolled": false
   },
   "outputs": [
    {
     "name": "stdout",
     "output_type": "stream",
     "text": [
      "126 2\n",
      "torch.Size([128, 66]) torch.Size([128, 66]) torch.Size([128, 1])\n"
     ]
    }
   ],
   "source": [
    "#### tokenize text for sentiment analysis\n",
    "t = time.time()\n",
    "texts = [q + r for q,r in zip(game_data['query'], game_data['response'])]\n",
    "#TODO 这里增加判断生成的是否符合语法规范\n",
    "# texts_check=[t.split()[:-1] for t in texts]\n",
    "\n",
    "legalCount,illegalCount=count_is_legal(texts)\n",
    "print(legalCount,illegalCount)\n",
    "logs['count/legalCount']=legalCount\n",
    "logs['count/illegalCount']=illegalCount\n",
    "    \n",
    "sentiment_inputs, attention_masks,indices = data_prepare(texts, gpt2_tokenizer, config['max_length'])    \n",
    "timing['time/build_input_sentiment'] = time.time()-t\n",
    "print(sentiment_inputs.shape,attention_masks.shape,indices.shape)"
   ]
  },
  {
   "cell_type": "code",
   "execution_count": 18,
   "metadata": {},
   "outputs": [
    {
     "data": {
      "text/plain": [
       "(torch.Tensor, torch.Tensor, torch.Tensor)"
      ]
     },
     "execution_count": 18,
     "metadata": {},
     "output_type": "execute_result"
    }
   ],
   "source": [
    "sentiment_inputs=sentiment_inputs.to(device)\n",
    "attention_masks=attention_masks.to(device)\n",
    "indices=indices.to(device)\n",
    "type(sentiment_inputs),type(attention_masks),type(indices)"
   ]
  },
  {
   "cell_type": "code",
   "execution_count": 22,
   "metadata": {},
   "outputs": [],
   "source": [
    "# text_list=texts[0].split()\n",
    "# for i in range(len(sentiment_inputs[0])):\n",
    "#     print(sentiment_inputs[0][i],)\n",
    "# sentiment_inputs[:2]"
   ]
  },
  {
   "cell_type": "code",
   "execution_count": 19,
   "metadata": {},
   "outputs": [
    {
     "name": "stdout",
     "output_type": "stream",
     "text": [
      "<class 'torch.Tensor'> torch.Size([16])\n",
      "<class 'torch.Tensor'> torch.Size([16])\n",
      "<class 'torch.Tensor'> torch.Size([16])\n",
      "<class 'torch.Tensor'> torch.Size([16])\n",
      "<class 'torch.Tensor'> torch.Size([16])\n",
      "<class 'torch.Tensor'> torch.Size([16])\n",
      "<class 'torch.Tensor'> torch.Size([16])\n",
      "<class 'torch.Tensor'> torch.Size([16])\n"
     ]
    }
   ],
   "source": [
    "#### get sentiment score\n",
    "t = time.time()\n",
    "rewards = []\n",
    "for i in range(int(config['batch_size']/fbs)):\n",
    "    res = sentiment_model.forward(sentiment_inputs[i*fbs:(i+1)*fbs],\n",
    "                                  attention_masks[i*fbs:(i+1)*fbs],\n",
    "                                 indices[i*fbs:(i+1)*fbs])[:, 1].detach()\n",
    "    print(type(res),res.shape)\n",
    "    rewards.append(res)\n",
    "rewards = torch.cat(rewards)\n",
    "timing['time/get_sentiment_preds'] = time.time()-t"
   ]
  },
  {
   "cell_type": "code",
   "execution_count": 21,
   "metadata": {},
   "outputs": [
    {
     "data": {
      "text/plain": [
       "tensor(-513.7990, device='cuda:0')"
      ]
     },
     "execution_count": 21,
     "metadata": {},
     "output_type": "execute_result"
    }
   ],
   "source": [
    "sum(rewards)"
   ]
  },
  {
   "cell_type": "code",
   "execution_count": 23,
   "metadata": {},
   "outputs": [
    {
     "data": {
      "text/plain": [
       "tensor(18, device='cuda:0')"
      ]
     },
     "execution_count": 23,
     "metadata": {},
     "output_type": "execute_result"
    }
   ],
   "source": [
    "rewards.shape\n",
    "sum(rewards>=0)"
   ]
  },
  {
   "cell_type": "code",
   "execution_count": null,
   "metadata": {},
   "outputs": [],
   "source": []
  },
  {
   "cell_type": "code",
   "execution_count": 21,
   "metadata": {},
   "outputs": [
    {
     "name": "stdout",
     "output_type": "stream",
     "text": [
      "largeRotioNeg : 16\n",
      "smallRotioNeg : 4\n",
      "choiceSmall : [30, 108, 42, 92, 94, 24, 110, 119, 59, 109, 52, 71, 88, 104, 33, 124, 90, 32, 85, 82, 48, 98, 4, 2, 127, 41, 66, 102, 106, 77, 113, 100, 105, 26, 123, 114, 116, 74, 29, 125, 91, 126, 56, 15, 9, 31, 17, 97, 87, 75, 39, 19, 120, 43, 95, 55, 111, 35, 122, 40, 0, 22, 68, 49, 76, 20, 65, 57, 16, 80, 73, 12, 50, 36, 53, 10, 28, 7, 58, 101, 103, 118, 86, 79, 67, 115, 14, 44]\n",
      "choiceLarge : [38, 63, 37, 81, 83, 78, 46, 60, 117, 27, 21, 13, 70, 54, 34, 93, 5, 1, 6, 25]\n",
      "smallIndex : [28 41 39 95]\n",
      "largeIndex : [ 70   1  93  54   6  21 117  81  83  78  37  27  38  13  46  60]\n",
      "posIndex : [11, 72, 112, 96, 62, 107, 121, 18, 45, 23, 89, 61, 51, 47, 64, 84, 8, 3, 69, 99]\n",
      "<class 'list'> <class 'numpy.ndarray'> <class 'numpy.ndarray'>\n",
      "allIndex : [11, 72, 112, 96, 62, 107, 121, 18, 45, 23, 89, 61, 51, 47, 64, 84, 8, 3, 69, 99, 28, 41, 39, 95, 70, 1, 93, 54, 6, 21, 117, 81, 83, 78, 37, 27, 38, 13, 46, 60]\n"
     ]
    }
   ],
   "source": [
    "rewards_index = sorted(range(len(rewards)), key=lambda k: rewards[k],reverse=False)  # 升序排序 reversed=False\n",
    "posNum=sum(rewards>=0).cpu().numpy()\n",
    "if posNum*2<len(rewards):#做数据均衡处理\n",
    "    largeNegNum=int(posNum*0.8)#采样数量\n",
    "    print('largeRotioNeg :',largeNegNum)\n",
    "    smallNegNum=posNum-largeNegNum#采样数量\n",
    "    print('smallRotioNeg :',smallNegNum)\n",
    "    choiceSmall=rewards_index[:len(rewards)-posNum-posNum]\n",
    "    choiceLarge=rewards_index[-posNum-posNum:-posNum]\n",
    "    print('choiceSmall :',choiceSmall)\n",
    "    print('choiceLarge :',choiceLarge)\n",
    "    largeIndex = np.random.choice(choiceLarge,size=largeNegNum, replace=False)\n",
    "    smallIndex = np.random.choice(choiceSmall,size=smallNegNum, replace=False)\n",
    "    posIndex=rewards_index[-posNum:]\n",
    "    print('smallIndex :',smallIndex)\n",
    "    print('largeIndex :',largeIndex)\n",
    "    print('posIndex :',posIndex)\n",
    "    print(type(posIndex),type(smallIndex),type(largeIndex),)\n",
    "    allIndex=posIndex+list(smallIndex)+list(largeIndex)\n",
    "    print('allIndex :',allIndex)\n",
    "query_selected=query_tensors[allIndex,:]\n",
    "response_selected=response_tensors[allIndex,:]\n",
    "rewards_selected=rewards[allIndex]"
   ]
  },
  {
   "cell_type": "code",
   "execution_count": 36,
   "metadata": {},
   "outputs": [],
   "source": []
  },
  {
   "cell_type": "code",
   "execution_count": 22,
   "metadata": {},
   "outputs": [
    {
     "data": {
      "text/plain": [
       "(torch.Tensor, torch.Tensor, torch.Tensor)"
      ]
     },
     "execution_count": 22,
     "metadata": {},
     "output_type": "execute_result"
    }
   ],
   "source": [
    "type(query_selected),type(response_selected),type(rewards_selected)"
   ]
  },
  {
   "cell_type": "code",
   "execution_count": 23,
   "metadata": {},
   "outputs": [
    {
     "data": {
      "text/plain": [
       "(torch.Size([40, 1]), torch.Size([40, 65]), torch.Size([40]))"
      ]
     },
     "execution_count": 23,
     "metadata": {},
     "output_type": "execute_result"
    }
   ],
   "source": [
    "query_selected.shape,response_selected.shape,rewards_selected.shape"
   ]
  },
  {
   "cell_type": "code",
   "execution_count": 24,
   "metadata": {},
   "outputs": [
    {
     "name": "stdout",
     "output_type": "stream",
     "text": [
      "查看问题 : 512\n",
      "查看问题 : 512\n",
      "查看问题 : 512\n",
      "查看问题 : 512\n",
      "查看问题 : 512\n",
      "查看问题 : 512\n",
      "查看问题 : 512\n",
      "查看问题 : 512\n",
      "查看问题 : 512\n",
      "查看问题 : 512\n",
      "查看问题 : 512\n",
      "查看问题 : 512\n",
      "查看问题 : 512\n",
      "查看问题 : 512\n",
      "查看问题 : 512\n",
      "查看问题 : 512\n",
      "查看问题 : 512\n"
     ]
    }
   ],
   "source": [
    "#### Run PPO training \n",
    "t = time.time()\n",
    "stats = ppo_trainer.step(query_tensors, response_tensors, rewards)\n",
    "timing['time/optimization'] = time.time()-t"
   ]
  },
  {
   "cell_type": "code",
   "execution_count": 5,
   "metadata": {},
   "outputs": [],
   "source": [
    "# type(stats)\n",
    "# stats"
   ]
  },
  {
   "cell_type": "code",
   "execution_count": 28,
   "metadata": {},
   "outputs": [
    {
     "data": {
      "text/plain": [
       "['0 1 2 0', '0 2 3 0', '0']"
      ]
     },
     "execution_count": 28,
     "metadata": {},
     "output_type": "execute_result"
    }
   ],
   "source": [
    "# rewards\n",
    "texts=['0 1 2 0','0 2 3 0!!','0 !!']\n",
    "islegal_tests=[t[:  t.rindex('0')+1] for t in texts]\n",
    "islegal_tests"
   ]
  },
  {
   "cell_type": "code",
   "execution_count": 29,
   "metadata": {},
   "outputs": [
    {
     "data": {
      "text/plain": [
       "[' 1 12 66 105 4 109 6 59 62 7 33 16 82 6 59 62 35 36 37 98 39 96 40 41 42 6 59 62 8 85 4 110 3 108 0',\n",
       " ' 2 3 108 4 109 5 71 6 59 62 10 7 33 16 83 6 59 62 35 36 37 97 6 59 63 38 55 6 59 63 56 6 59 62 57 11 60 59 63 0']"
      ]
     },
     "execution_count": 29,
     "metadata": {},
     "output_type": "execute_result"
    }
   ],
   "source": [
    "game_data['response'][:2]"
   ]
  },
  {
   "cell_type": "code",
   "execution_count": 6,
   "metadata": {},
   "outputs": [
    {
     "data": {
      "text/plain": [
       "[3, 2, 1]"
      ]
     },
     "execution_count": 6,
     "metadata": {},
     "output_type": "execute_result"
    }
   ],
   "source": [
    "\n",
    "a=[1,2,3]\n",
    "random.shuffle(a)\n",
    "a"
   ]
  },
  {
   "cell_type": "code",
   "execution_count": 9,
   "metadata": {},
   "outputs": [],
   "source": [
    "import matplotlib.pyplot as plt\n",
    "#对score进行排序 画出分布图\n",
    "\n",
    "# text_plot[60*128:60*128+100]\n",
    "# for t in text_plot[-100:]:\n",
    "#     print(t)"
   ]
  },
  {
   "cell_type": "code",
   "execution_count": 15,
   "metadata": {},
   "outputs": [],
   "source": [
    "# text_plot"
   ]
  },
  {
   "cell_type": "code",
   "execution_count": 10,
   "metadata": {},
   "outputs": [
    {
     "name": "stdout",
     "output_type": "stream",
     "text": [
      "13312 104\n"
     ]
    },
    {
     "data": {
      "text/plain": [
       "[<matplotlib.lines.Line2D at 0x7fb983332310>]"
      ]
     },
     "execution_count": 10,
     "metadata": {},
     "output_type": "execute_result"
    },
    {
     "data": {
      "image/png": "[encoded data removed]",
      "text/plain": [
       "<Figure size 432x288 with 1 Axes>"
      ]
     },
     "metadata": {
      "needs_background": "light"
     },
     "output_type": "display_data"
    }
   ],
   "source": [
    "print(len(text_plot),len(rewards_plot))\n",
    "a,b=18*128,18*128+1000\n",
    "j=0\n",
    "sum_len=[]\n",
    "lenDist=[]\n",
    "for i, t in enumerate(text_plot) :\n",
    "    values=t.split()\n",
    "#     print(i+1,len(values))\n",
    "    sum_len.append(len(values))\n",
    "    if (i+1)%128==0:\n",
    "        p=sum(sum_len)/len(sum_len)\n",
    "#         print(j,'*'*10,p)\n",
    "        j+=1\n",
    "        sum_len=[]\n",
    "        lenDist.append(p)\n",
    "x=[i for i in range(len(lenDist))]\n",
    "plt.plot(x, lenDist)  "
   ]
  },
  {
   "cell_type": "code",
   "execution_count": 12,
   "metadata": {},
   "outputs": [
    {
     "data": {
      "text/plain": [
       "'0 1 2 30 0 '"
      ]
     },
     "execution_count": 12,
     "metadata": {},
     "output_type": "execute_result"
    }
   ],
   "source": [
    "text='0 1 2 30 0 !'\n",
    "text.split('!')[0]"
   ]
  },
  {
   "cell_type": "code",
   "execution_count": 13,
   "metadata": {
    "scrolled": false
   },
   "outputs": [],
   "source": [
    "# ppo_trainer = PPOTrainer(gpt2_model, gpt2_model_ref, **config)\n",
    "# fbs = config['forward_batch_size']\n",
    "# rewards_plot=[]\n",
    "# text_plot=[]\n",
    "# for epoch in tqdm(range(int(np.ceil(config[\"steps\"]/config['batch_size'])))):\n",
    "#     torch.cuda.empty_cache()\n",
    "#     logs = dict()\n",
    "#     game_data = dict()\n",
    "#     timing = dict()\n",
    "#     t0 = time.time()\n",
    "    \n",
    "#     #### get a batch from the dataset\n",
    "#     df_batch = df.sample(config['batch_size'])\n",
    "#     game_data['query'] = df_batch['query'].tolist()\n",
    "#     query_tensors = torch.stack(df_batch['tokens'].tolist())\n",
    "    \n",
    "#     #### get response from gpt2\n",
    "#     t = time.time()\n",
    "#     total_length = config['txt_in_len']+config['txt_out_len']\n",
    "#     response_tensors = []\n",
    "#     for i in range(int(config['batch_size']/fbs)):\n",
    "#         response  = respond_to_batch(gpt2_model, query_tensors[i*fbs:(i+1)*fbs],nolegal_index,\n",
    "#                                      txt_len=config['txt_out_len'])\n",
    "#         response_tensors.append(response)\n",
    "#     response_tensors = torch.cat(response_tensors)\n",
    "#     game_data['response'] = [gpt2_tokenizer.decode(response_tensors[i, :]).split('!')[0] for i in range(config['batch_size'])]\n",
    "#     timing['time/get_response'] = time.time()-t\n",
    "    \n",
    "#     #### tokenize text for sentiment analysis\n",
    "#     t = time.time()\n",
    "#     texts = [q + r for q,r in zip(game_data['query'], game_data['response'])]\n",
    "#     text_plot+=texts\n",
    "#     #统计legal illegal数量\n",
    "# #     islegal_tests=[t[:  t.rindex('0')+1] for t in texts]\n",
    "# #     print(islegal_tests)\n",
    "# #     print(texts)\n",
    "#     legalCount,illegalCount=count_is_legal(texts)\n",
    "#     logs['count/legalCount']=legalCount\n",
    "#     logs['count/illegalCount']=illegalCount\n",
    "    \n",
    "#     sentiment_inputs, attention_masks,indices = data_prepare(texts, gpt2_tokenizer, config['max_length'])  \n",
    "#     sentiment_inputs=sentiment_inputs.to(device)\n",
    "#     attention_masks=attention_masks.to(device)\n",
    "#     indices=indices.to(device)\n",
    "#     timing['time/build_input_sentiment'] = time.time()-t\n",
    "\n",
    "#     #### get sentiment score\n",
    "#     t = time.time()\n",
    "#     rewards = []\n",
    "#     for i in range(int(config['batch_size']/fbs)):\n",
    "#         res = sentiment_model.forward(sentiment_inputs[i*fbs:(i+1)*fbs],\n",
    "#                                       attention_masks[i*fbs:(i+1)*fbs],\n",
    "#                                      indices[i*fbs:(i+1)*fbs])[:, 1].detach()\n",
    "#         rewards.append(res)\n",
    "#     rewards = torch.cat(rewards)\n",
    "#     timing['time/get_sentiment_preds'] = time.time()-t\n",
    "#     rewards_plot.append(rewards.cpu().tolist())\n",
    "#     #数据均衡处理\n",
    "#     rewards_index = sorted(range(len(rewards)), key=lambda k: rewards[k],reverse=False)  # 升序排序 reversed=False\n",
    "#     posNum=sum(rewards>=0).cpu().numpy()\n",
    "#     dataBalance=False\n",
    "#     print('posNum :',posNum,len(rewards))\n",
    "#     if posNum*2<len(rewards):#做数据均衡处理\n",
    "#         dataBalance=True\n",
    "#         largeNegNum=posNum#采样数量\n",
    "#         print('largeRotioNeg :',largeNegNum)\n",
    "# #         smallNegNum=int(posNum*0.2)#采样数量\n",
    "# #         print('smallRotioNeg :',smallNegNum)\n",
    "# #         choiceSmall=rewards_index[:len(rewards)-posNum-posNum]\n",
    "# #         choiceLarge=rewards_index[-posNum-posNum:-posNum]\n",
    "# #         print('choiceSmall :',choiceSmall)\n",
    "# #         print('choiceLarge :',choiceLarge)\n",
    "# #         if largeNegNum>len(choiceLarge):\n",
    "# #             largeNegNum=len(choiceLarge)\n",
    "# #         if smallNegNum>len(choiceSmall):\n",
    "# #             smallNegNum=len(choiceSmall)\n",
    "# #         largeIndex = np.random.choice(choiceLarge,size=largeNegNum, replace=False)\n",
    "# #         largeIndex=choiceLarge\n",
    "# #         smallIndex = np.random.choice(choiceSmall,size=smallNegNum, replace=False)\n",
    "#         if posNum==0:\n",
    "#             posNum=5\n",
    "#         posIndex=rewards_index[-2*posNum-1:]\n",
    "# #         print('smallIndex :',smallIndex)\n",
    "# #         print('largeIndex :',largeIndex)\n",
    "#         print('posIndex :',posIndex)\n",
    "# #         print(type(posIndex),type(smallIndex),type(largeIndex),)\n",
    "#         allIndex=posIndex#+list(smallIndex)#+list(largeIndex)\n",
    "#     if len(allIndex)==0 or len(allIndex)==1:\n",
    "#         continue\n",
    "#     if dataBalance:\n",
    "#         random.shuffle(allIndex)\n",
    "#         print('allIndex :',allIndex)\n",
    "#         query_tensors=query_tensors[allIndex,:]\n",
    "#         response_tensors=response_tensors[allIndex,:]\n",
    "#         rewards=rewards[allIndex]\n",
    "#     print(query_tensors.shape,response_tensors.shape,rewards.shape)\n",
    "   \n",
    "    \n",
    "#     #### Run PPO training \n",
    "#     t = time.time()\n",
    "# #     stats = ppo_trainer.step(query_selected, response_selected, rewards_selected)\n",
    "#     stats = ppo_trainer.step(query_tensors, response_tensors, rewards)\n",
    "#     timing['time/optimization'] = time.time()-t\n",
    "     \n",
    "#     #### Log everything\n",
    "#     timing['time/epoch'] = time.time()-t0\n",
    "#     table_rows = [list(r) for r in zip(game_data['query'], game_data['response'], rewards.cpu().tolist())]\n",
    "#     logs.update({'game_log':wandb.Table(\n",
    "#         columns=['query', 'response', 'reward'],\n",
    "#         rows=table_rows)})\n",
    "#     logs.update(timing)\n",
    "#     logs.update(stats)\n",
    "#     logs['env/reward_mean'] = torch.mean(rewards).cpu().numpy()\n",
    "#     logs['env/reward_std'] = torch.std(rewards).cpu().numpy()\n",
    "#     logs['env/reward_dist'] = rewards.cpu().numpy()\n",
    "#     wandb.log(logs)\n",
    "# #     if epoch==20:\n",
    "# #         break"
   ]
  },
  {
   "cell_type": "code",
   "execution_count": 13,
   "metadata": {},
   "outputs": [
    {
     "name": "stdout",
     "output_type": "stream",
     "text": [
      "60\n",
      "31\n",
      "23\n",
      "9\n",
      "7\n",
      "25\n",
      "16\n",
      "14\n",
      "12\n",
      "1\n"
     ]
    }
   ],
   "source": [
    "for t in rewards_plot[:10]:\n",
    "    print(len(t))"
   ]
  },
  {
   "cell_type": "code",
   "execution_count": 11,
   "metadata": {},
   "outputs": [
    {
     "data": {
      "image/png": "[encoded data removed]",
      "text/plain": [
       "<Figure size 432x288 with 1 Axes>"
      ]
     },
     "metadata": {
      "needs_background": "light"
     },
     "output_type": "display_data"
    }
   ],
   "source": [
    "rewards_plot\n",
    "import matplotlib.pyplot as plt\n",
    "#对score进行排序 画出分布图\n",
    "for scores in rewards_plot[8:9]:\n",
    "    scores=sorted(scores)\n",
    "    posNum=sum(np.array(scores)>=0)\n",
    "#     print(posNum)\n",
    "#     len(scores),scores[:10]\n",
    "    x=[i for i in range(len(scores))]\n",
    "    plt.plot(x, scores)  "
   ]
  },
  {
   "cell_type": "code",
   "execution_count": 14,
   "metadata": {},
   "outputs": [
    {
     "data": {
      "text/plain": [
       "[<matplotlib.lines.Line2D at 0x7efff55aabd0>]"
      ]
     },
     "execution_count": 14,
     "metadata": {},
     "output_type": "execute_result"
    },
    {
     "data": {
      "image/png": "[encoded data removed]",
      "text/plain": [
       "<Figure size 432x288 with 1 Axes>"
      ]
     },
     "metadata": {
      "needs_background": "light"
     },
     "output_type": "display_data"
    }
   ],
   "source": [
    "plt.plot(x, sorted(rewards_plot[8])) "
   ]
  },
  {
   "cell_type": "code",
   "execution_count": 15,
   "metadata": {},
   "outputs": [
    {
     "data": {
      "text/plain": [
       "[<matplotlib.lines.Line2D at 0x7efff5512fd0>]"
      ]
     },
     "execution_count": 15,
     "metadata": {},
     "output_type": "execute_result"
    },
    {
     "data": {
      "image/png": "[encoded data removed]",
      "text/plain": [
       "<Figure size 432x288 with 1 Axes>"
      ]
     },
     "metadata": {
      "needs_background": "light"
     },
     "output_type": "display_data"
    }
   ],
   "source": [
    "plt.plot(x, sorted(rewards_plot[9]))  "
   ]
  },
  {
   "cell_type": "code",
   "execution_count": 16,
   "metadata": {},
   "outputs": [
    {
     "data": {
      "text/plain": [
       "[<matplotlib.lines.Line2D at 0x7efff54fdf90>]"
      ]
     },
     "execution_count": 16,
     "metadata": {},
     "output_type": "execute_result"
    },
    {
     "data": {
      "image/png": "[encoded data removed]",
      "text/plain": [
       "<Figure size 432x288 with 1 Axes>"
      ]
     },
     "metadata": {
      "needs_background": "light"
     },
     "output_type": "display_data"
    }
   ],
   "source": [
    "plt.plot(x, sorted(rewards_plot[10]))  "
   ]
  },
  {
   "cell_type": "code",
   "execution_count": 17,
   "metadata": {},
   "outputs": [
    {
     "data": {
      "text/plain": [
       "[<matplotlib.lines.Line2D at 0x7efff3301290>]"
      ]
     },
     "execution_count": 17,
     "metadata": {},
     "output_type": "execute_result"
    },
    {
     "data": {
      "image/png": "[encoded data removed]",
      "text/plain": [
       "<Figure size 432x288 with 1 Axes>"
      ]
     },
     "metadata": {
      "needs_background": "light"
     },
     "output_type": "display_data"
    }
   ],
   "source": [
    "plt.plot(x, sorted(rewards_plot[11]))  "
   ]
  },
  {
   "cell_type": "code",
   "execution_count": 18,
   "metadata": {},
   "outputs": [
    {
     "data": {
      "text/plain": [
       "[<matplotlib.lines.Line2D at 0x7efff326a310>]"
      ]
     },
     "execution_count": 18,
     "metadata": {},
     "output_type": "execute_result"
    },
    {
     "data": {
      "image/png": "[encoded data removed]",
      "text/plain": [
       "<Figure size 432x288 with 1 Axes>"
      ]
     },
     "metadata": {
      "needs_background": "light"
     },
     "output_type": "display_data"
    }
   ],
   "source": [
    "plt.plot(x, sorted(rewards_plot[12]))  "
   ]
  },
  {
   "cell_type": "code",
   "execution_count": 28,
   "metadata": {},
   "outputs": [
    {
     "data": {
      "text/plain": [
       "[-5.564099311828613,\n",
       " -5.9178643226623535,\n",
       " -5.869930744171143,\n",
       " -5.121606826782227,\n",
       " 3.732870578765869,\n",
       " -5.757883071899414,\n",
       " -1.8972095251083374,\n",
       " -5.394309997558594,\n",
       " -5.346564769744873,\n",
       " -5.859987258911133,\n",
       " -5.759413719177246,\n",
       " -6.136542320251465,\n",
       " -5.835082530975342,\n",
       " 5.2878522872924805,\n",
       " -5.132429122924805,\n",
       " -5.7746453285217285,\n",
       " -5.480627536773682,\n",
       " -4.5559821128845215,\n",
       " 4.7762651443481445,\n",
       " -5.953366756439209,\n",
       " 2.822129011154175,\n",
       " -5.793196201324463,\n",
       " -5.905365467071533,\n",
       " 4.7652177810668945,\n",
       " 4.719900131225586,\n",
       " -5.598912715911865,\n",
       " -5.817481517791748,\n",
       " -5.569597244262695,\n",
       " -6.162778377532959,\n",
       " -5.9524641036987305,\n",
       " -6.02876091003418,\n",
       " -5.364382266998291,\n",
       " -5.513699054718018,\n",
       " -5.971463203430176,\n",
       " -4.951907634735107,\n",
       " -5.665788173675537,\n",
       " -5.627294063568115,\n",
       " -5.191871643066406,\n",
       " -5.847712516784668,\n",
       " -5.749948501586914,\n",
       " -5.408477783203125,\n",
       " -5.099447250366211,\n",
       " -5.5548095703125,\n",
       " -5.282432556152344,\n",
       " 3.9039385318756104,\n",
       " 5.370795249938965,\n",
       " 3.0297868251800537,\n",
       " -5.6095452308654785,\n",
       " -5.277673721313477,\n",
       " -4.571305751800537,\n",
       " -6.099867820739746,\n",
       " -6.138901233673096,\n",
       " -5.854445457458496,\n",
       " -5.592225074768066,\n",
       " -5.867783546447754,\n",
       " -4.981786251068115,\n",
       " -5.811833381652832,\n",
       " -5.769997596740723,\n",
       " 4.6855244636535645,\n",
       " -5.217946529388428,\n",
       " -5.7421369552612305,\n",
       " -5.9157938957214355,\n",
       " -5.804928779602051,\n",
       " -1.507972002029419,\n",
       " -5.609594821929932,\n",
       " -5.492269992828369,\n",
       " -5.68232536315918,\n",
       " -5.858332633972168,\n",
       " -5.608545303344727,\n",
       " -5.037821292877197,\n",
       " 1.2770355939865112,\n",
       " -5.9848103523254395,\n",
       " -5.538976669311523,\n",
       " -5.457627773284912,\n",
       " -5.973146438598633,\n",
       " -4.073774814605713,\n",
       " 4.935570240020752,\n",
       " -5.433793067932129,\n",
       " -5.5363078117370605,\n",
       " -5.4227294921875,\n",
       " 2.712913990020752,\n",
       " -6.02201509475708,\n",
       " -5.390662670135498,\n",
       " -5.520833492279053,\n",
       " -5.8679118156433105,\n",
       " -5.859490394592285,\n",
       " -5.042221546173096,\n",
       " -5.014495849609375,\n",
       " -5.872127056121826,\n",
       " -5.82138204574585,\n",
       " -5.544209003448486,\n",
       " -5.575267791748047,\n",
       " -5.638062953948975,\n",
       " -5.726891994476318,\n",
       " 5.013683795928955,\n",
       " -5.941679954528809,\n",
       " -5.522395610809326,\n",
       " -5.512392997741699,\n",
       " -5.850525379180908,\n",
       " -6.219653606414795,\n",
       " -5.922730445861816,\n",
       " -5.7702155113220215,\n",
       " -5.498147964477539,\n",
       " -3.875575542449951,\n",
       " 1.800622582435608,\n",
       " -5.354915618896484,\n",
       " -0.3205268085002899,\n",
       " -5.235860347747803,\n",
       " 4.787074089050293,\n",
       " -5.911807537078857,\n",
       " -5.638674259185791,\n",
       " 5.157027721405029,\n",
       " -5.8842453956604,\n",
       " -5.363431453704834,\n",
       " -5.45595121383667,\n",
       " -5.8673577308654785,\n",
       " -5.886878967285156,\n",
       " -5.7029948234558105,\n",
       " -4.612715244293213,\n",
       " -5.5909342765808105,\n",
       " -5.566352367401123,\n",
       " -5.735443592071533,\n",
       " -5.462003707885742,\n",
       " -5.645018100738525,\n",
       " -5.726627349853516,\n",
       " 2.42696475982666,\n",
       " -5.783685684204102,\n",
       " -5.141726493835449]"
      ]
     },
     "execution_count": 28,
     "metadata": {},
     "output_type": "execute_result"
    }
   ],
   "source": [
    "rewards_plot[13]\n",
    "# game_data['response']"
   ]
  },
  {
   "cell_type": "code",
   "execution_count": 19,
   "metadata": {},
   "outputs": [
    {
     "data": {
      "text/plain": [
       "[<matplotlib.lines.Line2D at 0x7efff3253cd0>]"
      ]
     },
     "execution_count": 19,
     "metadata": {},
     "output_type": "execute_result"
    },
    {
     "data": {
      "image/png": "[encoded data removed]",
      "text/plain": [
       "<Figure size 432x288 with 1 Axes>"
      ]
     },
     "metadata": {
      "needs_background": "light"
     },
     "output_type": "display_data"
    }
   ],
   "source": [
    "plt.plot(x, sorted(rewards_plot[13]))  "
   ]
  },
  {
   "cell_type": "code",
   "execution_count": 21,
   "metadata": {},
   "outputs": [
    {
     "data": {
      "text/plain": [
       "[<matplotlib.lines.Line2D at 0x7efff5612090>]"
      ]
     },
     "execution_count": 21,
     "metadata": {},
     "output_type": "execute_result"
    },
    {
     "data": {
      "image/png": "[encoded data removed]",
      "text/plain": [
       "<Figure size 432x288 with 1 Axes>"
      ]
     },
     "metadata": {
      "needs_background": "light"
     },
     "output_type": "display_data"
    }
   ],
   "source": [
    "plt.plot(x, sorted(rewards_plot[14]))  "
   ]
  },
  {
   "cell_type": "code",
   "execution_count": 22,
   "metadata": {},
   "outputs": [
    {
     "data": {
      "text/plain": [
       "[<matplotlib.lines.Line2D at 0x7efff56a6d90>]"
      ]
     },
     "execution_count": 22,
     "metadata": {},
     "output_type": "execute_result"
    },
    {
     "data": {
      "image/png": "[encoded data removed]",
      "text/plain": [
       "<Figure size 432x288 with 1 Axes>"
      ]
     },
     "metadata": {
      "needs_background": "light"
     },
     "output_type": "display_data"
    }
   ],
   "source": [
    "plt.plot(x, sorted(rewards_plot[15]))  "
   ]
  },
  {
   "cell_type": "code",
   "execution_count": 13,
   "metadata": {},
   "outputs": [],
   "source": [
    "# len(game_data['response'])\n",
    "# game_data['response']\n",
    "# torch.Size([128, 1]) torch.Size([128, 65]) torch.Size([128])\n",
    "for i in range(0):\n",
    "    print(i)"
   ]
  },
  {
   "cell_type": "code",
   "execution_count": 13,
   "metadata": {},
   "outputs": [
    {
     "data": {
      "text/plain": [
       "59"
      ]
     },
     "execution_count": 13,
     "metadata": {},
     "output_type": "execute_result"
    }
   ],
   "source": [
    "data=[38, 33, 125, 65, 58, 105, 19, 106, 1, 92, 111, 63, 100, 85, 71, 118, 82, 116, 119, 75, 15, 2, 54, 37, 94, 36, 9, 127, 97, 114, 47, 91, 102, 121, 55, 14, 123, 60, 78, 87, 110, 109, 53, 25, 64, 40, 5, 124, 29, 7, 45, 112, 52, 28, 62, 30, 48, 122, 57]\n",
    "len(data)"
   ]
  },
  {
   "cell_type": "code",
   "execution_count": 14,
   "metadata": {},
   "outputs": [],
   "source": [
    "torch.save(gpt2_model, '/data/hdj/data/CodeBERT/codesearch/results/gpt2_model_0207_fixed_islegal.pkl')\n",
    "# gpt2_model = torch.load('/data/hdj/data/CodeBERT/codesearch/results/gpt2_model.pkl')"
   ]
  },
  {
   "cell_type": "code",
   "execution_count": 11,
   "metadata": {},
   "outputs": [],
   "source": [
    "torch.cuda.empty_cache()\n",
    "_ = gpt2_model.eval()"
   ]
  },
  {
   "cell_type": "code",
   "execution_count": 11,
   "metadata": {},
   "outputs": [
    {
     "name": "stdout",
     "output_type": "stream",
     "text": [
      "(64, 5)\n"
     ]
    },
    {
     "data": {
      "text/html": [
       "<div>\n",
       "<style scoped>\n",
       "    .dataframe tbody tr th:only-of-type {\n",
       "        vertical-align: middle;\n",
       "    }\n",
       "\n",
       "    .dataframe tbody tr th {\n",
       "        vertical-align: top;\n",
       "    }\n",
       "\n",
       "    .dataframe thead th {\n",
       "        text-align: right;\n",
       "    }\n",
       "</style>\n",
       "<table border=\"1\" class=\"dataframe\">\n",
       "  <thead>\n",
       "    <tr style=\"text-align: right;\">\n",
       "      <th></th>\n",
       "      <th>query</th>\n",
       "      <th>response (before)</th>\n",
       "      <th>response (after)</th>\n",
       "      <th>rewards (before)</th>\n",
       "      <th>rewards (after)</th>\n",
       "    </tr>\n",
       "  </thead>\n",
       "  <tbody>\n",
       "    <tr>\n",
       "      <th>0</th>\n",
       "      <td>0</td>\n",
       "      <td>2 3 108 4 109 8 84 6 59 63 9 77 6 59 63 7 33 ...</td>\n",
       "      <td>2 23 5 1 43 44 43 60 7 106 22 69 25 56 64 6 5...</td>\n",
       "      <td>-5.123546</td>\n",
       "      <td>0.925415</td>\n",
       "    </tr>\n",
       "    <tr>\n",
       "      <th>1</th>\n",
       "      <td>0</td>\n",
       "      <td>1 12 66 101 6 59 62 10 15 16 83 6 59 62 17 26...</td>\n",
       "      <td>1 12 66 109 4 109 6 78 85 66 100 5 13 34 44 4...</td>\n",
       "      <td>-5.688982</td>\n",
       "      <td>-4.103882</td>\n",
       "    </tr>\n",
       "    <tr>\n",
       "      <th>2</th>\n",
       "      <td>0</td>\n",
       "      <td>2 3 108 4 110 5 67 6 59 63 7 33 16 83 6 59 63...</td>\n",
       "      <td>1 12 66 103 4 109 74 4 79 34 30 14 32 9 34 44...</td>\n",
       "      <td>-5.830383</td>\n",
       "      <td>-4.067094</td>\n",
       "    </tr>\n",
       "    <tr>\n",
       "      <th>3</th>\n",
       "      <td>0</td>\n",
       "      <td>2 3 108 4 109 5 69 6 59 63 7 33 16 83 6 59 62...</td>\n",
       "      <td>2 104 83 5 6 59 62 6 59 63 109 2 100 83 44 7 ...</td>\n",
       "      <td>-5.832610</td>\n",
       "      <td>-5.346912</td>\n",
       "    </tr>\n",
       "    <tr>\n",
       "      <th>4</th>\n",
       "      <td>0</td>\n",
       "      <td>2 3 108 4 110 5 68 6 59 62 10 15 16 83 6 59 6...</td>\n",
       "      <td>2 45 61 30 4 42 9 5 1 76 6 59 79 34 58 75 9 7...</td>\n",
       "      <td>-5.872235</td>\n",
       "      <td>4.977969</td>\n",
       "    </tr>\n",
       "  </tbody>\n",
       "</table>\n",
       "</div>"
      ],
      "text/plain": [
       "  query                                  response (before)  \\\n",
       "0     0   2 3 108 4 109 8 84 6 59 63 9 77 6 59 63 7 33 ...   \n",
       "1     0   1 12 66 101 6 59 62 10 15 16 83 6 59 62 17 26...   \n",
       "2     0   2 3 108 4 110 5 67 6 59 63 7 33 16 83 6 59 63...   \n",
       "3     0   2 3 108 4 109 5 69 6 59 63 7 33 16 83 6 59 62...   \n",
       "4     0   2 3 108 4 110 5 68 6 59 62 10 15 16 83 6 59 6...   \n",
       "\n",
       "                                    response (after)  rewards (before)  \\\n",
       "0   2 23 5 1 43 44 43 60 7 106 22 69 25 56 64 6 5...         -5.123546   \n",
       "1   1 12 66 109 4 109 6 78 85 66 100 5 13 34 44 4...         -5.688982   \n",
       "2   1 12 66 103 4 109 74 4 79 34 30 14 32 9 34 44...         -5.830383   \n",
       "3   2 104 83 5 6 59 62 6 59 63 109 2 100 83 44 7 ...         -5.832610   \n",
       "4   2 45 61 30 4 42 9 5 1 76 6 59 79 34 58 75 9 7...         -5.872235   \n",
       "\n",
       "   rewards (after)  \n",
       "0         0.925415  \n",
       "1        -4.103882  \n",
       "2        -4.067094  \n",
       "3        -5.346912  \n",
       "4         4.977969  "
      ]
     },
     "execution_count": 11,
     "metadata": {},
     "output_type": "execute_result"
    }
   ],
   "source": [
    "#### get a batch from the dataset\n",
    "total=0\n",
    "bs = 64\n",
    "query_list=[]\n",
    "response_before=[]\n",
    "response_after=[]\n",
    "rewards_before=[]\n",
    "rewards_after=[]\n",
    "while total>=0:\n",
    "    game_data_test = dict()\n",
    "    df_batch = df.sample(bs)\n",
    "    game_data_test['query'] = df_batch['query'].tolist()\n",
    "#     query_list+=df_batch['query'].tolist()\n",
    "    query_tensors = torch.stack(df_batch['tokens'].tolist())\n",
    "\n",
    "    #### get response from gpt2 and gpt2_ref\n",
    "    total_length = config['txt_in_len']+config['txt_out_len']\n",
    "    response_tensors_ref  = respond_to_batch(gpt2_model_ref, query_tensors,nolegal_index, txt_len=config['txt_out_len'])\n",
    "    game_data_test['response (before)'] = [gpt2_tokenizer.decode(response_tensors_ref[i, :]) for i in range(bs)]\n",
    "#     response_before+=[gpt2_tokenizer.decode(response_tensors_ref[i, :]) for i in range(bs)]\n",
    "    response_tensors  = respond_to_batch(gpt2_model, query_tensors,nolegal_index, txt_len=config['txt_out_len'])\n",
    "    game_data_test['response (after)'] = [gpt2_tokenizer.decode(response_tensors[i, :]) for i in range(bs)]\n",
    "#     response_after+=[gpt2_tokenizer.decode(response_tensors[i, :]) for i in range(bs)]\n",
    "    #### sentiment analysis of query/response pairs before/after\n",
    "    texts = [q + r for q,r in zip(game_data_test['query'], game_data_test['response (before)'])]\n",
    "    sentiment_inputs, attention_masks,indices = data_prepare(texts, gpt2_tokenizer, config['max_length'])  \n",
    "    sentiment_inputs=sentiment_inputs.to(device)\n",
    "    attention_masks=attention_masks.to(device)\n",
    "    indices=indices.to(device)  \n",
    "    rewards = sentiment_model.forward(sentiment_inputs,\n",
    "                                          attention_masks,\n",
    "                                         indices)[:, 1].detach()\n",
    "    # rewards = sentiment_model.forward(sentiment_inputs, attention_masks)[0][:, 1].detach()\n",
    "    game_data_test['rewards (before)'] = rewards.cpu().numpy()\n",
    "#     rewards_before+=rewards.cpu().numpy()\n",
    "    texts = [q + r for q,r in zip(game_data_test['query'], game_data_test['response (after)'])]\n",
    "    sentiment_inputs, attention_masks,indices = data_prepare(texts, gpt2_tokenizer, config['max_length'])  \n",
    "    sentiment_inputs=sentiment_inputs.to(device)\n",
    "    attention_masks=attention_masks.to(device)\n",
    "    indices=indices.to(device)   \n",
    "    rewards = sentiment_model.forward(sentiment_inputs,\n",
    "                                          attention_masks,\n",
    "                                         indices)[:, 1].detach()\n",
    "\n",
    "    game_data_test['rewards (after)'] = rewards.cpu().numpy()\n",
    "#     rewards_after=rewards.cpu().numpy()\n",
    "    total-=1\n",
    "# game_data_test['query'] = query_list\n",
    "# game_data_test['response (before)'] = response_before\n",
    "# game_data_test['response (after)'] = response_after\n",
    "# game_data_test['rewards (before)'] = rewards_before\n",
    "# game_data_test['rewards (after)'] = rewards_after\n",
    "# store results in a dataframe\n",
    "df_results = pd.DataFrame(game_data_test)\n",
    "print(df_results.shape)\n",
    "df_results.head()"
   ]
  },
  {
   "cell_type": "code",
   "execution_count": 32,
   "metadata": {},
   "outputs": [],
   "source": [
    "#这里处理！导致的文本输出0时还不结束的问题\n",
    "# s='!'\n",
    "# specialIndex=[]\n",
    "# for i in range(66):\n",
    "#     specialIndex+=gpt2_tokenizer.encode(s)\n",
    "#     print(gpt2_tokenizer.encode(s),s)\n",
    "#     s+='!'\n",
    "# len(specialIndex)\n",
    "# specialIndex=set(specialIndex)\n",
    "# specialIndex"
   ]
  },
  {
   "cell_type": "code",
   "execution_count": 18,
   "metadata": {},
   "outputs": [
    {
     "data": {
      "text/plain": [
       "('!!!!!!!!', '!!!', '!!!!!')"
      ]
     },
     "execution_count": 18,
     "metadata": {},
     "output_type": "execute_result"
    }
   ],
   "source": [
    "gpt2_tokenizer.convert_ids_to_tokens(34635),gpt2_tokenizer.convert_ids_to_tokens(10185),gpt2_tokenizer.convert_ids_to_tokens(50184),"
   ]
  },
  {
   "cell_type": "code",
   "execution_count": 12,
   "metadata": {},
   "outputs": [
    {
     "data": {
      "text/plain": [
       "[-5.9479675,\n",
       " -5.8981404,\n",
       " -5.7178783,\n",
       " -5.7168307,\n",
       " -5.679045,\n",
       " -5.6623745,\n",
       " -5.646991,\n",
       " -5.5877004,\n",
       " -5.5837574,\n",
       " -5.536596,\n",
       " -5.49524,\n",
       " -5.368186,\n",
       " -5.346912,\n",
       " -5.324502,\n",
       " -5.28715,\n",
       " -5.2832,\n",
       " -5.281403,\n",
       " -5.248857,\n",
       " -5.236909,\n",
       " -5.1930866,\n",
       " -5.1922574,\n",
       " -5.174522,\n",
       " -5.1617947,\n",
       " -5.131663,\n",
       " -5.0595465,\n",
       " -5.032048,\n",
       " -4.914972,\n",
       " -4.898945,\n",
       " -4.8409066,\n",
       " -4.794054,\n",
       " -4.696591,\n",
       " -4.6877465,\n",
       " -4.6581135,\n",
       " -4.6134124,\n",
       " -4.597825,\n",
       " -4.5938926,\n",
       " -4.5507174,\n",
       " -4.4863696,\n",
       " -4.3752313,\n",
       " -4.3329706,\n",
       " -4.1687026,\n",
       " -4.163786,\n",
       " -4.1038823,\n",
       " -4.067647,\n",
       " -4.0670943,\n",
       " -4.044723,\n",
       " -3.837627,\n",
       " -3.8208385,\n",
       " -3.6445365,\n",
       " -3.619284,\n",
       " -3.5067158,\n",
       " -3.3164709,\n",
       " -3.2751114,\n",
       " -3.2139149,\n",
       " -2.84805,\n",
       " -2.4948137,\n",
       " -1.5784731,\n",
       " -1.3332106,\n",
       " -0.37061414,\n",
       " 0.92541546,\n",
       " 1.2564651,\n",
       " 4.9279923,\n",
       " 4.9779687,\n",
       " 5.830623]"
      ]
     },
     "execution_count": 12,
     "metadata": {},
     "output_type": "execute_result"
    }
   ],
   "source": [
    "sorted(df_results['rewards (after)'].values)"
   ]
  },
  {
   "cell_type": "code",
   "execution_count": 16,
   "metadata": {},
   "outputs": [
    {
     "data": {
      "text/plain": [
       "[' 2 23 5 1 43 44 43 60 7 106 22 69 25 56 64 6 59 25 81 84 97 6 59 63 38 21 34 37 44 38 55 56 29 87 12 103 66 54 24 66 50 69 52 88 30 0!!! 2 22 74 92 1060 78 34 69 105 12 99 56 1090 2',\n",
       " ' 1 12 66 109 4 109 6 78 85 66 100 5 13 34 44 40 43 37 60 41 48 20 109 41 86 47 6 59 37 98 61 13 77 101 63 45 17 44 60 66 77 86 42 24 64 50 61 0 94 82 15 30 7 108 109 45 60 750 69 1 102 87 23',\n",
       " ' 1 12 66 103 4 109 74 4 79 34 30 14 32 9 34 44 36 37 97 39 95 2 3 108 38 71 17 40 3 108 45 94 6 59 63 18 79 22 24 64 24 64 47 67 24 64 17 0!!!!!!!!!!!!! 52 80 78 63',\n",
       " ' 2 104 83 5 6 59 62 6 59 63 109 2 100 83 44 7 32 56 2 60 23 77 44 67 38 12 66 44 38 93 73 79 93 79 43 37 97 24 64 6 59 63 0 25 102 14 99 76 24 640 0!!! 2 94 88 109 28 61 87 14 99 82',\n",
       " ' 2 45 61 30 4 42 9 5 1 76 6 59 79 34 58 75 9 73 40 92 28 0 60 59 62 90 101 6 59 62 41 42 240 6 59 63 0 61 0 61 110 102 77 69 48 66 61 102 101 80 61 0 82 62 68 990 46 60 84 48 22 65 8',\n",
       " ' 1 12 66 32 6 59 62 9 76 10 6 59 10 59 63 20 36 37 97 6 59 62 38 0 17 69 41 42 12 55 44 54 3 104 38 40 3 108 0 60 30 63 91 3 108 98 6 91 0 110 3 108 0 81 13 78 31 96 80 75 25 109 82 106 26',\n",
       " ' 1 12 66 106 6 59 63 82 48 17 108 109 91 43 38 21 78 4 42 23 81 94 60 59 63 50 86 79 5 73 107 24 12 7 83 58 56 6 73 40 78 6 59 97 66 107 64 35 102 0 110 30 0 0 48 23 12 0 48 86 82 9 95 92 2',\n",
       " ' 1 12 66 83 4 109 6 59 63 110 99 35 81 6 94 96 77 85 54 50 47 2 700 98 6 59 62 38 720 53 45 101 39 45 7 10 66 44 540 5 38 55 67 39 95 4 109 3 108 0 102 13 75 79 66 74 86 2 120 22 26',\n",
       " ' 1 12 66 103 6 59 95 100 6 59 63 108 20 25 6 1 17 17 56 89 50 86 1 6 59 107 76 104 65 18 38 53 85 95 6 59 7 104 77 6 59 63 0 81 6 59 63 76 30 0! 680 27 77 60 73 57 24 107 108 14 310',\n",
       " ' 1 12 66 103 4 9 12 60 105 7 33 95 69 60 96 45 77 6 9 12 66 63 69 77 38 50 86 6 59 62 19 4 6 59 91! 290 27 18 21 50 6 40 30 3 108 43 87 79 107 107 90 66 103 10 14 17 95 106 0 90 107 34 45',\n",
       " ' 1 12 66 103 6 59 62 10 100 9 75 29! 40 55 104 6 59 63 30 6 65 40 69 98 60 4 109 92 95 94 6 59 62 37 98 45 78 73 79 63 54 24 64 102 0 91 0 12 0 68 0 40 107 8600 82 103 32 77 85 16 14',\n",
       " ' 1 12 79 3 35 83 86 44 97 95 40 5 59 63 61 25 38 38 54 16 49 35 82 77 26 68 6 44 43 2 109 83 109 0 74 51 92 0!! 86 66 92 58 62 99 29 106 17 36 3 108 30 82 87 76 23 89 72 99 82 2 34 99 96',\n",
       " ' 1 12 66 103 6 59 62 7 33 16 59 7 107 77 34 44 22 21 44 59 63 38 58 4 109 1 7 91 72 43 38 53 60 104 12 38 94 6 59 62 54 24 64 97 2 109 0!!0 0! 71 28 73 92 17 93 0 2 0 91 34 43 66',\n",
       " ' 1 12 66 106 4 110 6 59 62 7 48 109 98 6 59 63 31 78 44 36 37 97 38 58 54 94 91 53 6 59 63 54 3 108 13 27 59 63 48 45 99 108 73 23 36 60 85 4 109 17 91 92 91 61 0 780 98 12 10 93 12 28 2',\n",
       " ' 1 12 66 103 78 109 37 97 6 59 86 92 22 60 59 63 31 20 83 61 58 79 26 54 3 108 106 93 38 53 4 109 1 94 6 59 63 86 6 59 62 82 0 0 95 0 84 104 109 95 39 0 33 60 109 0 1 75 4 90 105 65 10 73 29',\n",
       " ' 1 12 33 10 59 9 59 17 26 1 73 6 91 18 56 109 40 60 42 22 35 36 95 61 39 95 38 19 24 66 88 94 98 60 59 14 64 98 108 24 64 11 61 0!!! 52 12 0!! 78 46 88 280 3 108 65 930 81 23 29',\n",
       " ' 2 67 37 106 6 59 63 21 76 58 33 16 60 36 17 30 55 37 97 6 59 62 60 31 79 36 40 3 74 71 109 56 30 94 60 43 44 25 37 96 71 81 89 60 45 87 24 64 91 0!!! 22 61 0 9 91 0 10 17 350 75 11',\n",
       " ' 1 12 66 83 4 110 12 6 59 62 91 63 44 30 43 38 102 80 4 39 96 6 59 62 69 48 49 19 56 6 65 18 79 36 37 97 6 98 24 64 64 41 42 24 64 23 0 24 64 64 24 64 64 25 0! 27 22 00 55 2 42 99 88',\n",
       " ' 1 12 66 103 6 59 63 90 48 9 17 17 60 110 53 70 38 37 106 37 2 16 62 44 43 38 58 110 14 12 53 110 6 59 12 0 26 100 77 60 77 26 71 74 24 61 0 23 61 0 107 21 0 72 0 54 73 105 34 82 0 50 110 71',\n",
       " ' 2 3 108 4 109 5 67 78 35 5 106 17 96 6 51 52 54 83 41 44 59 0 94 59 108 6 59 63 110 31 91 86 13 54 39 108 39 95 107 56 98 20 27 71 42 1 47 30 78 66 4 109 1 105 76 2 290 41 87 33 22 24 5 1',\n",
       " ' 1 12 66 45 6 37 38 32 63 54 71 4 92 18 79 34 43 38 53 6 59 62 54 24 64 6 59 63 0!!!! 2 28 66 0! 63 101 46 78! 86 31 77 77 105 14 100 33 0 30 16 83 72 33 86 350 92 59 20! 34',\n",
       " ' 1 12 66 103 4 109 99 6 59 43 40 63 43 75 109 4 65 32 109 54 6 5 30 47 5 40 41 86 18 79 24 64 17 13 68 0 61 0 14 67 62 0!! 20 7 32 18 79 24 77 74 87 107 104 0 12 15 37 97 47 92 64 33 88',\n",
       " ' 1 12 66 104 4 108 6 59 38 90 53 36 40 3 26 17 4 109 34 44 38 45 12 60 38 53 6 59 63 54 24 101 6 59 69 109 9 53 69 45 77 3 108 0 0 73 102 90 13 76 0 31 106 63 83 83 84 4 1100! 99 97 7 8',\n",
       " ' 1 12 66 107 4 110 6 59 63 36 94 106 86 63 17 82 6 59 63 46 76 59 63 99 59 62 40 1 95 59 30 6 59 50 34 12 60 59 96 56 6 59 63 38 54 0 79 100 62 0 90 69 54 92 26 0 101 48 90 108 32 80 67 15 1',\n",
       " ' 1 12 66 103 4 109 53 78 6 59 59 63 44 65 93 18 79 107 17 54 24 64 44 36 40 3 108 24 64 6 21 80 61 60 78 24 64 4 48 85 4 0!!!!! 21 10 23! 58 7 28 74 87 87 20 89 480 60 80 69 58',\n",
       " ' 1 12 66 53 4 109 6 59 63 53 22 95 3 108 109 93 61 34 43 39 95 42 104 59 62 7 33 50 77 7 33 53 6 59 63 54 24 60 89 91 0 97 102 0!! 83 29 0 13 0 23 2 0 27 87 32 90 9 9 8 99 99 56',\n",
       " ' 2 33 43 24 83 110 69 99 2 22 2 82 66 54 44 5 30 77 53 450 39 68 97 103 39 95 99 77 84 96 94 0! 108 63 60 103 19 94 1 38 107 37 5 77 1 56 82 52 97 4 109 44 0 1 2 80 85 84 660 87 72 21',\n",
       " ' 2 58 66 107 6 59 62 7 9 75 56 43 25 110 5 12 16 83 6 59 62 82 17 1 94 6 48 66 4 93 103 49 38 51 3 108 0 87 6 59 63 54 1 86 6 59 60 47 99 89 88 0 38 58 80 102 53 44 71 17 14 720 83 27',\n",
       " ' 1 12 66 103 4 109 6 59 19 13 105 109 45 12 34 39 62 63 45 88 91 610 27 38 102 43 37 99 38 58 6 59 62 108 58 66 6 59 63 54 6 59 62 93 98 6 59 62 71 45 93 0 2 00 36 37 12 0 0 33 30 108 23',\n",
       " ' 2 3 108 4 109 8 33 104 30 56 6 59 62 78 86 26 60 59 63 34 44 38 53 6 59 107 39 54 10 109 48 74 1090 99 42 39 96 6 90 91 98 39 97 6 21 95 13 79 13 44 0 7 109 2 63 78 5 42 34 73 93 29 65 77',\n",
       " ' 1 12 66 106 4 110 6 59 63 34 44 69 31 85 44 48 109 18! 46 42 91 88 33 12 21 100 19 40 87 44 0 22 58 48 78 100 38 56 63 12 50 5 30 54 24 64 84 108 71 93 24 64 52 108 87 92 94 75 17 78 68 29 95 45',\n",
       " ' 1 12 66 106 4 110 50 59 62 76 75 99 31 59 62 49 34 44 36 40 3 108 59 63 42 6 41 42 6 61 97 78 00 96 60 59 63 63 59 63 74 45 63 23 98 85 53 60 2 43 94 77 99 58 27 75 87 91 31 73 88 92 42 16',\n",
       " ' 1 12 108 43 66 76 66 103 62 37 83 59 66 103 44 7 51 6 105 6 53 97 109 91 48 91 39 98 92 38 43 38 1 91 24 64 92 33 41 42 24 64 13 0 0!!! 60!!!!00 0 27 49 2 16 840 93 17 1',\n",
       " ' 2 30 100 53 820 109 107 95 13 83 4 34 44 59 76 25 2 65 18 790 52 106 39 26 79 100 38 53 6 107 39 36 16 83 110 69 109 0 63 54 24 64 65 0 67 0 0 2 72 58 62 72 16 12 0 15 0 30 83 2 92 64',\n",
       " ' 1 12 66 102 6 59 7 104 1 78 6 59 63 53 6 59 63 39 95 39 96 42 6 59 101 0 34 43 38 55 6 59 63 66 102 56 6 59 63 24 64 64 18 79 0! 0 28 63 0 94 77 3 108 0 12 50 15 1 32 68 74 31 2 31',\n",
       " ' 1 66 103 99 6 12 61 5 59 86 100 10 54 45 59 63 44 97 59 73 17 48 53 12 77 83 5 79 25 106 38 0 44 97 61 41 19 45 75 61 91 17 64 38 53 97 56 53 54 24 64 36 17 610 000 45 99 160 1050 2',\n",
       " ' 1 12 66 103 6 59 35 20 4 109 52 35 90 9 75 34 98 60 59 63 78 87 99 12 39 95 40 35 42 27 6 59 39 53 18 79 41 42 24 64 79 66 7 76 24 64 0 0!!!!!! 26 0! 109 0 27 105 20 9 57 10',\n",
       " ' 2 45 94 39 59 59 62 170 16 19 76 96 29 12 5 109 56 79 380 48 29 98 59 63 37 97 39 63 62 40 33 20 97 58 6 59 30 4 23 67 60 94 29 79 22 69 99 65 100 24 64 20 64 21 0 35 00 9 42 47 63 104',\n",
       " ' 1 12 3 108 6 59 98 109 0 36 12 32 54 61 34 44 43 37 97 39 95 6 93 6 59 62 38 9 103 41 38 53 6 59 62 54 24 64 6 59 63 0 17 3 108 0 110 3 108 0 64 63 71 77 0 73 18 79 79 48 170 79 19 101',\n",
       " ' 1 12 66 19 4 80 109 6 59 62 105 7 44 53 6 59 62 43 2 98 6 59 62 54 44 63 38 55 6 59 63 0 43 62 38 58 6 14 61 0 44 36 37 97 34 89 870 95 96 79 24 64 107 0 62 54 24 64 26 88 47 101 98 1',\n",
       " ' 1 12 66 43 56 6 59 48 59 59 74 43 39 59 62 64 97 38 51 6 59 63 0 16 17 29 56 6 60 97 104 6 59 62 60 45 94 79 36 37 97 6 82 0 17 0 62 34 21 48 69 103 82 95 48 23 46 91 20 94 101 81 2 25 17',\n",
       " ' 1 12 66 103 63 44 98 9 30 92 79 74 6 59 63 18 79 82 6 59 22 20 89 66 103 24 64 47 92 18 79 24 64 24 64 12 24 64 83 24 64 27 0!!!!!!!!!!!!!!!!!!!! 90 26',\n",
       " ' 2 93 93 4 109 5 95 109 57 900 64 89 69 6 59 63 54 101 43 39 21 34 108 54 6 59 62 66 104 36 35 49 95 66 4 91 61 13 26 76 94 53 62 73 4 110 97 54 17 92 58 74 79 30 99 78 105 95 99 27 89 96 20 11',\n",
       " ' 1 12 66 103 6 59 62 10 7 36 37 97 39 860 109 26 43 37 97 6 91 53 6 59 63 54 62 109 97 69 98 93 38 55 6 59 54 24 64 33 30 0 55 74 0 62 104 0 56 40 41 72 53 89 5 29 23 70 76 92 34 35 14 29',\n",
       " ' 1 12 66 105 4 109 6 59 54 2 9 75 63 34 44 38 59 62 34 44 39 66 58 6 108 43 40 76 6 59 63 87 6 59 63 38 80 1 18 79 24 64 24 64 24 64 0 30 27 76 0!!!!!!!! 1 83 230 29 0',\n",
       " ' 1 12 66 101 4 12 1 6 104 66 58 48 17 78 77 2 19 59 62 17 54 5 6 59 62 109 44 12 64 52 20 10 6 44 36 101 110 170 22 50 25 38 22 63 63 106 61 20 95 14 68 2 13 24 64 4 30 21 34 2 84 12 92 82',\n",
       " ' 1 12 66 103 4 109 22 66 103 59 62 25 33 32 91 80 86 62 34 44 39 92 93 22 39 95 98 6 59 47 4 110 53 6 62 54 24 79 101 24 64 22 79 66 107 0 62 0!!!!!!!0 0!! 95 29 73 17 18 23',\n",
       " ' 1 12 66 103 6 59 63 10 14 16 83 4 35 36 37 97 39 96 40 3 108 34 44 43 38 53 6 59 62 7 45 45 94 83 6 59 3 108 2 38 42 24 75 3 108 0!!! 99 79 42 24 64 69 0 32 0 97 36 77 29 80 92 5',\n",
       " ' 1 12 66 100 59 68 50 71 82 12 56 31 109 61 12 108 33 9 34 44 19 37 10 83 23 38 6 59 62 2 3 66 38 53 6 59 97 6 59 63 54 61 0 104 0 21 0 91 95 17 34 98 17 66 76 230 73 69 11 34 46 140 104',\n",
       " ' 1 12 54 5 4 110 77 7 89 0 106 47! 29 61 20 39 96 40 95 58 82 34 44 38 52 61 6 37 81 6 59 63 49 42 6 59 86 40 41 42 54 58 106 73 60 95 61 0 25 19 24 75 66 1050 59 63 74 79 950 55 21 83',\n",
       " ' 2 34 19 51 54 32 30 2 87 61 66 103 37 54 6 60 75 6 1 45 94 35 87 6 38 43 50 19 1 99 6 59 77 66 41 93 43 43 38 12 58 30 0 19 0 62 0 22 84 4 74 69 95 120 0! 74 32 110 100 86 9 90 35',\n",
       " ' 1 12 66 103 6 53 6 59 62 85 17 44 48 88 38 58 44 44 9 78 102 1 23 63 54 16 820 81 6 59 62 720 37 97 6 59 63 101 55 6 59 62 96 91 18 79 42 24 64 33 89 99 95 7 32 210 62 29 52 23 57 24',\n",
       " ' 1 12 66 43 100 48 107 6 59 62 9 77 44 9 83 59 620 106 22 97 38 64 69 65 98 6 59 63 18 79 44 30 75 38 58 24 64 102 24 64 33 24 640 0!!!!!!!!!!!! 23 94 15 67 30 80 27',\n",
       " ' 2 54 104 91 54 6 59 53 6 73 28 34 97 95 29 2 83 109 2 53 98 44 37 77 110 43 35 87 5 59 86 16 44 39 95 52 91 18 38 42 24 64 24 64 23 0!!! 65 61 0!! 50 101 108 94 64 1040 78 780 108',\n",
       " ' 1 12 66 107 4 110 60 10 84 37 34 43 45 56 6 22 6 59 63 95 82 96 98 6 590 37 98 40 93 29 17 90 62 38 38 24 64 13 83 54 24 11 61 0 0 96 0!!! 35 15 0 16 26 30 26 34 9 104 74 35 12',\n",
       " ' 1 12 66 106 6 59 59 17 85 44 47 43 14 86 51 76 39 2 98 48 79 0 17 38 58 29 43 38 19 24 96 67 5 86 6 59 62 39 24 64 82 60 0!!!!!!! 94 82 0! 1070 76 79 80 64 65 44 18 108 102',\n",
       " ' 1 12 66 103 6 59 62 9 77 2 35 34 44 43 92 59 62 38 53 6 59 92 18 79 94 54 24 64 18 79 22 24 64 24 64 24 64 85 24 64 0!!!!!!!!!!!!!!!! 77!! 78 63 29 82 57',\n",
       " ' 1 12 66 103 4 110 6 59 62 34 36 108 32 8 78 102 34 44 43 39 96 6 59 62 38 19 54 6 59 74 6 91 38 58 6 59 63 54 6 59 63 5 83 106 0 59 5 79 95 91 85 78 0 300 35 64 108 64 1600 68 20!',\n",
       " ' 1 12 66 103 39 95 91 25 6 59 63 20 94 3 110 18 98 54 24 53 71 94 94 41 44 98 39 86 29 60 48 31 23 18 79 81 24 64 24 64 54 24 64 108 24 64 14 0 0!!!!!!!!!! 900 1 41 35 53',\n",
       " ' 2 2 54 106 4 109 9 58 78 93 63 16 83 4 80 0 6 59 52 96 6 38 79 63 109 73 110 45 94 37 97 39 44 76 18 79 5 36 40 3 108 24 64 73 30 24 64 94 57 24 64 87 108 81 6 60 24 46 24 64 0 14 108 64 80',\n",
       " ' 1 12 66 86 4 33 103 39 96 83 53 43 77 60 59 63 19 6 59 95 68 97 76 60 59 54 6 59 104 83 107 41 0 17 101 8 85 65 36 37 98 54 12 38 26 47 40 41 1 960 0 26 000 76 13 70 75 92 67 12 92 70',\n",
       " ' 1 12 66 103 630 97 56 35 67 53 6 98 82 42 6 59 62 34 44 81 54 56 48 97 38 19 110 44 4 87 110 82 99 54 62 25 16 390 67 66 60 102 0 23 66 103 16 9 52 33 0 99 34 72 110 90 95 69 76 71 9 90',\n",
       " ' 109 2 22 39 54 7 33 77 102 100 39 56 29 97 58 6 78 109 78 6 59 63 59 102 6 59 79 50 4 12 59 62 54 81 58 4 109 60 75 44 36 37 97 6 59 63 10 77 48 30 94 24 64 6 59 34 44 15 60 1 93 5 67 74',\n",
       " ' 1 12 66 103 6 59 63 7 33 16 77 42 41 75 56 6 59 62 34 43 38 19 6 59 57 0 4 109 0 23 100 110 12 53 51 96 6 59 62 6 59 54 106 94 16 0 69 91 94 14 94 42 47 33 23 24 500 2 20 29 690 96']"
      ]
     },
     "execution_count": 16,
     "metadata": {},
     "output_type": "execute_result"
    }
   ],
   "source": [
    "list(df_results['response (after)'].values)"
   ]
  },
  {
   "cell_type": "code",
   "execution_count": 19,
   "metadata": {},
   "outputs": [
    {
     "name": "stdout",
     "output_type": "stream",
     "text": [
      "islegal_tests : [['0', '2', '23', '5', '1', '43', '44', '43', '60', '7', '106', '22', '69', '25', '56', '64', '6', '59', '25', '81', '84', '97', '6', '59', '63', '38', '21', '34', '37', '44', '38', '55', '56', '29', '87', '12', '103', '66', '54', '24', '66', '50', '69', '52', '88', '30'], ['0', '1', '12', '66', '109', '4', '109', '6', '78', '85', '66', '100', '5', '13', '34', '44', '40', '43', '37', '60', '41', '48', '20', '109', '41', '86', '47', '6', '59', '37', '98', '61', '13', '77', '101', '63', '45', '17', '44', '60', '66', '77', '86', '42', '24', '64', '50', '61'], ['0', '1', '12', '66', '103', '4', '109', '74', '4', '79', '34', '30', '14', '32', '9', '34', '44', '36', '37', '97', '39', '95', '2', '3', '108', '38', '71', '17', '40', '3', '108', '45', '94', '6', '59', '63', '18', '79', '22', '24', '64', '24', '64', '47', '67', '24', '64', '17'], ['0', '2', '104', '83', '5', '6', '59', '62', '6', '59', '63', '109', '2', '100', '83', '44', '7', '32', '56', '2', '60', '23', '77', '44', '67', '38', '12', '66', '44', '38', '93', '73', '79', '93', '79', '43', '37', '97', '24', '64', '6', '59', '63'], ['0', '2', '45', '61', '30', '4', '42', '9', '5', '1', '76', '6', '59', '79', '34', '58', '75', '9', '73', '40', '92', '28'], ['0', '1', '12', '66', '32', '6', '59', '62', '9', '76', '10', '6', '59', '10', '59', '63', '20', '36', '37', '97', '6', '59', '62', '38'], ['0', '1', '12', '66', '106', '6', '59', '63', '82', '48', '17', '108', '109', '91', '43', '38', '21', '78', '4', '42', '23', '81', '94', '60', '59', '63', '50', '86', '79', '5', '73', '107', '24', '12', '7', '83', '58', '56', '6', '73', '40', '78', '6', '59', '97', '66', '107', '64', '35', '102'], ['0', '1', '12', '66', '83', '4', '109', '6', '59', '63', '110', '99', '35', '81', '6', '94', '96', '77', '85', '54', '50', '47', '2', '700', '98', '6', '59', '62', '38', '720', '53', '45', '101', '39', '45', '7', '10', '66', '44', '540', '5', '38', '55', '67', '39', '95', '4', '109', '3', '108'], ['0', '1', '12', '66', '103', '6', '59', '95', '100', '6', '59', '63', '108', '20', '25', '6', '1', '17', '17', '56', '89', '50', '86', '1', '6', '59', '107', '76', '104', '65', '18', '38', '53', '85', '95', '6', '59', '7', '104', '77', '6', '59', '63'], ['0', '1', '12', '66', '103', '4', '9', '12', '60', '105', '7', '33', '95', '69', '60', '96', '45', '77', '6', '9', '12', '66', '63', '69', '77', '38', '50', '86', '6', '59', '62', '19', '4', '6', '59', '91!', '290', '27', '18', '21', '50', '6', '40', '30', '3', '108', '43', '87', '79', '107', '107', '90', '66', '103', '10', '14', '17', '95', '106']]\n"
     ]
    },
    {
     "data": {
      "text/plain": [
       "(0, 64)"
      ]
     },
     "execution_count": 19,
     "metadata": {},
     "output_type": "execute_result"
    }
   ],
   "source": [
    "count_is_legal(list(df_results['response (after)'].values))"
   ]
  },
  {
   "cell_type": "code",
   "execution_count": null,
   "metadata": {},
   "outputs": [],
   "source": [
    "# config = {\n",
    "#     \"lm_name\": \"/home/yjzhou/transformers/examples/models/gpt2_sqli_rand4000_small/\",\n",
    "#     \"ref_lm_name\": \"/home/yjzhou/transformers/examples/models/gpt2_sqli_rand4000_small/\",\n",
    "#     \"cls_model_name\": \"TODO my reward_model\",\n",
    "#     \"tk_name\": \"gpt2\",\n",
    "#     \"steps\": 25600,\n",
    "#     \"batch_size\": 32,\n",
    "#     \"forward_batch_size\": 16,\n",
    "#     \"ppo_epochs\": 4,   \n",
    "#     \"txt_in_len\": 1,\n",
    "#     \"txt_out_len\": 64,\n",
    "#     \"max_length\":65,\n",
    "#     \"lr\": 1.41e-5,\n",
    "#     \"init_kl_coef\":0.2,\n",
    "#     \"target\": 6,\n",
    "#     \"horizon\":10000,\n",
    "#     \"gamma\":1,\n",
    "#     \"lam\":0.95,\n",
    "#     \"cliprange\": .2,\n",
    "#     \"cliprange_value\":.2,\n",
    "#     \"vf_coef\":.1, \n",
    "# }"
   ]
  },
  {
   "cell_type": "code",
   "execution_count": null,
   "metadata": {},
   "outputs": [],
   "source": [
    "GPT2Config {\n",
    "  \"_num_labels\": 2,\n",
    "  \"activation_function\": \"gelu_new\",\n",
    "  \"architectures\": [\n",
    "    \"GPT2LMHeadModel\"\n",
    "  ],\n",
    "  \"attn_pdrop\": 0.1,\n",
    "  \"bos_token_id\": 50256,\n",
    "  \"do_sample\": false,\n",
    "  \"early_stopping\": false,\n",
    "  \"embd_pdrop\": 0.1,\n",
    "  \"eos_token_id\": 50256,\n",
    "  \"finetuning_task\": null,\n",
    "  \"id2label\": {\n",
    "    \"0\": \"LABEL_0\",\n",
    "    \"1\": \"LABEL_1\"\n",
    "  },\n",
    "  \"initializer_range\": 0.02,\n",
    "  \"is_decoder\": false,\n",
    "  \"is_encoder_decoder\": false,\n",
    "  \"label2id\": {\n",
    "    \"LABEL_0\": 0,\n",
    "    \"LABEL_1\": 1\n",
    "  },\n",
    "  \"layer_norm_epsilon\": 1e-05,\n",
    "  \"length_penalty\": 1.0,\n",
    "  \"max_length\": 20,\n",
    "  \"min_length\": 0,\n",
    "  \"model_type\": \"gpt2\",\n",
    "  \"n_ctx\": 1024,\n",
    "  \"n_embd\": 768,\n",
    "  \"n_head\": 12,\n",
    "  \"n_layer\": 12,\n",
    "  \"n_positions\": 1024,\n",
    "  \"no_repeat_ngram_size\": 0,\n",
    "  \"num_beams\": 1,\n",
    "  \"num_return_sequences\": 1,\n",
    "  \"output_attentions\": false,\n",
    "  \"output_hidden_states\": false,\n",
    "  \"output_past\": true,\n",
    "  \"pad_token_id\": null,\n",
    "  \"pruned_heads\": {},\n",
    "  \"repetition_penalty\": 1.0,\n",
    "  \"resid_pdrop\": 0.1,\n",
    "  \"summary_activation\": null,\n",
    "  \"summary_first_dropout\": 0.1,\n",
    "  \"summary_proj_to_labels\": true,\n",
    "  \"summary_type\": \"cls_index\",\n",
    "  \"summary_use_proj\": true,\n",
    "  \"temperature\": 1.0,\n",
    "  \"top_k\": 50,\n",
    "  \"top_p\": 1.0,\n",
    "  \"torchscript\": false,\n",
    "  \"use_bfloat16\": false,\n",
    "  \"vocab_size\": 50257\n",
    "}"
   ]
  },
  {
   "cell_type": "code",
   "execution_count": null,
   "metadata": {},
   "outputs": [],
   "source": [
    "# transformer=AutoModelWithLMHead.from_pretrained('/home/yjzhou/transformers/examples/models/gpt2_sqli_rand4000_small/').transformer\n",
    "# transformer_outputs=transformer(input_ids,attention_mask=attention_masks)\n",
    "# type(transformer_outputs[0]),transformer_outputs[0].shape\n",
    "\n",
    "# # Cell\n",
    "\n",
    "# class SentimentValueHead(torch.nn.Module):\n",
    "#     \"\"\"The ValueHead class implements a head for GPT2 that returns a scalar for each output token.\"\"\"\n",
    "#     def __init__(self, num_labels):\n",
    "#         super().__init__()\n",
    "#         self.drop = nn.Dropout(0.1)\n",
    "#         self.classifier = nn.Linear(768, num_labels)\n",
    "#     def forward(self, hidden_states):\n",
    "#         output = hidden_states\n",
    "# #         output = self.drop(output)\n",
    "#         output = self.classifier(output)\n",
    "#         return output\n",
    "\n",
    "# # Cell\n",
    "\n",
    "# class SentimentModel(torch.nn.Module):\n",
    "#     \"\"\"The GPT2HeadWithValueModel class implements a GPT2 language model with a secondary, scalar head.\"\"\"\n",
    "#     def __init__(self, model_path,num_labels):\n",
    "#         super().__init__()\n",
    "# #         config.num_labels = 2\n",
    "#         if(os.path.exists(model_path)):\n",
    "#             self.model = AutoModelWithLMHead.from_pretrained(model_path)\n",
    "#         else:\n",
    "#             print(\"error model path not exists\")\n",
    "# #         self.lm_head = nn.Linear(config.n_embd, config.vocab_size, bias=False)\n",
    "#         self.v_head = SentimentValueHead(num_labels)\n",
    "#         self.loss_fn=CrossEntropyLoss()\n",
    "#     def forward(\n",
    "#         self,\n",
    "#         input_ids=None,\n",
    "#         attention_mask=None,\n",
    "#         indices=None,\n",
    "#         label=None,\n",
    "#     ):\n",
    "\n",
    "#         transformer_outputs = self.model.transformer(\n",
    "#             input_ids,\n",
    "#             attention_mask=attention_mask,\n",
    "#         )\n",
    "#         indices=indices.repeat(1,768).reshape(indices.shape[0],1,768)\n",
    "# #         print('transformer_outputs ',type(transformer_outputs),transformer_outputs[0].shape)\n",
    "# #         print('indices ',type(indices),indices.shape)\n",
    "        \n",
    "#         hidden_states=torch.gather(transformer_outputs[0],1,indices)\n",
    "# #         print('hidden_states ',type(hidden_states),hidden_states.shape)\n",
    "        \n",
    "#         logits = torch.squeeze(self.v_head(hidden_states),1) \n",
    "# #         print('logits.shape:  ****',logits.shape)\n",
    "# #         print('labels.shape: ',label.shape)\n",
    "# #         print()\n",
    "#         loss=self.loss_fn(logits,label)\n",
    "#         return loss,logits\n",
    "# Cell"
   ]
  },
  {
   "cell_type": "code",
   "execution_count": null,
   "metadata": {},
   "outputs": [],
   "source": [
    "\"steps\": 25600,\n",
    "\"batch_size\": 128,Number of samples per optimisation step, default: 256\n",
    "\"forward_batch_size\": 16, Number of samples forward passed through model at a time, default: 16\n",
    "\"ppo_epochs\": 4,   Number of optimisation epochs per batch of samples, default: 4\n",
    "\"txt_in_len\": 1,\n",
    "\"txt_out_len\": 64,\n",
    "\"max_length\":65,\n",
    "\"lr\": 1.41e-5,Adam learning rate, default: 1.41e-5\n",
    "\n",
    "#这里倒序计算GAE\n",
    "for t in reversed(range(gen_len)):\n",
    "    nextvalues = values[:, t + 1] if t < gen_len - 1 else 0.0\n",
    "    delta = rewards[:, t] + self.ppo_params['gamma'] * nextvalues - values[:, t]\n",
    "    lastgaelam = delta + self.ppo_params['gamma'] * self.ppo_params['lam'] * lastgae\n",
    "    advantages_reversed.append(lastgaelam)\n",
    "advantages = torch.stack(advantages_reversed[::-1]).transpose(0, 1)\n",
    "\"gamma\":1,Gamma parameter for advantage calculation, default: 1.\n",
    "\"lam\":0.95,   (float): Lambda parameter for advantage calcualation, default: 0.95\n",
    "\n",
    "    \n",
    "pg_losses = -advantages * ratio #p1\n",
    "pg_losses2 = -advantages * torch.clamp(ratio,1.0 - self.ppo_params['cliprange'],1.0 + self.ppo_params['cliprange'])#p2\n",
    "pg_loss = torch.mean(torch.max(pg_losses, pg_losses2))#actor_loss\n",
    "\"cliprange\": .2,Range for clipping in PPO policy gradient loss, default: 0.2\n",
    "    \n",
    "logprob, vpred = logprob[:, -gen_len:], vpred[:,-gen_len-1:-1]\n",
    "vpredclipped = clip_by_value(vpred,values - self.ppo_params[\"cliprange_value\"],values + self.ppo_params[\"cliprange_value\"])\n",
    "vf_losses1 = (vpred - returns)**2\n",
    "vf_losses2 = (vpredclipped - returns)**2\n",
    "vf_loss = .5 * torch.mean(torch.max(vf_losses1, vf_losses2))# critic_loss    \n",
    "\"cliprange_value\":.2,Range for clipping values in loss calculation, default: 0.2\n",
    "    \n",
    "loss = pg_loss + self.ppo_params['vf_coef'] * vf_loss # total_loss\n",
    "\"vf_coef\":.1, Scaling factor for value loss, default: 0.1\n",
    "    \n",
    "self.kl_ctl = AdaptiveKLController(self.ppo_params['init_kl_coef'],self.ppo_params['target'],self.ppo_params['horizon'])\n",
    "\"init_kl_coef\":0.2,Initial KL penalty coefficient (used for adaptive and linear control), default: 0.2\n",
    "\"target\": 6,Target KL value for adaptive KL control, default: 6.0\n",
    "\"horizon\":10000,Horizon for adaptive KL control, default: 10000\n",
    "\"adap_kl_ctrl\": True,Use adaptive KL control, otherwise linear, default: True\n"
   ]
  },
  {
   "cell_type": "code",
   "execution_count": 7,
   "metadata": {},
   "outputs": [
    {
     "name": "stdout",
     "output_type": "stream",
     "text": [
      "S   0   tensor([[128, 254,  15]])\n",
      "numericContext   1   tensor([[128, 254,  16]])\n",
      "sQuoteContext   2   tensor([[128, 254,  17]])\n",
      "terDigitZero   3   tensor([[128, 254,  18]])\n",
      "terSQuote   4   tensor([[128, 254,  19]])\n",
      "fuzzstr   5   tensor([[128, 254,  20]])\n",
      "wsp   6   tensor([[128, 254,  21]])\n",
      "booleanAttack   7   tensor([[128, 254,  22]])\n",
      "opOr   8   tensor([[128, 254,  23]])\n",
      "fuzzequal   9   tensor([[128, 254,  24]])\n",
      "sqliAttack   10   tensor([[128, 254, 940]])\n",
      "cmt   11   tensor([[ 128,  254, 1157]])\n",
      "terDigitIncludingZero   12   tensor([[ 128,  254, 1065]])\n",
      "unionAttack   13   tensor([[ 128,  254, 1485]])\n",
      "piggyAttack   14   tensor([[ 128,  254, 1415]])\n",
      "errorAttack   15   tensor([[ 128,  254, 1314]])\n",
      "opAnd   16   tensor([[ 128,  254, 1433]])\n",
      "errorfunction   17   tensor([[ 128,  254, 1558]])\n",
      "parOpen   18   tensor([[ 128,  254, 1507]])\n",
      "1   19   tensor([[ 128,  254, 1129]])\n",
      "opCom   20   tensor([[ 128,  254, 1238]])\n",
      "concat   21   tensor([[ 128,  254, 2481]])\n",
      "0x7e   22   tensor([[ 128,  254, 1828]])\n",
      "@@version   23   tensor([[ 128,  254, 1954]])\n",
      "par   24   tensor([[ 128,  254, 1731]])\n",
      "updatexml   25   tensor([[ 128,  254, 1495]])\n",
      "extractvalue   26   tensor([[ 128,  254, 2075]])\n",
      "opSem   27   tensor([[ 128,  254, 1983]])\n",
      "opSel   28   tensor([[ 128,  254, 2078]])\n",
      "funcSleep   29   tensor([[ 128,  254, 1959]])\n",
      "union   30   tensor([[ 128,  254, 1270]])\n",
      "cols   31   tensor([[ 128,  254, 3132]])\n",
      "orAttack   32   tensor([[ 128,  254, 2624]])\n",
      "andAttack   33   tensor([[ 128,  254, 2091]])\n",
      "booleanTrueExpr   34   tensor([[ 128,  254, 2682]])\n",
      "booleanFalseExpr   35   tensor([[ 128,  254, 2327]])\n",
      "unaryFalse   36   tensor([[ 128,  254, 2623]])\n",
      "opNot   37   tensor([[ 128,  254, 2718]])\n",
      "trueAtom   38   tensor([[ 128,  254, 2548]])\n",
      "opBinInvert   39   tensor([[ 128,  254, 2670]])\n",
      "falseAtom   40   tensor([[ 128,  254, 1821]])\n",
      "falseConst   41   tensor([[ 128,  254, 3901]])\n",
      "false   42   tensor([[ 128,  254, 3682]])\n",
      "unaryTrue   43   tensor([[ 128,  254, 3559]])\n",
      "binaryTrue   44   tensor([[ 128,  254, 2598]])\n",
      "opEqual   45   tensor([[ 128,  254, 2231]])\n",
      "terChar   46   tensor([[ 128,  254, 3510]])\n",
      "opLt   47   tensor([[ 128,  254, 2857]])\n",
      "opGt   48   tensor([[ 128,  254, 2780]])\n",
      "opLike   49   tensor([[ 128,  254, 2920]])\n",
      "opIs   50   tensor([[ 128,  254, 1120]])\n",
      "true   51   tensor([[ 128,  254, 4349]])\n",
      "opMinus   52   tensor([[ 128,  254, 4309]])\n",
      "{a   53   tensor([[ 128,  254, 4310]])\n",
      "1}=1   54   tensor([[ 128,  254, 4051]])\n",
      "{x   55   tensor([[ 128,  254, 2816]])\n",
      "(select   56   tensor([[ 128,  254, 3980]])\n",
      "1)}=1   57   tensor([[ 128,  254, 3553]])\n",
      "{`if`   58   tensor([[ 128,  254, 3365]])\n",
      "blank   59   tensor([[ 128,  254, 3270]])\n",
      "--   60   tensor([[ 128,  254, 1899]])\n",
      "%23   61   tensor([[ 128,  254, 5333]])\n",
      "+   62   tensor([[ 128,  254, 5237]])\n",
      "%0b   63   tensor([[ 128,  254, 5066]])\n",
      ")   64   tensor([[ 128,  254, 2414]])\n",
      "sleep   65   tensor([[ 128,  254, 2996]])\n",
      "terDigitExcludingZero   66   tensor([[ 128,  254, 2791]])\n",
      "<@=1   67   tensor([[ 128,  254, 3134]])\n",
      "<@!=1   68   tensor([[ 128,  254, 3104]])\n",
      "<@=1.   69   tensor([[ 128,  254, 3388]])\n",
      "<@=.1   70   tensor([[ 128,  254, 2154]])\n",
      "<@!=.1   71   tensor([[ 128,  254, 4869]])\n",
      "<@!=1.   72   tensor([[ 128,  254, 4761]])\n",
      "1<@   73   tensor([[ 128,  254, 4790]])\n",
      "@<@   74   tensor([[ 128,  254, 4524]])\n",
      "!@<@   75   tensor([[ 128,  254, 2425]])\n",
      "!@<@.   76   tensor([[ 128,  254, 4304]])\n",
      "1<@.   77   tensor([[ 128,  254, 3324]])\n",
      "@<@.   78   tensor([[ 128,  254, 3695]])\n",
      "(   79   tensor([[ 128,  254, 3720]])\n",
      ";   80   tensor([[ 128,  254, 1795]])\n",
      "select   81   tensor([[ 128,  254, 6659]])\n",
      "and   82   tensor([[ 128,  254, 6469]])\n",
      "&&   83   tensor([[ 128,  254, 5999]])\n",
      "or   84   tensor([[ 128,  254, 5705]])\n",
      "||   85   tensor([[ 128,  254, 5332]])\n",
      "is   86   tensor([[ 128,  254, 4521]])\n",
      "like   87   tensor([[ 128,  254, 5774]])\n",
      "-   88   tensor([[ 128,  254, 3459]])\n",
      ",   89   tensor([[ 128,  254, 4531]])\n",
      "%2C   90   tensor([[ 128,  254, 3829]])\n",
      ">   91   tensor([[ 128,  254, 6420]])\n",
      "<   92   tensor([[ 128,  254, 5892]])\n",
      "%3C   93   tensor([[ 128,  254, 6052]])\n",
      "=   94   tensor([[ 128,  254, 5824]])\n",
      "~   95   tensor([[ 128,  254, 3865]])\n",
      "%7e   96   tensor([[ 128,  254, 4846]])\n",
      "!   97   tensor([[ 128,  254, 5607]])\n",
      "not   98   tensor([[ 128,  254, 4089]])\n",
      "a   99   tensor([[ 128,  254, 2079]])\n",
      "2   100   tensor([[ 128,  254, 3064]])\n",
      "3   101   tensor([[ 128,  254, 8784]])\n",
      "4   102   tensor([[  128,   254, 15377]])\n",
      "5   103   tensor([[  128,   254, 15197]])\n",
      "6   104   tensor([[  128,   254, 13464]])\n",
      "7   105   tensor([[  128,   254, 13348]])\n",
      "8   106   tensor([[  128,   254, 15801]])\n",
      "9   107   tensor([[  128,   254, 15982]])\n",
      "0   108   tensor([[  128,   254, 15711]])\n",
      "'   109   tensor([[  128,   254, 14454]])\n",
      "%27   110   tensor([[  128,   254, 11442]])\n",
      "0 1 2 3 4 5 6 7 8 9 10 11 12 13 14 15 16 17 18 19 20 21 22 23 24 25 26 27 28 29 30 31 32 33 34 35 36 37 38 39 40 41 42 43 44 45 46 47 48 49 50 51 52 53 54 55 56 57 58 59 60 61 62 63 64 65 66 67 68 69 70 71 72 73 74 75 76 77 78 79 80 81 82 83 84 85 86 87 88 89 90 91 92 93 94 95 96 97 98 99 100 101 102 103 104 105 106 107 108 109 110\n"
     ]
    },
    {
     "data": {
      "text/plain": [
       "111"
      ]
     },
     "execution_count": 7,
     "metadata": {},
     "output_type": "execute_result"
    }
   ],
   "source": [
    "#词表的映射\n",
    "a=['S', 'numericContext', 'sQuoteContext', 'terDigitZero', 'terSQuote', 'fuzzstr', 'wsp', 'booleanAttack', 'opOr', 'fuzzequal', 'sqliAttack', 'cmt', 'terDigitIncludingZero', 'unionAttack', 'piggyAttack', 'errorAttack', 'opAnd', 'errorfunction', 'parOpen', '1', 'opCom', 'concat', '0x7e', '@@version', 'par', 'updatexml', 'extractvalue', 'opSem', 'opSel', 'funcSleep', 'union', 'cols', 'orAttack', 'andAttack', 'booleanTrueExpr', 'booleanFalseExpr', 'unaryFalse', 'opNot', 'trueAtom', 'opBinInvert', 'falseAtom', 'falseConst', 'false', 'unaryTrue', 'binaryTrue', 'opEqual', 'terChar', 'opLt', 'opGt', 'opLike', 'opIs', 'true', 'opMinus', '{a', '1}=1', '{x', '(select', '1)}=1', '{`if`', 'blank', '--', '%23', '+', '%0b', ')', 'sleep', 'terDigitExcludingZero', '<@=1', '<@!=1', '<@=1.', '<@=.1', '<@!=.1', '<@!=1.', '1<@', '@<@', '!@<@', '!@<@.', '1<@.', '@<@.', '(', ';', 'select', 'and', '&&', 'or', '||', 'is', 'like', '-', ',', '%2C', '>', '<', '%3C', '=', '~', '%7e', '!', 'not', 'a', '2', '3', '4', '5', '6', '7', '8', '9', '0', \"'\", '%27']\n",
    "token2id=dict()\n",
    "for index,t in enumerate(a):\n",
    "    token2id[t]=index\n",
    "    print(t,' ',index,' ',gpt2_tokenizer.encode('Ġ'+str(index), return_tensors=\"pt\"))\n",
    "# print(token2id)\n",
    "string=' '.join([str(i) for i in range(111)])\n",
    "print(string)\n",
    "gpt2_tokenizer.encode(string, return_tensors=\"pt\")\n",
    "legal_index=[   15,   352,   362,   513,   604,   642,   718,   767,   807,   860,\n",
    "           838,  1367,  1105,  1511,  1478,  1315,  1467,  1596,  1248,   678,\n",
    "          1160,  2310,  2534,  2242,  1987,  1679,  2608,  2681,  2579,  2808,\n",
    "          1542,  3261,  3933,  4747,  4974,  3439,  4570,  5214,  4353,  5014,\n",
    "          2319,  6073,  5433,  5946,  5846,  4153,  6337,  6298,  4764,  5125,\n",
    "          2026,  6885,  6740,  7192,  7175,  5996,  7265,  7632,  7618,  7863,\n",
    "          3126,  8454,  8190,  8093,  5598,  6135,  7930,  8275,  8257,  8644,\n",
    "          4317,  9166,  7724,  8854,  8915,  5441,  8684,  8541,  8699,  9225,\n",
    "          4019,  9773,  9415,  9698,  9508,  7600,  9849, 10083,  9193,  9919,\n",
    "          4101, 10495, 10190, 10261, 10048,  6957,  9907, 10111,  9661,  7388,\n",
    "          1802,  8949, 15143, 15349, 14436, 13343, 15696, 16226, 15495, 16003,\n",
    "          9796]\n",
    "len(legal_index)"
   ]
  },
  {
   "cell_type": "code",
   "execution_count": null,
   "metadata": {},
   "outputs": [],
   "source": [
    "# #TODO 这里增加判断生成的是否符合语法规范\n",
    "# def count_is_legal(texts):#只输入response\n",
    "#     islegal_tests=[]\n",
    "#     for t in texts:\n",
    "# #         try:\n",
    "# #             index=t.index('!')\n",
    "# #             index=t.index(' 0 ')\n",
    "# # #             print(index)\n",
    "# #             t=t[:index]\n",
    "# #         except:\n",
    "# #     #         print()\n",
    "# #             pass\n",
    "#         aList=['0']\n",
    "#         for string in t.strip().split():\n",
    "#             if not string.startswith('0'):\n",
    "#                 aList.append(string) \n",
    "#             else:\n",
    "#                 break\n",
    "#         islegal_tests.append(aList)\n",
    "# #         t=' '.join(aList)\n",
    "\n",
    "# #         list_val=[val for val in t.split()]\n",
    "# #         tmp=list_val[-1]=='0'\n",
    "# #         if tmp:\n",
    "# #             islegal_tests.append(list_val[:-1])\n",
    "# #         else:\n",
    "# #             islegal_tests.append(list_val)\n",
    "# #     print('islegal_tests :',islegal_tests[:10])\n",
    "#     legalCount=0\n",
    "#     illegalCount=0\n",
    "# #     texts_check=[t.split() for t in texts]\n",
    "#     texts_checklist=[]\n",
    "#     for list_str in islegal_tests:\n",
    "#         flag=True\n",
    "#         tmp=[]\n",
    "#         for t in list_str :\n",
    "#             try:\n",
    "#                 tmp.append(int(t))\n",
    "#             except:\n",
    "#                 flag=False\n",
    "#                 break\n",
    "\n",
    "#         if flag:\n",
    "#             texts_checklist.append(tmp)\n",
    "#         else:\n",
    "#             illegalCount+=1\n",
    "    \n",
    "#     newallsli = []\n",
    "#     for slic in allslices:\n",
    "#         if slic not in newallsli:\n",
    "#             newallsli.append(slic)\n",
    "#     # print(newallsli)\n",
    "#     # print(len(newallsli))\n",
    "# #     check_result=[]\n",
    "# #     print('texts_checklist :',texts_checklist[:10])\n",
    "#     for schoice in texts_checklist:\n",
    "#         #global datafram\n",
    "#         datafram = schoice\n",
    "# #         print(' '.join([str(t) for t in datafram]))\n",
    "#     #     print(len(datafram))\n",
    "#     #     for dnum in datafram:\n",
    "#     #         print(cfg.get_ch_sli(int(dnum),choice = newallsli))\n",
    "#         #veri = cfg.verify_convergent('S',choice = newallsli,datafram=datafram,datanum = 1)\n",
    "#         if cfg.verify(choice = newallsli,datafram=datafram)==1:\n",
    "#     #         print(\"&@@@\")\n",
    "#             legalCount=legalCount+1\n",
    "#     #         check_result.append(1)\n",
    "#         else:\n",
    "#     #         print(\"####\") \n",
    "#             illegalCount+=1\n",
    "# #             check_result.append(0)\n",
    "#     return legalCount,illegalCount"
   ]
  }
 ],
 "metadata": {
  "kernelspec": {
   "display_name": "Python 3",
   "language": "python",
   "name": "python3"
  },
  "language_info": {
   "codemirror_mode": {
    "name": "ipython",
    "version": 3
   },
   "file_extension": ".py",
   "mimetype": "text/x-python",
   "name": "python",
   "nbconvert_exporter": "python",
   "pygments_lexer": "ipython3",
   "version": "3.7.9"
  }
 },
 "nbformat": 4,
 "nbformat_minor": 4
}
